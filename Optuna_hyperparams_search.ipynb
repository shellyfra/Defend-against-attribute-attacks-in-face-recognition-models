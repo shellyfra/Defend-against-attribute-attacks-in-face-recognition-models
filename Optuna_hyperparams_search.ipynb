{
  "nbformat": 4,
  "nbformat_minor": 0,
  "metadata": {
    "colab": {
      "provenance": [],
      "machine_shape": "hm"
    },
    "kernelspec": {
      "name": "python3",
      "display_name": "Python 3"
    },
    "language_info": {
      "name": "python"
    },
    "accelerator": "GPU",
    "gpuClass": "standard",
    "widgets": {
      "application/vnd.jupyter.widget-state+json": {
        "6429234659b14427a70b9d9db678897d": {
          "model_module": "@jupyter-widgets/controls",
          "model_name": "HBoxModel",
          "model_module_version": "1.5.0",
          "state": {
            "_dom_classes": [],
            "_model_module": "@jupyter-widgets/controls",
            "_model_module_version": "1.5.0",
            "_model_name": "HBoxModel",
            "_view_count": null,
            "_view_module": "@jupyter-widgets/controls",
            "_view_module_version": "1.5.0",
            "_view_name": "HBoxView",
            "box_style": "",
            "children": [
              "IPY_MODEL_906d39e8b23045b8948a80d2b6b151eb",
              "IPY_MODEL_31f8033c65b248df8f4d3299fac04a0e",
              "IPY_MODEL_893f415c44e84efbb66aaf6cda4bc4ef"
            ],
            "layout": "IPY_MODEL_6ffc44d71a2942529dd582d8c712e55f"
          }
        },
        "906d39e8b23045b8948a80d2b6b151eb": {
          "model_module": "@jupyter-widgets/controls",
          "model_name": "HTMLModel",
          "model_module_version": "1.5.0",
          "state": {
            "_dom_classes": [],
            "_model_module": "@jupyter-widgets/controls",
            "_model_module_version": "1.5.0",
            "_model_name": "HTMLModel",
            "_view_count": null,
            "_view_module": "@jupyter-widgets/controls",
            "_view_module_version": "1.5.0",
            "_view_name": "HTMLView",
            "description": "",
            "description_tooltip": null,
            "layout": "IPY_MODEL_2f535c15d1754323a05fbc80c8d3f386",
            "placeholder": "​",
            "style": "IPY_MODEL_a50d122a18214bbb80be0566d55734e4",
            "value": "100%"
          }
        },
        "31f8033c65b248df8f4d3299fac04a0e": {
          "model_module": "@jupyter-widgets/controls",
          "model_name": "FloatProgressModel",
          "model_module_version": "1.5.0",
          "state": {
            "_dom_classes": [],
            "_model_module": "@jupyter-widgets/controls",
            "_model_module_version": "1.5.0",
            "_model_name": "FloatProgressModel",
            "_view_count": null,
            "_view_module": "@jupyter-widgets/controls",
            "_view_module_version": "1.5.0",
            "_view_name": "ProgressView",
            "bar_style": "success",
            "description": "",
            "description_tooltip": null,
            "layout": "IPY_MODEL_2f99695343e74d88b846078a83b64a98",
            "max": 111898327,
            "min": 0,
            "orientation": "horizontal",
            "style": "IPY_MODEL_8e415bf7c1544e96a38a8a6d6ecf5ff5",
            "value": 111898327
          }
        },
        "893f415c44e84efbb66aaf6cda4bc4ef": {
          "model_module": "@jupyter-widgets/controls",
          "model_name": "HTMLModel",
          "model_module_version": "1.5.0",
          "state": {
            "_dom_classes": [],
            "_model_module": "@jupyter-widgets/controls",
            "_model_module_version": "1.5.0",
            "_model_name": "HTMLModel",
            "_view_count": null,
            "_view_module": "@jupyter-widgets/controls",
            "_view_module_version": "1.5.0",
            "_view_name": "HTMLView",
            "description": "",
            "description_tooltip": null,
            "layout": "IPY_MODEL_1947f1db01914b84a28dd786f79edf71",
            "placeholder": "​",
            "style": "IPY_MODEL_eee9a595192348878753520d08aefae3",
            "value": " 107M/107M [00:05&lt;00:00, 11.9MB/s]"
          }
        },
        "6ffc44d71a2942529dd582d8c712e55f": {
          "model_module": "@jupyter-widgets/base",
          "model_name": "LayoutModel",
          "model_module_version": "1.2.0",
          "state": {
            "_model_module": "@jupyter-widgets/base",
            "_model_module_version": "1.2.0",
            "_model_name": "LayoutModel",
            "_view_count": null,
            "_view_module": "@jupyter-widgets/base",
            "_view_module_version": "1.2.0",
            "_view_name": "LayoutView",
            "align_content": null,
            "align_items": null,
            "align_self": null,
            "border": null,
            "bottom": null,
            "display": null,
            "flex": null,
            "flex_flow": null,
            "grid_area": null,
            "grid_auto_columns": null,
            "grid_auto_flow": null,
            "grid_auto_rows": null,
            "grid_column": null,
            "grid_gap": null,
            "grid_row": null,
            "grid_template_areas": null,
            "grid_template_columns": null,
            "grid_template_rows": null,
            "height": null,
            "justify_content": null,
            "justify_items": null,
            "left": null,
            "margin": null,
            "max_height": null,
            "max_width": null,
            "min_height": null,
            "min_width": null,
            "object_fit": null,
            "object_position": null,
            "order": null,
            "overflow": null,
            "overflow_x": null,
            "overflow_y": null,
            "padding": null,
            "right": null,
            "top": null,
            "visibility": null,
            "width": null
          }
        },
        "2f535c15d1754323a05fbc80c8d3f386": {
          "model_module": "@jupyter-widgets/base",
          "model_name": "LayoutModel",
          "model_module_version": "1.2.0",
          "state": {
            "_model_module": "@jupyter-widgets/base",
            "_model_module_version": "1.2.0",
            "_model_name": "LayoutModel",
            "_view_count": null,
            "_view_module": "@jupyter-widgets/base",
            "_view_module_version": "1.2.0",
            "_view_name": "LayoutView",
            "align_content": null,
            "align_items": null,
            "align_self": null,
            "border": null,
            "bottom": null,
            "display": null,
            "flex": null,
            "flex_flow": null,
            "grid_area": null,
            "grid_auto_columns": null,
            "grid_auto_flow": null,
            "grid_auto_rows": null,
            "grid_column": null,
            "grid_gap": null,
            "grid_row": null,
            "grid_template_areas": null,
            "grid_template_columns": null,
            "grid_template_rows": null,
            "height": null,
            "justify_content": null,
            "justify_items": null,
            "left": null,
            "margin": null,
            "max_height": null,
            "max_width": null,
            "min_height": null,
            "min_width": null,
            "object_fit": null,
            "object_position": null,
            "order": null,
            "overflow": null,
            "overflow_x": null,
            "overflow_y": null,
            "padding": null,
            "right": null,
            "top": null,
            "visibility": null,
            "width": null
          }
        },
        "a50d122a18214bbb80be0566d55734e4": {
          "model_module": "@jupyter-widgets/controls",
          "model_name": "DescriptionStyleModel",
          "model_module_version": "1.5.0",
          "state": {
            "_model_module": "@jupyter-widgets/controls",
            "_model_module_version": "1.5.0",
            "_model_name": "DescriptionStyleModel",
            "_view_count": null,
            "_view_module": "@jupyter-widgets/base",
            "_view_module_version": "1.2.0",
            "_view_name": "StyleView",
            "description_width": ""
          }
        },
        "2f99695343e74d88b846078a83b64a98": {
          "model_module": "@jupyter-widgets/base",
          "model_name": "LayoutModel",
          "model_module_version": "1.2.0",
          "state": {
            "_model_module": "@jupyter-widgets/base",
            "_model_module_version": "1.2.0",
            "_model_name": "LayoutModel",
            "_view_count": null,
            "_view_module": "@jupyter-widgets/base",
            "_view_module_version": "1.2.0",
            "_view_name": "LayoutView",
            "align_content": null,
            "align_items": null,
            "align_self": null,
            "border": null,
            "bottom": null,
            "display": null,
            "flex": null,
            "flex_flow": null,
            "grid_area": null,
            "grid_auto_columns": null,
            "grid_auto_flow": null,
            "grid_auto_rows": null,
            "grid_column": null,
            "grid_gap": null,
            "grid_row": null,
            "grid_template_areas": null,
            "grid_template_columns": null,
            "grid_template_rows": null,
            "height": null,
            "justify_content": null,
            "justify_items": null,
            "left": null,
            "margin": null,
            "max_height": null,
            "max_width": null,
            "min_height": null,
            "min_width": null,
            "object_fit": null,
            "object_position": null,
            "order": null,
            "overflow": null,
            "overflow_x": null,
            "overflow_y": null,
            "padding": null,
            "right": null,
            "top": null,
            "visibility": null,
            "width": null
          }
        },
        "8e415bf7c1544e96a38a8a6d6ecf5ff5": {
          "model_module": "@jupyter-widgets/controls",
          "model_name": "ProgressStyleModel",
          "model_module_version": "1.5.0",
          "state": {
            "_model_module": "@jupyter-widgets/controls",
            "_model_module_version": "1.5.0",
            "_model_name": "ProgressStyleModel",
            "_view_count": null,
            "_view_module": "@jupyter-widgets/base",
            "_view_module_version": "1.2.0",
            "_view_name": "StyleView",
            "bar_color": null,
            "description_width": ""
          }
        },
        "1947f1db01914b84a28dd786f79edf71": {
          "model_module": "@jupyter-widgets/base",
          "model_name": "LayoutModel",
          "model_module_version": "1.2.0",
          "state": {
            "_model_module": "@jupyter-widgets/base",
            "_model_module_version": "1.2.0",
            "_model_name": "LayoutModel",
            "_view_count": null,
            "_view_module": "@jupyter-widgets/base",
            "_view_module_version": "1.2.0",
            "_view_name": "LayoutView",
            "align_content": null,
            "align_items": null,
            "align_self": null,
            "border": null,
            "bottom": null,
            "display": null,
            "flex": null,
            "flex_flow": null,
            "grid_area": null,
            "grid_auto_columns": null,
            "grid_auto_flow": null,
            "grid_auto_rows": null,
            "grid_column": null,
            "grid_gap": null,
            "grid_row": null,
            "grid_template_areas": null,
            "grid_template_columns": null,
            "grid_template_rows": null,
            "height": null,
            "justify_content": null,
            "justify_items": null,
            "left": null,
            "margin": null,
            "max_height": null,
            "max_width": null,
            "min_height": null,
            "min_width": null,
            "object_fit": null,
            "object_position": null,
            "order": null,
            "overflow": null,
            "overflow_x": null,
            "overflow_y": null,
            "padding": null,
            "right": null,
            "top": null,
            "visibility": null,
            "width": null
          }
        },
        "eee9a595192348878753520d08aefae3": {
          "model_module": "@jupyter-widgets/controls",
          "model_name": "DescriptionStyleModel",
          "model_module_version": "1.5.0",
          "state": {
            "_model_module": "@jupyter-widgets/controls",
            "_model_module_version": "1.5.0",
            "_model_name": "DescriptionStyleModel",
            "_view_count": null,
            "_view_module": "@jupyter-widgets/base",
            "_view_module_version": "1.2.0",
            "_view_name": "StyleView",
            "description_width": ""
          }
        }
      }
    }
  },
  "cells": [
    {
      "cell_type": "code",
      "source": [
        "%pip install optuna\n",
        "%pip install facenet-pytorch"
      ],
      "metadata": {
        "colab": {
          "base_uri": "https://localhost:8080/"
        },
        "id": "wm1B0n9Em3a6",
        "outputId": "dc362d78-0c99-4203-82d2-5e1be35bffe0"
      },
      "execution_count": null,
      "outputs": [
        {
          "output_type": "stream",
          "name": "stdout",
          "text": [
            "Looking in indexes: https://pypi.org/simple, https://us-python.pkg.dev/colab-wheels/public/simple/\n",
            "Collecting optuna\n",
            "  Downloading optuna-3.1.0-py3-none-any.whl (365 kB)\n",
            "\u001b[2K     \u001b[90m━━━━━━━━━━━━━━━━━━━━━━━━━━━━━━━━━━━━━━\u001b[0m \u001b[32m365.3/365.3 KB\u001b[0m \u001b[31m11.6 MB/s\u001b[0m eta \u001b[36m0:00:00\u001b[0m\n",
            "\u001b[?25hRequirement already satisfied: tqdm in /usr/local/lib/python3.8/dist-packages (from optuna) (4.64.1)\n",
            "Requirement already satisfied: PyYAML in /usr/local/lib/python3.8/dist-packages (from optuna) (6.0)\n",
            "Collecting cmaes>=0.9.1\n",
            "  Downloading cmaes-0.9.1-py3-none-any.whl (21 kB)\n",
            "Collecting colorlog\n",
            "  Downloading colorlog-6.7.0-py2.py3-none-any.whl (11 kB)\n",
            "Requirement already satisfied: sqlalchemy>=1.3.0 in /usr/local/lib/python3.8/dist-packages (from optuna) (1.4.46)\n",
            "Requirement already satisfied: numpy in /usr/local/lib/python3.8/dist-packages (from optuna) (1.21.6)\n",
            "Collecting alembic>=1.5.0\n",
            "  Downloading alembic-1.9.2-py3-none-any.whl (210 kB)\n",
            "\u001b[2K     \u001b[90m━━━━━━━━━━━━━━━━━━━━━━━━━━━━━━━━━━━━━━\u001b[0m \u001b[32m210.6/210.6 KB\u001b[0m \u001b[31m26.8 MB/s\u001b[0m eta \u001b[36m0:00:00\u001b[0m\n",
            "\u001b[?25hRequirement already satisfied: packaging>=20.0 in /usr/local/lib/python3.8/dist-packages (from optuna) (21.3)\n",
            "Requirement already satisfied: importlib-metadata in /usr/local/lib/python3.8/dist-packages (from alembic>=1.5.0->optuna) (6.0.0)\n",
            "Requirement already satisfied: importlib-resources in /usr/local/lib/python3.8/dist-packages (from alembic>=1.5.0->optuna) (5.10.2)\n",
            "Collecting Mako\n",
            "  Downloading Mako-1.2.4-py3-none-any.whl (78 kB)\n",
            "\u001b[2K     \u001b[90m━━━━━━━━━━━━━━━━━━━━━━━━━━━━━━━━━━━━━━━━\u001b[0m \u001b[32m78.7/78.7 KB\u001b[0m \u001b[31m10.6 MB/s\u001b[0m eta \u001b[36m0:00:00\u001b[0m\n",
            "\u001b[?25hRequirement already satisfied: pyparsing!=3.0.5,>=2.0.2 in /usr/local/lib/python3.8/dist-packages (from packaging>=20.0->optuna) (3.0.9)\n",
            "Requirement already satisfied: greenlet!=0.4.17 in /usr/local/lib/python3.8/dist-packages (from sqlalchemy>=1.3.0->optuna) (2.0.1)\n",
            "Requirement already satisfied: zipp>=0.5 in /usr/local/lib/python3.8/dist-packages (from importlib-metadata->alembic>=1.5.0->optuna) (3.11.0)\n",
            "Requirement already satisfied: MarkupSafe>=0.9.2 in /usr/local/lib/python3.8/dist-packages (from Mako->alembic>=1.5.0->optuna) (2.0.1)\n",
            "Installing collected packages: Mako, colorlog, cmaes, alembic, optuna\n",
            "Successfully installed Mako-1.2.4 alembic-1.9.2 cmaes-0.9.1 colorlog-6.7.0 optuna-3.1.0\n",
            "Looking in indexes: https://pypi.org/simple, https://us-python.pkg.dev/colab-wheels/public/simple/\n",
            "Collecting facenet-pytorch\n",
            "  Downloading facenet_pytorch-2.5.2-py3-none-any.whl (1.9 MB)\n",
            "\u001b[2K     \u001b[90m━━━━━━━━━━━━━━━━━━━━━━━━━━━━━━━━━━━━━━━━\u001b[0m \u001b[32m1.9/1.9 MB\u001b[0m \u001b[31m32.6 MB/s\u001b[0m eta \u001b[36m0:00:00\u001b[0m\n",
            "\u001b[?25hRequirement already satisfied: numpy in /usr/local/lib/python3.8/dist-packages (from facenet-pytorch) (1.21.6)\n",
            "Requirement already satisfied: torchvision in /usr/local/lib/python3.8/dist-packages (from facenet-pytorch) (0.14.1+cu116)\n",
            "Requirement already satisfied: requests in /usr/local/lib/python3.8/dist-packages (from facenet-pytorch) (2.25.1)\n",
            "Requirement already satisfied: pillow in /usr/local/lib/python3.8/dist-packages (from facenet-pytorch) (7.1.2)\n",
            "Requirement already satisfied: idna<3,>=2.5 in /usr/local/lib/python3.8/dist-packages (from requests->facenet-pytorch) (2.10)\n",
            "Requirement already satisfied: urllib3<1.27,>=1.21.1 in /usr/local/lib/python3.8/dist-packages (from requests->facenet-pytorch) (1.24.3)\n",
            "Requirement already satisfied: chardet<5,>=3.0.2 in /usr/local/lib/python3.8/dist-packages (from requests->facenet-pytorch) (4.0.0)\n",
            "Requirement already satisfied: certifi>=2017.4.17 in /usr/local/lib/python3.8/dist-packages (from requests->facenet-pytorch) (2022.12.7)\n",
            "Requirement already satisfied: torch==1.13.1 in /usr/local/lib/python3.8/dist-packages (from torchvision->facenet-pytorch) (1.13.1+cu116)\n",
            "Requirement already satisfied: typing-extensions in /usr/local/lib/python3.8/dist-packages (from torchvision->facenet-pytorch) (4.4.0)\n",
            "Installing collected packages: facenet-pytorch\n",
            "Successfully installed facenet-pytorch-2.5.2\n"
          ]
        }
      ]
    },
    {
      "cell_type": "code",
      "execution_count": null,
      "metadata": {
        "colab": {
          "base_uri": "https://localhost:8080/"
        },
        "id": "w3sEhO8X8mcF",
        "outputId": "ccd11fdc-c455-4f70-c401-6e9227077c24"
      },
      "outputs": [
        {
          "output_type": "execute_result",
          "data": {
            "text/plain": [
              "<torch._C.Generator at 0x7f8460d81c70>"
            ]
          },
          "metadata": {},
          "execution_count": 3
        }
      ],
      "source": [
        "'''General packages'''\n",
        "\n",
        "import numpy as np\n",
        "import pandas as pd\n",
        "import matplotlib.pyplot as plt\n",
        "import scipy\n",
        "import sklearn\n",
        "import cv2\n",
        "from PIL import Image\n",
        "import os\n",
        "import time\n",
        "from tqdm import *\n",
        "\n",
        "import torch\n",
        "import torch.nn as nn\n",
        "import torchvision\n",
        "from torch.utils.data import Dataset, DataLoader\n",
        "from torchvision import datasets, models, transforms\n",
        "import glob\n",
        "from datetime import datetime\n",
        "import argparse\n",
        "import optuna\n",
        "from optuna.trial import TrialState\n",
        "import torch\n",
        "import torch.nn.functional as F\n",
        "import torch.optim as optim\n",
        "import torch.utils.data\n",
        "from torchvision import datasets\n",
        "from torchvision import transforms\n",
        "from facenet_pytorch import MTCNN, InceptionResnetV1\n",
        "\n",
        "torch.manual_seed(42)\n"
      ]
    },
    {
      "cell_type": "code",
      "source": [
        "! git clone https://github.com/shellyfra/Defend_against_attribute_attacks_in_face_recognition_models.git\n",
        "from Defend_against_attribute_attacks_in_face_recognition_models.utils import train, imshow_no_normalization, set_parameter_requires_grad, get_params_to_update, eval_acc, imshow\n",
        "%cd Defend_against_attribute_attacks_in_face_recognition_models/StarGAN_with_our_changes"
      ],
      "metadata": {
        "colab": {
          "base_uri": "https://localhost:8080/"
        },
        "id": "01zcvT_x8yi7",
        "outputId": "90fb4215-b277-4e85-d1ed-b1bcdfa4ec0d"
      },
      "execution_count": null,
      "outputs": [
        {
          "output_type": "stream",
          "name": "stdout",
          "text": [
            "Cloning into 'Defend_against_attribute_attacks_in_face_recognition_models'...\n",
            "remote: Enumerating objects: 304, done.\u001b[K\n",
            "remote: Counting objects: 100% (10/10), done.\u001b[K\n",
            "remote: Compressing objects: 100% (8/8), done.\u001b[K\n",
            "remote: Total 304 (delta 4), reused 6 (delta 2), pack-reused 294\u001b[K\n",
            "Receiving objects: 100% (304/304), 21.03 MiB | 23.36 MiB/s, done.\n",
            "Resolving deltas: 100% (126/126), done.\n",
            "/content/Defend_against_attribute_attacks_in_face_recognition_models/StarGAN_with_our_changes\n"
          ]
        }
      ]
    },
    {
      "cell_type": "markdown",
      "source": [
        "## Load the CelebA-HQ dataset"
      ],
      "metadata": {
        "id": "glLqFIQR9DNp"
      }
    },
    {
      "cell_type": "code",
      "source": [
        "!wget https://postechackr-my.sharepoint.com/:u:/g/personal/dongbinna_postech_ac_kr/ES-jbCNC6mNHhCyR4Nl1QpYBlxVOJ5YiVerhDpzmoS9ezA?download=1 -O CelebA_HQ_facial_identity_dataset.zip\n",
        "!unzip CelebA_HQ_facial_identity_dataset.zip -d ./CelebA_HQ_facial_identity_dataset"
      ],
      "metadata": {
        "colab": {
          "base_uri": "https://localhost:8080/"
        },
        "id": "CfQp4XnT9AyD",
        "outputId": "09594ab7-aff6-4c5c-a4c5-046723bff324"
      },
      "execution_count": null,
      "outputs": [
        {
          "output_type": "stream",
          "name": "stdout",
          "text": [
            "\u001b[1;30;43mStreaming output truncated to the last 5000 lines.\u001b[0m\n",
            "  inflating: ./CelebA_HQ_facial_identity_dataset/test/563/8709.jpg  \n",
            "  inflating: ./CelebA_HQ_facial_identity_dataset/test/563/9976.jpg  \n",
            "   creating: ./CelebA_HQ_facial_identity_dataset/test/564/\n",
            "  inflating: ./CelebA_HQ_facial_identity_dataset/test/564/6738.jpg  \n",
            "  inflating: ./CelebA_HQ_facial_identity_dataset/test/564/7152.jpg  \n",
            "  inflating: ./CelebA_HQ_facial_identity_dataset/test/564/739.jpg  \n",
            "  inflating: ./CelebA_HQ_facial_identity_dataset/test/564/7871.jpg  \n",
            "  inflating: ./CelebA_HQ_facial_identity_dataset/test/564/9481.jpg  \n",
            "   creating: ./CelebA_HQ_facial_identity_dataset/test/571/\n",
            "  inflating: ./CelebA_HQ_facial_identity_dataset/test/571/4864.jpg  \n",
            "  inflating: ./CelebA_HQ_facial_identity_dataset/test/571/5042.jpg  \n",
            "  inflating: ./CelebA_HQ_facial_identity_dataset/test/571/748.jpg  \n",
            "  inflating: ./CelebA_HQ_facial_identity_dataset/test/571/9549.jpg  \n",
            "   creating: ./CelebA_HQ_facial_identity_dataset/test/573/\n",
            "  inflating: ./CelebA_HQ_facial_identity_dataset/test/573/7056.jpg  \n",
            "  inflating: ./CelebA_HQ_facial_identity_dataset/test/573/752.jpg  \n",
            "  inflating: ./CelebA_HQ_facial_identity_dataset/test/573/894.jpg  \n",
            "  inflating: ./CelebA_HQ_facial_identity_dataset/test/573/9768.jpg  \n",
            "   creating: ./CelebA_HQ_facial_identity_dataset/test/577/\n",
            "  inflating: ./CelebA_HQ_facial_identity_dataset/test/577/7674.jpg  \n",
            "  inflating: ./CelebA_HQ_facial_identity_dataset/test/577/8842.jpg  \n",
            "  inflating: ./CelebA_HQ_facial_identity_dataset/test/577/9588.jpg  \n",
            "  inflating: ./CelebA_HQ_facial_identity_dataset/test/577/9818.jpg  \n",
            "   creating: ./CelebA_HQ_facial_identity_dataset/test/578/\n",
            "  inflating: ./CelebA_HQ_facial_identity_dataset/test/578/9047.jpg  \n",
            "  inflating: ./CelebA_HQ_facial_identity_dataset/test/578/9213.jpg  \n",
            "  inflating: ./CelebA_HQ_facial_identity_dataset/test/578/9617.jpg  \n",
            "  inflating: ./CelebA_HQ_facial_identity_dataset/test/578/9880.jpg  \n",
            "   creating: ./CelebA_HQ_facial_identity_dataset/test/587/\n",
            "  inflating: ./CelebA_HQ_facial_identity_dataset/test/587/779.jpg  \n",
            "  inflating: ./CelebA_HQ_facial_identity_dataset/test/587/8128.jpg  \n",
            "  inflating: ./CelebA_HQ_facial_identity_dataset/test/587/8738.jpg  \n",
            "  inflating: ./CelebA_HQ_facial_identity_dataset/test/587/8899.jpg  \n",
            "   creating: ./CelebA_HQ_facial_identity_dataset/test/591/\n",
            "  inflating: ./CelebA_HQ_facial_identity_dataset/test/591/7766.jpg  \n",
            "  inflating: ./CelebA_HQ_facial_identity_dataset/test/591/785.jpg  \n",
            "  inflating: ./CelebA_HQ_facial_identity_dataset/test/591/8135.jpg  \n",
            "  inflating: ./CelebA_HQ_facial_identity_dataset/test/591/8281.jpg  \n",
            "   creating: ./CelebA_HQ_facial_identity_dataset/test/593/\n",
            "  inflating: ./CelebA_HQ_facial_identity_dataset/test/593/788.jpg  \n",
            "  inflating: ./CelebA_HQ_facial_identity_dataset/test/593/8773.jpg  \n",
            "  inflating: ./CelebA_HQ_facial_identity_dataset/test/593/914.jpg  \n",
            "  inflating: ./CelebA_HQ_facial_identity_dataset/test/593/9646.jpg  \n",
            "   creating: ./CelebA_HQ_facial_identity_dataset/test/597/\n",
            "  inflating: ./CelebA_HQ_facial_identity_dataset/test/597/5636.jpg  \n",
            "  inflating: ./CelebA_HQ_facial_identity_dataset/test/597/7899.jpg  \n",
            "  inflating: ./CelebA_HQ_facial_identity_dataset/test/597/793.jpg  \n",
            "  inflating: ./CelebA_HQ_facial_identity_dataset/test/597/8827.jpg  \n",
            "   creating: ./CelebA_HQ_facial_identity_dataset/test/598/\n",
            "  inflating: ./CelebA_HQ_facial_identity_dataset/test/598/794.jpg  \n",
            "  inflating: ./CelebA_HQ_facial_identity_dataset/test/598/8144.jpg  \n",
            "  inflating: ./CelebA_HQ_facial_identity_dataset/test/598/8244.jpg  \n",
            "   creating: ./CelebA_HQ_facial_identity_dataset/test/603/\n",
            "  inflating: ./CelebA_HQ_facial_identity_dataset/test/603/6167.jpg  \n",
            "  inflating: ./CelebA_HQ_facial_identity_dataset/test/603/6548.jpg  \n",
            "  inflating: ./CelebA_HQ_facial_identity_dataset/test/603/804.jpg  \n",
            "  inflating: ./CelebA_HQ_facial_identity_dataset/test/603/9804.jpg  \n",
            "  inflating: ./CelebA_HQ_facial_identity_dataset/test/603/9884.jpg  \n",
            "   creating: ./CelebA_HQ_facial_identity_dataset/test/606/\n",
            "  inflating: ./CelebA_HQ_facial_identity_dataset/test/606/5273.jpg  \n",
            "  inflating: ./CelebA_HQ_facial_identity_dataset/test/606/6964.jpg  \n",
            "  inflating: ./CelebA_HQ_facial_identity_dataset/test/606/808.jpg  \n",
            "  inflating: ./CelebA_HQ_facial_identity_dataset/test/606/8166.jpg  \n",
            "   creating: ./CelebA_HQ_facial_identity_dataset/test/609/\n",
            "  inflating: ./CelebA_HQ_facial_identity_dataset/test/609/8255.jpg  \n",
            "  inflating: ./CelebA_HQ_facial_identity_dataset/test/609/8429.jpg  \n",
            "  inflating: ./CelebA_HQ_facial_identity_dataset/test/609/9030.jpg  \n",
            "   creating: ./CelebA_HQ_facial_identity_dataset/test/615/\n",
            "  inflating: ./CelebA_HQ_facial_identity_dataset/test/615/8105.jpg  \n",
            "  inflating: ./CelebA_HQ_facial_identity_dataset/test/615/823.jpg  \n",
            "  inflating: ./CelebA_HQ_facial_identity_dataset/test/615/8231.jpg  \n",
            "  inflating: ./CelebA_HQ_facial_identity_dataset/test/615/8736.jpg  \n",
            "  inflating: ./CelebA_HQ_facial_identity_dataset/test/615/9875.jpg  \n",
            "   creating: ./CelebA_HQ_facial_identity_dataset/test/618/\n",
            "  inflating: ./CelebA_HQ_facial_identity_dataset/test/618/5284.jpg  \n",
            "  inflating: ./CelebA_HQ_facial_identity_dataset/test/618/829.jpg  \n",
            "  inflating: ./CelebA_HQ_facial_identity_dataset/test/618/9414.jpg  \n",
            "   creating: ./CelebA_HQ_facial_identity_dataset/test/622/\n",
            "  inflating: ./CelebA_HQ_facial_identity_dataset/test/622/7407.jpg  \n",
            "  inflating: ./CelebA_HQ_facial_identity_dataset/test/622/7509.jpg  \n",
            "  inflating: ./CelebA_HQ_facial_identity_dataset/test/622/833.jpg  \n",
            "  inflating: ./CelebA_HQ_facial_identity_dataset/test/622/9830.jpg  \n",
            "   creating: ./CelebA_HQ_facial_identity_dataset/test/624/\n",
            "  inflating: ./CelebA_HQ_facial_identity_dataset/test/624/6253.jpg  \n",
            "  inflating: ./CelebA_HQ_facial_identity_dataset/test/624/7019.jpg  \n",
            "  inflating: ./CelebA_HQ_facial_identity_dataset/test/624/835.jpg  \n",
            "  inflating: ./CelebA_HQ_facial_identity_dataset/test/624/9033.jpg  \n",
            "   creating: ./CelebA_HQ_facial_identity_dataset/test/628/\n",
            "  inflating: ./CelebA_HQ_facial_identity_dataset/test/628/7445.jpg  \n",
            "  inflating: ./CelebA_HQ_facial_identity_dataset/test/628/843.jpg  \n",
            "  inflating: ./CelebA_HQ_facial_identity_dataset/test/628/9192.jpg  \n",
            "  inflating: ./CelebA_HQ_facial_identity_dataset/test/628/9940.jpg  \n",
            "   creating: ./CelebA_HQ_facial_identity_dataset/test/629/\n",
            "  inflating: ./CelebA_HQ_facial_identity_dataset/test/629/26587.jpg  \n",
            "  inflating: ./CelebA_HQ_facial_identity_dataset/test/629/2998.jpg  \n",
            "  inflating: ./CelebA_HQ_facial_identity_dataset/test/629/6273.jpg  \n",
            "  inflating: ./CelebA_HQ_facial_identity_dataset/test/629/844.jpg  \n",
            "   creating: ./CelebA_HQ_facial_identity_dataset/test/63/\n",
            "  inflating: ./CelebA_HQ_facial_identity_dataset/test/63/67.jpg  \n",
            "  inflating: ./CelebA_HQ_facial_identity_dataset/test/63/735.jpg  \n",
            "  inflating: ./CelebA_HQ_facial_identity_dataset/test/63/8263.jpg  \n",
            "  inflating: ./CelebA_HQ_facial_identity_dataset/test/63/8293.jpg  \n",
            "   creating: ./CelebA_HQ_facial_identity_dataset/test/632/\n",
            "  inflating: ./CelebA_HQ_facial_identity_dataset/test/632/8078.jpg  \n",
            "  inflating: ./CelebA_HQ_facial_identity_dataset/test/632/850.jpg  \n",
            "  inflating: ./CelebA_HQ_facial_identity_dataset/test/632/8726.jpg  \n",
            "  inflating: ./CelebA_HQ_facial_identity_dataset/test/632/9274.jpg  \n",
            "   creating: ./CelebA_HQ_facial_identity_dataset/test/636/\n",
            "  inflating: ./CelebA_HQ_facial_identity_dataset/test/636/857.jpg  \n",
            "  inflating: ./CelebA_HQ_facial_identity_dataset/test/636/8966.jpg  \n",
            "  inflating: ./CelebA_HQ_facial_identity_dataset/test/636/9257.jpg  \n",
            "   creating: ./CelebA_HQ_facial_identity_dataset/test/649/\n",
            "  inflating: ./CelebA_HQ_facial_identity_dataset/test/649/6302.jpg  \n",
            "  inflating: ./CelebA_HQ_facial_identity_dataset/test/649/6620.jpg  \n",
            "  inflating: ./CelebA_HQ_facial_identity_dataset/test/649/8046.jpg  \n",
            "  inflating: ./CelebA_HQ_facial_identity_dataset/test/649/881.jpg  \n",
            "   creating: ./CelebA_HQ_facial_identity_dataset/test/65/\n",
            "  inflating: ./CelebA_HQ_facial_identity_dataset/test/65/637.jpg  \n",
            "  inflating: ./CelebA_HQ_facial_identity_dataset/test/65/69.jpg  \n",
            "  inflating: ./CelebA_HQ_facial_identity_dataset/test/65/7306.jpg  \n",
            "  inflating: ./CelebA_HQ_facial_identity_dataset/test/65/9022.jpg  \n",
            "  inflating: ./CelebA_HQ_facial_identity_dataset/test/65/9806.jpg  \n",
            "   creating: ./CelebA_HQ_facial_identity_dataset/test/651/\n",
            "  inflating: ./CelebA_HQ_facial_identity_dataset/test/651/6330.jpg  \n",
            "  inflating: ./CelebA_HQ_facial_identity_dataset/test/651/8242.jpg  \n",
            "  inflating: ./CelebA_HQ_facial_identity_dataset/test/651/883.jpg  \n",
            "  inflating: ./CelebA_HQ_facial_identity_dataset/test/651/962.jpg  \n",
            "   creating: ./CelebA_HQ_facial_identity_dataset/test/664/\n",
            "  inflating: ./CelebA_HQ_facial_identity_dataset/test/664/5720.jpg  \n",
            "  inflating: ./CelebA_HQ_facial_identity_dataset/test/664/6665.jpg  \n",
            "  inflating: ./CelebA_HQ_facial_identity_dataset/test/664/9075.jpg  \n",
            "  inflating: ./CelebA_HQ_facial_identity_dataset/test/664/909.jpg  \n",
            "   creating: ./CelebA_HQ_facial_identity_dataset/test/67/\n",
            "  inflating: ./CelebA_HQ_facial_identity_dataset/test/67/71.jpg  \n",
            "  inflating: ./CelebA_HQ_facial_identity_dataset/test/67/8664.jpg  \n",
            "  inflating: ./CelebA_HQ_facial_identity_dataset/test/67/95.jpg  \n",
            "  inflating: ./CelebA_HQ_facial_identity_dataset/test/67/9974.jpg  \n",
            "   creating: ./CelebA_HQ_facial_identity_dataset/test/673/\n",
            "  inflating: ./CelebA_HQ_facial_identity_dataset/test/673/6532.jpg  \n",
            "  inflating: ./CelebA_HQ_facial_identity_dataset/test/673/7291.jpg  \n",
            "  inflating: ./CelebA_HQ_facial_identity_dataset/test/673/927.jpg  \n",
            "   creating: ./CelebA_HQ_facial_identity_dataset/test/674/\n",
            "  inflating: ./CelebA_HQ_facial_identity_dataset/test/674/4072.jpg  \n",
            "  inflating: ./CelebA_HQ_facial_identity_dataset/test/674/4256.jpg  \n",
            "  inflating: ./CelebA_HQ_facial_identity_dataset/test/674/6484.jpg  \n",
            "  inflating: ./CelebA_HQ_facial_identity_dataset/test/674/6730.jpg  \n",
            "  inflating: ./CelebA_HQ_facial_identity_dataset/test/674/930.jpg  \n",
            "   creating: ./CelebA_HQ_facial_identity_dataset/test/676/\n",
            "  inflating: ./CelebA_HQ_facial_identity_dataset/test/676/8437.jpg  \n",
            "  inflating: ./CelebA_HQ_facial_identity_dataset/test/676/933.jpg  \n",
            "  inflating: ./CelebA_HQ_facial_identity_dataset/test/676/9950.jpg  \n",
            "   creating: ./CelebA_HQ_facial_identity_dataset/test/677/\n",
            "  inflating: ./CelebA_HQ_facial_identity_dataset/test/677/8327.jpg  \n",
            "  inflating: ./CelebA_HQ_facial_identity_dataset/test/677/9113.jpg  \n",
            "  inflating: ./CelebA_HQ_facial_identity_dataset/test/677/935.jpg  \n",
            "  inflating: ./CelebA_HQ_facial_identity_dataset/test/677/9707.jpg  \n",
            "   creating: ./CelebA_HQ_facial_identity_dataset/test/678/\n",
            "  inflating: ./CelebA_HQ_facial_identity_dataset/test/678/6434.jpg  \n",
            "  inflating: ./CelebA_HQ_facial_identity_dataset/test/678/6985.jpg  \n",
            "  inflating: ./CelebA_HQ_facial_identity_dataset/test/678/8913.jpg  \n",
            "  inflating: ./CelebA_HQ_facial_identity_dataset/test/678/936.jpg  \n",
            "   creating: ./CelebA_HQ_facial_identity_dataset/test/679/\n",
            "  inflating: ./CelebA_HQ_facial_identity_dataset/test/679/4518.jpg  \n",
            "  inflating: ./CelebA_HQ_facial_identity_dataset/test/679/5046.jpg  \n",
            "  inflating: ./CelebA_HQ_facial_identity_dataset/test/679/6100.jpg  \n",
            "  inflating: ./CelebA_HQ_facial_identity_dataset/test/679/939.jpg  \n",
            "   creating: ./CelebA_HQ_facial_identity_dataset/test/688/\n",
            "  inflating: ./CelebA_HQ_facial_identity_dataset/test/688/7082.jpg  \n",
            "  inflating: ./CelebA_HQ_facial_identity_dataset/test/688/7123.jpg  \n",
            "  inflating: ./CelebA_HQ_facial_identity_dataset/test/688/8790.jpg  \n",
            "  inflating: ./CelebA_HQ_facial_identity_dataset/test/688/956.jpg  \n",
            "   creating: ./CelebA_HQ_facial_identity_dataset/test/698/\n",
            "  inflating: ./CelebA_HQ_facial_identity_dataset/test/698/5192.jpg  \n",
            "  inflating: ./CelebA_HQ_facial_identity_dataset/test/698/6546.jpg  \n",
            "  inflating: ./CelebA_HQ_facial_identity_dataset/test/698/9301.jpg  \n",
            "  inflating: ./CelebA_HQ_facial_identity_dataset/test/698/981.jpg  \n",
            "   creating: ./CelebA_HQ_facial_identity_dataset/test/701/\n",
            "  inflating: ./CelebA_HQ_facial_identity_dataset/test/701/9092.jpg  \n",
            "  inflating: ./CelebA_HQ_facial_identity_dataset/test/701/9125.jpg  \n",
            "  inflating: ./CelebA_HQ_facial_identity_dataset/test/701/985.jpg  \n",
            "   creating: ./CelebA_HQ_facial_identity_dataset/test/703/\n",
            "  inflating: ./CelebA_HQ_facial_identity_dataset/test/703/4915.jpg  \n",
            "  inflating: ./CelebA_HQ_facial_identity_dataset/test/703/5672.jpg  \n",
            "  inflating: ./CelebA_HQ_facial_identity_dataset/test/703/7784.jpg  \n",
            "  inflating: ./CelebA_HQ_facial_identity_dataset/test/703/9738.jpg  \n",
            "  inflating: ./CelebA_HQ_facial_identity_dataset/test/703/990.jpg  \n",
            "   creating: ./CelebA_HQ_facial_identity_dataset/test/716/\n",
            "  inflating: ./CelebA_HQ_facial_identity_dataset/test/716/8901.jpg  \n",
            "  inflating: ./CelebA_HQ_facial_identity_dataset/test/716/8912.jpg  \n",
            "  inflating: ./CelebA_HQ_facial_identity_dataset/test/716/9343.jpg  \n",
            "   creating: ./CelebA_HQ_facial_identity_dataset/test/719/\n",
            "  inflating: ./CelebA_HQ_facial_identity_dataset/test/719/29886.jpg  \n",
            "  inflating: ./CelebA_HQ_facial_identity_dataset/test/719/6972.jpg  \n",
            "  inflating: ./CelebA_HQ_facial_identity_dataset/test/719/8010.jpg  \n",
            "  inflating: ./CelebA_HQ_facial_identity_dataset/test/719/9183.jpg  \n",
            "   creating: ./CelebA_HQ_facial_identity_dataset/test/725/\n",
            "  inflating: ./CelebA_HQ_facial_identity_dataset/test/725/4839.jpg  \n",
            "  inflating: ./CelebA_HQ_facial_identity_dataset/test/725/7594.jpg  \n",
            "  inflating: ./CelebA_HQ_facial_identity_dataset/test/725/9267.jpg  \n",
            "  inflating: ./CelebA_HQ_facial_identity_dataset/test/725/9322.jpg  \n",
            "   creating: ./CelebA_HQ_facial_identity_dataset/test/731/\n",
            "  inflating: ./CelebA_HQ_facial_identity_dataset/test/731/7071.jpg  \n",
            "  inflating: ./CelebA_HQ_facial_identity_dataset/test/731/7412.jpg  \n",
            "  inflating: ./CelebA_HQ_facial_identity_dataset/test/731/8681.jpg  \n",
            "  inflating: ./CelebA_HQ_facial_identity_dataset/test/731/9282.jpg  \n",
            "   creating: ./CelebA_HQ_facial_identity_dataset/test/735/\n",
            "  inflating: ./CelebA_HQ_facial_identity_dataset/test/735/4284.jpg  \n",
            "  inflating: ./CelebA_HQ_facial_identity_dataset/test/735/4784.jpg  \n",
            "  inflating: ./CelebA_HQ_facial_identity_dataset/test/735/5045.jpg  \n",
            "  inflating: ./CelebA_HQ_facial_identity_dataset/test/735/6156.jpg  \n",
            "  inflating: ./CelebA_HQ_facial_identity_dataset/test/735/6559.jpg  \n",
            "   creating: ./CelebA_HQ_facial_identity_dataset/test/745/\n",
            "  inflating: ./CelebA_HQ_facial_identity_dataset/test/745/7145.jpg  \n",
            "  inflating: ./CelebA_HQ_facial_identity_dataset/test/745/7265.jpg  \n",
            "  inflating: ./CelebA_HQ_facial_identity_dataset/test/745/9108.jpg  \n",
            "  inflating: ./CelebA_HQ_facial_identity_dataset/test/745/9432.jpg  \n",
            "   creating: ./CelebA_HQ_facial_identity_dataset/test/746/\n",
            "  inflating: ./CelebA_HQ_facial_identity_dataset/test/746/5589.jpg  \n",
            "  inflating: ./CelebA_HQ_facial_identity_dataset/test/746/5808.jpg  \n",
            "  inflating: ./CelebA_HQ_facial_identity_dataset/test/746/6493.jpg  \n",
            "  inflating: ./CelebA_HQ_facial_identity_dataset/test/746/6557.jpg  \n",
            "  inflating: ./CelebA_HQ_facial_identity_dataset/test/746/6617.jpg  \n",
            "   creating: ./CelebA_HQ_facial_identity_dataset/test/748/\n",
            "  inflating: ./CelebA_HQ_facial_identity_dataset/test/748/5462.jpg  \n",
            "  inflating: ./CelebA_HQ_facial_identity_dataset/test/748/5538.jpg  \n",
            "  inflating: ./CelebA_HQ_facial_identity_dataset/test/748/8350.jpg  \n",
            "   creating: ./CelebA_HQ_facial_identity_dataset/test/766/\n",
            "  inflating: ./CelebA_HQ_facial_identity_dataset/test/766/28151.jpg  \n",
            "  inflating: ./CelebA_HQ_facial_identity_dataset/test/766/4673.jpg  \n",
            "  inflating: ./CelebA_HQ_facial_identity_dataset/test/766/8106.jpg  \n",
            "   creating: ./CelebA_HQ_facial_identity_dataset/test/77/\n",
            "  inflating: ./CelebA_HQ_facial_identity_dataset/test/77/474.jpg  \n",
            "  inflating: ./CelebA_HQ_facial_identity_dataset/test/77/6492.jpg  \n",
            "  inflating: ./CelebA_HQ_facial_identity_dataset/test/77/83.jpg  \n",
            "  inflating: ./CelebA_HQ_facial_identity_dataset/test/77/9323.jpg  \n",
            "   creating: ./CelebA_HQ_facial_identity_dataset/test/776/\n",
            "  inflating: ./CelebA_HQ_facial_identity_dataset/test/776/5838.jpg  \n",
            "  inflating: ./CelebA_HQ_facial_identity_dataset/test/776/6994.jpg  \n",
            "  inflating: ./CelebA_HQ_facial_identity_dataset/test/776/7228.jpg  \n",
            "  inflating: ./CelebA_HQ_facial_identity_dataset/test/776/7421.jpg  \n",
            "   creating: ./CelebA_HQ_facial_identity_dataset/test/782/\n",
            "  inflating: ./CelebA_HQ_facial_identity_dataset/test/782/4437.jpg  \n",
            "  inflating: ./CelebA_HQ_facial_identity_dataset/test/782/5224.jpg  \n",
            "  inflating: ./CelebA_HQ_facial_identity_dataset/test/782/5707.jpg  \n",
            "  inflating: ./CelebA_HQ_facial_identity_dataset/test/782/7633.jpg  \n",
            "   creating: ./CelebA_HQ_facial_identity_dataset/test/785/\n",
            "  inflating: ./CelebA_HQ_facial_identity_dataset/test/785/7001.jpg  \n",
            "  inflating: ./CelebA_HQ_facial_identity_dataset/test/785/7318.jpg  \n",
            "  inflating: ./CelebA_HQ_facial_identity_dataset/test/785/8044.jpg  \n",
            "  inflating: ./CelebA_HQ_facial_identity_dataset/test/785/9472.jpg  \n",
            "   creating: ./CelebA_HQ_facial_identity_dataset/test/793/\n",
            "  inflating: ./CelebA_HQ_facial_identity_dataset/test/793/3354.jpg  \n",
            "  inflating: ./CelebA_HQ_facial_identity_dataset/test/793/4392.jpg  \n",
            "  inflating: ./CelebA_HQ_facial_identity_dataset/test/793/5024.jpg  \n",
            "  inflating: ./CelebA_HQ_facial_identity_dataset/test/793/6965.jpg  \n",
            "   creating: ./CelebA_HQ_facial_identity_dataset/test/795/\n",
            "  inflating: ./CelebA_HQ_facial_identity_dataset/test/795/6301.jpg  \n",
            "  inflating: ./CelebA_HQ_facial_identity_dataset/test/795/7349.jpg  \n",
            "  inflating: ./CelebA_HQ_facial_identity_dataset/test/795/8159.jpg  \n",
            "  inflating: ./CelebA_HQ_facial_identity_dataset/test/795/9180.jpg  \n",
            "   creating: ./CelebA_HQ_facial_identity_dataset/test/80/\n",
            "  inflating: ./CelebA_HQ_facial_identity_dataset/test/80/617.jpg  \n",
            "  inflating: ./CelebA_HQ_facial_identity_dataset/test/80/751.jpg  \n",
            "  inflating: ./CelebA_HQ_facial_identity_dataset/test/80/87.jpg  \n",
            "   creating: ./CelebA_HQ_facial_identity_dataset/test/805/\n",
            "  inflating: ./CelebA_HQ_facial_identity_dataset/test/805/7036.jpg  \n",
            "  inflating: ./CelebA_HQ_facial_identity_dataset/test/805/7542.jpg  \n",
            "  inflating: ./CelebA_HQ_facial_identity_dataset/test/805/8161.jpg  \n",
            "  inflating: ./CelebA_HQ_facial_identity_dataset/test/805/9546.jpg  \n",
            "   creating: ./CelebA_HQ_facial_identity_dataset/test/812/\n",
            "  inflating: ./CelebA_HQ_facial_identity_dataset/test/812/7144.jpg  \n",
            "  inflating: ./CelebA_HQ_facial_identity_dataset/test/812/7417.jpg  \n",
            "  inflating: ./CelebA_HQ_facial_identity_dataset/test/812/8618.jpg  \n",
            "  inflating: ./CelebA_HQ_facial_identity_dataset/test/812/9130.jpg  \n",
            "   creating: ./CelebA_HQ_facial_identity_dataset/test/816/\n",
            "  inflating: ./CelebA_HQ_facial_identity_dataset/test/816/7425.jpg  \n",
            "  inflating: ./CelebA_HQ_facial_identity_dataset/test/816/7608.jpg  \n",
            "  inflating: ./CelebA_HQ_facial_identity_dataset/test/816/8101.jpg  \n",
            "  inflating: ./CelebA_HQ_facial_identity_dataset/test/816/9639.jpg  \n",
            "   creating: ./CelebA_HQ_facial_identity_dataset/test/817/\n",
            "  inflating: ./CelebA_HQ_facial_identity_dataset/test/817/5730.jpg  \n",
            "  inflating: ./CelebA_HQ_facial_identity_dataset/test/817/5777.jpg  \n",
            "  inflating: ./CelebA_HQ_facial_identity_dataset/test/817/6045.jpg  \n",
            "  inflating: ./CelebA_HQ_facial_identity_dataset/test/817/6848.jpg  \n",
            "   creating: ./CelebA_HQ_facial_identity_dataset/test/820/\n",
            "  inflating: ./CelebA_HQ_facial_identity_dataset/test/820/27376.jpg  \n",
            "  inflating: ./CelebA_HQ_facial_identity_dataset/test/820/28060.jpg  \n",
            "  inflating: ./CelebA_HQ_facial_identity_dataset/test/820/29077.jpg  \n",
            "   creating: ./CelebA_HQ_facial_identity_dataset/test/840/\n",
            "  inflating: ./CelebA_HQ_facial_identity_dataset/test/840/4944.jpg  \n",
            "  inflating: ./CelebA_HQ_facial_identity_dataset/test/840/6363.jpg  \n",
            "  inflating: ./CelebA_HQ_facial_identity_dataset/test/840/6711.jpg  \n",
            "  inflating: ./CelebA_HQ_facial_identity_dataset/test/840/7216.jpg  \n",
            "   creating: ./CelebA_HQ_facial_identity_dataset/test/841/\n",
            "  inflating: ./CelebA_HQ_facial_identity_dataset/test/841/6574.jpg  \n",
            "  inflating: ./CelebA_HQ_facial_identity_dataset/test/841/7501.jpg  \n",
            "  inflating: ./CelebA_HQ_facial_identity_dataset/test/841/9348.jpg  \n",
            "   creating: ./CelebA_HQ_facial_identity_dataset/test/845/\n",
            "  inflating: ./CelebA_HQ_facial_identity_dataset/test/845/6719.jpg  \n",
            "  inflating: ./CelebA_HQ_facial_identity_dataset/test/845/8019.jpg  \n",
            "  inflating: ./CelebA_HQ_facial_identity_dataset/test/845/8113.jpg  \n",
            "  inflating: ./CelebA_HQ_facial_identity_dataset/test/845/8170.jpg  \n",
            "   creating: ./CelebA_HQ_facial_identity_dataset/test/846/\n",
            "  inflating: ./CelebA_HQ_facial_identity_dataset/test/846/4916.jpg  \n",
            "  inflating: ./CelebA_HQ_facial_identity_dataset/test/846/5336.jpg  \n",
            "  inflating: ./CelebA_HQ_facial_identity_dataset/test/846/6291.jpg  \n",
            "  inflating: ./CelebA_HQ_facial_identity_dataset/test/846/6654.jpg  \n",
            "  inflating: ./CelebA_HQ_facial_identity_dataset/test/846/9431.jpg  \n",
            "   creating: ./CelebA_HQ_facial_identity_dataset/test/847/\n",
            "  inflating: ./CelebA_HQ_facial_identity_dataset/test/847/8585.jpg  \n",
            "  inflating: ./CelebA_HQ_facial_identity_dataset/test/847/9335.jpg  \n",
            "  inflating: ./CelebA_HQ_facial_identity_dataset/test/847/9916.jpg  \n",
            "   creating: ./CelebA_HQ_facial_identity_dataset/test/848/\n",
            "  inflating: ./CelebA_HQ_facial_identity_dataset/test/848/6442.jpg  \n",
            "  inflating: ./CelebA_HQ_facial_identity_dataset/test/848/8245.jpg  \n",
            "  inflating: ./CelebA_HQ_facial_identity_dataset/test/848/8543.jpg  \n",
            "  inflating: ./CelebA_HQ_facial_identity_dataset/test/848/8727.jpg  \n",
            "   creating: ./CelebA_HQ_facial_identity_dataset/test/851/\n",
            "  inflating: ./CelebA_HQ_facial_identity_dataset/test/851/6802.jpg  \n",
            "  inflating: ./CelebA_HQ_facial_identity_dataset/test/851/7004.jpg  \n",
            "  inflating: ./CelebA_HQ_facial_identity_dataset/test/851/8772.jpg  \n",
            "  inflating: ./CelebA_HQ_facial_identity_dataset/test/851/9271.jpg  \n",
            "   creating: ./CelebA_HQ_facial_identity_dataset/test/858/\n",
            "  inflating: ./CelebA_HQ_facial_identity_dataset/test/858/8220.jpg  \n",
            "  inflating: ./CelebA_HQ_facial_identity_dataset/test/858/9293.jpg  \n",
            "  inflating: ./CelebA_HQ_facial_identity_dataset/test/858/9907.jpg  \n",
            "   creating: ./CelebA_HQ_facial_identity_dataset/test/862/\n",
            "  inflating: ./CelebA_HQ_facial_identity_dataset/test/862/4585.jpg  \n",
            "  inflating: ./CelebA_HQ_facial_identity_dataset/test/862/6794.jpg  \n",
            "  inflating: ./CelebA_HQ_facial_identity_dataset/test/862/7491.jpg  \n",
            "   creating: ./CelebA_HQ_facial_identity_dataset/test/864/\n",
            "  inflating: ./CelebA_HQ_facial_identity_dataset/test/864/4967.jpg  \n",
            "  inflating: ./CelebA_HQ_facial_identity_dataset/test/864/5343.jpg  \n",
            "  inflating: ./CelebA_HQ_facial_identity_dataset/test/864/9069.jpg  \n",
            "   creating: ./CelebA_HQ_facial_identity_dataset/test/870/\n",
            "  inflating: ./CelebA_HQ_facial_identity_dataset/test/870/4199.jpg  \n",
            "  inflating: ./CelebA_HQ_facial_identity_dataset/test/870/4727.jpg  \n",
            "  inflating: ./CelebA_HQ_facial_identity_dataset/test/870/7870.jpg  \n",
            "  inflating: ./CelebA_HQ_facial_identity_dataset/test/870/9946.jpg  \n",
            "   creating: ./CelebA_HQ_facial_identity_dataset/test/872/\n",
            "  inflating: ./CelebA_HQ_facial_identity_dataset/test/872/5853.jpg  \n",
            "  inflating: ./CelebA_HQ_facial_identity_dataset/test/872/6402.jpg  \n",
            "  inflating: ./CelebA_HQ_facial_identity_dataset/test/872/6816.jpg  \n",
            "  inflating: ./CelebA_HQ_facial_identity_dataset/test/872/7279.jpg  \n",
            "   creating: ./CelebA_HQ_facial_identity_dataset/test/878/\n",
            "  inflating: ./CelebA_HQ_facial_identity_dataset/test/878/6904.jpg  \n",
            "  inflating: ./CelebA_HQ_facial_identity_dataset/test/878/7560.jpg  \n",
            "  inflating: ./CelebA_HQ_facial_identity_dataset/test/878/8208.jpg  \n",
            "  inflating: ./CelebA_HQ_facial_identity_dataset/test/878/9077.jpg  \n",
            "   creating: ./CelebA_HQ_facial_identity_dataset/test/879/\n",
            "  inflating: ./CelebA_HQ_facial_identity_dataset/test/879/8201.jpg  \n",
            "  inflating: ./CelebA_HQ_facial_identity_dataset/test/879/8553.jpg  \n",
            "  inflating: ./CelebA_HQ_facial_identity_dataset/test/879/9917.jpg  \n",
            "   creating: ./CelebA_HQ_facial_identity_dataset/test/882/\n",
            "  inflating: ./CelebA_HQ_facial_identity_dataset/test/882/9429.jpg  \n",
            "  inflating: ./CelebA_HQ_facial_identity_dataset/test/882/9488.jpg  \n",
            "  inflating: ./CelebA_HQ_facial_identity_dataset/test/882/9825.jpg  \n",
            "  inflating: ./CelebA_HQ_facial_identity_dataset/test/882/9937.jpg  \n",
            "   creating: ./CelebA_HQ_facial_identity_dataset/test/894/\n",
            "  inflating: ./CelebA_HQ_facial_identity_dataset/test/894/6743.jpg  \n",
            "  inflating: ./CelebA_HQ_facial_identity_dataset/test/894/6903.jpg  \n",
            "  inflating: ./CelebA_HQ_facial_identity_dataset/test/894/9471.jpg  \n",
            "   creating: ./CelebA_HQ_facial_identity_dataset/test/908/\n",
            "  inflating: ./CelebA_HQ_facial_identity_dataset/test/908/3815.jpg  \n",
            "  inflating: ./CelebA_HQ_facial_identity_dataset/test/908/4238.jpg  \n",
            "  inflating: ./CelebA_HQ_facial_identity_dataset/test/908/9078.jpg  \n",
            "  inflating: ./CelebA_HQ_facial_identity_dataset/test/908/9311.jpg  \n",
            "   creating: ./CelebA_HQ_facial_identity_dataset/test/934/\n",
            "  inflating: ./CelebA_HQ_facial_identity_dataset/test/934/5378.jpg  \n",
            "  inflating: ./CelebA_HQ_facial_identity_dataset/test/934/5880.jpg  \n",
            "  inflating: ./CelebA_HQ_facial_identity_dataset/test/934/8253.jpg  \n",
            "  inflating: ./CelebA_HQ_facial_identity_dataset/test/934/8754.jpg  \n",
            "   creating: ./CelebA_HQ_facial_identity_dataset/test/945/\n",
            "  inflating: ./CelebA_HQ_facial_identity_dataset/test/945/4629.jpg  \n",
            "  inflating: ./CelebA_HQ_facial_identity_dataset/test/945/8882.jpg  \n",
            "  inflating: ./CelebA_HQ_facial_identity_dataset/test/945/9297.jpg  \n",
            "  inflating: ./CelebA_HQ_facial_identity_dataset/test/945/9902.jpg  \n",
            "   creating: ./CelebA_HQ_facial_identity_dataset/test/95/\n",
            "  inflating: ./CelebA_HQ_facial_identity_dataset/test/95/7345.jpg  \n",
            "  inflating: ./CelebA_HQ_facial_identity_dataset/test/95/8071.jpg  \n",
            "  inflating: ./CelebA_HQ_facial_identity_dataset/test/95/9384.jpg  \n",
            "  inflating: ./CelebA_HQ_facial_identity_dataset/test/95/995.jpg  \n",
            "   creating: ./CelebA_HQ_facial_identity_dataset/test/952/\n",
            "  inflating: ./CelebA_HQ_facial_identity_dataset/test/952/6366.jpg  \n",
            "  inflating: ./CelebA_HQ_facial_identity_dataset/test/952/6611.jpg  \n",
            "  inflating: ./CelebA_HQ_facial_identity_dataset/test/952/7080.jpg  \n",
            "  inflating: ./CelebA_HQ_facial_identity_dataset/test/952/7341.jpg  \n",
            "   creating: ./CelebA_HQ_facial_identity_dataset/test/953/\n",
            "  inflating: ./CelebA_HQ_facial_identity_dataset/test/953/4987.jpg  \n",
            "  inflating: ./CelebA_HQ_facial_identity_dataset/test/953/5567.jpg  \n",
            "  inflating: ./CelebA_HQ_facial_identity_dataset/test/953/7655.jpg  \n",
            "  inflating: ./CelebA_HQ_facial_identity_dataset/test/953/7758.jpg  \n",
            "   creating: ./CelebA_HQ_facial_identity_dataset/test/956/\n",
            "  inflating: ./CelebA_HQ_facial_identity_dataset/test/956/4631.jpg  \n",
            "  inflating: ./CelebA_HQ_facial_identity_dataset/test/956/5700.jpg  \n",
            "  inflating: ./CelebA_HQ_facial_identity_dataset/test/956/7214.jpg  \n",
            "  inflating: ./CelebA_HQ_facial_identity_dataset/test/956/7881.jpg  \n",
            "   creating: ./CelebA_HQ_facial_identity_dataset/test/959/\n",
            "  inflating: ./CelebA_HQ_facial_identity_dataset/test/959/6832.jpg  \n",
            "  inflating: ./CelebA_HQ_facial_identity_dataset/test/959/6981.jpg  \n",
            "  inflating: ./CelebA_HQ_facial_identity_dataset/test/959/8024.jpg  \n",
            "   creating: ./CelebA_HQ_facial_identity_dataset/test/968/\n",
            "  inflating: ./CelebA_HQ_facial_identity_dataset/test/968/6717.jpg  \n",
            "  inflating: ./CelebA_HQ_facial_identity_dataset/test/968/8099.jpg  \n",
            "  inflating: ./CelebA_HQ_facial_identity_dataset/test/968/8486.jpg  \n",
            "  inflating: ./CelebA_HQ_facial_identity_dataset/test/968/8487.jpg  \n",
            "   creating: ./CelebA_HQ_facial_identity_dataset/test/980/\n",
            "  inflating: ./CelebA_HQ_facial_identity_dataset/test/980/26128.jpg  \n",
            "  inflating: ./CelebA_HQ_facial_identity_dataset/test/980/27725.jpg  \n",
            "  inflating: ./CelebA_HQ_facial_identity_dataset/test/980/2897.jpg  \n",
            "  inflating: ./CelebA_HQ_facial_identity_dataset/test/980/5430.jpg  \n",
            "   creating: ./CelebA_HQ_facial_identity_dataset/test/982/\n",
            "  inflating: ./CelebA_HQ_facial_identity_dataset/test/982/8322.jpg  \n",
            "  inflating: ./CelebA_HQ_facial_identity_dataset/test/982/9215.jpg  \n",
            "  inflating: ./CelebA_HQ_facial_identity_dataset/test/982/9641.jpg  \n",
            "   creating: ./CelebA_HQ_facial_identity_dataset/test/99/\n",
            "  inflating: ./CelebA_HQ_facial_identity_dataset/test/99/8020.jpg  \n",
            "  inflating: ./CelebA_HQ_facial_identity_dataset/test/99/8211.jpg  \n",
            "  inflating: ./CelebA_HQ_facial_identity_dataset/test/99/9310.jpg  \n",
            "  inflating: ./CelebA_HQ_facial_identity_dataset/test/99/9929.jpg  \n",
            "   creating: ./CelebA_HQ_facial_identity_dataset/test/993/\n",
            "  inflating: ./CelebA_HQ_facial_identity_dataset/test/993/3142.jpg  \n",
            "  inflating: ./CelebA_HQ_facial_identity_dataset/test/993/3173.jpg  \n",
            "  inflating: ./CelebA_HQ_facial_identity_dataset/test/993/3882.jpg  \n",
            "  inflating: ./CelebA_HQ_facial_identity_dataset/test/993/4603.jpg  \n",
            "   creating: ./CelebA_HQ_facial_identity_dataset/test/995/\n",
            "  inflating: ./CelebA_HQ_facial_identity_dataset/test/995/5093.jpg  \n",
            "  inflating: ./CelebA_HQ_facial_identity_dataset/test/995/8444.jpg  \n",
            "  inflating: ./CelebA_HQ_facial_identity_dataset/test/995/9570.jpg  \n",
            "   creating: ./CelebA_HQ_facial_identity_dataset/train/\n",
            "   creating: ./CelebA_HQ_facial_identity_dataset/train/102/\n",
            "  inflating: ./CelebA_HQ_facial_identity_dataset/train/102/112.jpg  \n",
            "  inflating: ./CelebA_HQ_facial_identity_dataset/train/102/12392.jpg  \n",
            "  inflating: ./CelebA_HQ_facial_identity_dataset/train/102/12669.jpg  \n",
            "  inflating: ./CelebA_HQ_facial_identity_dataset/train/102/145.jpg  \n",
            "  inflating: ./CelebA_HQ_facial_identity_dataset/train/102/16223.jpg  \n",
            "  inflating: ./CelebA_HQ_facial_identity_dataset/train/102/24041.jpg  \n",
            "  inflating: ./CelebA_HQ_facial_identity_dataset/train/102/28969.jpg  \n",
            "  inflating: ./CelebA_HQ_facial_identity_dataset/train/102/3113.jpg  \n",
            "  inflating: ./CelebA_HQ_facial_identity_dataset/train/102/3728.jpg  \n",
            "  inflating: ./CelebA_HQ_facial_identity_dataset/train/102/3812.jpg  \n",
            "  inflating: ./CelebA_HQ_facial_identity_dataset/train/102/4577.jpg  \n",
            "  inflating: ./CelebA_HQ_facial_identity_dataset/train/102/6297.jpg  \n",
            "   creating: ./CelebA_HQ_facial_identity_dataset/train/1027/\n",
            "  inflating: ./CelebA_HQ_facial_identity_dataset/train/1027/10124.jpg  \n",
            "  inflating: ./CelebA_HQ_facial_identity_dataset/train/1027/11396.jpg  \n",
            "  inflating: ./CelebA_HQ_facial_identity_dataset/train/1027/12286.jpg  \n",
            "  inflating: ./CelebA_HQ_facial_identity_dataset/train/1027/13004.jpg  \n",
            "  inflating: ./CelebA_HQ_facial_identity_dataset/train/1027/14309.jpg  \n",
            "  inflating: ./CelebA_HQ_facial_identity_dataset/train/1027/14410.jpg  \n",
            "  inflating: ./CelebA_HQ_facial_identity_dataset/train/1027/14956.jpg  \n",
            "  inflating: ./CelebA_HQ_facial_identity_dataset/train/1027/1636.jpg  \n",
            "  inflating: ./CelebA_HQ_facial_identity_dataset/train/1027/2850.jpg  \n",
            "  inflating: ./CelebA_HQ_facial_identity_dataset/train/1027/3673.jpg  \n",
            "  inflating: ./CelebA_HQ_facial_identity_dataset/train/1027/4699.jpg  \n",
            "  inflating: ./CelebA_HQ_facial_identity_dataset/train/1027/5194.jpg  \n",
            "   creating: ./CelebA_HQ_facial_identity_dataset/train/103/\n",
            "  inflating: ./CelebA_HQ_facial_identity_dataset/train/103/1083.jpg  \n",
            "  inflating: ./CelebA_HQ_facial_identity_dataset/train/103/113.jpg  \n",
            "  inflating: ./CelebA_HQ_facial_identity_dataset/train/103/12049.jpg  \n",
            "  inflating: ./CelebA_HQ_facial_identity_dataset/train/103/12998.jpg  \n",
            "  inflating: ./CelebA_HQ_facial_identity_dataset/train/103/22137.jpg  \n",
            "  inflating: ./CelebA_HQ_facial_identity_dataset/train/103/2263.jpg  \n",
            "  inflating: ./CelebA_HQ_facial_identity_dataset/train/103/2300.jpg  \n",
            "  inflating: ./CelebA_HQ_facial_identity_dataset/train/103/2357.jpg  \n",
            "  inflating: ./CelebA_HQ_facial_identity_dataset/train/103/2437.jpg  \n",
            "  inflating: ./CelebA_HQ_facial_identity_dataset/train/103/2463.jpg  \n",
            "  inflating: ./CelebA_HQ_facial_identity_dataset/train/103/249.jpg  \n",
            "  inflating: ./CelebA_HQ_facial_identity_dataset/train/103/2499.jpg  \n",
            "  inflating: ./CelebA_HQ_facial_identity_dataset/train/103/264.jpg  \n",
            "  inflating: ./CelebA_HQ_facial_identity_dataset/train/103/2736.jpg  \n",
            "  inflating: ./CelebA_HQ_facial_identity_dataset/train/103/2767.jpg  \n",
            "   creating: ./CelebA_HQ_facial_identity_dataset/train/104/\n",
            "  inflating: ./CelebA_HQ_facial_identity_dataset/train/104/114.jpg  \n",
            "  inflating: ./CelebA_HQ_facial_identity_dataset/train/104/14752.jpg  \n",
            "  inflating: ./CelebA_HQ_facial_identity_dataset/train/104/16395.jpg  \n",
            "  inflating: ./CelebA_HQ_facial_identity_dataset/train/104/17425.jpg  \n",
            "  inflating: ./CelebA_HQ_facial_identity_dataset/train/104/222.jpg  \n",
            "  inflating: ./CelebA_HQ_facial_identity_dataset/train/104/23315.jpg  \n",
            "  inflating: ./CelebA_HQ_facial_identity_dataset/train/104/25959.jpg  \n",
            "  inflating: ./CelebA_HQ_facial_identity_dataset/train/104/26259.jpg  \n",
            "  inflating: ./CelebA_HQ_facial_identity_dataset/train/104/28001.jpg  \n",
            "  inflating: ./CelebA_HQ_facial_identity_dataset/train/104/3304.jpg  \n",
            "  inflating: ./CelebA_HQ_facial_identity_dataset/train/104/6035.jpg  \n",
            "  inflating: ./CelebA_HQ_facial_identity_dataset/train/104/6878.jpg  \n",
            "   creating: ./CelebA_HQ_facial_identity_dataset/train/1041/\n",
            "  inflating: ./CelebA_HQ_facial_identity_dataset/train/1041/10735.jpg  \n",
            "  inflating: ./CelebA_HQ_facial_identity_dataset/train/1041/12025.jpg  \n",
            "  inflating: ./CelebA_HQ_facial_identity_dataset/train/1041/13361.jpg  \n",
            "  inflating: ./CelebA_HQ_facial_identity_dataset/train/1041/15115.jpg  \n",
            "  inflating: ./CelebA_HQ_facial_identity_dataset/train/1041/1667.jpg  \n",
            "  inflating: ./CelebA_HQ_facial_identity_dataset/train/1041/2141.jpg  \n",
            "  inflating: ./CelebA_HQ_facial_identity_dataset/train/1041/2958.jpg  \n",
            "  inflating: ./CelebA_HQ_facial_identity_dataset/train/1041/29797.jpg  \n",
            "  inflating: ./CelebA_HQ_facial_identity_dataset/train/1041/3273.jpg  \n",
            "  inflating: ./CelebA_HQ_facial_identity_dataset/train/1041/3539.jpg  \n",
            "  inflating: ./CelebA_HQ_facial_identity_dataset/train/1041/3547.jpg  \n",
            "  inflating: ./CelebA_HQ_facial_identity_dataset/train/1041/3614.jpg  \n",
            "  inflating: ./CelebA_HQ_facial_identity_dataset/train/1041/4884.jpg  \n",
            "  inflating: ./CelebA_HQ_facial_identity_dataset/train/1041/5031.jpg  \n",
            "   creating: ./CelebA_HQ_facial_identity_dataset/train/1043/\n",
            "  inflating: ./CelebA_HQ_facial_identity_dataset/train/1043/11222.jpg  \n",
            "  inflating: ./CelebA_HQ_facial_identity_dataset/train/1043/12734.jpg  \n",
            "  inflating: ./CelebA_HQ_facial_identity_dataset/train/1043/14376.jpg  \n",
            "  inflating: ./CelebA_HQ_facial_identity_dataset/train/1043/14839.jpg  \n",
            "  inflating: ./CelebA_HQ_facial_identity_dataset/train/1043/15441.jpg  \n",
            "  inflating: ./CelebA_HQ_facial_identity_dataset/train/1043/16649.jpg  \n",
            "  inflating: ./CelebA_HQ_facial_identity_dataset/train/1043/16682.jpg  \n",
            "  inflating: ./CelebA_HQ_facial_identity_dataset/train/1043/1674.jpg  \n",
            "  inflating: ./CelebA_HQ_facial_identity_dataset/train/1043/19599.jpg  \n",
            "  inflating: ./CelebA_HQ_facial_identity_dataset/train/1043/20511.jpg  \n",
            "  inflating: ./CelebA_HQ_facial_identity_dataset/train/1043/2175.jpg  \n",
            "  inflating: ./CelebA_HQ_facial_identity_dataset/train/1043/21949.jpg  \n",
            "  inflating: ./CelebA_HQ_facial_identity_dataset/train/1043/23560.jpg  \n",
            "  inflating: ./CelebA_HQ_facial_identity_dataset/train/1043/23856.jpg  \n",
            "  inflating: ./CelebA_HQ_facial_identity_dataset/train/1043/5829.jpg  \n",
            "   creating: ./CelebA_HQ_facial_identity_dataset/train/1044/\n",
            "  inflating: ./CelebA_HQ_facial_identity_dataset/train/1044/10049.jpg  \n",
            "  inflating: ./CelebA_HQ_facial_identity_dataset/train/1044/12555.jpg  \n",
            "  inflating: ./CelebA_HQ_facial_identity_dataset/train/1044/15531.jpg  \n",
            "  inflating: ./CelebA_HQ_facial_identity_dataset/train/1044/16566.jpg  \n",
            "  inflating: ./CelebA_HQ_facial_identity_dataset/train/1044/1678.jpg  \n",
            "  inflating: ./CelebA_HQ_facial_identity_dataset/train/1044/18828.jpg  \n",
            "  inflating: ./CelebA_HQ_facial_identity_dataset/train/1044/20795.jpg  \n",
            "  inflating: ./CelebA_HQ_facial_identity_dataset/train/1044/2150.jpg  \n",
            "  inflating: ./CelebA_HQ_facial_identity_dataset/train/1044/22076.jpg  \n",
            "  inflating: ./CelebA_HQ_facial_identity_dataset/train/1044/22202.jpg  \n",
            "  inflating: ./CelebA_HQ_facial_identity_dataset/train/1044/25138.jpg  \n",
            "  inflating: ./CelebA_HQ_facial_identity_dataset/train/1044/29352.jpg  \n",
            "  inflating: ./CelebA_HQ_facial_identity_dataset/train/1044/3936.jpg  \n",
            "  inflating: ./CelebA_HQ_facial_identity_dataset/train/1044/4379.jpg  \n",
            "   creating: ./CelebA_HQ_facial_identity_dataset/train/1047/\n",
            "  inflating: ./CelebA_HQ_facial_identity_dataset/train/1047/11486.jpg  \n",
            "  inflating: ./CelebA_HQ_facial_identity_dataset/train/1047/11831.jpg  \n",
            "  inflating: ./CelebA_HQ_facial_identity_dataset/train/1047/12625.jpg  \n",
            "  inflating: ./CelebA_HQ_facial_identity_dataset/train/1047/14996.jpg  \n",
            "  inflating: ./CelebA_HQ_facial_identity_dataset/train/1047/1690.jpg  \n",
            "  inflating: ./CelebA_HQ_facial_identity_dataset/train/1047/17365.jpg  \n",
            "  inflating: ./CelebA_HQ_facial_identity_dataset/train/1047/19201.jpg  \n",
            "  inflating: ./CelebA_HQ_facial_identity_dataset/train/1047/19349.jpg  \n",
            "  inflating: ./CelebA_HQ_facial_identity_dataset/train/1047/19865.jpg  \n",
            "  inflating: ./CelebA_HQ_facial_identity_dataset/train/1047/21297.jpg  \n",
            "  inflating: ./CelebA_HQ_facial_identity_dataset/train/1047/22523.jpg  \n",
            "  inflating: ./CelebA_HQ_facial_identity_dataset/train/1047/26710.jpg  \n",
            "  inflating: ./CelebA_HQ_facial_identity_dataset/train/1047/27879.jpg  \n",
            "  inflating: ./CelebA_HQ_facial_identity_dataset/train/1047/29670.jpg  \n",
            "  inflating: ./CelebA_HQ_facial_identity_dataset/train/1047/4796.jpg  \n",
            "  inflating: ./CelebA_HQ_facial_identity_dataset/train/1047/5297.jpg  \n",
            "   creating: ./CelebA_HQ_facial_identity_dataset/train/1052/\n",
            "  inflating: ./CelebA_HQ_facial_identity_dataset/train/1052/10133.jpg  \n",
            "  inflating: ./CelebA_HQ_facial_identity_dataset/train/1052/11086.jpg  \n",
            "  inflating: ./CelebA_HQ_facial_identity_dataset/train/1052/11357.jpg  \n",
            "  inflating: ./CelebA_HQ_facial_identity_dataset/train/1052/11537.jpg  \n",
            "  inflating: ./CelebA_HQ_facial_identity_dataset/train/1052/11992.jpg  \n",
            "  inflating: ./CelebA_HQ_facial_identity_dataset/train/1052/13571.jpg  \n",
            "  inflating: ./CelebA_HQ_facial_identity_dataset/train/1052/1702.jpg  \n",
            "  inflating: ./CelebA_HQ_facial_identity_dataset/train/1052/19738.jpg  \n",
            "  inflating: ./CelebA_HQ_facial_identity_dataset/train/1052/23653.jpg  \n",
            "  inflating: ./CelebA_HQ_facial_identity_dataset/train/1052/23771.jpg  \n",
            "  inflating: ./CelebA_HQ_facial_identity_dataset/train/1052/24190.jpg  \n",
            "  inflating: ./CelebA_HQ_facial_identity_dataset/train/1052/27619.jpg  \n",
            "   creating: ./CelebA_HQ_facial_identity_dataset/train/1060/\n",
            "  inflating: ./CelebA_HQ_facial_identity_dataset/train/1060/11319.jpg  \n",
            "  inflating: ./CelebA_HQ_facial_identity_dataset/train/1060/12559.jpg  \n",
            "  inflating: ./CelebA_HQ_facial_identity_dataset/train/1060/12622.jpg  \n",
            "  inflating: ./CelebA_HQ_facial_identity_dataset/train/1060/13270.jpg  \n",
            "  inflating: ./CelebA_HQ_facial_identity_dataset/train/1060/15440.jpg  \n",
            "  inflating: ./CelebA_HQ_facial_identity_dataset/train/1060/16677.jpg  \n",
            "  inflating: ./CelebA_HQ_facial_identity_dataset/train/1060/1715.jpg  \n",
            "  inflating: ./CelebA_HQ_facial_identity_dataset/train/1060/1747.jpg  \n",
            "  inflating: ./CelebA_HQ_facial_identity_dataset/train/1060/25455.jpg  \n",
            "  inflating: ./CelebA_HQ_facial_identity_dataset/train/1060/26386.jpg  \n",
            "  inflating: ./CelebA_HQ_facial_identity_dataset/train/1060/26439.jpg  \n",
            "  inflating: ./CelebA_HQ_facial_identity_dataset/train/1060/27158.jpg  \n",
            "  inflating: ./CelebA_HQ_facial_identity_dataset/train/1060/2946.jpg  \n",
            "  inflating: ./CelebA_HQ_facial_identity_dataset/train/1060/29808.jpg  \n",
            "  inflating: ./CelebA_HQ_facial_identity_dataset/train/1060/3517.jpg  \n",
            "  inflating: ./CelebA_HQ_facial_identity_dataset/train/1060/4117.jpg  \n",
            "   creating: ./CelebA_HQ_facial_identity_dataset/train/1077/\n",
            "  inflating: ./CelebA_HQ_facial_identity_dataset/train/1077/10340.jpg  \n",
            "  inflating: ./CelebA_HQ_facial_identity_dataset/train/1077/12792.jpg  \n",
            "  inflating: ./CelebA_HQ_facial_identity_dataset/train/1077/14014.jpg  \n",
            "  inflating: ./CelebA_HQ_facial_identity_dataset/train/1077/14426.jpg  \n",
            "  inflating: ./CelebA_HQ_facial_identity_dataset/train/1077/14688.jpg  \n",
            "  inflating: ./CelebA_HQ_facial_identity_dataset/train/1077/14730.jpg  \n",
            "  inflating: ./CelebA_HQ_facial_identity_dataset/train/1077/14904.jpg  \n",
            "  inflating: ./CelebA_HQ_facial_identity_dataset/train/1077/14962.jpg  \n",
            "  inflating: ./CelebA_HQ_facial_identity_dataset/train/1077/17043.jpg  \n",
            "  inflating: ./CelebA_HQ_facial_identity_dataset/train/1077/1755.jpg  \n",
            "  inflating: ./CelebA_HQ_facial_identity_dataset/train/1077/17677.jpg  \n",
            "  inflating: ./CelebA_HQ_facial_identity_dataset/train/1077/22263.jpg  \n",
            "   creating: ./CelebA_HQ_facial_identity_dataset/train/1079/\n",
            "  inflating: ./CelebA_HQ_facial_identity_dataset/train/1079/12410.jpg  \n",
            "  inflating: ./CelebA_HQ_facial_identity_dataset/train/1079/13403.jpg  \n",
            "  inflating: ./CelebA_HQ_facial_identity_dataset/train/1079/16018.jpg  \n",
            "  inflating: ./CelebA_HQ_facial_identity_dataset/train/1079/1759.jpg  \n",
            "  inflating: ./CelebA_HQ_facial_identity_dataset/train/1079/1814.jpg  \n",
            "  inflating: ./CelebA_HQ_facial_identity_dataset/train/1079/1917.jpg  \n",
            "  inflating: ./CelebA_HQ_facial_identity_dataset/train/1079/2056.jpg  \n",
            "  inflating: ./CelebA_HQ_facial_identity_dataset/train/1079/23262.jpg  \n",
            "  inflating: ./CelebA_HQ_facial_identity_dataset/train/1079/24363.jpg  \n",
            "  inflating: ./CelebA_HQ_facial_identity_dataset/train/1079/2494.jpg  \n",
            "  inflating: ./CelebA_HQ_facial_identity_dataset/train/1079/27503.jpg  \n",
            "  inflating: ./CelebA_HQ_facial_identity_dataset/train/1079/3088.jpg  \n",
            "   creating: ./CelebA_HQ_facial_identity_dataset/train/108/\n",
            "  inflating: ./CelebA_HQ_facial_identity_dataset/train/108/118.jpg  \n",
            "  inflating: ./CelebA_HQ_facial_identity_dataset/train/108/1481.jpg  \n",
            "  inflating: ./CelebA_HQ_facial_identity_dataset/train/108/1503.jpg  \n",
            "  inflating: ./CelebA_HQ_facial_identity_dataset/train/108/15966.jpg  \n",
            "  inflating: ./CelebA_HQ_facial_identity_dataset/train/108/1630.jpg  \n",
            "  inflating: ./CelebA_HQ_facial_identity_dataset/train/108/1919.jpg  \n",
            "  inflating: ./CelebA_HQ_facial_identity_dataset/train/108/2683.jpg  \n",
            "  inflating: ./CelebA_HQ_facial_identity_dataset/train/108/3166.jpg  \n",
            "  inflating: ./CelebA_HQ_facial_identity_dataset/train/108/3439.jpg  \n",
            "  inflating: ./CelebA_HQ_facial_identity_dataset/train/108/3586.jpg  \n",
            "  inflating: ./CelebA_HQ_facial_identity_dataset/train/108/3591.jpg  \n",
            "  inflating: ./CelebA_HQ_facial_identity_dataset/train/108/4067.jpg  \n",
            "  inflating: ./CelebA_HQ_facial_identity_dataset/train/108/5161.jpg  \n",
            "  inflating: ./CelebA_HQ_facial_identity_dataset/train/108/5250.jpg  \n",
            "   creating: ./CelebA_HQ_facial_identity_dataset/train/1081/\n",
            "  inflating: ./CelebA_HQ_facial_identity_dataset/train/1081/10832.jpg  \n",
            "  inflating: ./CelebA_HQ_facial_identity_dataset/train/1081/10845.jpg  \n",
            "  inflating: ./CelebA_HQ_facial_identity_dataset/train/1081/11004.jpg  \n",
            "  inflating: ./CelebA_HQ_facial_identity_dataset/train/1081/14373.jpg  \n",
            "  inflating: ./CelebA_HQ_facial_identity_dataset/train/1081/16709.jpg  \n",
            "  inflating: ./CelebA_HQ_facial_identity_dataset/train/1081/1765.jpg  \n",
            "  inflating: ./CelebA_HQ_facial_identity_dataset/train/1081/20179.jpg  \n",
            "  inflating: ./CelebA_HQ_facial_identity_dataset/train/1081/21794.jpg  \n",
            "  inflating: ./CelebA_HQ_facial_identity_dataset/train/1081/23345.jpg  \n",
            "  inflating: ./CelebA_HQ_facial_identity_dataset/train/1081/2418.jpg  \n",
            "  inflating: ./CelebA_HQ_facial_identity_dataset/train/1081/24879.jpg  \n",
            "  inflating: ./CelebA_HQ_facial_identity_dataset/train/1081/26729.jpg  \n",
            "  inflating: ./CelebA_HQ_facial_identity_dataset/train/1081/3231.jpg  \n",
            "  inflating: ./CelebA_HQ_facial_identity_dataset/train/1081/4075.jpg  \n",
            "  inflating: ./CelebA_HQ_facial_identity_dataset/train/1081/4083.jpg  \n",
            "  inflating: ./CelebA_HQ_facial_identity_dataset/train/1081/4157.jpg  \n",
            "  inflating: ./CelebA_HQ_facial_identity_dataset/train/1081/4272.jpg  \n",
            "   creating: ./CelebA_HQ_facial_identity_dataset/train/1087/\n",
            "  inflating: ./CelebA_HQ_facial_identity_dataset/train/1087/11417.jpg  \n",
            "  inflating: ./CelebA_HQ_facial_identity_dataset/train/1087/11459.jpg  \n",
            "  inflating: ./CelebA_HQ_facial_identity_dataset/train/1087/11920.jpg  \n",
            "  inflating: ./CelebA_HQ_facial_identity_dataset/train/1087/1784.jpg  \n",
            "  inflating: ./CelebA_HQ_facial_identity_dataset/train/1087/20073.jpg  \n",
            "  inflating: ./CelebA_HQ_facial_identity_dataset/train/1087/24479.jpg  \n",
            "  inflating: ./CelebA_HQ_facial_identity_dataset/train/1087/25195.jpg  \n",
            "  inflating: ./CelebA_HQ_facial_identity_dataset/train/1087/2709.jpg  \n",
            "  inflating: ./CelebA_HQ_facial_identity_dataset/train/1087/2780.jpg  \n",
            "  inflating: ./CelebA_HQ_facial_identity_dataset/train/1087/28700.jpg  \n",
            "  inflating: ./CelebA_HQ_facial_identity_dataset/train/1087/2907.jpg  \n",
            "  inflating: ./CelebA_HQ_facial_identity_dataset/train/1087/2987.jpg  \n",
            "  inflating: ./CelebA_HQ_facial_identity_dataset/train/1087/3836.jpg  \n",
            "  inflating: ./CelebA_HQ_facial_identity_dataset/train/1087/5895.jpg  \n",
            "  inflating: ./CelebA_HQ_facial_identity_dataset/train/1087/7047.jpg  \n",
            "  inflating: ./CelebA_HQ_facial_identity_dataset/train/1087/7186.jpg  \n",
            "   creating: ./CelebA_HQ_facial_identity_dataset/train/1090/\n",
            "  inflating: ./CelebA_HQ_facial_identity_dataset/train/1090/10065.jpg  \n",
            "  inflating: ./CelebA_HQ_facial_identity_dataset/train/1090/13606.jpg  \n",
            "  inflating: ./CelebA_HQ_facial_identity_dataset/train/1090/15602.jpg  \n",
            "  inflating: ./CelebA_HQ_facial_identity_dataset/train/1090/17749.jpg  \n",
            "  inflating: ./CelebA_HQ_facial_identity_dataset/train/1090/1792.jpg  \n",
            "  inflating: ./CelebA_HQ_facial_identity_dataset/train/1090/18259.jpg  \n",
            "  inflating: ./CelebA_HQ_facial_identity_dataset/train/1090/21320.jpg  \n",
            "  inflating: ./CelebA_HQ_facial_identity_dataset/train/1090/24086.jpg  \n",
            "  inflating: ./CelebA_HQ_facial_identity_dataset/train/1090/26692.jpg  \n",
            "  inflating: ./CelebA_HQ_facial_identity_dataset/train/1090/29241.jpg  \n",
            "  inflating: ./CelebA_HQ_facial_identity_dataset/train/1090/29643.jpg  \n",
            "  inflating: ./CelebA_HQ_facial_identity_dataset/train/1090/3785.jpg  \n",
            "  inflating: ./CelebA_HQ_facial_identity_dataset/train/1090/4165.jpg  \n",
            "   creating: ./CelebA_HQ_facial_identity_dataset/train/1093/\n",
            "  inflating: ./CelebA_HQ_facial_identity_dataset/train/1093/10521.jpg  \n",
            "  inflating: ./CelebA_HQ_facial_identity_dataset/train/1093/14831.jpg  \n",
            "  inflating: ./CelebA_HQ_facial_identity_dataset/train/1093/15426.jpg  \n",
            "  inflating: ./CelebA_HQ_facial_identity_dataset/train/1093/1800.jpg  \n",
            "  inflating: ./CelebA_HQ_facial_identity_dataset/train/1093/2037.jpg  \n",
            "  inflating: ./CelebA_HQ_facial_identity_dataset/train/1093/2240.jpg  \n",
            "  inflating: ./CelebA_HQ_facial_identity_dataset/train/1093/26904.jpg  \n",
            "  inflating: ./CelebA_HQ_facial_identity_dataset/train/1093/26972.jpg  \n",
            "  inflating: ./CelebA_HQ_facial_identity_dataset/train/1093/2698.jpg  \n",
            "  inflating: ./CelebA_HQ_facial_identity_dataset/train/1093/28187.jpg  \n",
            "  inflating: ./CelebA_HQ_facial_identity_dataset/train/1093/2888.jpg  \n",
            "  inflating: ./CelebA_HQ_facial_identity_dataset/train/1093/2979.jpg  \n",
            "  inflating: ./CelebA_HQ_facial_identity_dataset/train/1093/3051.jpg  \n",
            "  inflating: ./CelebA_HQ_facial_identity_dataset/train/1093/3086.jpg  \n",
            "  inflating: ./CelebA_HQ_facial_identity_dataset/train/1093/3216.jpg  \n",
            "  inflating: ./CelebA_HQ_facial_identity_dataset/train/1093/3492.jpg  \n",
            "   creating: ./CelebA_HQ_facial_identity_dataset/train/1109/\n",
            "  inflating: ./CelebA_HQ_facial_identity_dataset/train/1109/10051.jpg  \n",
            "  inflating: ./CelebA_HQ_facial_identity_dataset/train/1109/15151.jpg  \n",
            "  inflating: ./CelebA_HQ_facial_identity_dataset/train/1109/15511.jpg  \n",
            "  inflating: ./CelebA_HQ_facial_identity_dataset/train/1109/1834.jpg  \n",
            "  inflating: ./CelebA_HQ_facial_identity_dataset/train/1109/20618.jpg  \n",
            "  inflating: ./CelebA_HQ_facial_identity_dataset/train/1109/21689.jpg  \n",
            "  inflating: ./CelebA_HQ_facial_identity_dataset/train/1109/21704.jpg  \n",
            "  inflating: ./CelebA_HQ_facial_identity_dataset/train/1109/2445.jpg  \n",
            "  inflating: ./CelebA_HQ_facial_identity_dataset/train/1109/24689.jpg  \n",
            "  inflating: ./CelebA_HQ_facial_identity_dataset/train/1109/24794.jpg  \n",
            "  inflating: ./CelebA_HQ_facial_identity_dataset/train/1109/2497.jpg  \n",
            "  inflating: ./CelebA_HQ_facial_identity_dataset/train/1109/27297.jpg  \n",
            "  inflating: ./CelebA_HQ_facial_identity_dataset/train/1109/3187.jpg  \n",
            "  inflating: ./CelebA_HQ_facial_identity_dataset/train/1109/3737.jpg  \n",
            "  inflating: ./CelebA_HQ_facial_identity_dataset/train/1109/3888.jpg  \n",
            "  inflating: ./CelebA_HQ_facial_identity_dataset/train/1109/3957.jpg  \n",
            "   creating: ./CelebA_HQ_facial_identity_dataset/train/111/\n",
            "  inflating: ./CelebA_HQ_facial_identity_dataset/train/111/10517.jpg  \n",
            "  inflating: ./CelebA_HQ_facial_identity_dataset/train/111/121.jpg  \n",
            "  inflating: ./CelebA_HQ_facial_identity_dataset/train/111/15362.jpg  \n",
            "  inflating: ./CelebA_HQ_facial_identity_dataset/train/111/16568.jpg  \n",
            "  inflating: ./CelebA_HQ_facial_identity_dataset/train/111/17909.jpg  \n",
            "  inflating: ./CelebA_HQ_facial_identity_dataset/train/111/1961.jpg  \n",
            "  inflating: ./CelebA_HQ_facial_identity_dataset/train/111/2539.jpg  \n",
            "  inflating: ./CelebA_HQ_facial_identity_dataset/train/111/25640.jpg  \n",
            "  inflating: ./CelebA_HQ_facial_identity_dataset/train/111/2956.jpg  \n",
            "  inflating: ./CelebA_HQ_facial_identity_dataset/train/111/3093.jpg  \n",
            "  inflating: ./CelebA_HQ_facial_identity_dataset/train/111/3167.jpg  \n",
            "  inflating: ./CelebA_HQ_facial_identity_dataset/train/111/5461.jpg  \n",
            "  inflating: ./CelebA_HQ_facial_identity_dataset/train/111/6791.jpg  \n",
            "  inflating: ./CelebA_HQ_facial_identity_dataset/train/111/7085.jpg  \n",
            "   creating: ./CelebA_HQ_facial_identity_dataset/train/1112/\n",
            "  inflating: ./CelebA_HQ_facial_identity_dataset/train/1112/10140.jpg  \n",
            "  inflating: ./CelebA_HQ_facial_identity_dataset/train/1112/10328.jpg  \n",
            "  inflating: ./CelebA_HQ_facial_identity_dataset/train/1112/16131.jpg  \n",
            "  inflating: ./CelebA_HQ_facial_identity_dataset/train/1112/17227.jpg  \n",
            "  inflating: ./CelebA_HQ_facial_identity_dataset/train/1112/1839.jpg  \n",
            "  inflating: ./CelebA_HQ_facial_identity_dataset/train/1112/18939.jpg  \n",
            "  inflating: ./CelebA_HQ_facial_identity_dataset/train/1112/20650.jpg  \n",
            "  inflating: ./CelebA_HQ_facial_identity_dataset/train/1112/24708.jpg  \n",
            "  inflating: ./CelebA_HQ_facial_identity_dataset/train/1112/29368.jpg  \n",
            "  inflating: ./CelebA_HQ_facial_identity_dataset/train/1112/3315.jpg  \n",
            "  inflating: ./CelebA_HQ_facial_identity_dataset/train/1112/3498.jpg  \n",
            "  inflating: ./CelebA_HQ_facial_identity_dataset/train/1112/4610.jpg  \n",
            "   creating: ./CelebA_HQ_facial_identity_dataset/train/112/\n",
            "  inflating: ./CelebA_HQ_facial_identity_dataset/train/112/1032.jpg  \n",
            "  inflating: ./CelebA_HQ_facial_identity_dataset/train/112/10666.jpg  \n",
            "  inflating: ./CelebA_HQ_facial_identity_dataset/train/112/1190.jpg  \n",
            "  inflating: ./CelebA_HQ_facial_identity_dataset/train/112/123.jpg  \n",
            "  inflating: ./CelebA_HQ_facial_identity_dataset/train/112/12706.jpg  \n",
            "  inflating: ./CelebA_HQ_facial_identity_dataset/train/112/13758.jpg  \n",
            "  inflating: ./CelebA_HQ_facial_identity_dataset/train/112/20325.jpg  \n",
            "  inflating: ./CelebA_HQ_facial_identity_dataset/train/112/2163.jpg  \n",
            "  inflating: ./CelebA_HQ_facial_identity_dataset/train/112/2186.jpg  \n",
            "  inflating: ./CelebA_HQ_facial_identity_dataset/train/112/22037.jpg  \n",
            "  inflating: ./CelebA_HQ_facial_identity_dataset/train/112/2509.jpg  \n",
            "  inflating: ./CelebA_HQ_facial_identity_dataset/train/112/285.jpg  \n",
            "  inflating: ./CelebA_HQ_facial_identity_dataset/train/112/29633.jpg  \n",
            "  inflating: ./CelebA_HQ_facial_identity_dataset/train/112/3211.jpg  \n",
            "  inflating: ./CelebA_HQ_facial_identity_dataset/train/112/3270.jpg  \n",
            "   creating: ./CelebA_HQ_facial_identity_dataset/train/1120/\n",
            "  inflating: ./CelebA_HQ_facial_identity_dataset/train/1120/11824.jpg  \n",
            "  inflating: ./CelebA_HQ_facial_identity_dataset/train/1120/12826.jpg  \n",
            "  inflating: ./CelebA_HQ_facial_identity_dataset/train/1120/12847.jpg  \n",
            "  inflating: ./CelebA_HQ_facial_identity_dataset/train/1120/12862.jpg  \n",
            "  inflating: ./CelebA_HQ_facial_identity_dataset/train/1120/15007.jpg  \n",
            "  inflating: ./CelebA_HQ_facial_identity_dataset/train/1120/17268.jpg  \n",
            "  inflating: ./CelebA_HQ_facial_identity_dataset/train/1120/17390.jpg  \n",
            "  inflating: ./CelebA_HQ_facial_identity_dataset/train/1120/1860.jpg  \n",
            "  inflating: ./CelebA_HQ_facial_identity_dataset/train/1120/20836.jpg  \n",
            "  inflating: ./CelebA_HQ_facial_identity_dataset/train/1120/24792.jpg  \n",
            "  inflating: ./CelebA_HQ_facial_identity_dataset/train/1120/25719.jpg  \n",
            "  inflating: ./CelebA_HQ_facial_identity_dataset/train/1120/6600.jpg  \n",
            "   creating: ./CelebA_HQ_facial_identity_dataset/train/1126/\n",
            "  inflating: ./CelebA_HQ_facial_identity_dataset/train/1126/10942.jpg  \n",
            "  inflating: ./CelebA_HQ_facial_identity_dataset/train/1126/13262.jpg  \n",
            "  inflating: ./CelebA_HQ_facial_identity_dataset/train/1126/16454.jpg  \n",
            "  inflating: ./CelebA_HQ_facial_identity_dataset/train/1126/18402.jpg  \n",
            "  inflating: ./CelebA_HQ_facial_identity_dataset/train/1126/1878.jpg  \n",
            "  inflating: ./CelebA_HQ_facial_identity_dataset/train/1126/26529.jpg  \n",
            "  inflating: ./CelebA_HQ_facial_identity_dataset/train/1126/3024.jpg  \n",
            "  inflating: ./CelebA_HQ_facial_identity_dataset/train/1126/3538.jpg  \n",
            "  inflating: ./CelebA_HQ_facial_identity_dataset/train/1126/3577.jpg  \n",
            "  inflating: ./CelebA_HQ_facial_identity_dataset/train/1126/3715.jpg  \n",
            "  inflating: ./CelebA_HQ_facial_identity_dataset/train/1126/4632.jpg  \n",
            "  inflating: ./CelebA_HQ_facial_identity_dataset/train/1126/5036.jpg  \n",
            "   creating: ./CelebA_HQ_facial_identity_dataset/train/1133/\n",
            "  inflating: ./CelebA_HQ_facial_identity_dataset/train/1133/11526.jpg  \n",
            "  inflating: ./CelebA_HQ_facial_identity_dataset/train/1133/14315.jpg  \n",
            "  inflating: ./CelebA_HQ_facial_identity_dataset/train/1133/16275.jpg  \n",
            "  inflating: ./CelebA_HQ_facial_identity_dataset/train/1133/17616.jpg  \n",
            "  inflating: ./CelebA_HQ_facial_identity_dataset/train/1133/18785.jpg  \n",
            "  inflating: ./CelebA_HQ_facial_identity_dataset/train/1133/1899.jpg  \n",
            "  inflating: ./CelebA_HQ_facial_identity_dataset/train/1133/19954.jpg  \n",
            "  inflating: ./CelebA_HQ_facial_identity_dataset/train/1133/20833.jpg  \n",
            "  inflating: ./CelebA_HQ_facial_identity_dataset/train/1133/22869.jpg  \n",
            "  inflating: ./CelebA_HQ_facial_identity_dataset/train/1133/2407.jpg  \n",
            "  inflating: ./CelebA_HQ_facial_identity_dataset/train/1133/25465.jpg  \n",
            "  inflating: ./CelebA_HQ_facial_identity_dataset/train/1133/25575.jpg  \n",
            "   creating: ./CelebA_HQ_facial_identity_dataset/train/1140/\n",
            "  inflating: ./CelebA_HQ_facial_identity_dataset/train/1140/10079.jpg  \n",
            "  inflating: ./CelebA_HQ_facial_identity_dataset/train/1140/14044.jpg  \n",
            "  inflating: ./CelebA_HQ_facial_identity_dataset/train/1140/15456.jpg  \n",
            "  inflating: ./CelebA_HQ_facial_identity_dataset/train/1140/17933.jpg  \n",
            "  inflating: ./CelebA_HQ_facial_identity_dataset/train/1140/18272.jpg  \n",
            "  inflating: ./CelebA_HQ_facial_identity_dataset/train/1140/1911.jpg  \n",
            "  inflating: ./CelebA_HQ_facial_identity_dataset/train/1140/19511.jpg  \n",
            "  inflating: ./CelebA_HQ_facial_identity_dataset/train/1140/19951.jpg  \n",
            "  inflating: ./CelebA_HQ_facial_identity_dataset/train/1140/20364.jpg  \n",
            "  inflating: ./CelebA_HQ_facial_identity_dataset/train/1140/24590.jpg  \n",
            "  inflating: ./CelebA_HQ_facial_identity_dataset/train/1140/24724.jpg  \n",
            "  inflating: ./CelebA_HQ_facial_identity_dataset/train/1140/5934.jpg  \n",
            "   creating: ./CelebA_HQ_facial_identity_dataset/train/1145/\n",
            "  inflating: ./CelebA_HQ_facial_identity_dataset/train/1145/10707.jpg  \n",
            "  inflating: ./CelebA_HQ_facial_identity_dataset/train/1145/10991.jpg  \n",
            "  inflating: ./CelebA_HQ_facial_identity_dataset/train/1145/11142.jpg  \n",
            "  inflating: ./CelebA_HQ_facial_identity_dataset/train/1145/13861.jpg  \n",
            "  inflating: ./CelebA_HQ_facial_identity_dataset/train/1145/14988.jpg  \n",
            "  inflating: ./CelebA_HQ_facial_identity_dataset/train/1145/17663.jpg  \n",
            "  inflating: ./CelebA_HQ_facial_identity_dataset/train/1145/1929.jpg  \n",
            "  inflating: ./CelebA_HQ_facial_identity_dataset/train/1145/2209.jpg  \n",
            "  inflating: ./CelebA_HQ_facial_identity_dataset/train/1145/22690.jpg  \n",
            "  inflating: ./CelebA_HQ_facial_identity_dataset/train/1145/2582.jpg  \n",
            "  inflating: ./CelebA_HQ_facial_identity_dataset/train/1145/27207.jpg  \n",
            "  inflating: ./CelebA_HQ_facial_identity_dataset/train/1145/28256.jpg  \n",
            "   creating: ./CelebA_HQ_facial_identity_dataset/train/1149/\n",
            "  inflating: ./CelebA_HQ_facial_identity_dataset/train/1149/10965.jpg  \n",
            "  inflating: ./CelebA_HQ_facial_identity_dataset/train/1149/12331.jpg  \n",
            "  inflating: ./CelebA_HQ_facial_identity_dataset/train/1149/12565.jpg  \n",
            "  inflating: ./CelebA_HQ_facial_identity_dataset/train/1149/14408.jpg  \n",
            "  inflating: ./CelebA_HQ_facial_identity_dataset/train/1149/19232.jpg  \n",
            "  inflating: ./CelebA_HQ_facial_identity_dataset/train/1149/1945.jpg  \n",
            "  inflating: ./CelebA_HQ_facial_identity_dataset/train/1149/20536.jpg  \n",
            "  inflating: ./CelebA_HQ_facial_identity_dataset/train/1149/2696.jpg  \n",
            "  inflating: ./CelebA_HQ_facial_identity_dataset/train/1149/3904.jpg  \n",
            "  inflating: ./CelebA_HQ_facial_identity_dataset/train/1149/5022.jpg  \n",
            "  inflating: ./CelebA_HQ_facial_identity_dataset/train/1149/5356.jpg  \n",
            "  inflating: ./CelebA_HQ_facial_identity_dataset/train/1149/6093.jpg  \n",
            "   creating: ./CelebA_HQ_facial_identity_dataset/train/1157/\n",
            "  inflating: ./CelebA_HQ_facial_identity_dataset/train/1157/12489.jpg  \n",
            "  inflating: ./CelebA_HQ_facial_identity_dataset/train/1157/14191.jpg  \n",
            "  inflating: ./CelebA_HQ_facial_identity_dataset/train/1157/18529.jpg  \n",
            "  inflating: ./CelebA_HQ_facial_identity_dataset/train/1157/19275.jpg  \n",
            "  inflating: ./CelebA_HQ_facial_identity_dataset/train/1157/1966.jpg  \n",
            "  inflating: ./CelebA_HQ_facial_identity_dataset/train/1157/21107.jpg  \n",
            "  inflating: ./CelebA_HQ_facial_identity_dataset/train/1157/21623.jpg  \n",
            "  inflating: ./CelebA_HQ_facial_identity_dataset/train/1157/22066.jpg  \n",
            "  inflating: ./CelebA_HQ_facial_identity_dataset/train/1157/23819.jpg  \n",
            "  inflating: ./CelebA_HQ_facial_identity_dataset/train/1157/24880.jpg  \n",
            "  inflating: ./CelebA_HQ_facial_identity_dataset/train/1157/26306.jpg  \n",
            "  inflating: ./CelebA_HQ_facial_identity_dataset/train/1157/26540.jpg  \n",
            "   creating: ./CelebA_HQ_facial_identity_dataset/train/1158/\n",
            "  inflating: ./CelebA_HQ_facial_identity_dataset/train/1158/12445.jpg  \n",
            "  inflating: ./CelebA_HQ_facial_identity_dataset/train/1158/12804.jpg  \n",
            "  inflating: ./CelebA_HQ_facial_identity_dataset/train/1158/15907.jpg  \n",
            "  inflating: ./CelebA_HQ_facial_identity_dataset/train/1158/18151.jpg  \n",
            "  inflating: ./CelebA_HQ_facial_identity_dataset/train/1158/1971.jpg  \n",
            "  inflating: ./CelebA_HQ_facial_identity_dataset/train/1158/21871.jpg  \n",
            "  inflating: ./CelebA_HQ_facial_identity_dataset/train/1158/22520.jpg  \n",
            "  inflating: ./CelebA_HQ_facial_identity_dataset/train/1158/23322.jpg  \n",
            "  inflating: ./CelebA_HQ_facial_identity_dataset/train/1158/24029.jpg  \n",
            "  inflating: ./CelebA_HQ_facial_identity_dataset/train/1158/24854.jpg  \n",
            "  inflating: ./CelebA_HQ_facial_identity_dataset/train/1158/24905.jpg  \n",
            "  inflating: ./CelebA_HQ_facial_identity_dataset/train/1158/2543.jpg  \n",
            "  inflating: ./CelebA_HQ_facial_identity_dataset/train/1158/26211.jpg  \n",
            "   creating: ./CelebA_HQ_facial_identity_dataset/train/116/\n",
            "  inflating: ./CelebA_HQ_facial_identity_dataset/train/116/1195.jpg  \n",
            "  inflating: ./CelebA_HQ_facial_identity_dataset/train/116/12084.jpg  \n",
            "  inflating: ./CelebA_HQ_facial_identity_dataset/train/116/12570.jpg  \n",
            "  inflating: ./CelebA_HQ_facial_identity_dataset/train/116/127.jpg  \n",
            "  inflating: ./CelebA_HQ_facial_identity_dataset/train/116/1379.jpg  \n",
            "  inflating: ./CelebA_HQ_facial_identity_dataset/train/116/139.jpg  \n",
            "  inflating: ./CelebA_HQ_facial_identity_dataset/train/116/1508.jpg  \n",
            "  inflating: ./CelebA_HQ_facial_identity_dataset/train/116/15147.jpg  \n",
            "  inflating: ./CelebA_HQ_facial_identity_dataset/train/116/15208.jpg  \n",
            "  inflating: ./CelebA_HQ_facial_identity_dataset/train/116/20638.jpg  \n",
            "  inflating: ./CelebA_HQ_facial_identity_dataset/train/116/23524.jpg  \n",
            "  inflating: ./CelebA_HQ_facial_identity_dataset/train/116/23986.jpg  \n",
            "  inflating: ./CelebA_HQ_facial_identity_dataset/train/116/27563.jpg  \n",
            "  inflating: ./CelebA_HQ_facial_identity_dataset/train/116/29952.jpg  \n",
            "   creating: ./CelebA_HQ_facial_identity_dataset/train/1191/\n",
            "  inflating: ./CelebA_HQ_facial_identity_dataset/train/1191/10220.jpg  \n",
            "  inflating: ./CelebA_HQ_facial_identity_dataset/train/1191/10296.jpg  \n",
            "  inflating: ./CelebA_HQ_facial_identity_dataset/train/1191/13454.jpg  \n",
            "  inflating: ./CelebA_HQ_facial_identity_dataset/train/1191/18022.jpg  \n",
            "  inflating: ./CelebA_HQ_facial_identity_dataset/train/1191/2071.jpg  \n",
            "  inflating: ./CelebA_HQ_facial_identity_dataset/train/1191/24797.jpg  \n",
            "  inflating: ./CelebA_HQ_facial_identity_dataset/train/1191/24952.jpg  \n",
            "  inflating: ./CelebA_HQ_facial_identity_dataset/train/1191/2565.jpg  \n",
            "  inflating: ./CelebA_HQ_facial_identity_dataset/train/1191/2821.jpg  \n",
            "  inflating: ./CelebA_HQ_facial_identity_dataset/train/1191/28339.jpg  \n",
            "  inflating: ./CelebA_HQ_facial_identity_dataset/train/1191/3394.jpg  \n",
            "  inflating: ./CelebA_HQ_facial_identity_dataset/train/1191/3920.jpg  \n",
            "   creating: ./CelebA_HQ_facial_identity_dataset/train/121/\n",
            "  inflating: ./CelebA_HQ_facial_identity_dataset/train/121/1117.jpg  \n",
            "  inflating: ./CelebA_HQ_facial_identity_dataset/train/121/13311.jpg  \n",
            "  inflating: ./CelebA_HQ_facial_identity_dataset/train/121/135.jpg  \n",
            "  inflating: ./CelebA_HQ_facial_identity_dataset/train/121/15465.jpg  \n",
            "  inflating: ./CelebA_HQ_facial_identity_dataset/train/121/1684.jpg  \n",
            "  inflating: ./CelebA_HQ_facial_identity_dataset/train/121/20963.jpg  \n",
            "  inflating: ./CelebA_HQ_facial_identity_dataset/train/121/21736.jpg  \n",
            "  inflating: ./CelebA_HQ_facial_identity_dataset/train/121/21947.jpg  \n",
            "  inflating: ./CelebA_HQ_facial_identity_dataset/train/121/24011.jpg  \n",
            "  inflating: ./CelebA_HQ_facial_identity_dataset/train/121/2886.jpg  \n",
            "  inflating: ./CelebA_HQ_facial_identity_dataset/train/121/3861.jpg  \n",
            "  inflating: ./CelebA_HQ_facial_identity_dataset/train/121/4415.jpg  \n",
            "   creating: ./CelebA_HQ_facial_identity_dataset/train/1210/\n",
            "  inflating: ./CelebA_HQ_facial_identity_dataset/train/1210/10056.jpg  \n",
            "  inflating: ./CelebA_HQ_facial_identity_dataset/train/1210/10910.jpg  \n",
            "  inflating: ./CelebA_HQ_facial_identity_dataset/train/1210/15293.jpg  \n",
            "  inflating: ./CelebA_HQ_facial_identity_dataset/train/1210/15463.jpg  \n",
            "  inflating: ./CelebA_HQ_facial_identity_dataset/train/1210/17462.jpg  \n",
            "  inflating: ./CelebA_HQ_facial_identity_dataset/train/1210/17583.jpg  \n",
            "  inflating: ./CelebA_HQ_facial_identity_dataset/train/1210/2124.jpg  \n",
            "  inflating: ./CelebA_HQ_facial_identity_dataset/train/1210/21773.jpg  \n",
            "  inflating: ./CelebA_HQ_facial_identity_dataset/train/1210/23188.jpg  \n",
            "  inflating: ./CelebA_HQ_facial_identity_dataset/train/1210/2323.jpg  \n",
            "  inflating: ./CelebA_HQ_facial_identity_dataset/train/1210/23336.jpg  \n",
            "  inflating: ./CelebA_HQ_facial_identity_dataset/train/1210/2389.jpg  \n",
            "  inflating: ./CelebA_HQ_facial_identity_dataset/train/1210/24985.jpg  \n",
            "  inflating: ./CelebA_HQ_facial_identity_dataset/train/1210/25354.jpg  \n",
            "  inflating: ./CelebA_HQ_facial_identity_dataset/train/1210/2551.jpg  \n",
            "  inflating: ./CelebA_HQ_facial_identity_dataset/train/1210/26997.jpg  \n",
            "  inflating: ./CelebA_HQ_facial_identity_dataset/train/1210/28254.jpg  \n",
            "  inflating: ./CelebA_HQ_facial_identity_dataset/train/1210/28462.jpg  \n",
            "  inflating: ./CelebA_HQ_facial_identity_dataset/train/1210/28789.jpg  \n",
            "   creating: ./CelebA_HQ_facial_identity_dataset/train/122/\n",
            "  inflating: ./CelebA_HQ_facial_identity_dataset/train/122/10281.jpg  \n",
            "  inflating: ./CelebA_HQ_facial_identity_dataset/train/122/1299.jpg  \n",
            "  inflating: ./CelebA_HQ_facial_identity_dataset/train/122/13561.jpg  \n",
            "  inflating: ./CelebA_HQ_facial_identity_dataset/train/122/136.jpg  \n",
            "  inflating: ./CelebA_HQ_facial_identity_dataset/train/122/1572.jpg  \n",
            "  inflating: ./CelebA_HQ_facial_identity_dataset/train/122/1996.jpg  \n",
            "  inflating: ./CelebA_HQ_facial_identity_dataset/train/122/2016.jpg  \n",
            "  inflating: ./CelebA_HQ_facial_identity_dataset/train/122/22753.jpg  \n",
            "  inflating: ./CelebA_HQ_facial_identity_dataset/train/122/2354.jpg  \n",
            "  inflating: ./CelebA_HQ_facial_identity_dataset/train/122/3101.jpg  \n",
            "  inflating: ./CelebA_HQ_facial_identity_dataset/train/122/5277.jpg  \n",
            "  inflating: ./CelebA_HQ_facial_identity_dataset/train/122/535.jpg  \n",
            "   creating: ./CelebA_HQ_facial_identity_dataset/train/1220/\n",
            "  inflating: ./CelebA_HQ_facial_identity_dataset/train/1220/10009.jpg  \n",
            "  inflating: ./CelebA_HQ_facial_identity_dataset/train/1220/10728.jpg  \n",
            "  inflating: ./CelebA_HQ_facial_identity_dataset/train/1220/12497.jpg  \n",
            "  inflating: ./CelebA_HQ_facial_identity_dataset/train/1220/13157.jpg  \n",
            "  inflating: ./CelebA_HQ_facial_identity_dataset/train/1220/14549.jpg  \n",
            "  inflating: ./CelebA_HQ_facial_identity_dataset/train/1220/15543.jpg  \n",
            "  inflating: ./CelebA_HQ_facial_identity_dataset/train/1220/17104.jpg  \n",
            "  inflating: ./CelebA_HQ_facial_identity_dataset/train/1220/17388.jpg  \n",
            "  inflating: ./CelebA_HQ_facial_identity_dataset/train/1220/19413.jpg  \n",
            "  inflating: ./CelebA_HQ_facial_identity_dataset/train/1220/2151.jpg  \n",
            "  inflating: ./CelebA_HQ_facial_identity_dataset/train/1220/22573.jpg  \n",
            "  inflating: ./CelebA_HQ_facial_identity_dataset/train/1220/24531.jpg  \n",
            "  inflating: ./CelebA_HQ_facial_identity_dataset/train/1220/24649.jpg  \n",
            "  inflating: ./CelebA_HQ_facial_identity_dataset/train/1220/26402.jpg  \n",
            "   creating: ./CelebA_HQ_facial_identity_dataset/train/1237/\n",
            "  inflating: ./CelebA_HQ_facial_identity_dataset/train/1237/11050.jpg  \n",
            "  inflating: ./CelebA_HQ_facial_identity_dataset/train/1237/11060.jpg  \n",
            "  inflating: ./CelebA_HQ_facial_identity_dataset/train/1237/11568.jpg  \n",
            "  inflating: ./CelebA_HQ_facial_identity_dataset/train/1237/12764.jpg  \n",
            "  inflating: ./CelebA_HQ_facial_identity_dataset/train/1237/15978.jpg  \n",
            "  inflating: ./CelebA_HQ_facial_identity_dataset/train/1237/16473.jpg  \n",
            "  inflating: ./CelebA_HQ_facial_identity_dataset/train/1237/17856.jpg  \n",
            "  inflating: ./CelebA_HQ_facial_identity_dataset/train/1237/17997.jpg  \n",
            "  inflating: ./CelebA_HQ_facial_identity_dataset/train/1237/18927.jpg  \n",
            "  inflating: ./CelebA_HQ_facial_identity_dataset/train/1237/19112.jpg  \n",
            "  inflating: ./CelebA_HQ_facial_identity_dataset/train/1237/19536.jpg  \n",
            "  inflating: ./CelebA_HQ_facial_identity_dataset/train/1237/21501.jpg  \n",
            "  inflating: ./CelebA_HQ_facial_identity_dataset/train/1237/2206.jpg  \n",
            "  inflating: ./CelebA_HQ_facial_identity_dataset/train/1237/22674.jpg  \n",
            "  inflating: ./CelebA_HQ_facial_identity_dataset/train/1237/24136.jpg  \n",
            "  inflating: ./CelebA_HQ_facial_identity_dataset/train/1237/24430.jpg  \n",
            "  inflating: ./CelebA_HQ_facial_identity_dataset/train/1237/2617.jpg  \n",
            "  inflating: ./CelebA_HQ_facial_identity_dataset/train/1237/29473.jpg  \n",
            "   creating: ./CelebA_HQ_facial_identity_dataset/train/124/\n",
            "  inflating: ./CelebA_HQ_facial_identity_dataset/train/124/11541.jpg  \n",
            "  inflating: ./CelebA_HQ_facial_identity_dataset/train/124/12129.jpg  \n",
            "  inflating: ./CelebA_HQ_facial_identity_dataset/train/124/138.jpg  \n",
            "  inflating: ./CelebA_HQ_facial_identity_dataset/train/124/15855.jpg  \n",
            "  inflating: ./CelebA_HQ_facial_identity_dataset/train/124/17032.jpg  \n",
            "  inflating: ./CelebA_HQ_facial_identity_dataset/train/124/17721.jpg  \n",
            "  inflating: ./CelebA_HQ_facial_identity_dataset/train/124/19158.jpg  \n",
            "  inflating: ./CelebA_HQ_facial_identity_dataset/train/124/19905.jpg  \n",
            "  inflating: ./CelebA_HQ_facial_identity_dataset/train/124/28529.jpg  \n",
            "  inflating: ./CelebA_HQ_facial_identity_dataset/train/124/3071.jpg  \n",
            "  inflating: ./CelebA_HQ_facial_identity_dataset/train/124/3459.jpg  \n",
            "  inflating: ./CelebA_HQ_facial_identity_dataset/train/124/347.jpg  \n",
            "   creating: ./CelebA_HQ_facial_identity_dataset/train/125/\n",
            "  inflating: ./CelebA_HQ_facial_identity_dataset/train/125/10059.jpg  \n",
            "  inflating: ./CelebA_HQ_facial_identity_dataset/train/125/1263.jpg  \n",
            "  inflating: ./CelebA_HQ_facial_identity_dataset/train/125/1389.jpg  \n",
            "  inflating: ./CelebA_HQ_facial_identity_dataset/train/125/140.jpg  \n",
            "  inflating: ./CelebA_HQ_facial_identity_dataset/train/125/14270.jpg  \n",
            "  inflating: ./CelebA_HQ_facial_identity_dataset/train/125/1593.jpg  \n",
            "  inflating: ./CelebA_HQ_facial_identity_dataset/train/125/16685.jpg  \n",
            "  inflating: ./CelebA_HQ_facial_identity_dataset/train/125/23074.jpg  \n",
            "  inflating: ./CelebA_HQ_facial_identity_dataset/train/125/23368.jpg  \n",
            "  inflating: ./CelebA_HQ_facial_identity_dataset/train/125/23775.jpg  \n",
            "  inflating: ./CelebA_HQ_facial_identity_dataset/train/125/27628.jpg  \n",
            "  inflating: ./CelebA_HQ_facial_identity_dataset/train/125/29041.jpg  \n",
            "  inflating: ./CelebA_HQ_facial_identity_dataset/train/125/5017.jpg  \n",
            "   creating: ./CelebA_HQ_facial_identity_dataset/train/1256/\n",
            "  inflating: ./CelebA_HQ_facial_identity_dataset/train/1256/10700.jpg  \n",
            "  inflating: ./CelebA_HQ_facial_identity_dataset/train/1256/11977.jpg  \n",
            "  inflating: ./CelebA_HQ_facial_identity_dataset/train/1256/12248.jpg  \n",
            "  inflating: ./CelebA_HQ_facial_identity_dataset/train/1256/12723.jpg  \n",
            "  inflating: ./CelebA_HQ_facial_identity_dataset/train/1256/13096.jpg  \n",
            "  inflating: ./CelebA_HQ_facial_identity_dataset/train/1256/13559.jpg  \n",
            "  inflating: ./CelebA_HQ_facial_identity_dataset/train/1256/15005.jpg  \n",
            "  inflating: ./CelebA_HQ_facial_identity_dataset/train/1256/15647.jpg  \n",
            "  inflating: ./CelebA_HQ_facial_identity_dataset/train/1256/19717.jpg  \n",
            "  inflating: ./CelebA_HQ_facial_identity_dataset/train/1256/2260.jpg  \n",
            "  inflating: ./CelebA_HQ_facial_identity_dataset/train/1256/23231.jpg  \n",
            "  inflating: ./CelebA_HQ_facial_identity_dataset/train/1256/3602.jpg  \n",
            "  inflating: ./CelebA_HQ_facial_identity_dataset/train/1256/4488.jpg  \n",
            "  inflating: ./CelebA_HQ_facial_identity_dataset/train/1256/5449.jpg  \n",
            "   creating: ./CelebA_HQ_facial_identity_dataset/train/1262/\n",
            "  inflating: ./CelebA_HQ_facial_identity_dataset/train/1262/10381.jpg  \n",
            "  inflating: ./CelebA_HQ_facial_identity_dataset/train/1262/12648.jpg  \n",
            "  inflating: ./CelebA_HQ_facial_identity_dataset/train/1262/15875.jpg  \n",
            "  inflating: ./CelebA_HQ_facial_identity_dataset/train/1262/17381.jpg  \n",
            "  inflating: ./CelebA_HQ_facial_identity_dataset/train/1262/17595.jpg  \n",
            "  inflating: ./CelebA_HQ_facial_identity_dataset/train/1262/17645.jpg  \n",
            "  inflating: ./CelebA_HQ_facial_identity_dataset/train/1262/17960.jpg  \n",
            "  inflating: ./CelebA_HQ_facial_identity_dataset/train/1262/19013.jpg  \n",
            "  inflating: ./CelebA_HQ_facial_identity_dataset/train/1262/2273.jpg  \n",
            "  inflating: ./CelebA_HQ_facial_identity_dataset/train/1262/28061.jpg  \n",
            "  inflating: ./CelebA_HQ_facial_identity_dataset/train/1262/29002.jpg  \n",
            "  inflating: ./CelebA_HQ_facial_identity_dataset/train/1262/4496.jpg  \n",
            "   creating: ./CelebA_HQ_facial_identity_dataset/train/1268/\n",
            "  inflating: ./CelebA_HQ_facial_identity_dataset/train/1268/10391.jpg  \n",
            "  inflating: ./CelebA_HQ_facial_identity_dataset/train/1268/10940.jpg  \n",
            "  inflating: ./CelebA_HQ_facial_identity_dataset/train/1268/11829.jpg  \n",
            "  inflating: ./CelebA_HQ_facial_identity_dataset/train/1268/12821.jpg  \n",
            "  inflating: ./CelebA_HQ_facial_identity_dataset/train/1268/13069.jpg  \n",
            "  inflating: ./CelebA_HQ_facial_identity_dataset/train/1268/13214.jpg  \n",
            "  inflating: ./CelebA_HQ_facial_identity_dataset/train/1268/13860.jpg  \n",
            "  inflating: ./CelebA_HQ_facial_identity_dataset/train/1268/14147.jpg  \n",
            "  inflating: ./CelebA_HQ_facial_identity_dataset/train/1268/14935.jpg  \n",
            "  inflating: ./CelebA_HQ_facial_identity_dataset/train/1268/14951.jpg  \n",
            "  inflating: ./CelebA_HQ_facial_identity_dataset/train/1268/16725.jpg  \n",
            "  inflating: ./CelebA_HQ_facial_identity_dataset/train/1268/16858.jpg  \n",
            "  inflating: ./CelebA_HQ_facial_identity_dataset/train/1268/19567.jpg  \n",
            "  inflating: ./CelebA_HQ_facial_identity_dataset/train/1268/2289.jpg  \n",
            "   creating: ./CelebA_HQ_facial_identity_dataset/train/1269/\n",
            "  inflating: ./CelebA_HQ_facial_identity_dataset/train/1269/11135.jpg  \n",
            "  inflating: ./CelebA_HQ_facial_identity_dataset/train/1269/12050.jpg  \n",
            "  inflating: ./CelebA_HQ_facial_identity_dataset/train/1269/13937.jpg  \n",
            "  inflating: ./CelebA_HQ_facial_identity_dataset/train/1269/14009.jpg  \n",
            "  inflating: ./CelebA_HQ_facial_identity_dataset/train/1269/14392.jpg  \n",
            "  inflating: ./CelebA_HQ_facial_identity_dataset/train/1269/15816.jpg  \n",
            "  inflating: ./CelebA_HQ_facial_identity_dataset/train/1269/16120.jpg  \n",
            "  inflating: ./CelebA_HQ_facial_identity_dataset/train/1269/16410.jpg  \n",
            "  inflating: ./CelebA_HQ_facial_identity_dataset/train/1269/21328.jpg  \n",
            "  inflating: ./CelebA_HQ_facial_identity_dataset/train/1269/2290.jpg  \n",
            "  inflating: ./CelebA_HQ_facial_identity_dataset/train/1269/24885.jpg  \n",
            "  inflating: ./CelebA_HQ_facial_identity_dataset/train/1269/27988.jpg  \n",
            "  inflating: ./CelebA_HQ_facial_identity_dataset/train/1269/5347.jpg  \n",
            "  inflating: ./CelebA_HQ_facial_identity_dataset/train/1269/6467.jpg  \n",
            "  inflating: ./CelebA_HQ_facial_identity_dataset/train/1269/6554.jpg  \n",
            "  inflating: ./CelebA_HQ_facial_identity_dataset/train/1269/8933.jpg  \n",
            "   creating: ./CelebA_HQ_facial_identity_dataset/train/128/\n",
            "  inflating: ./CelebA_HQ_facial_identity_dataset/train/128/10330.jpg  \n",
            "  inflating: ./CelebA_HQ_facial_identity_dataset/train/128/12745.jpg  \n",
            "  inflating: ./CelebA_HQ_facial_identity_dataset/train/128/143.jpg  \n",
            "  inflating: ./CelebA_HQ_facial_identity_dataset/train/128/159.jpg  \n",
            "  inflating: ./CelebA_HQ_facial_identity_dataset/train/128/18120.jpg  \n",
            "  inflating: ./CelebA_HQ_facial_identity_dataset/train/128/19900.jpg  \n",
            "  inflating: ./CelebA_HQ_facial_identity_dataset/train/128/20850.jpg  \n",
            "  inflating: ./CelebA_HQ_facial_identity_dataset/train/128/26676.jpg  \n",
            "  inflating: ./CelebA_HQ_facial_identity_dataset/train/128/26731.jpg  \n",
            "  inflating: ./CelebA_HQ_facial_identity_dataset/train/128/27408.jpg  \n",
            "  inflating: ./CelebA_HQ_facial_identity_dataset/train/128/28070.jpg  \n",
            "  inflating: ./CelebA_HQ_facial_identity_dataset/train/128/28528.jpg  \n",
            "  inflating: ./CelebA_HQ_facial_identity_dataset/train/128/5559.jpg  \n",
            "  inflating: ./CelebA_HQ_facial_identity_dataset/train/128/6237.jpg  \n",
            "  inflating: ./CelebA_HQ_facial_identity_dataset/train/128/6241.jpg  \n",
            "   creating: ./CelebA_HQ_facial_identity_dataset/train/1280/\n",
            "  inflating: ./CelebA_HQ_facial_identity_dataset/train/1280/11169.jpg  \n",
            "  inflating: ./CelebA_HQ_facial_identity_dataset/train/1280/12283.jpg  \n",
            "  inflating: ./CelebA_HQ_facial_identity_dataset/train/1280/15198.jpg  \n",
            "  inflating: ./CelebA_HQ_facial_identity_dataset/train/1280/16889.jpg  \n",
            "  inflating: ./CelebA_HQ_facial_identity_dataset/train/1280/18569.jpg  \n",
            "  inflating: ./CelebA_HQ_facial_identity_dataset/train/1280/20180.jpg  \n",
            "  inflating: ./CelebA_HQ_facial_identity_dataset/train/1280/2321.jpg  \n",
            "  inflating: ./CelebA_HQ_facial_identity_dataset/train/1280/24074.jpg  \n",
            "  inflating: ./CelebA_HQ_facial_identity_dataset/train/1280/25888.jpg  \n",
            "  inflating: ./CelebA_HQ_facial_identity_dataset/train/1280/28786.jpg  \n",
            "  inflating: ./CelebA_HQ_facial_identity_dataset/train/1280/2970.jpg  \n",
            "  inflating: ./CelebA_HQ_facial_identity_dataset/train/1280/29940.jpg  \n",
            "  inflating: ./CelebA_HQ_facial_identity_dataset/train/1280/3906.jpg  \n",
            "  inflating: ./CelebA_HQ_facial_identity_dataset/train/1280/4695.jpg  \n",
            "  inflating: ./CelebA_HQ_facial_identity_dataset/train/1280/4997.jpg  \n",
            "  inflating: ./CelebA_HQ_facial_identity_dataset/train/1280/5628.jpg  \n",
            "  inflating: ./CelebA_HQ_facial_identity_dataset/train/1280/5950.jpg  \n",
            "  inflating: ./CelebA_HQ_facial_identity_dataset/train/1280/6110.jpg  \n",
            "   creating: ./CelebA_HQ_facial_identity_dataset/train/1285/\n",
            "  inflating: ./CelebA_HQ_facial_identity_dataset/train/1285/10804.jpg  \n",
            "  inflating: ./CelebA_HQ_facial_identity_dataset/train/1285/10955.jpg  \n",
            "  inflating: ./CelebA_HQ_facial_identity_dataset/train/1285/11456.jpg  \n",
            "  inflating: ./CelebA_HQ_facial_identity_dataset/train/1285/14100.jpg  \n",
            "  inflating: ./CelebA_HQ_facial_identity_dataset/train/1285/15665.jpg  \n",
            "  inflating: ./CelebA_HQ_facial_identity_dataset/train/1285/19199.jpg  \n",
            "  inflating: ./CelebA_HQ_facial_identity_dataset/train/1285/2332.jpg  \n",
            "  inflating: ./CelebA_HQ_facial_identity_dataset/train/1285/26336.jpg  \n",
            "  inflating: ./CelebA_HQ_facial_identity_dataset/train/1285/26960.jpg  \n",
            "  inflating: ./CelebA_HQ_facial_identity_dataset/train/1285/29688.jpg  \n",
            "  inflating: ./CelebA_HQ_facial_identity_dataset/train/1285/2986.jpg  \n",
            "  inflating: ./CelebA_HQ_facial_identity_dataset/train/1285/3049.jpg  \n",
            "  inflating: ./CelebA_HQ_facial_identity_dataset/train/1285/3052.jpg  \n",
            "  inflating: ./CelebA_HQ_facial_identity_dataset/train/1285/4073.jpg  \n",
            "  inflating: ./CelebA_HQ_facial_identity_dataset/train/1285/4132.jpg  \n",
            "   creating: ./CelebA_HQ_facial_identity_dataset/train/129/\n",
            "  inflating: ./CelebA_HQ_facial_identity_dataset/train/129/10178.jpg  \n",
            "  inflating: ./CelebA_HQ_facial_identity_dataset/train/129/10302.jpg  \n",
            "  inflating: ./CelebA_HQ_facial_identity_dataset/train/129/144.jpg  \n",
            "  inflating: ./CelebA_HQ_facial_identity_dataset/train/129/15210.jpg  \n",
            "  inflating: ./CelebA_HQ_facial_identity_dataset/train/129/15254.jpg  \n",
            "  inflating: ./CelebA_HQ_facial_identity_dataset/train/129/1616.jpg  \n",
            "  inflating: ./CelebA_HQ_facial_identity_dataset/train/129/16644.jpg  \n",
            "  inflating: ./CelebA_HQ_facial_identity_dataset/train/129/17842.jpg  \n",
            "  inflating: ./CelebA_HQ_facial_identity_dataset/train/129/20336.jpg  \n",
            "  inflating: ./CelebA_HQ_facial_identity_dataset/train/129/2105.jpg  \n",
            "  inflating: ./CelebA_HQ_facial_identity_dataset/train/129/21539.jpg  \n",
            "  inflating: ./CelebA_HQ_facial_identity_dataset/train/129/2216.jpg  \n",
            "  inflating: ./CelebA_HQ_facial_identity_dataset/train/129/23116.jpg  \n",
            "  inflating: ./CelebA_HQ_facial_identity_dataset/train/129/4091.jpg  \n",
            "   creating: ./CelebA_HQ_facial_identity_dataset/train/1291/\n",
            "  inflating: ./CelebA_HQ_facial_identity_dataset/train/1291/10629.jpg  \n",
            "  inflating: ./CelebA_HQ_facial_identity_dataset/train/1291/11221.jpg  \n",
            "  inflating: ./CelebA_HQ_facial_identity_dataset/train/1291/11395.jpg  \n",
            "  inflating: ./CelebA_HQ_facial_identity_dataset/train/1291/11859.jpg  \n",
            "  inflating: ./CelebA_HQ_facial_identity_dataset/train/1291/13599.jpg  \n",
            "  inflating: ./CelebA_HQ_facial_identity_dataset/train/1291/14843.jpg  \n",
            "  inflating: ./CelebA_HQ_facial_identity_dataset/train/1291/16553.jpg  \n",
            "  inflating: ./CelebA_HQ_facial_identity_dataset/train/1291/17224.jpg  \n",
            "  inflating: ./CelebA_HQ_facial_identity_dataset/train/1291/18286.jpg  \n",
            "  inflating: ./CelebA_HQ_facial_identity_dataset/train/1291/2351.jpg  \n",
            "  inflating: ./CelebA_HQ_facial_identity_dataset/train/1291/25282.jpg  \n",
            "  inflating: ./CelebA_HQ_facial_identity_dataset/train/1291/2880.jpg  \n",
            "   creating: ./CelebA_HQ_facial_identity_dataset/train/1293/\n",
            "  inflating: ./CelebA_HQ_facial_identity_dataset/train/1293/10876.jpg  \n",
            "  inflating: ./CelebA_HQ_facial_identity_dataset/train/1293/12548.jpg  \n",
            "  inflating: ./CelebA_HQ_facial_identity_dataset/train/1293/15018.jpg  \n",
            "  inflating: ./CelebA_HQ_facial_identity_dataset/train/1293/17732.jpg  \n",
            "  inflating: ./CelebA_HQ_facial_identity_dataset/train/1293/2355.jpg  \n",
            "  inflating: ./CelebA_HQ_facial_identity_dataset/train/1293/23808.jpg  \n",
            "  inflating: ./CelebA_HQ_facial_identity_dataset/train/1293/2472.jpg  \n",
            "  inflating: ./CelebA_HQ_facial_identity_dataset/train/1293/25090.jpg  \n",
            "  inflating: ./CelebA_HQ_facial_identity_dataset/train/1293/29331.jpg  \n",
            "  inflating: ./CelebA_HQ_facial_identity_dataset/train/1293/3590.jpg  \n",
            "  inflating: ./CelebA_HQ_facial_identity_dataset/train/1293/6225.jpg  \n",
            "  inflating: ./CelebA_HQ_facial_identity_dataset/train/1293/7438.jpg  \n",
            "   creating: ./CelebA_HQ_facial_identity_dataset/train/1307/\n",
            "  inflating: ./CelebA_HQ_facial_identity_dataset/train/1307/11865.jpg  \n",
            "  inflating: ./CelebA_HQ_facial_identity_dataset/train/1307/11934.jpg  \n",
            "  inflating: ./CelebA_HQ_facial_identity_dataset/train/1307/13097.jpg  \n",
            "  inflating: ./CelebA_HQ_facial_identity_dataset/train/1307/17540.jpg  \n",
            "  inflating: ./CelebA_HQ_facial_identity_dataset/train/1307/2385.jpg  \n",
            "  inflating: ./CelebA_HQ_facial_identity_dataset/train/1307/2592.jpg  \n",
            "  inflating: ./CelebA_HQ_facial_identity_dataset/train/1307/27396.jpg  \n",
            "  inflating: ./CelebA_HQ_facial_identity_dataset/train/1307/28741.jpg  \n",
            "  inflating: ./CelebA_HQ_facial_identity_dataset/train/1307/28918.jpg  \n",
            "  inflating: ./CelebA_HQ_facial_identity_dataset/train/1307/2995.jpg  \n",
            "  inflating: ./CelebA_HQ_facial_identity_dataset/train/1307/3328.jpg  \n",
            "  inflating: ./CelebA_HQ_facial_identity_dataset/train/1307/3629.jpg  \n",
            "  inflating: ./CelebA_HQ_facial_identity_dataset/train/1307/4710.jpg  \n",
            "  inflating: ./CelebA_HQ_facial_identity_dataset/train/1307/5295.jpg  \n",
            "  inflating: ./CelebA_HQ_facial_identity_dataset/train/1307/5755.jpg  \n",
            "  inflating: ./CelebA_HQ_facial_identity_dataset/train/1307/5964.jpg  \n",
            "   creating: ./CelebA_HQ_facial_identity_dataset/train/1317/\n",
            "  inflating: ./CelebA_HQ_facial_identity_dataset/train/1317/10655.jpg  \n",
            "  inflating: ./CelebA_HQ_facial_identity_dataset/train/1317/11589.jpg  \n",
            "  inflating: ./CelebA_HQ_facial_identity_dataset/train/1317/12186.jpg  \n",
            "  inflating: ./CelebA_HQ_facial_identity_dataset/train/1317/12453.jpg  \n",
            "  inflating: ./CelebA_HQ_facial_identity_dataset/train/1317/13432.jpg  \n",
            "  inflating: ./CelebA_HQ_facial_identity_dataset/train/1317/18714.jpg  \n",
            "  inflating: ./CelebA_HQ_facial_identity_dataset/train/1317/23339.jpg  \n",
            "  inflating: ./CelebA_HQ_facial_identity_dataset/train/1317/2410.jpg  \n",
            "  inflating: ./CelebA_HQ_facial_identity_dataset/train/1317/24228.jpg  \n",
            "  inflating: ./CelebA_HQ_facial_identity_dataset/train/1317/26279.jpg  \n",
            "  inflating: ./CelebA_HQ_facial_identity_dataset/train/1317/27616.jpg  \n",
            "  inflating: ./CelebA_HQ_facial_identity_dataset/train/1317/4574.jpg  \n",
            "  inflating: ./CelebA_HQ_facial_identity_dataset/train/1317/4834.jpg  \n",
            "  inflating: ./CelebA_HQ_facial_identity_dataset/train/1317/5276.jpg  \n",
            "   creating: ./CelebA_HQ_facial_identity_dataset/train/1330/\n",
            "  inflating: ./CelebA_HQ_facial_identity_dataset/train/1330/12773.jpg  \n",
            "  inflating: ./CelebA_HQ_facial_identity_dataset/train/1330/14342.jpg  \n",
            "  inflating: ./CelebA_HQ_facial_identity_dataset/train/1330/14475.jpg  \n",
            "  inflating: ./CelebA_HQ_facial_identity_dataset/train/1330/14554.jpg  \n",
            "  inflating: ./CelebA_HQ_facial_identity_dataset/train/1330/15290.jpg  \n",
            "  inflating: ./CelebA_HQ_facial_identity_dataset/train/1330/16241.jpg  \n",
            "  inflating: ./CelebA_HQ_facial_identity_dataset/train/1330/16781.jpg  \n",
            "  inflating: ./CelebA_HQ_facial_identity_dataset/train/1330/21024.jpg  \n",
            "  inflating: ./CelebA_HQ_facial_identity_dataset/train/1330/22921.jpg  \n",
            "  inflating: ./CelebA_HQ_facial_identity_dataset/train/1330/24538.jpg  \n",
            "  inflating: ./CelebA_HQ_facial_identity_dataset/train/1330/2454.jpg  \n",
            "  inflating: ./CelebA_HQ_facial_identity_dataset/train/1330/25324.jpg  \n",
            "   creating: ./CelebA_HQ_facial_identity_dataset/train/1335/\n",
            "  inflating: ./CelebA_HQ_facial_identity_dataset/train/1335/10587.jpg  \n",
            "  inflating: ./CelebA_HQ_facial_identity_dataset/train/1335/10678.jpg  \n",
            "  inflating: ./CelebA_HQ_facial_identity_dataset/train/1335/10937.jpg  \n",
            "  inflating: ./CelebA_HQ_facial_identity_dataset/train/1335/11423.jpg  \n",
            "  inflating: ./CelebA_HQ_facial_identity_dataset/train/1335/11696.jpg  \n",
            "  inflating: ./CelebA_HQ_facial_identity_dataset/train/1335/18867.jpg  \n",
            "  inflating: ./CelebA_HQ_facial_identity_dataset/train/1335/23587.jpg  \n",
            "  inflating: ./CelebA_HQ_facial_identity_dataset/train/1335/2461.jpg  \n",
            "  inflating: ./CelebA_HQ_facial_identity_dataset/train/1335/26527.jpg  \n",
            "  inflating: ./CelebA_HQ_facial_identity_dataset/train/1335/26683.jpg  \n",
            "  inflating: ./CelebA_HQ_facial_identity_dataset/train/1335/26798.jpg  \n",
            "  inflating: ./CelebA_HQ_facial_identity_dataset/train/1335/28999.jpg  \n",
            "  inflating: ./CelebA_HQ_facial_identity_dataset/train/1335/3732.jpg  \n",
            "   creating: ./CelebA_HQ_facial_identity_dataset/train/1350/\n",
            "  inflating: ./CelebA_HQ_facial_identity_dataset/train/1350/10236.jpg  \n",
            "  inflating: ./CelebA_HQ_facial_identity_dataset/train/1350/10506.jpg  \n",
            "  inflating: ./CelebA_HQ_facial_identity_dataset/train/1350/13633.jpg  \n",
            "  inflating: ./CelebA_HQ_facial_identity_dataset/train/1350/14861.jpg  \n",
            "  inflating: ./CelebA_HQ_facial_identity_dataset/train/1350/14972.jpg  \n",
            "  inflating: ./CelebA_HQ_facial_identity_dataset/train/1350/16494.jpg  \n",
            "  inflating: ./CelebA_HQ_facial_identity_dataset/train/1350/16559.jpg  \n",
            "  inflating: ./CelebA_HQ_facial_identity_dataset/train/1350/21830.jpg  \n",
            "  inflating: ./CelebA_HQ_facial_identity_dataset/train/1350/23720.jpg  \n",
            "  inflating: ./CelebA_HQ_facial_identity_dataset/train/1350/2519.jpg  \n",
            "  inflating: ./CelebA_HQ_facial_identity_dataset/train/1350/26528.jpg  \n",
            "  inflating: ./CelebA_HQ_facial_identity_dataset/train/1350/26821.jpg  \n",
            "   creating: ./CelebA_HQ_facial_identity_dataset/train/1351/\n",
            "  inflating: ./CelebA_HQ_facial_identity_dataset/train/1351/10094.jpg  \n",
            "  inflating: ./CelebA_HQ_facial_identity_dataset/train/1351/10161.jpg  \n",
            "  inflating: ./CelebA_HQ_facial_identity_dataset/train/1351/11158.jpg  \n",
            "  inflating: ./CelebA_HQ_facial_identity_dataset/train/1351/12771.jpg  \n",
            "  inflating: ./CelebA_HQ_facial_identity_dataset/train/1351/12974.jpg  \n",
            "  inflating: ./CelebA_HQ_facial_identity_dataset/train/1351/13201.jpg  \n",
            "  inflating: ./CelebA_HQ_facial_identity_dataset/train/1351/19167.jpg  \n",
            "  inflating: ./CelebA_HQ_facial_identity_dataset/train/1351/20044.jpg  \n",
            "  inflating: ./CelebA_HQ_facial_identity_dataset/train/1351/23167.jpg  \n",
            "  inflating: ./CelebA_HQ_facial_identity_dataset/train/1351/2521.jpg  \n",
            "  inflating: ./CelebA_HQ_facial_identity_dataset/train/1351/28997.jpg  \n",
            "  inflating: ./CelebA_HQ_facial_identity_dataset/train/1351/3481.jpg  \n",
            "  inflating: ./CelebA_HQ_facial_identity_dataset/train/1351/3952.jpg  \n",
            "  inflating: ./CelebA_HQ_facial_identity_dataset/train/1351/4938.jpg  \n",
            "   creating: ./CelebA_HQ_facial_identity_dataset/train/1370/\n",
            "  inflating: ./CelebA_HQ_facial_identity_dataset/train/1370/10992.jpg  \n",
            "  inflating: ./CelebA_HQ_facial_identity_dataset/train/1370/11018.jpg  \n",
            "  inflating: ./CelebA_HQ_facial_identity_dataset/train/1370/19200.jpg  \n",
            "  inflating: ./CelebA_HQ_facial_identity_dataset/train/1370/19266.jpg  \n",
            "  inflating: ./CelebA_HQ_facial_identity_dataset/train/1370/22453.jpg  \n",
            "  inflating: ./CelebA_HQ_facial_identity_dataset/train/1370/2569.jpg  \n",
            "  inflating: ./CelebA_HQ_facial_identity_dataset/train/1370/28442.jpg  \n",
            "  inflating: ./CelebA_HQ_facial_identity_dataset/train/1370/3039.jpg  \n",
            "  inflating: ./CelebA_HQ_facial_identity_dataset/train/1370/3702.jpg  \n",
            "  inflating: ./CelebA_HQ_facial_identity_dataset/train/1370/3950.jpg  \n",
            "  inflating: ./CelebA_HQ_facial_identity_dataset/train/1370/4575.jpg  \n",
            "  inflating: ./CelebA_HQ_facial_identity_dataset/train/1370/4760.jpg  \n",
            "   creating: ./CelebA_HQ_facial_identity_dataset/train/1396/\n",
            "  inflating: ./CelebA_HQ_facial_identity_dataset/train/1396/11923.jpg  \n",
            "  inflating: ./CelebA_HQ_facial_identity_dataset/train/1396/12204.jpg  \n",
            "  inflating: ./CelebA_HQ_facial_identity_dataset/train/1396/12580.jpg  \n",
            "  inflating: ./CelebA_HQ_facial_identity_dataset/train/1396/13176.jpg  \n",
            "  inflating: ./CelebA_HQ_facial_identity_dataset/train/1396/13889.jpg  \n",
            "  inflating: ./CelebA_HQ_facial_identity_dataset/train/1396/16482.jpg  \n",
            "  inflating: ./CelebA_HQ_facial_identity_dataset/train/1396/18442.jpg  \n",
            "  inflating: ./CelebA_HQ_facial_identity_dataset/train/1396/20141.jpg  \n",
            "  inflating: ./CelebA_HQ_facial_identity_dataset/train/1396/20218.jpg  \n",
            "  inflating: ./CelebA_HQ_facial_identity_dataset/train/1396/21917.jpg  \n",
            "  inflating: ./CelebA_HQ_facial_identity_dataset/train/1396/22839.jpg  \n",
            "  inflating: ./CelebA_HQ_facial_identity_dataset/train/1396/23971.jpg  \n",
            "  inflating: ./CelebA_HQ_facial_identity_dataset/train/1396/24506.jpg  \n",
            "  inflating: ./CelebA_HQ_facial_identity_dataset/train/1396/25077.jpg  \n",
            "  inflating: ./CelebA_HQ_facial_identity_dataset/train/1396/25834.jpg  \n",
            "   creating: ./CelebA_HQ_facial_identity_dataset/train/14/\n",
            "  inflating: ./CelebA_HQ_facial_identity_dataset/train/14/10103.jpg  \n",
            "  inflating: ./CelebA_HQ_facial_identity_dataset/train/14/11215.jpg  \n",
            "  inflating: ./CelebA_HQ_facial_identity_dataset/train/14/11462.jpg  \n",
            "  inflating: ./CelebA_HQ_facial_identity_dataset/train/14/11507.jpg  \n",
            "  inflating: ./CelebA_HQ_facial_identity_dataset/train/14/12811.jpg  \n",
            "  inflating: ./CelebA_HQ_facial_identity_dataset/train/14/12884.jpg  \n",
            "  inflating: ./CelebA_HQ_facial_identity_dataset/train/14/15.jpg  \n",
            "  inflating: ./CelebA_HQ_facial_identity_dataset/train/14/16765.jpg  \n",
            "  inflating: ./CelebA_HQ_facial_identity_dataset/train/14/17780.jpg  \n",
            "  inflating: ./CelebA_HQ_facial_identity_dataset/train/14/1926.jpg  \n",
            "  inflating: ./CelebA_HQ_facial_identity_dataset/train/14/22906.jpg  \n",
            "  inflating: ./CelebA_HQ_facial_identity_dataset/train/14/3114.jpg  \n",
            "  inflating: ./CelebA_HQ_facial_identity_dataset/train/14/371.jpg  \n",
            "   creating: ./CelebA_HQ_facial_identity_dataset/train/1407/\n",
            "  inflating: ./CelebA_HQ_facial_identity_dataset/train/1407/12415.jpg  \n",
            "  inflating: ./CelebA_HQ_facial_identity_dataset/train/1407/12691.jpg  \n",
            "  inflating: ./CelebA_HQ_facial_identity_dataset/train/1407/12765.jpg  \n",
            "  inflating: ./CelebA_HQ_facial_identity_dataset/train/1407/13319.jpg  \n",
            "  inflating: ./CelebA_HQ_facial_identity_dataset/train/1407/13935.jpg  \n",
            "  inflating: ./CelebA_HQ_facial_identity_dataset/train/1407/14206.jpg  \n",
            "  inflating: ./CelebA_HQ_facial_identity_dataset/train/1407/15530.jpg  \n",
            "  inflating: ./CelebA_HQ_facial_identity_dataset/train/1407/19152.jpg  \n",
            "  inflating: ./CelebA_HQ_facial_identity_dataset/train/1407/22406.jpg  \n",
            "  inflating: ./CelebA_HQ_facial_identity_dataset/train/1407/22700.jpg  \n",
            "  inflating: ./CelebA_HQ_facial_identity_dataset/train/1407/25466.jpg  \n",
            "  inflating: ./CelebA_HQ_facial_identity_dataset/train/1407/2676.jpg  \n",
            "   creating: ./CelebA_HQ_facial_identity_dataset/train/1427/\n",
            "  inflating: ./CelebA_HQ_facial_identity_dataset/train/1427/13328.jpg  \n",
            "  inflating: ./CelebA_HQ_facial_identity_dataset/train/1427/14177.jpg  \n",
            "  inflating: ./CelebA_HQ_facial_identity_dataset/train/1427/15106.jpg  \n",
            "  inflating: ./CelebA_HQ_facial_identity_dataset/train/1427/17169.jpg  \n",
            "  inflating: ./CelebA_HQ_facial_identity_dataset/train/1427/17537.jpg  \n",
            "  inflating: ./CelebA_HQ_facial_identity_dataset/train/1427/18251.jpg  \n",
            "  inflating: ./CelebA_HQ_facial_identity_dataset/train/1427/20396.jpg  \n",
            "  inflating: ./CelebA_HQ_facial_identity_dataset/train/1427/24006.jpg  \n",
            "  inflating: ./CelebA_HQ_facial_identity_dataset/train/1427/24489.jpg  \n",
            "  inflating: ./CelebA_HQ_facial_identity_dataset/train/1427/24680.jpg  \n",
            "  inflating: ./CelebA_HQ_facial_identity_dataset/train/1427/2739.jpg  \n",
            "  inflating: ./CelebA_HQ_facial_identity_dataset/train/1427/3290.jpg  \n",
            "   creating: ./CelebA_HQ_facial_identity_dataset/train/1429/\n",
            "  inflating: ./CelebA_HQ_facial_identity_dataset/train/1429/11137.jpg  \n",
            "  inflating: ./CelebA_HQ_facial_identity_dataset/train/1429/11339.jpg  \n",
            "  inflating: ./CelebA_HQ_facial_identity_dataset/train/1429/12515.jpg  \n",
            "  inflating: ./CelebA_HQ_facial_identity_dataset/train/1429/12763.jpg  \n",
            "  inflating: ./CelebA_HQ_facial_identity_dataset/train/1429/14575.jpg  \n",
            "  inflating: ./CelebA_HQ_facial_identity_dataset/train/1429/15139.jpg  \n",
            "  inflating: ./CelebA_HQ_facial_identity_dataset/train/1429/16824.jpg  \n",
            "  inflating: ./CelebA_HQ_facial_identity_dataset/train/1429/16972.jpg  \n",
            "  inflating: ./CelebA_HQ_facial_identity_dataset/train/1429/17880.jpg  \n",
            "  inflating: ./CelebA_HQ_facial_identity_dataset/train/1429/19137.jpg  \n",
            "  inflating: ./CelebA_HQ_facial_identity_dataset/train/1429/19709.jpg  \n",
            "  inflating: ./CelebA_HQ_facial_identity_dataset/train/1429/23551.jpg  \n",
            "  inflating: ./CelebA_HQ_facial_identity_dataset/train/1429/25025.jpg  \n",
            "  inflating: ./CelebA_HQ_facial_identity_dataset/train/1429/2747.jpg  \n",
            "  inflating: ./CelebA_HQ_facial_identity_dataset/train/1429/28561.jpg  \n",
            "  inflating: ./CelebA_HQ_facial_identity_dataset/train/1429/4927.jpg  \n",
            "   creating: ./CelebA_HQ_facial_identity_dataset/train/143/\n",
            "  inflating: ./CelebA_HQ_facial_identity_dataset/train/143/1217.jpg  \n",
            "  inflating: ./CelebA_HQ_facial_identity_dataset/train/143/13859.jpg  \n",
            "  inflating: ./CelebA_HQ_facial_identity_dataset/train/143/1392.jpg  \n",
            "  inflating: ./CelebA_HQ_facial_identity_dataset/train/143/162.jpg  \n",
            "  inflating: ./CelebA_HQ_facial_identity_dataset/train/143/2160.jpg  \n",
            "  inflating: ./CelebA_HQ_facial_identity_dataset/train/143/24730.jpg  \n",
            "  inflating: ./CelebA_HQ_facial_identity_dataset/train/143/25429.jpg  \n",
            "  inflating: ./CelebA_HQ_facial_identity_dataset/train/143/26996.jpg  \n",
            "  inflating: ./CelebA_HQ_facial_identity_dataset/train/143/3062.jpg  \n",
            "  inflating: ./CelebA_HQ_facial_identity_dataset/train/143/3160.jpg  \n",
            "  inflating: ./CelebA_HQ_facial_identity_dataset/train/143/3341.jpg  \n",
            "  inflating: ./CelebA_HQ_facial_identity_dataset/train/143/3613.jpg  \n",
            "  inflating: ./CelebA_HQ_facial_identity_dataset/train/143/4041.jpg  \n",
            "   creating: ./CelebA_HQ_facial_identity_dataset/train/1435/\n",
            "  inflating: ./CelebA_HQ_facial_identity_dataset/train/1435/10478.jpg  \n",
            "  inflating: ./CelebA_HQ_facial_identity_dataset/train/1435/10578.jpg  \n",
            "  inflating: ./CelebA_HQ_facial_identity_dataset/train/1435/11101.jpg  \n",
            "  inflating: ./CelebA_HQ_facial_identity_dataset/train/1435/11495.jpg  \n",
            "  inflating: ./CelebA_HQ_facial_identity_dataset/train/1435/12362.jpg  \n",
            "  inflating: ./CelebA_HQ_facial_identity_dataset/train/1435/13525.jpg  \n",
            "  inflating: ./CelebA_HQ_facial_identity_dataset/train/1435/13714.jpg  \n",
            "  inflating: ./CelebA_HQ_facial_identity_dataset/train/1435/16066.jpg  \n",
            "  inflating: ./CelebA_HQ_facial_identity_dataset/train/1435/16167.jpg  \n",
            "  inflating: ./CelebA_HQ_facial_identity_dataset/train/1435/18333.jpg  \n",
            "  inflating: ./CelebA_HQ_facial_identity_dataset/train/1435/19237.jpg  \n",
            "  inflating: ./CelebA_HQ_facial_identity_dataset/train/1435/21454.jpg  \n",
            "  inflating: ./CelebA_HQ_facial_identity_dataset/train/1435/26951.jpg  \n",
            "  inflating: ./CelebA_HQ_facial_identity_dataset/train/1435/2771.jpg  \n",
            "  inflating: ./CelebA_HQ_facial_identity_dataset/train/1435/6462.jpg  \n",
            "  inflating: ./CelebA_HQ_facial_identity_dataset/train/1435/6873.jpg  \n",
            "   creating: ./CelebA_HQ_facial_identity_dataset/train/1440/\n",
            "  inflating: ./CelebA_HQ_facial_identity_dataset/train/1440/11478.jpg  \n",
            "  inflating: ./CelebA_HQ_facial_identity_dataset/train/1440/13523.jpg  \n",
            "  inflating: ./CelebA_HQ_facial_identity_dataset/train/1440/14403.jpg  \n",
            "  inflating: ./CelebA_HQ_facial_identity_dataset/train/1440/17030.jpg  \n",
            "  inflating: ./CelebA_HQ_facial_identity_dataset/train/1440/17769.jpg  \n",
            "  inflating: ./CelebA_HQ_facial_identity_dataset/train/1440/18831.jpg  \n",
            "  inflating: ./CelebA_HQ_facial_identity_dataset/train/1440/24230.jpg  \n",
            "  inflating: ./CelebA_HQ_facial_identity_dataset/train/1440/2798.jpg  \n",
            "  inflating: ./CelebA_HQ_facial_identity_dataset/train/1440/2948.jpg  \n",
            "  inflating: ./CelebA_HQ_facial_identity_dataset/train/1440/3288.jpg  \n",
            "  inflating: ./CelebA_HQ_facial_identity_dataset/train/1440/4158.jpg  \n",
            "  inflating: ./CelebA_HQ_facial_identity_dataset/train/1440/4579.jpg  \n",
            "   creating: ./CelebA_HQ_facial_identity_dataset/train/1452/\n",
            "  inflating: ./CelebA_HQ_facial_identity_dataset/train/1452/12193.jpg  \n",
            "  inflating: ./CelebA_HQ_facial_identity_dataset/train/1452/12408.jpg  \n",
            "  inflating: ./CelebA_HQ_facial_identity_dataset/train/1452/12911.jpg  \n",
            "  inflating: ./CelebA_HQ_facial_identity_dataset/train/1452/13016.jpg  \n",
            "  inflating: ./CelebA_HQ_facial_identity_dataset/train/1452/13360.jpg  \n",
            "  inflating: ./CelebA_HQ_facial_identity_dataset/train/1452/13405.jpg  \n",
            "  inflating: ./CelebA_HQ_facial_identity_dataset/train/1452/13721.jpg  \n",
            "  inflating: ./CelebA_HQ_facial_identity_dataset/train/1452/14080.jpg  \n",
            "  inflating: ./CelebA_HQ_facial_identity_dataset/train/1452/14728.jpg  \n",
            "  inflating: ./CelebA_HQ_facial_identity_dataset/train/1452/14910.jpg  \n",
            "  inflating: ./CelebA_HQ_facial_identity_dataset/train/1452/18583.jpg  \n",
            "  inflating: ./CelebA_HQ_facial_identity_dataset/train/1452/23929.jpg  \n",
            "  inflating: ./CelebA_HQ_facial_identity_dataset/train/1452/25416.jpg  \n",
            "  inflating: ./CelebA_HQ_facial_identity_dataset/train/1452/26724.jpg  \n",
            "  inflating: ./CelebA_HQ_facial_identity_dataset/train/1452/27514.jpg  \n",
            "  inflating: ./CelebA_HQ_facial_identity_dataset/train/1452/2829.jpg  \n",
            "  inflating: ./CelebA_HQ_facial_identity_dataset/train/1452/6350.jpg  \n",
            "  inflating: ./CelebA_HQ_facial_identity_dataset/train/1452/6461.jpg  \n",
            "   creating: ./CelebA_HQ_facial_identity_dataset/train/146/\n",
            "  inflating: ./CelebA_HQ_facial_identity_dataset/train/146/10020.jpg  \n",
            "  inflating: ./CelebA_HQ_facial_identity_dataset/train/146/11249.jpg  \n",
            "  inflating: ./CelebA_HQ_facial_identity_dataset/train/146/12585.jpg  \n",
            "  inflating: ./CelebA_HQ_facial_identity_dataset/train/146/13842.jpg  \n",
            "  inflating: ./CelebA_HQ_facial_identity_dataset/train/146/15235.jpg  \n",
            "  inflating: ./CelebA_HQ_facial_identity_dataset/train/146/166.jpg  \n",
            "  inflating: ./CelebA_HQ_facial_identity_dataset/train/146/16995.jpg  \n",
            "  inflating: ./CelebA_HQ_facial_identity_dataset/train/146/17006.jpg  \n",
            "  inflating: ./CelebA_HQ_facial_identity_dataset/train/146/1876.jpg  \n",
            "  inflating: ./CelebA_HQ_facial_identity_dataset/train/146/19079.jpg  \n",
            "  inflating: ./CelebA_HQ_facial_identity_dataset/train/146/21484.jpg  \n",
            "  inflating: ./CelebA_HQ_facial_identity_dataset/train/146/2507.jpg  \n",
            "  inflating: ./CelebA_HQ_facial_identity_dataset/train/146/25788.jpg  \n",
            "  inflating: ./CelebA_HQ_facial_identity_dataset/train/146/27941.jpg  \n",
            "  inflating: ./CelebA_HQ_facial_identity_dataset/train/146/28062.jpg  \n",
            "  inflating: ./CelebA_HQ_facial_identity_dataset/train/146/3008.jpg  \n",
            "  inflating: ./CelebA_HQ_facial_identity_dataset/train/146/3373.jpg  \n",
            "   creating: ./CelebA_HQ_facial_identity_dataset/train/1507/\n",
            "  inflating: ./CelebA_HQ_facial_identity_dataset/train/1507/11875.jpg  \n",
            "  inflating: ./CelebA_HQ_facial_identity_dataset/train/1507/12268.jpg  \n",
            "  inflating: ./CelebA_HQ_facial_identity_dataset/train/1507/12443.jpg  \n",
            "  inflating: ./CelebA_HQ_facial_identity_dataset/train/1507/12919.jpg  \n",
            "  inflating: ./CelebA_HQ_facial_identity_dataset/train/1507/12970.jpg  \n",
            "  inflating: ./CelebA_HQ_facial_identity_dataset/train/1507/14777.jpg  \n",
            "  inflating: ./CelebA_HQ_facial_identity_dataset/train/1507/17354.jpg  \n",
            "  inflating: ./CelebA_HQ_facial_identity_dataset/train/1507/17818.jpg  \n",
            "  inflating: ./CelebA_HQ_facial_identity_dataset/train/1507/17959.jpg  \n",
            "  inflating: ./CelebA_HQ_facial_identity_dataset/train/1507/18982.jpg  \n",
            "  inflating: ./CelebA_HQ_facial_identity_dataset/train/1507/19635.jpg  \n",
            "  inflating: ./CelebA_HQ_facial_identity_dataset/train/1507/23646.jpg  \n",
            "   creating: ./CelebA_HQ_facial_identity_dataset/train/1515/\n",
            "  inflating: ./CelebA_HQ_facial_identity_dataset/train/1515/12017.jpg  \n",
            "  inflating: ./CelebA_HQ_facial_identity_dataset/train/1515/13082.jpg  \n",
            "  inflating: ./CelebA_HQ_facial_identity_dataset/train/1515/15216.jpg  \n",
            "  inflating: ./CelebA_HQ_facial_identity_dataset/train/1515/26458.jpg  \n",
            "  inflating: ./CelebA_HQ_facial_identity_dataset/train/1515/27518.jpg  \n",
            "  inflating: ./CelebA_HQ_facial_identity_dataset/train/1515/27749.jpg  \n",
            "  inflating: ./CelebA_HQ_facial_identity_dataset/train/1515/27992.jpg  \n",
            "  inflating: ./CelebA_HQ_facial_identity_dataset/train/1515/28593.jpg  \n",
            "  inflating: ./CelebA_HQ_facial_identity_dataset/train/1515/3064.jpg  \n",
            "  inflating: ./CelebA_HQ_facial_identity_dataset/train/1515/3540.jpg  \n",
            "  inflating: ./CelebA_HQ_facial_identity_dataset/train/1515/6033.jpg  \n",
            "  inflating: ./CelebA_HQ_facial_identity_dataset/train/1515/6065.jpg  \n",
            "  inflating: ./CelebA_HQ_facial_identity_dataset/train/1515/6648.jpg  \n",
            "  inflating: ./CelebA_HQ_facial_identity_dataset/train/1515/6823.jpg  \n",
            "   creating: ./CelebA_HQ_facial_identity_dataset/train/1521/\n",
            "  inflating: ./CelebA_HQ_facial_identity_dataset/train/1521/10540.jpg  \n",
            "  inflating: ./CelebA_HQ_facial_identity_dataset/train/1521/11022.jpg  \n",
            "  inflating: ./CelebA_HQ_facial_identity_dataset/train/1521/11186.jpg  \n",
            "  inflating: ./CelebA_HQ_facial_identity_dataset/train/1521/12067.jpg  \n",
            "  inflating: ./CelebA_HQ_facial_identity_dataset/train/1521/12122.jpg  \n",
            "  inflating: ./CelebA_HQ_facial_identity_dataset/train/1521/12786.jpg  \n",
            "  inflating: ./CelebA_HQ_facial_identity_dataset/train/1521/14057.jpg  \n",
            "  inflating: ./CelebA_HQ_facial_identity_dataset/train/1521/14684.jpg  \n",
            "  inflating: ./CelebA_HQ_facial_identity_dataset/train/1521/16149.jpg  \n",
            "  inflating: ./CelebA_HQ_facial_identity_dataset/train/1521/16415.jpg  \n",
            "  inflating: ./CelebA_HQ_facial_identity_dataset/train/1521/17408.jpg  \n",
            "  inflating: ./CelebA_HQ_facial_identity_dataset/train/1521/20513.jpg  \n",
            "  inflating: ./CelebA_HQ_facial_identity_dataset/train/1521/25647.jpg  \n",
            "  inflating: ./CelebA_HQ_facial_identity_dataset/train/1521/3089.jpg  \n",
            "   creating: ./CelebA_HQ_facial_identity_dataset/train/1531/\n",
            "  inflating: ./CelebA_HQ_facial_identity_dataset/train/1531/11924.jpg  \n",
            "  inflating: ./CelebA_HQ_facial_identity_dataset/train/1531/13026.jpg  \n",
            "  inflating: ./CelebA_HQ_facial_identity_dataset/train/1531/16391.jpg  \n",
            "  inflating: ./CelebA_HQ_facial_identity_dataset/train/1531/16751.jpg  \n",
            "  inflating: ./CelebA_HQ_facial_identity_dataset/train/1531/17449.jpg  \n",
            "  inflating: ./CelebA_HQ_facial_identity_dataset/train/1531/18742.jpg  \n",
            "  inflating: ./CelebA_HQ_facial_identity_dataset/train/1531/25194.jpg  \n",
            "  inflating: ./CelebA_HQ_facial_identity_dataset/train/1531/25999.jpg  \n",
            "  inflating: ./CelebA_HQ_facial_identity_dataset/train/1531/3123.jpg  \n",
            "  inflating: ./CelebA_HQ_facial_identity_dataset/train/1531/4186.jpg  \n",
            "  inflating: ./CelebA_HQ_facial_identity_dataset/train/1531/4380.jpg  \n",
            "  inflating: ./CelebA_HQ_facial_identity_dataset/train/1531/5590.jpg  \n",
            "  inflating: ./CelebA_HQ_facial_identity_dataset/train/1531/6012.jpg  \n",
            "  inflating: ./CelebA_HQ_facial_identity_dataset/train/1531/6155.jpg  \n",
            "  inflating: ./CelebA_HQ_facial_identity_dataset/train/1531/6270.jpg  \n",
            "   creating: ./CelebA_HQ_facial_identity_dataset/train/1538/\n",
            "  inflating: ./CelebA_HQ_facial_identity_dataset/train/1538/14562.jpg  \n",
            "  inflating: ./CelebA_HQ_facial_identity_dataset/train/1538/21162.jpg  \n",
            "  inflating: ./CelebA_HQ_facial_identity_dataset/train/1538/23889.jpg  \n",
            "  inflating: ./CelebA_HQ_facial_identity_dataset/train/1538/26462.jpg  \n",
            "  inflating: ./CelebA_HQ_facial_identity_dataset/train/1538/28378.jpg  \n",
            "  inflating: ./CelebA_HQ_facial_identity_dataset/train/1538/29588.jpg  \n",
            "  inflating: ./CelebA_HQ_facial_identity_dataset/train/1538/3149.jpg  \n",
            "  inflating: ./CelebA_HQ_facial_identity_dataset/train/1538/3175.jpg  \n",
            "  inflating: ./CelebA_HQ_facial_identity_dataset/train/1538/4254.jpg  \n",
            "  inflating: ./CelebA_HQ_facial_identity_dataset/train/1538/4349.jpg  \n",
            "  inflating: ./CelebA_HQ_facial_identity_dataset/train/1538/5501.jpg  \n",
            "  inflating: ./CelebA_HQ_facial_identity_dataset/train/1538/5745.jpg  \n",
            "  inflating: ./CelebA_HQ_facial_identity_dataset/train/1538/6230.jpg  \n",
            "  inflating: ./CelebA_HQ_facial_identity_dataset/train/1538/6886.jpg  \n",
            "   creating: ./CelebA_HQ_facial_identity_dataset/train/1550/\n",
            "  inflating: ./CelebA_HQ_facial_identity_dataset/train/1550/10078.jpg  \n",
            "  inflating: ./CelebA_HQ_facial_identity_dataset/train/1550/10243.jpg  \n",
            "  inflating: ./CelebA_HQ_facial_identity_dataset/train/1550/10424.jpg  \n",
            "  inflating: ./CelebA_HQ_facial_identity_dataset/train/1550/11180.jpg  \n",
            "  inflating: ./CelebA_HQ_facial_identity_dataset/train/1550/11328.jpg  \n",
            "  inflating: ./CelebA_HQ_facial_identity_dataset/train/1550/11907.jpg  \n",
            "  inflating: ./CelebA_HQ_facial_identity_dataset/train/1550/13079.jpg  \n",
            "  inflating: ./CelebA_HQ_facial_identity_dataset/train/1550/13545.jpg  \n",
            "  inflating: ./CelebA_HQ_facial_identity_dataset/train/1550/15825.jpg  \n",
            "  inflating: ./CelebA_HQ_facial_identity_dataset/train/1550/16206.jpg  \n",
            "  inflating: ./CelebA_HQ_facial_identity_dataset/train/1550/21650.jpg  \n",
            "  inflating: ./CelebA_HQ_facial_identity_dataset/train/1550/21743.jpg  \n",
            "  inflating: ./CelebA_HQ_facial_identity_dataset/train/1550/24304.jpg  \n",
            "  inflating: ./CelebA_HQ_facial_identity_dataset/train/1550/26838.jpg  \n",
            "  inflating: ./CelebA_HQ_facial_identity_dataset/train/1550/3182.jpg  \n",
            "  inflating: ./CelebA_HQ_facial_identity_dataset/train/1550/3536.jpg  \n",
            "   creating: ./CelebA_HQ_facial_identity_dataset/train/158/\n",
            "  inflating: ./CelebA_HQ_facial_identity_dataset/train/158/11210.jpg  \n",
            "  inflating: ./CelebA_HQ_facial_identity_dataset/train/158/15615.jpg  \n",
            "  inflating: ./CelebA_HQ_facial_identity_dataset/train/158/17163.jpg  \n",
            "  inflating: ./CelebA_HQ_facial_identity_dataset/train/158/17453.jpg  \n",
            "  inflating: ./CelebA_HQ_facial_identity_dataset/train/158/180.jpg  \n",
            "  inflating: ./CelebA_HQ_facial_identity_dataset/train/158/20749.jpg  \n",
            "  inflating: ./CelebA_HQ_facial_identity_dataset/train/158/21240.jpg  \n",
            "  inflating: ./CelebA_HQ_facial_identity_dataset/train/158/2274.jpg  \n",
            "  inflating: ./CelebA_HQ_facial_identity_dataset/train/158/24736.jpg  \n",
            "  inflating: ./CelebA_HQ_facial_identity_dataset/train/158/25124.jpg  \n",
            "  inflating: ./CelebA_HQ_facial_identity_dataset/train/158/25723.jpg  \n",
            "  inflating: ./CelebA_HQ_facial_identity_dataset/train/158/26531.jpg  \n",
            "  inflating: ./CelebA_HQ_facial_identity_dataset/train/158/28175.jpg  \n",
            "  inflating: ./CelebA_HQ_facial_identity_dataset/train/158/28427.jpg  \n",
            "  inflating: ./CelebA_HQ_facial_identity_dataset/train/158/29069.jpg  \n",
            "   creating: ./CelebA_HQ_facial_identity_dataset/train/1581/\n",
            "  inflating: ./CelebA_HQ_facial_identity_dataset/train/1581/13019.jpg  \n",
            "  inflating: ./CelebA_HQ_facial_identity_dataset/train/1581/14161.jpg  \n",
            "  inflating: ./CelebA_HQ_facial_identity_dataset/train/1581/14314.jpg  \n",
            "  inflating: ./CelebA_HQ_facial_identity_dataset/train/1581/14587.jpg  \n",
            "  inflating: ./CelebA_HQ_facial_identity_dataset/train/1581/18578.jpg  \n",
            "  inflating: ./CelebA_HQ_facial_identity_dataset/train/1581/19109.jpg  \n",
            "  inflating: ./CelebA_HQ_facial_identity_dataset/train/1581/19326.jpg  \n",
            "  inflating: ./CelebA_HQ_facial_identity_dataset/train/1581/19482.jpg  \n",
            "  inflating: ./CelebA_HQ_facial_identity_dataset/train/1581/19731.jpg  \n",
            "  inflating: ./CelebA_HQ_facial_identity_dataset/train/1581/19815.jpg  \n",
            "  inflating: ./CelebA_HQ_facial_identity_dataset/train/1581/20889.jpg  \n",
            "  inflating: ./CelebA_HQ_facial_identity_dataset/train/1581/22591.jpg  \n",
            "  inflating: ./CelebA_HQ_facial_identity_dataset/train/1581/23225.jpg  \n",
            "  inflating: ./CelebA_HQ_facial_identity_dataset/train/1581/26129.jpg  \n",
            "  inflating: ./CelebA_HQ_facial_identity_dataset/train/1581/26198.jpg  \n",
            "  inflating: ./CelebA_HQ_facial_identity_dataset/train/1581/28587.jpg  \n",
            "   creating: ./CelebA_HQ_facial_identity_dataset/train/1584/\n",
            "  inflating: ./CelebA_HQ_facial_identity_dataset/train/1584/10280.jpg  \n",
            "  inflating: ./CelebA_HQ_facial_identity_dataset/train/1584/10558.jpg  \n",
            "  inflating: ./CelebA_HQ_facial_identity_dataset/train/1584/13250.jpg  \n",
            "  inflating: ./CelebA_HQ_facial_identity_dataset/train/1584/19298.jpg  \n",
            "  inflating: ./CelebA_HQ_facial_identity_dataset/train/1584/3295.jpg  \n",
            "  inflating: ./CelebA_HQ_facial_identity_dataset/train/1584/3345.jpg  \n",
            "  inflating: ./CelebA_HQ_facial_identity_dataset/train/1584/3525.jpg  \n",
            "  inflating: ./CelebA_HQ_facial_identity_dataset/train/1584/3615.jpg  \n",
            "  inflating: ./CelebA_HQ_facial_identity_dataset/train/1584/4184.jpg  \n",
            "  inflating: ./CelebA_HQ_facial_identity_dataset/train/1584/4366.jpg  \n",
            "  inflating: ./CelebA_HQ_facial_identity_dataset/train/1584/4372.jpg  \n",
            "  inflating: ./CelebA_HQ_facial_identity_dataset/train/1584/4889.jpg  \n",
            "   creating: ./CelebA_HQ_facial_identity_dataset/train/1595/\n",
            "  inflating: ./CelebA_HQ_facial_identity_dataset/train/1595/10848.jpg  \n",
            "  inflating: ./CelebA_HQ_facial_identity_dataset/train/1595/13660.jpg  \n",
            "  inflating: ./CelebA_HQ_facial_identity_dataset/train/1595/17115.jpg  \n",
            "  inflating: ./CelebA_HQ_facial_identity_dataset/train/1595/17796.jpg  \n",
            "  inflating: ./CelebA_HQ_facial_identity_dataset/train/1595/18121.jpg  \n",
            "  inflating: ./CelebA_HQ_facial_identity_dataset/train/1595/18733.jpg  \n",
            "  inflating: ./CelebA_HQ_facial_identity_dataset/train/1595/18771.jpg  \n",
            "  inflating: ./CelebA_HQ_facial_identity_dataset/train/1595/23448.jpg  \n",
            "  inflating: ./CelebA_HQ_facial_identity_dataset/train/1595/23778.jpg  \n",
            "  inflating: ./CelebA_HQ_facial_identity_dataset/train/1595/3324.jpg  \n",
            "  inflating: ./CelebA_HQ_facial_identity_dataset/train/1595/3564.jpg  \n",
            "  inflating: ./CelebA_HQ_facial_identity_dataset/train/1595/4522.jpg  \n",
            "  inflating: ./CelebA_HQ_facial_identity_dataset/train/1595/4654.jpg  \n",
            "  inflating: ./CelebA_HQ_facial_identity_dataset/train/1595/4801.jpg  \n",
            "  inflating: ./CelebA_HQ_facial_identity_dataset/train/1595/5065.jpg  \n",
            "   creating: ./CelebA_HQ_facial_identity_dataset/train/161/\n",
            "  inflating: ./CelebA_HQ_facial_identity_dataset/train/161/10088.jpg  \n",
            "  inflating: ./CelebA_HQ_facial_identity_dataset/train/161/10325.jpg  \n",
            "  inflating: ./CelebA_HQ_facial_identity_dataset/train/161/11273.jpg  \n",
            "  inflating: ./CelebA_HQ_facial_identity_dataset/train/161/1183.jpg  \n",
            "  inflating: ./CelebA_HQ_facial_identity_dataset/train/161/12235.jpg  \n",
            "  inflating: ./CelebA_HQ_facial_identity_dataset/train/161/13939.jpg  \n",
            "  inflating: ./CelebA_HQ_facial_identity_dataset/train/161/14317.jpg  \n",
            "  inflating: ./CelebA_HQ_facial_identity_dataset/train/161/1539.jpg  \n",
            "  inflating: ./CelebA_HQ_facial_identity_dataset/train/161/17460.jpg  \n",
            "  inflating: ./CelebA_HQ_facial_identity_dataset/train/161/183.jpg  \n",
            "  inflating: ./CelebA_HQ_facial_identity_dataset/train/161/2092.jpg  \n",
            "  inflating: ./CelebA_HQ_facial_identity_dataset/train/161/22305.jpg  \n",
            "  inflating: ./CelebA_HQ_facial_identity_dataset/train/161/22487.jpg  \n",
            "  inflating: ./CelebA_HQ_facial_identity_dataset/train/161/22844.jpg  \n",
            "  inflating: ./CelebA_HQ_facial_identity_dataset/train/161/24667.jpg  \n",
            "  inflating: ./CelebA_HQ_facial_identity_dataset/train/161/2552.jpg  \n",
            "  inflating: ./CelebA_HQ_facial_identity_dataset/train/161/27263.jpg  \n",
            "  inflating: ./CelebA_HQ_facial_identity_dataset/train/161/2797.jpg  \n",
            "  inflating: ./CelebA_HQ_facial_identity_dataset/train/161/28497.jpg  \n",
            "  inflating: ./CelebA_HQ_facial_identity_dataset/train/161/3143.jpg  \n",
            "  inflating: ./CelebA_HQ_facial_identity_dataset/train/161/3364.jpg  \n",
            "  inflating: ./CelebA_HQ_facial_identity_dataset/train/161/3768.jpg  \n",
            "   creating: ./CelebA_HQ_facial_identity_dataset/train/162/\n",
            "  inflating: ./CelebA_HQ_facial_identity_dataset/train/162/11916.jpg  \n",
            "  inflating: ./CelebA_HQ_facial_identity_dataset/train/162/13715.jpg  \n",
            "  inflating: ./CelebA_HQ_facial_identity_dataset/train/162/184.jpg  \n",
            "  inflating: ./CelebA_HQ_facial_identity_dataset/train/162/1913.jpg  \n",
            "  inflating: ./CelebA_HQ_facial_identity_dataset/train/162/1953.jpg  \n",
            "  inflating: ./CelebA_HQ_facial_identity_dataset/train/162/2179.jpg  \n",
            "  inflating: ./CelebA_HQ_facial_identity_dataset/train/162/2227.jpg  \n",
            "  inflating: ./CelebA_HQ_facial_identity_dataset/train/162/2329.jpg  \n",
            "  inflating: ./CelebA_HQ_facial_identity_dataset/train/162/2397.jpg  \n",
            "  inflating: ./CelebA_HQ_facial_identity_dataset/train/162/25238.jpg  \n",
            "  inflating: ./CelebA_HQ_facial_identity_dataset/train/162/27310.jpg  \n",
            "  inflating: ./CelebA_HQ_facial_identity_dataset/train/162/2775.jpg  \n",
            "  inflating: ./CelebA_HQ_facial_identity_dataset/train/162/3841.jpg  \n",
            "  inflating: ./CelebA_HQ_facial_identity_dataset/train/162/455.jpg  \n",
            "  inflating: ./CelebA_HQ_facial_identity_dataset/train/162/4862.jpg  \n",
            "  inflating: ./CelebA_HQ_facial_identity_dataset/train/162/5890.jpg  \n",
            "   creating: ./CelebA_HQ_facial_identity_dataset/train/17/\n",
            "  inflating: ./CelebA_HQ_facial_identity_dataset/train/17/1168.jpg  \n",
            "  inflating: ./CelebA_HQ_facial_identity_dataset/train/17/14327.jpg  \n",
            "  inflating: ./CelebA_HQ_facial_identity_dataset/train/17/16232.jpg  \n",
            "  inflating: ./CelebA_HQ_facial_identity_dataset/train/17/18.jpg  \n",
            "  inflating: ./CelebA_HQ_facial_identity_dataset/train/17/1970.jpg  \n",
            "  inflating: ./CelebA_HQ_facial_identity_dataset/train/17/3790.jpg  \n",
            "  inflating: ./CelebA_HQ_facial_identity_dataset/train/17/4332.jpg  \n",
            "  inflating: ./CelebA_HQ_facial_identity_dataset/train/17/5681.jpg  \n",
            "  inflating: ./CelebA_HQ_facial_identity_dataset/train/17/6952.jpg  \n",
            "  inflating: ./CelebA_HQ_facial_identity_dataset/train/17/7658.jpg  \n",
            "  inflating: ./CelebA_HQ_facial_identity_dataset/train/17/839.jpg  \n",
            "  inflating: ./CelebA_HQ_facial_identity_dataset/train/17/8489.jpg  \n",
            "   creating: ./CelebA_HQ_facial_identity_dataset/train/1718/\n",
            "  inflating: ./CelebA_HQ_facial_identity_dataset/train/1718/10925.jpg  \n",
            "  inflating: ./CelebA_HQ_facial_identity_dataset/train/1718/13342.jpg  \n",
            "  inflating: ./CelebA_HQ_facial_identity_dataset/train/1718/14572.jpg  \n",
            "  inflating: ./CelebA_HQ_facial_identity_dataset/train/1718/16221.jpg  \n",
            "  inflating: ./CelebA_HQ_facial_identity_dataset/train/1718/21483.jpg  \n",
            "  inflating: ./CelebA_HQ_facial_identity_dataset/train/1718/24478.jpg  \n",
            "  inflating: ./CelebA_HQ_facial_identity_dataset/train/1718/26341.jpg  \n",
            "  inflating: ./CelebA_HQ_facial_identity_dataset/train/1718/26648.jpg  \n",
            "  inflating: ./CelebA_HQ_facial_identity_dataset/train/1718/28623.jpg  \n",
            "  inflating: ./CelebA_HQ_facial_identity_dataset/train/1718/3735.jpg  \n",
            "  inflating: ./CelebA_HQ_facial_identity_dataset/train/1718/4592.jpg  \n",
            "  inflating: ./CelebA_HQ_facial_identity_dataset/train/1718/6268.jpg  \n",
            "   creating: ./CelebA_HQ_facial_identity_dataset/train/1730/\n",
            "  inflating: ./CelebA_HQ_facial_identity_dataset/train/1730/10095.jpg  \n",
            "  inflating: ./CelebA_HQ_facial_identity_dataset/train/1730/11640.jpg  \n",
            "  inflating: ./CelebA_HQ_facial_identity_dataset/train/1730/11897.jpg  \n",
            "  inflating: ./CelebA_HQ_facial_identity_dataset/train/1730/12816.jpg  \n",
            "  inflating: ./CelebA_HQ_facial_identity_dataset/train/1730/13800.jpg  \n",
            "  inflating: ./CelebA_HQ_facial_identity_dataset/train/1730/14138.jpg  \n",
            "  inflating: ./CelebA_HQ_facial_identity_dataset/train/1730/14574.jpg  \n",
            "  inflating: ./CelebA_HQ_facial_identity_dataset/train/1730/14897.jpg  \n",
            "  inflating: ./CelebA_HQ_facial_identity_dataset/train/1730/14913.jpg  \n",
            "  inflating: ./CelebA_HQ_facial_identity_dataset/train/1730/15037.jpg  \n",
            "  inflating: ./CelebA_HQ_facial_identity_dataset/train/1730/16093.jpg  \n",
            "  inflating: ./CelebA_HQ_facial_identity_dataset/train/1730/16787.jpg  \n",
            "  inflating: ./CelebA_HQ_facial_identity_dataset/train/1730/20639.jpg  \n",
            "  inflating: ./CelebA_HQ_facial_identity_dataset/train/1730/29006.jpg  \n",
            "   creating: ./CelebA_HQ_facial_identity_dataset/train/175/\n",
            "  inflating: ./CelebA_HQ_facial_identity_dataset/train/175/10409.jpg  \n",
            "  inflating: ./CelebA_HQ_facial_identity_dataset/train/175/11489.jpg  \n",
            "  inflating: ./CelebA_HQ_facial_identity_dataset/train/175/12680.jpg  \n",
            "  inflating: ./CelebA_HQ_facial_identity_dataset/train/175/13864.jpg  \n",
            "  inflating: ./CelebA_HQ_facial_identity_dataset/train/175/17022.jpg  \n",
            "  inflating: ./CelebA_HQ_facial_identity_dataset/train/175/1872.jpg  \n",
            "  inflating: ./CelebA_HQ_facial_identity_dataset/train/175/1882.jpg  \n",
            "  inflating: ./CelebA_HQ_facial_identity_dataset/train/175/19069.jpg  \n",
            "  inflating: ./CelebA_HQ_facial_identity_dataset/train/175/198.jpg  \n",
            "  inflating: ./CelebA_HQ_facial_identity_dataset/train/175/22986.jpg  \n",
            "  inflating: ./CelebA_HQ_facial_identity_dataset/train/175/26599.jpg  \n",
            "  inflating: ./CelebA_HQ_facial_identity_dataset/train/175/28457.jpg  \n",
            "  inflating: ./CelebA_HQ_facial_identity_dataset/train/175/4195.jpg  \n",
            "  inflating: ./CelebA_HQ_facial_identity_dataset/train/175/4293.jpg  \n",
            "  inflating: ./CelebA_HQ_facial_identity_dataset/train/175/5174.jpg  \n",
            "  inflating: ./CelebA_HQ_facial_identity_dataset/train/175/5285.jpg  \n",
            "   creating: ./CelebA_HQ_facial_identity_dataset/train/177/\n",
            "  inflating: ./CelebA_HQ_facial_identity_dataset/train/177/10588.jpg  \n",
            "  inflating: ./CelebA_HQ_facial_identity_dataset/train/177/12999.jpg  \n",
            "  inflating: ./CelebA_HQ_facial_identity_dataset/train/177/1346.jpg  \n",
            "  inflating: ./CelebA_HQ_facial_identity_dataset/train/177/1829.jpg  \n",
            "  inflating: ./CelebA_HQ_facial_identity_dataset/train/177/202.jpg  \n",
            "  inflating: ./CelebA_HQ_facial_identity_dataset/train/177/2339.jpg  \n",
            "  inflating: ./CelebA_HQ_facial_identity_dataset/train/177/2492.jpg  \n",
            "  inflating: ./CelebA_HQ_facial_identity_dataset/train/177/3404.jpg  \n",
            "  inflating: ./CelebA_HQ_facial_identity_dataset/train/177/3543.jpg  \n",
            "  inflating: ./CelebA_HQ_facial_identity_dataset/train/177/3731.jpg  \n",
            "  inflating: ./CelebA_HQ_facial_identity_dataset/train/177/3804.jpg  \n",
            "  inflating: ./CelebA_HQ_facial_identity_dataset/train/177/5412.jpg  \n",
            "  inflating: ./CelebA_HQ_facial_identity_dataset/train/177/6080.jpg  \n",
            "  inflating: ./CelebA_HQ_facial_identity_dataset/train/177/6487.jpg  \n",
            "   creating: ./CelebA_HQ_facial_identity_dataset/train/1775/\n",
            "  inflating: ./CelebA_HQ_facial_identity_dataset/train/1775/12325.jpg  \n",
            "  inflating: ./CelebA_HQ_facial_identity_dataset/train/1775/13038.jpg  \n",
            "  inflating: ./CelebA_HQ_facial_identity_dataset/train/1775/14026.jpg  \n",
            "  inflating: ./CelebA_HQ_facial_identity_dataset/train/1775/14991.jpg  \n",
            "  inflating: ./CelebA_HQ_facial_identity_dataset/train/1775/18884.jpg  \n",
            "  inflating: ./CelebA_HQ_facial_identity_dataset/train/1775/21507.jpg  \n",
            "  inflating: ./CelebA_HQ_facial_identity_dataset/train/1775/21994.jpg  \n",
            "  inflating: ./CelebA_HQ_facial_identity_dataset/train/1775/22028.jpg  \n",
            "  inflating: ./CelebA_HQ_facial_identity_dataset/train/1775/26343.jpg  \n",
            "  inflating: ./CelebA_HQ_facial_identity_dataset/train/1775/27511.jpg  \n",
            "  inflating: ./CelebA_HQ_facial_identity_dataset/train/1775/28545.jpg  \n",
            "  inflating: ./CelebA_HQ_facial_identity_dataset/train/1775/29297.jpg  \n",
            "  inflating: ./CelebA_HQ_facial_identity_dataset/train/1775/3929.jpg  \n",
            "   creating: ./CelebA_HQ_facial_identity_dataset/train/1781/\n",
            "  inflating: ./CelebA_HQ_facial_identity_dataset/train/1781/11072.jpg  \n",
            "  inflating: ./CelebA_HQ_facial_identity_dataset/train/1781/11109.jpg  \n",
            "  inflating: ./CelebA_HQ_facial_identity_dataset/train/1781/11443.jpg  \n",
            "  inflating: ./CelebA_HQ_facial_identity_dataset/train/1781/13597.jpg  \n",
            "  inflating: ./CelebA_HQ_facial_identity_dataset/train/1781/14034.jpg  \n",
            "  inflating: ./CelebA_HQ_facial_identity_dataset/train/1781/15350.jpg  \n",
            "  inflating: ./CelebA_HQ_facial_identity_dataset/train/1781/19396.jpg  \n",
            "  inflating: ./CelebA_HQ_facial_identity_dataset/train/1781/20214.jpg  \n",
            "  inflating: ./CelebA_HQ_facial_identity_dataset/train/1781/22799.jpg  \n",
            "  inflating: ./CelebA_HQ_facial_identity_dataset/train/1781/23320.jpg  \n",
            "  inflating: ./CelebA_HQ_facial_identity_dataset/train/1781/24650.jpg  \n",
            "  inflating: ./CelebA_HQ_facial_identity_dataset/train/1781/25334.jpg  \n",
            "   creating: ./CelebA_HQ_facial_identity_dataset/train/179/\n",
            "  inflating: ./CelebA_HQ_facial_identity_dataset/train/179/14758.jpg  \n",
            "  inflating: ./CelebA_HQ_facial_identity_dataset/train/179/15848.jpg  \n",
            "  inflating: ./CelebA_HQ_facial_identity_dataset/train/179/16263.jpg  \n",
            "  inflating: ./CelebA_HQ_facial_identity_dataset/train/179/17518.jpg  \n",
            "  inflating: ./CelebA_HQ_facial_identity_dataset/train/179/204.jpg  \n",
            "  inflating: ./CelebA_HQ_facial_identity_dataset/train/179/21342.jpg  \n",
            "  inflating: ./CelebA_HQ_facial_identity_dataset/train/179/27119.jpg  \n",
            "  inflating: ./CelebA_HQ_facial_identity_dataset/train/179/28511.jpg  \n",
            "  inflating: ./CelebA_HQ_facial_identity_dataset/train/179/3393.jpg  \n",
            "  inflating: ./CelebA_HQ_facial_identity_dataset/train/179/360.jpg  \n",
            "  inflating: ./CelebA_HQ_facial_identity_dataset/train/179/4020.jpg  \n",
            "  inflating: ./CelebA_HQ_facial_identity_dataset/train/179/4152.jpg  \n",
            "   creating: ./CelebA_HQ_facial_identity_dataset/train/1796/\n",
            "  inflating: ./CelebA_HQ_facial_identity_dataset/train/1796/10458.jpg  \n",
            "  inflating: ./CelebA_HQ_facial_identity_dataset/train/1796/12014.jpg  \n",
            "  inflating: ./CelebA_HQ_facial_identity_dataset/train/1796/16735.jpg  \n",
            "  inflating: ./CelebA_HQ_facial_identity_dataset/train/1796/17524.jpg  \n",
            "  inflating: ./CelebA_HQ_facial_identity_dataset/train/1796/18695.jpg  \n",
            "  inflating: ./CelebA_HQ_facial_identity_dataset/train/1796/23920.jpg  \n",
            "  inflating: ./CelebA_HQ_facial_identity_dataset/train/1796/24392.jpg  \n",
            "  inflating: ./CelebA_HQ_facial_identity_dataset/train/1796/26073.jpg  \n",
            "  inflating: ./CelebA_HQ_facial_identity_dataset/train/1796/4016.jpg  \n",
            "  inflating: ./CelebA_HQ_facial_identity_dataset/train/1796/5520.jpg  \n",
            "  inflating: ./CelebA_HQ_facial_identity_dataset/train/1796/6580.jpg  \n",
            "  inflating: ./CelebA_HQ_facial_identity_dataset/train/1796/6830.jpg  \n",
            "   creating: ./CelebA_HQ_facial_identity_dataset/train/180/\n",
            "  inflating: ./CelebA_HQ_facial_identity_dataset/train/180/10455.jpg  \n",
            "  inflating: ./CelebA_HQ_facial_identity_dataset/train/180/10755.jpg  \n",
            "  inflating: ./CelebA_HQ_facial_identity_dataset/train/180/1625.jpg  \n",
            "  inflating: ./CelebA_HQ_facial_identity_dataset/train/180/205.jpg  \n",
            "  inflating: ./CelebA_HQ_facial_identity_dataset/train/180/20885.jpg  \n",
            "  inflating: ./CelebA_HQ_facial_identity_dataset/train/180/2222.jpg  \n",
            "  inflating: ./CelebA_HQ_facial_identity_dataset/train/180/24125.jpg  \n",
            "  inflating: ./CelebA_HQ_facial_identity_dataset/train/180/2443.jpg  \n",
            "  inflating: ./CelebA_HQ_facial_identity_dataset/train/180/2643.jpg  \n",
            "  inflating: ./CelebA_HQ_facial_identity_dataset/train/180/28463.jpg  \n",
            "  inflating: ./CelebA_HQ_facial_identity_dataset/train/180/29365.jpg  \n",
            "  inflating: ./CelebA_HQ_facial_identity_dataset/train/180/5291.jpg  \n",
            "  inflating: ./CelebA_HQ_facial_identity_dataset/train/180/7394.jpg  \n",
            "   creating: ./CelebA_HQ_facial_identity_dataset/train/1800/\n",
            "  inflating: ./CelebA_HQ_facial_identity_dataset/train/1800/10339.jpg  \n",
            "  inflating: ./CelebA_HQ_facial_identity_dataset/train/1800/13536.jpg  \n",
            "  inflating: ./CelebA_HQ_facial_identity_dataset/train/1800/15443.jpg  \n",
            "  inflating: ./CelebA_HQ_facial_identity_dataset/train/1800/18932.jpg  \n",
            "  inflating: ./CelebA_HQ_facial_identity_dataset/train/1800/20182.jpg  \n",
            "  inflating: ./CelebA_HQ_facial_identity_dataset/train/1800/22565.jpg  \n",
            "  inflating: ./CelebA_HQ_facial_identity_dataset/train/1800/26746.jpg  \n",
            "  inflating: ./CelebA_HQ_facial_identity_dataset/train/1800/27812.jpg  \n",
            "  inflating: ./CelebA_HQ_facial_identity_dataset/train/1800/4035.jpg  \n",
            "  inflating: ./CelebA_HQ_facial_identity_dataset/train/1800/4791.jpg  \n",
            "  inflating: ./CelebA_HQ_facial_identity_dataset/train/1800/6706.jpg  \n",
            "  inflating: ./CelebA_HQ_facial_identity_dataset/train/1800/8137.jpg  \n",
            "   creating: ./CelebA_HQ_facial_identity_dataset/train/181/\n",
            "  inflating: ./CelebA_HQ_facial_identity_dataset/train/181/10466.jpg  \n",
            "  inflating: ./CelebA_HQ_facial_identity_dataset/train/181/10603.jpg  \n",
            "  inflating: ./CelebA_HQ_facial_identity_dataset/train/181/12292.jpg  \n",
            "  inflating: ./CelebA_HQ_facial_identity_dataset/train/181/15687.jpg  \n",
            "  inflating: ./CelebA_HQ_facial_identity_dataset/train/181/1688.jpg  \n",
            "  inflating: ./CelebA_HQ_facial_identity_dataset/train/181/17028.jpg  \n",
            "  inflating: ./CelebA_HQ_facial_identity_dataset/train/181/17165.jpg  \n",
            "  inflating: ./CelebA_HQ_facial_identity_dataset/train/181/17655.jpg  \n",
            "  inflating: ./CelebA_HQ_facial_identity_dataset/train/181/1928.jpg  \n",
            "  inflating: ./CelebA_HQ_facial_identity_dataset/train/181/206.jpg  \n",
            "  inflating: ./CelebA_HQ_facial_identity_dataset/train/181/239.jpg  \n",
            "  inflating: ./CelebA_HQ_facial_identity_dataset/train/181/3240.jpg  \n",
            "  inflating: ./CelebA_HQ_facial_identity_dataset/train/181/361.jpg  \n",
            "  inflating: ./CelebA_HQ_facial_identity_dataset/train/181/4814.jpg  \n",
            "   creating: ./CelebA_HQ_facial_identity_dataset/train/182/\n",
            "  inflating: ./CelebA_HQ_facial_identity_dataset/train/182/11166.jpg  \n",
            "  inflating: ./CelebA_HQ_facial_identity_dataset/train/182/11386.jpg  \n",
            "  inflating: ./CelebA_HQ_facial_identity_dataset/train/182/16843.jpg  \n",
            "  inflating: ./CelebA_HQ_facial_identity_dataset/train/182/207.jpg  \n",
            "  inflating: ./CelebA_HQ_facial_identity_dataset/train/182/21105.jpg  \n",
            "  inflating: ./CelebA_HQ_facial_identity_dataset/train/182/2214.jpg  \n",
            "  inflating: ./CelebA_HQ_facial_identity_dataset/train/182/24734.jpg  \n",
            "  inflating: ./CelebA_HQ_facial_identity_dataset/train/182/26396.jpg  \n",
            "  inflating: ./CelebA_HQ_facial_identity_dataset/train/182/27935.jpg  \n",
            "  inflating: ./CelebA_HQ_facial_identity_dataset/train/182/2846.jpg  \n",
            "  inflating: ./CelebA_HQ_facial_identity_dataset/train/182/6508.jpg  \n",
            "  inflating: ./CelebA_HQ_facial_identity_dataset/train/182/6790.jpg  \n",
            "  inflating: ./CelebA_HQ_facial_identity_dataset/train/182/7192.jpg  \n",
            "   creating: ./CelebA_HQ_facial_identity_dataset/train/1823/\n",
            "  inflating: ./CelebA_HQ_facial_identity_dataset/train/1823/10114.jpg  \n",
            "  inflating: ./CelebA_HQ_facial_identity_dataset/train/1823/10555.jpg  \n",
            "  inflating: ./CelebA_HQ_facial_identity_dataset/train/1823/10738.jpg  \n",
            "  inflating: ./CelebA_HQ_facial_identity_dataset/train/1823/11200.jpg  \n",
            "  inflating: ./CelebA_HQ_facial_identity_dataset/train/1823/11569.jpg  \n",
            "  inflating: ./CelebA_HQ_facial_identity_dataset/train/1823/15740.jpg  \n",
            "  inflating: ./CelebA_HQ_facial_identity_dataset/train/1823/17889.jpg  \n",
            "  inflating: ./CelebA_HQ_facial_identity_dataset/train/1823/22957.jpg  \n",
            "  inflating: ./CelebA_HQ_facial_identity_dataset/train/1823/26685.jpg  \n",
            "  inflating: ./CelebA_HQ_facial_identity_dataset/train/1823/4102.jpg  \n",
            "  inflating: ./CelebA_HQ_facial_identity_dataset/train/1823/6129.jpg  \n",
            "  inflating: ./CelebA_HQ_facial_identity_dataset/train/1823/6667.jpg  \n",
            "  inflating: ./CelebA_HQ_facial_identity_dataset/train/1823/7377.jpg  \n",
            "   creating: ./CelebA_HQ_facial_identity_dataset/train/183/\n",
            "  inflating: ./CelebA_HQ_facial_identity_dataset/train/183/11785.jpg  \n",
            "  inflating: ./CelebA_HQ_facial_identity_dataset/train/183/12354.jpg  \n",
            "  inflating: ./CelebA_HQ_facial_identity_dataset/train/183/14669.jpg  \n",
            "  inflating: ./CelebA_HQ_facial_identity_dataset/train/183/1861.jpg  \n",
            "  inflating: ./CelebA_HQ_facial_identity_dataset/train/183/19857.jpg  \n",
            "  inflating: ./CelebA_HQ_facial_identity_dataset/train/183/208.jpg  \n",
            "  inflating: ./CelebA_HQ_facial_identity_dataset/train/183/23228.jpg  \n",
            "  inflating: ./CelebA_HQ_facial_identity_dataset/train/183/25132.jpg  \n",
            "  inflating: ./CelebA_HQ_facial_identity_dataset/train/183/2737.jpg  \n",
            "  inflating: ./CelebA_HQ_facial_identity_dataset/train/183/28717.jpg  \n",
            "  inflating: ./CelebA_HQ_facial_identity_dataset/train/183/3441.jpg  \n",
            "  inflating: ./CelebA_HQ_facial_identity_dataset/train/183/4252.jpg  \n",
            "  inflating: ./CelebA_HQ_facial_identity_dataset/train/183/4341.jpg  \n",
            "  inflating: ./CelebA_HQ_facial_identity_dataset/train/183/495.jpg  \n",
            "   creating: ./CelebA_HQ_facial_identity_dataset/train/1837/\n",
            "  inflating: ./CelebA_HQ_facial_identity_dataset/train/1837/11133.jpg  \n",
            "  inflating: ./CelebA_HQ_facial_identity_dataset/train/1837/13585.jpg  \n",
            "  inflating: ./CelebA_HQ_facial_identity_dataset/train/1837/15045.jpg  \n",
            "  inflating: ./CelebA_HQ_facial_identity_dataset/train/1837/17222.jpg  \n",
            "  inflating: ./CelebA_HQ_facial_identity_dataset/train/1837/18496.jpg  \n",
            "  inflating: ./CelebA_HQ_facial_identity_dataset/train/1837/18704.jpg  \n",
            "  inflating: ./CelebA_HQ_facial_identity_dataset/train/1837/19188.jpg  \n",
            "  inflating: ./CelebA_HQ_facial_identity_dataset/train/1837/21002.jpg  \n",
            "  inflating: ./CelebA_HQ_facial_identity_dataset/train/1837/23502.jpg  \n",
            "  inflating: ./CelebA_HQ_facial_identity_dataset/train/1837/23759.jpg  \n",
            "  inflating: ./CelebA_HQ_facial_identity_dataset/train/1837/24898.jpg  \n",
            "  inflating: ./CelebA_HQ_facial_identity_dataset/train/1837/25428.jpg  \n",
            "  inflating: ./CelebA_HQ_facial_identity_dataset/train/1837/29721.jpg  \n",
            "   creating: ./CelebA_HQ_facial_identity_dataset/train/1838/\n",
            "  inflating: ./CelebA_HQ_facial_identity_dataset/train/1838/12333.jpg  \n",
            "  inflating: ./CelebA_HQ_facial_identity_dataset/train/1838/14188.jpg  \n",
            "  inflating: ./CelebA_HQ_facial_identity_dataset/train/1838/14930.jpg  \n",
            "  inflating: ./CelebA_HQ_facial_identity_dataset/train/1838/15540.jpg  \n",
            "  inflating: ./CelebA_HQ_facial_identity_dataset/train/1838/16067.jpg  \n",
            "  inflating: ./CelebA_HQ_facial_identity_dataset/train/1838/16348.jpg  \n",
            "  inflating: ./CelebA_HQ_facial_identity_dataset/train/1838/16384.jpg  \n",
            "  inflating: ./CelebA_HQ_facial_identity_dataset/train/1838/17441.jpg  \n",
            "  inflating: ./CelebA_HQ_facial_identity_dataset/train/1838/17708.jpg  \n",
            "  inflating: ./CelebA_HQ_facial_identity_dataset/train/1838/18096.jpg  \n",
            "  inflating: ./CelebA_HQ_facial_identity_dataset/train/1838/18500.jpg  \n",
            "  inflating: ./CelebA_HQ_facial_identity_dataset/train/1838/18621.jpg  \n",
            "   creating: ./CelebA_HQ_facial_identity_dataset/train/1848/\n",
            "  inflating: ./CelebA_HQ_facial_identity_dataset/train/1848/11231.jpg  \n",
            "  inflating: ./CelebA_HQ_facial_identity_dataset/train/1848/12312.jpg  \n",
            "  inflating: ./CelebA_HQ_facial_identity_dataset/train/1848/12954.jpg  \n",
            "  inflating: ./CelebA_HQ_facial_identity_dataset/train/1848/14639.jpg  \n",
            "  inflating: ./CelebA_HQ_facial_identity_dataset/train/1848/17795.jpg  \n",
            "  inflating: ./CelebA_HQ_facial_identity_dataset/train/1848/19219.jpg  \n",
            "  inflating: ./CelebA_HQ_facial_identity_dataset/train/1848/19571.jpg  \n",
            "  inflating: ./CelebA_HQ_facial_identity_dataset/train/1848/26831.jpg  \n",
            "  inflating: ./CelebA_HQ_facial_identity_dataset/train/1848/26875.jpg  \n",
            "  inflating: ./CelebA_HQ_facial_identity_dataset/train/1848/27694.jpg  \n",
            "  inflating: ./CelebA_HQ_facial_identity_dataset/train/1848/27849.jpg  \n",
            "  inflating: ./CelebA_HQ_facial_identity_dataset/train/1848/28398.jpg  \n",
            "   creating: ./CelebA_HQ_facial_identity_dataset/train/188/\n",
            "  inflating: ./CelebA_HQ_facial_identity_dataset/train/188/12236.jpg  \n",
            "  inflating: ./CelebA_HQ_facial_identity_dataset/train/188/1249.jpg  \n",
            "  inflating: ./CelebA_HQ_facial_identity_dataset/train/188/1258.jpg  \n",
            "  inflating: ./CelebA_HQ_facial_identity_dataset/train/188/1334.jpg  \n",
            "  inflating: ./CelebA_HQ_facial_identity_dataset/train/188/1408.jpg  \n",
            "  inflating: ./CelebA_HQ_facial_identity_dataset/train/188/14090.jpg  \n",
            "  inflating: ./CelebA_HQ_facial_identity_dataset/train/188/14242.jpg  \n",
            "  inflating: ./CelebA_HQ_facial_identity_dataset/train/188/1537.jpg  \n",
            "  inflating: ./CelebA_HQ_facial_identity_dataset/train/188/1897.jpg  \n",
            "  inflating: ./CelebA_HQ_facial_identity_dataset/train/188/19053.jpg  \n",
            "  inflating: ./CelebA_HQ_facial_identity_dataset/train/188/1931.jpg  \n",
            "  inflating: ./CelebA_HQ_facial_identity_dataset/train/188/1985.jpg  \n",
            "  inflating: ./CelebA_HQ_facial_identity_dataset/train/188/214.jpg  \n",
            "  inflating: ./CelebA_HQ_facial_identity_dataset/train/188/2800.jpg  \n",
            "  inflating: ./CelebA_HQ_facial_identity_dataset/train/188/3678.jpg  \n",
            "  inflating: ./CelebA_HQ_facial_identity_dataset/train/188/3869.jpg  \n",
            "  inflating: ./CelebA_HQ_facial_identity_dataset/train/188/4187.jpg  \n",
            "  inflating: ./CelebA_HQ_facial_identity_dataset/train/188/424.jpg  \n",
            "  inflating: ./CelebA_HQ_facial_identity_dataset/train/188/553.jpg  \n",
            "   creating: ./CelebA_HQ_facial_identity_dataset/train/1904/\n",
            "  inflating: ./CelebA_HQ_facial_identity_dataset/train/1904/11530.jpg  \n",
            "  inflating: ./CelebA_HQ_facial_identity_dataset/train/1904/12897.jpg  \n",
            "  inflating: ./CelebA_HQ_facial_identity_dataset/train/1904/13412.jpg  \n",
            "  inflating: ./CelebA_HQ_facial_identity_dataset/train/1904/17513.jpg  \n",
            "  inflating: ./CelebA_HQ_facial_identity_dataset/train/1904/18161.jpg  \n",
            "  inflating: ./CelebA_HQ_facial_identity_dataset/train/1904/21198.jpg  \n",
            "  inflating: ./CelebA_HQ_facial_identity_dataset/train/1904/23384.jpg  \n",
            "  inflating: ./CelebA_HQ_facial_identity_dataset/train/1904/26888.jpg  \n",
            "  inflating: ./CelebA_HQ_facial_identity_dataset/train/1904/28087.jpg  \n",
            "  inflating: ./CelebA_HQ_facial_identity_dataset/train/1904/4398.jpg  \n",
            "  inflating: ./CelebA_HQ_facial_identity_dataset/train/1904/5364.jpg  \n",
            "  inflating: ./CelebA_HQ_facial_identity_dataset/train/1904/7034.jpg  \n",
            "   creating: ./CelebA_HQ_facial_identity_dataset/train/1930/\n",
            "  inflating: ./CelebA_HQ_facial_identity_dataset/train/1930/10914.jpg  \n",
            "  inflating: ./CelebA_HQ_facial_identity_dataset/train/1930/11573.jpg  \n",
            "  inflating: ./CelebA_HQ_facial_identity_dataset/train/1930/12577.jpg  \n",
            "  inflating: ./CelebA_HQ_facial_identity_dataset/train/1930/14624.jpg  \n",
            "  inflating: ./CelebA_HQ_facial_identity_dataset/train/1930/18997.jpg  \n",
            "  inflating: ./CelebA_HQ_facial_identity_dataset/train/1930/20426.jpg  \n",
            "  inflating: ./CelebA_HQ_facial_identity_dataset/train/1930/23089.jpg  \n",
            "  inflating: ./CelebA_HQ_facial_identity_dataset/train/1930/24495.jpg  \n",
            "  inflating: ./CelebA_HQ_facial_identity_dataset/train/1930/4511.jpg  \n",
            "  inflating: ./CelebA_HQ_facial_identity_dataset/train/1930/7042.jpg  \n",
            "  inflating: ./CelebA_HQ_facial_identity_dataset/train/1930/7390.jpg  \n",
            "  inflating: ./CelebA_HQ_facial_identity_dataset/train/1930/7875.jpg  \n",
            "  inflating: ./CelebA_HQ_facial_identity_dataset/train/1930/8877.jpg  \n",
            "  inflating: ./CelebA_HQ_facial_identity_dataset/train/1930/9106.jpg  \n",
            "   creating: ./CelebA_HQ_facial_identity_dataset/train/194/\n",
            "  inflating: ./CelebA_HQ_facial_identity_dataset/train/194/11804.jpg  \n",
            "  inflating: ./CelebA_HQ_facial_identity_dataset/train/194/18313.jpg  \n",
            "  inflating: ./CelebA_HQ_facial_identity_dataset/train/194/2061.jpg  \n",
            "  inflating: ./CelebA_HQ_facial_identity_dataset/train/194/221.jpg  \n",
            "  inflating: ./CelebA_HQ_facial_identity_dataset/train/194/2352.jpg  \n",
            "  inflating: ./CelebA_HQ_facial_identity_dataset/train/194/23962.jpg  \n",
            "  inflating: ./CelebA_HQ_facial_identity_dataset/train/194/24710.jpg  \n",
            "  inflating: ./CelebA_HQ_facial_identity_dataset/train/194/27873.jpg  \n",
            "  inflating: ./CelebA_HQ_facial_identity_dataset/train/194/27942.jpg  \n",
            "  inflating: ./CelebA_HQ_facial_identity_dataset/train/194/3842.jpg  \n",
            "  inflating: ./CelebA_HQ_facial_identity_dataset/train/194/4302.jpg  \n",
            "  inflating: ./CelebA_HQ_facial_identity_dataset/train/194/8075.jpg  \n",
            "   creating: ./CelebA_HQ_facial_identity_dataset/train/195/\n",
            "  inflating: ./CelebA_HQ_facial_identity_dataset/train/195/10998.jpg  \n",
            "  inflating: ./CelebA_HQ_facial_identity_dataset/train/195/12613.jpg  \n",
            "  inflating: ./CelebA_HQ_facial_identity_dataset/train/195/13001.jpg  \n",
            "  inflating: ./CelebA_HQ_facial_identity_dataset/train/195/14257.jpg  \n",
            "  inflating: ./CelebA_HQ_facial_identity_dataset/train/195/15470.jpg  \n",
            "  inflating: ./CelebA_HQ_facial_identity_dataset/train/195/18148.jpg  \n",
            "  inflating: ./CelebA_HQ_facial_identity_dataset/train/195/18188.jpg  \n",
            "  inflating: ./CelebA_HQ_facial_identity_dataset/train/195/19726.jpg  \n",
            "  inflating: ./CelebA_HQ_facial_identity_dataset/train/195/21816.jpg  \n",
            "  inflating: ./CelebA_HQ_facial_identity_dataset/train/195/223.jpg  \n",
            "  inflating: ./CelebA_HQ_facial_identity_dataset/train/195/25770.jpg  \n",
            "  inflating: ./CelebA_HQ_facial_identity_dataset/train/195/2724.jpg  \n",
            "  inflating: ./CelebA_HQ_facial_identity_dataset/train/195/29465.jpg  \n",
            "   creating: ./CelebA_HQ_facial_identity_dataset/train/196/\n",
            "  inflating: ./CelebA_HQ_facial_identity_dataset/train/196/1010.jpg  \n",
            "  inflating: ./CelebA_HQ_facial_identity_dataset/train/196/11248.jpg  \n",
            "  inflating: ./CelebA_HQ_facial_identity_dataset/train/196/11361.jpg  \n",
            "  inflating: ./CelebA_HQ_facial_identity_dataset/train/196/12285.jpg  \n",
            "  inflating: ./CelebA_HQ_facial_identity_dataset/train/196/1663.jpg  \n",
            "  inflating: ./CelebA_HQ_facial_identity_dataset/train/196/16925.jpg  \n",
            "  inflating: ./CelebA_HQ_facial_identity_dataset/train/196/20786.jpg  \n",
            "  inflating: ./CelebA_HQ_facial_identity_dataset/train/196/20920.jpg  \n",
            "  inflating: ./CelebA_HQ_facial_identity_dataset/train/196/22383.jpg  \n",
            "  inflating: ./CelebA_HQ_facial_identity_dataset/train/196/224.jpg  \n",
            "  inflating: ./CelebA_HQ_facial_identity_dataset/train/196/23172.jpg  \n",
            "  inflating: ./CelebA_HQ_facial_identity_dataset/train/196/2439.jpg  \n",
            "  inflating: ./CelebA_HQ_facial_identity_dataset/train/196/3534.jpg  \n",
            "  inflating: ./CelebA_HQ_facial_identity_dataset/train/196/5004.jpg  \n",
            "  inflating: ./CelebA_HQ_facial_identity_dataset/train/196/5013.jpg  \n",
            "  inflating: ./CelebA_HQ_facial_identity_dataset/train/196/5570.jpg  \n",
            "  inflating: ./CelebA_HQ_facial_identity_dataset/train/196/5764.jpg  \n",
            "   creating: ./CelebA_HQ_facial_identity_dataset/train/1965/\n",
            "  inflating: ./CelebA_HQ_facial_identity_dataset/train/1965/10386.jpg  \n",
            "  inflating: ./CelebA_HQ_facial_identity_dataset/train/1965/10691.jpg  \n",
            "  inflating: ./CelebA_HQ_facial_identity_dataset/train/1965/13195.jpg  \n",
            "  inflating: ./CelebA_HQ_facial_identity_dataset/train/1965/19909.jpg  \n",
            "  inflating: ./CelebA_HQ_facial_identity_dataset/train/1965/20466.jpg  \n",
            "  inflating: ./CelebA_HQ_facial_identity_dataset/train/1965/21032.jpg  \n",
            "  inflating: ./CelebA_HQ_facial_identity_dataset/train/1965/22612.jpg  \n",
            "  inflating: ./CelebA_HQ_facial_identity_dataset/train/1965/22825.jpg  \n",
            "  inflating: ./CelebA_HQ_facial_identity_dataset/train/1965/24410.jpg  \n",
            "  inflating: ./CelebA_HQ_facial_identity_dataset/train/1965/26956.jpg  \n",
            "  inflating: ./CelebA_HQ_facial_identity_dataset/train/1965/28311.jpg  \n",
            "  inflating: ./CelebA_HQ_facial_identity_dataset/train/1965/4626.jpg  \n",
            "  inflating: ./CelebA_HQ_facial_identity_dataset/train/1965/7454.jpg  \n",
            "   creating: ./CelebA_HQ_facial_identity_dataset/train/1972/\n",
            "  inflating: ./CelebA_HQ_facial_identity_dataset/train/1972/10207.jpg  \n",
            "  inflating: ./CelebA_HQ_facial_identity_dataset/train/1972/16876.jpg  \n",
            "  inflating: ./CelebA_HQ_facial_identity_dataset/train/1972/16951.jpg  \n",
            "  inflating: ./CelebA_HQ_facial_identity_dataset/train/1972/17007.jpg  \n",
            "  inflating: ./CelebA_HQ_facial_identity_dataset/train/1972/17058.jpg  \n",
            "  inflating: ./CelebA_HQ_facial_identity_dataset/train/1972/19870.jpg  \n",
            "  inflating: ./CelebA_HQ_facial_identity_dataset/train/1972/21597.jpg  \n",
            "  inflating: ./CelebA_HQ_facial_identity_dataset/train/1972/24616.jpg  \n",
            "  inflating: ./CelebA_HQ_facial_identity_dataset/train/1972/25811.jpg  \n",
            "  inflating: ./CelebA_HQ_facial_identity_dataset/train/1972/25933.jpg  \n",
            "  inflating: ./CelebA_HQ_facial_identity_dataset/train/1972/26248.jpg  \n",
            "  inflating: ./CelebA_HQ_facial_identity_dataset/train/1972/26476.jpg  \n",
            "   creating: ./CelebA_HQ_facial_identity_dataset/train/1974/\n",
            "  inflating: ./CelebA_HQ_facial_identity_dataset/train/1974/10817.jpg  \n",
            "  inflating: ./CelebA_HQ_facial_identity_dataset/train/1974/11596.jpg  \n",
            "  inflating: ./CelebA_HQ_facial_identity_dataset/train/1974/12469.jpg  \n",
            "  inflating: ./CelebA_HQ_facial_identity_dataset/train/1974/13010.jpg  \n",
            "  inflating: ./CelebA_HQ_facial_identity_dataset/train/1974/13535.jpg  \n",
            "  inflating: ./CelebA_HQ_facial_identity_dataset/train/1974/13641.jpg  \n",
            "  inflating: ./CelebA_HQ_facial_identity_dataset/train/1974/14462.jpg  \n",
            "  inflating: ./CelebA_HQ_facial_identity_dataset/train/1974/18480.jpg  \n",
            "  inflating: ./CelebA_HQ_facial_identity_dataset/train/1974/18552.jpg  \n",
            "  inflating: ./CelebA_HQ_facial_identity_dataset/train/1974/19094.jpg  \n",
            "  inflating: ./CelebA_HQ_facial_identity_dataset/train/1974/20552.jpg  \n",
            "  inflating: ./CelebA_HQ_facial_identity_dataset/train/1974/21056.jpg  \n",
            "  inflating: ./CelebA_HQ_facial_identity_dataset/train/1974/21226.jpg  \n",
            "   creating: ./CelebA_HQ_facial_identity_dataset/train/198/\n",
            "  inflating: ./CelebA_HQ_facial_identity_dataset/train/198/12913.jpg  \n",
            "  inflating: ./CelebA_HQ_facial_identity_dataset/train/198/17161.jpg  \n",
            "  inflating: ./CelebA_HQ_facial_identity_dataset/train/198/20663.jpg  \n",
            "  inflating: ./CelebA_HQ_facial_identity_dataset/train/198/226.jpg  \n",
            "  inflating: ./CelebA_HQ_facial_identity_dataset/train/198/2562.jpg  \n",
            "  inflating: ./CelebA_HQ_facial_identity_dataset/train/198/2688.jpg  \n",
            "  inflating: ./CelebA_HQ_facial_identity_dataset/train/198/27226.jpg  \n",
            "  inflating: ./CelebA_HQ_facial_identity_dataset/train/198/29318.jpg  \n",
            "  inflating: ./CelebA_HQ_facial_identity_dataset/train/198/3104.jpg  \n",
            "  inflating: ./CelebA_HQ_facial_identity_dataset/train/198/3321.jpg  \n",
            "  inflating: ./CelebA_HQ_facial_identity_dataset/train/198/3485.jpg  \n",
            "  inflating: ./CelebA_HQ_facial_identity_dataset/train/198/4815.jpg  \n",
            "  inflating: ./CelebA_HQ_facial_identity_dataset/train/198/6206.jpg  \n",
            "   creating: ./CelebA_HQ_facial_identity_dataset/train/1989/\n",
            "  inflating: ./CelebA_HQ_facial_identity_dataset/train/1989/10669.jpg  \n",
            "  inflating: ./CelebA_HQ_facial_identity_dataset/train/1989/16170.jpg  \n",
            "  inflating: ./CelebA_HQ_facial_identity_dataset/train/1989/19788.jpg  \n",
            "  inflating: ./CelebA_HQ_facial_identity_dataset/train/1989/21172.jpg  \n",
            "  inflating: ./CelebA_HQ_facial_identity_dataset/train/1989/23413.jpg  \n",
            "  inflating: ./CelebA_HQ_facial_identity_dataset/train/1989/26515.jpg  \n",
            "  inflating: ./CelebA_HQ_facial_identity_dataset/train/1989/26589.jpg  \n",
            "  inflating: ./CelebA_HQ_facial_identity_dataset/train/1989/26742.jpg  \n",
            "  inflating: ./CelebA_HQ_facial_identity_dataset/train/1989/4738.jpg  \n",
            "  inflating: ./CelebA_HQ_facial_identity_dataset/train/1989/4846.jpg  \n",
            "  inflating: ./CelebA_HQ_facial_identity_dataset/train/1989/5841.jpg  \n",
            "  inflating: ./CelebA_HQ_facial_identity_dataset/train/1989/7458.jpg  \n",
            "   creating: ./CelebA_HQ_facial_identity_dataset/train/199/\n",
            "  inflating: ./CelebA_HQ_facial_identity_dataset/train/199/10838.jpg  \n",
            "  inflating: ./CelebA_HQ_facial_identity_dataset/train/199/1096.jpg  \n",
            "  inflating: ./CelebA_HQ_facial_identity_dataset/train/199/13258.jpg  \n",
            "  inflating: ./CelebA_HQ_facial_identity_dataset/train/199/1988.jpg  \n",
            "  inflating: ./CelebA_HQ_facial_identity_dataset/train/199/227.jpg  \n",
            "  inflating: ./CelebA_HQ_facial_identity_dataset/train/199/2291.jpg  \n",
            "  inflating: ./CelebA_HQ_facial_identity_dataset/train/199/2388.jpg  \n",
            "  inflating: ./CelebA_HQ_facial_identity_dataset/train/199/28179.jpg  \n",
            "  inflating: ./CelebA_HQ_facial_identity_dataset/train/199/29458.jpg  \n",
            "  inflating: ./CelebA_HQ_facial_identity_dataset/train/199/3984.jpg  \n",
            "  inflating: ./CelebA_HQ_facial_identity_dataset/train/199/5301.jpg  \n",
            "  inflating: ./CelebA_HQ_facial_identity_dataset/train/199/5883.jpg  \n",
            "   creating: ./CelebA_HQ_facial_identity_dataset/train/2020/\n",
            "  inflating: ./CelebA_HQ_facial_identity_dataset/train/2020/11341.jpg  \n",
            "  inflating: ./CelebA_HQ_facial_identity_dataset/train/2020/11866.jpg  \n",
            "  inflating: ./CelebA_HQ_facial_identity_dataset/train/2020/12427.jpg  \n",
            "  inflating: ./CelebA_HQ_facial_identity_dataset/train/2020/13451.jpg  \n",
            "  inflating: ./CelebA_HQ_facial_identity_dataset/train/2020/14052.jpg  \n",
            "  inflating: ./CelebA_HQ_facial_identity_dataset/train/2020/14190.jpg  \n",
            "  inflating: ./CelebA_HQ_facial_identity_dataset/train/2020/15413.jpg  \n",
            "  inflating: ./CelebA_HQ_facial_identity_dataset/train/2020/16626.jpg  \n",
            "  inflating: ./CelebA_HQ_facial_identity_dataset/train/2020/16665.jpg  \n",
            "  inflating: ./CelebA_HQ_facial_identity_dataset/train/2020/16830.jpg  \n",
            "  inflating: ./CelebA_HQ_facial_identity_dataset/train/2020/19556.jpg  \n",
            "  inflating: ./CelebA_HQ_facial_identity_dataset/train/2020/22717.jpg  \n",
            "   creating: ./CelebA_HQ_facial_identity_dataset/train/203/\n",
            "  inflating: ./CelebA_HQ_facial_identity_dataset/train/203/13505.jpg  \n",
            "  inflating: ./CelebA_HQ_facial_identity_dataset/train/203/13879.jpg  \n",
            "  inflating: ./CelebA_HQ_facial_identity_dataset/train/203/1514.jpg  \n",
            "  inflating: ./CelebA_HQ_facial_identity_dataset/train/203/16806.jpg  \n",
            "  inflating: ./CelebA_HQ_facial_identity_dataset/train/203/17285.jpg  \n",
            "  inflating: ./CelebA_HQ_facial_identity_dataset/train/203/21459.jpg  \n",
            "  inflating: ./CelebA_HQ_facial_identity_dataset/train/203/22544.jpg  \n",
            "  inflating: ./CelebA_HQ_facial_identity_dataset/train/203/231.jpg  \n",
            "  inflating: ./CelebA_HQ_facial_identity_dataset/train/203/24013.jpg  \n",
            "  inflating: ./CelebA_HQ_facial_identity_dataset/train/203/24061.jpg  \n",
            "  inflating: ./CelebA_HQ_facial_identity_dataset/train/203/27875.jpg  \n",
            "  inflating: ./CelebA_HQ_facial_identity_dataset/train/203/29271.jpg  \n",
            "  inflating: ./CelebA_HQ_facial_identity_dataset/train/203/3201.jpg  \n",
            "  inflating: ./CelebA_HQ_facial_identity_dataset/train/203/333.jpg  \n",
            "  inflating: ./CelebA_HQ_facial_identity_dataset/train/203/3969.jpg  \n",
            "   creating: ./CelebA_HQ_facial_identity_dataset/train/2037/\n",
            "  inflating: ./CelebA_HQ_facial_identity_dataset/train/2037/13094.jpg  \n",
            "  inflating: ./CelebA_HQ_facial_identity_dataset/train/2037/13282.jpg  \n",
            "  inflating: ./CelebA_HQ_facial_identity_dataset/train/2037/13377.jpg  \n",
            "  inflating: ./CelebA_HQ_facial_identity_dataset/train/2037/13645.jpg  \n",
            "  inflating: ./CelebA_HQ_facial_identity_dataset/train/2037/17834.jpg  \n",
            "  inflating: ./CelebA_HQ_facial_identity_dataset/train/2037/20224.jpg  \n",
            "  inflating: ./CelebA_HQ_facial_identity_dataset/train/2037/21100.jpg  \n",
            "  inflating: ./CelebA_HQ_facial_identity_dataset/train/2037/22530.jpg  \n",
            "  inflating: ./CelebA_HQ_facial_identity_dataset/train/2037/24688.jpg  \n",
            "  inflating: ./CelebA_HQ_facial_identity_dataset/train/2037/26213.jpg  \n",
            "  inflating: ./CelebA_HQ_facial_identity_dataset/train/2037/27804.jpg  \n",
            "  inflating: ./CelebA_HQ_facial_identity_dataset/train/2037/29272.jpg  \n",
            "  inflating: ./CelebA_HQ_facial_identity_dataset/train/2037/4926.jpg  \n",
            "  inflating: ./CelebA_HQ_facial_identity_dataset/train/2037/5795.jpg  \n",
            "  inflating: ./CelebA_HQ_facial_identity_dataset/train/2037/7219.jpg  \n",
            "   creating: ./CelebA_HQ_facial_identity_dataset/train/204/\n",
            "  inflating: ./CelebA_HQ_facial_identity_dataset/train/204/1041.jpg  \n",
            "  inflating: ./CelebA_HQ_facial_identity_dataset/train/204/11733.jpg  \n",
            "  inflating: ./CelebA_HQ_facial_identity_dataset/train/204/11874.jpg  \n",
            "  inflating: ./CelebA_HQ_facial_identity_dataset/train/204/232.jpg  \n",
            "  inflating: ./CelebA_HQ_facial_identity_dataset/train/204/25567.jpg  \n",
            "  inflating: ./CelebA_HQ_facial_identity_dataset/train/204/25604.jpg  \n",
            "  inflating: ./CelebA_HQ_facial_identity_dataset/train/204/29741.jpg  \n",
            "  inflating: ./CelebA_HQ_facial_identity_dataset/train/204/3122.jpg  \n",
            "  inflating: ./CelebA_HQ_facial_identity_dataset/train/204/4619.jpg  \n",
            "  inflating: ./CelebA_HQ_facial_identity_dataset/train/204/4735.jpg  \n",
            "  inflating: ./CelebA_HQ_facial_identity_dataset/train/204/4942.jpg  \n",
            "  inflating: ./CelebA_HQ_facial_identity_dataset/train/204/6030.jpg  \n",
            "   creating: ./CelebA_HQ_facial_identity_dataset/train/205/\n",
            "  inflating: ./CelebA_HQ_facial_identity_dataset/train/205/11492.jpg  \n",
            "  inflating: ./CelebA_HQ_facial_identity_dataset/train/205/11933.jpg  \n",
            "  inflating: ./CelebA_HQ_facial_identity_dataset/train/205/14640.jpg  \n",
            "  inflating: ./CelebA_HQ_facial_identity_dataset/train/205/14685.jpg  \n",
            "  inflating: ./CelebA_HQ_facial_identity_dataset/train/205/2203.jpg  \n",
            "  inflating: ./CelebA_HQ_facial_identity_dataset/train/205/233.jpg  \n",
            "  inflating: ./CelebA_HQ_facial_identity_dataset/train/205/27433.jpg  \n",
            "  inflating: ./CelebA_HQ_facial_identity_dataset/train/205/28779.jpg  \n",
            "  inflating: ./CelebA_HQ_facial_identity_dataset/train/205/29244.jpg  \n",
            "  inflating: ./CelebA_HQ_facial_identity_dataset/train/205/3331.jpg  \n",
            "  inflating: ./CelebA_HQ_facial_identity_dataset/train/205/4131.jpg  \n",
            "  inflating: ./CelebA_HQ_facial_identity_dataset/train/205/4955.jpg  \n",
            "   creating: ./CelebA_HQ_facial_identity_dataset/train/206/\n",
            "  inflating: ./CelebA_HQ_facial_identity_dataset/train/206/10372.jpg  \n",
            "  inflating: ./CelebA_HQ_facial_identity_dataset/train/206/10481.jpg  \n",
            "  inflating: ./CelebA_HQ_facial_identity_dataset/train/206/12403.jpg  \n",
            "  inflating: ./CelebA_HQ_facial_identity_dataset/train/206/13200.jpg  \n",
            "  inflating: ./CelebA_HQ_facial_identity_dataset/train/206/13795.jpg  \n",
            "  inflating: ./CelebA_HQ_facial_identity_dataset/train/206/15973.jpg  \n",
            "  inflating: ./CelebA_HQ_facial_identity_dataset/train/206/1796.jpg  \n",
            "  inflating: ./CelebA_HQ_facial_identity_dataset/train/206/18581.jpg  \n",
            "  inflating: ./CelebA_HQ_facial_identity_dataset/train/206/1957.jpg  \n",
            "  inflating: ./CelebA_HQ_facial_identity_dataset/train/206/22303.jpg  \n",
            "  inflating: ./CelebA_HQ_facial_identity_dataset/train/206/2276.jpg  \n",
            "  inflating: ./CelebA_HQ_facial_identity_dataset/train/206/234.jpg  \n",
            "  inflating: ./CelebA_HQ_facial_identity_dataset/train/206/2847.jpg  \n",
            "  inflating: ./CelebA_HQ_facial_identity_dataset/train/206/2872.jpg  \n",
            "  inflating: ./CelebA_HQ_facial_identity_dataset/train/206/3425.jpg  \n",
            "   creating: ./CelebA_HQ_facial_identity_dataset/train/2076/\n",
            "  inflating: ./CelebA_HQ_facial_identity_dataset/train/2076/10547.jpg  \n",
            "  inflating: ./CelebA_HQ_facial_identity_dataset/train/2076/11039.jpg  \n",
            "  inflating: ./CelebA_HQ_facial_identity_dataset/train/2076/12170.jpg  \n",
            "  inflating: ./CelebA_HQ_facial_identity_dataset/train/2076/14048.jpg  \n",
            "  inflating: ./CelebA_HQ_facial_identity_dataset/train/2076/14105.jpg  \n",
            "  inflating: ./CelebA_HQ_facial_identity_dataset/train/2076/14576.jpg  \n",
            "  inflating: ./CelebA_HQ_facial_identity_dataset/train/2076/16504.jpg  \n",
            "  inflating: ./CelebA_HQ_facial_identity_dataset/train/2076/16971.jpg  \n",
            "  inflating: ./CelebA_HQ_facial_identity_dataset/train/2076/25051.jpg  \n",
            "  inflating: ./CelebA_HQ_facial_identity_dataset/train/2076/25068.jpg  \n",
            "  inflating: ./CelebA_HQ_facial_identity_dataset/train/2076/28406.jpg  \n",
            "  inflating: ./CelebA_HQ_facial_identity_dataset/train/2076/5100.jpg  \n",
            "   creating: ./CelebA_HQ_facial_identity_dataset/train/208/\n",
            "  inflating: ./CelebA_HQ_facial_identity_dataset/train/208/1382.jpg  \n",
            "  inflating: ./CelebA_HQ_facial_identity_dataset/train/208/18690.jpg  \n",
            "  inflating: ./CelebA_HQ_facial_identity_dataset/train/208/20514.jpg  \n",
            "  inflating: ./CelebA_HQ_facial_identity_dataset/train/208/2080.jpg  \n",
            "  inflating: ./CelebA_HQ_facial_identity_dataset/train/208/21039.jpg  \n",
            "  inflating: ./CelebA_HQ_facial_identity_dataset/train/208/2176.jpg  \n",
            "  inflating: ./CelebA_HQ_facial_identity_dataset/train/208/236.jpg  \n",
            "  inflating: ./CelebA_HQ_facial_identity_dataset/train/208/25188.jpg  \n",
            "  inflating: ./CelebA_HQ_facial_identity_dataset/train/208/25296.jpg  \n",
            "  inflating: ./CelebA_HQ_facial_identity_dataset/train/208/2654.jpg  \n",
            "  inflating: ./CelebA_HQ_facial_identity_dataset/train/208/2826.jpg  \n",
            "  inflating: ./CelebA_HQ_facial_identity_dataset/train/208/29541.jpg  \n",
            "  inflating: ./CelebA_HQ_facial_identity_dataset/train/208/3229.jpg  \n",
            "  inflating: ./CelebA_HQ_facial_identity_dataset/train/208/3413.jpg  \n",
            "  inflating: ./CelebA_HQ_facial_identity_dataset/train/208/3671.jpg  \n",
            "  inflating: ./CelebA_HQ_facial_identity_dataset/train/208/4642.jpg  \n",
            "  inflating: ./CelebA_HQ_facial_identity_dataset/train/208/5504.jpg  \n",
            "   creating: ./CelebA_HQ_facial_identity_dataset/train/2116/\n",
            "  inflating: ./CelebA_HQ_facial_identity_dataset/train/2116/13376.jpg  \n",
            "  inflating: ./CelebA_HQ_facial_identity_dataset/train/2116/13430.jpg  \n",
            "  inflating: ./CelebA_HQ_facial_identity_dataset/train/2116/13513.jpg  \n",
            "  inflating: ./CelebA_HQ_facial_identity_dataset/train/2116/15464.jpg  \n",
            "  inflating: ./CelebA_HQ_facial_identity_dataset/train/2116/20177.jpg  \n",
            "  inflating: ./CelebA_HQ_facial_identity_dataset/train/2116/23331.jpg  \n",
            "  inflating: ./CelebA_HQ_facial_identity_dataset/train/2116/23645.jpg  \n",
            "  inflating: ./CelebA_HQ_facial_identity_dataset/train/2116/23761.jpg  \n",
            "  inflating: ./CelebA_HQ_facial_identity_dataset/train/2116/24156.jpg  \n",
            "  inflating: ./CelebA_HQ_facial_identity_dataset/train/2116/26181.jpg  \n",
            "  inflating: ./CelebA_HQ_facial_identity_dataset/train/2116/27036.jpg  \n",
            "  inflating: ./CelebA_HQ_facial_identity_dataset/train/2116/27544.jpg  \n",
            "   creating: ./CelebA_HQ_facial_identity_dataset/train/2120/\n",
            "  inflating: ./CelebA_HQ_facial_identity_dataset/train/2120/11477.jpg  \n",
            "  inflating: ./CelebA_HQ_facial_identity_dataset/train/2120/13197.jpg  \n",
            "  inflating: ./CelebA_HQ_facial_identity_dataset/train/2120/17477.jpg  \n",
            "  inflating: ./CelebA_HQ_facial_identity_dataset/train/2120/19042.jpg  \n",
            "  inflating: ./CelebA_HQ_facial_identity_dataset/train/2120/19306.jpg  \n",
            "  inflating: ./CelebA_HQ_facial_identity_dataset/train/2120/20695.jpg  \n",
            "  inflating: ./CelebA_HQ_facial_identity_dataset/train/2120/20701.jpg  \n",
            "  inflating: ./CelebA_HQ_facial_identity_dataset/train/2120/20782.jpg  \n",
            "  inflating: ./CelebA_HQ_facial_identity_dataset/train/2120/22170.jpg  \n",
            "  inflating: ./CelebA_HQ_facial_identity_dataset/train/2120/22790.jpg  \n",
            "  inflating: ./CelebA_HQ_facial_identity_dataset/train/2120/26827.jpg  \n",
            "  inflating: ./CelebA_HQ_facial_identity_dataset/train/2120/5270.jpg  \n",
            "   creating: ./CelebA_HQ_facial_identity_dataset/train/213/\n",
            "  inflating: ./CelebA_HQ_facial_identity_dataset/train/213/10010.jpg  \n",
            "  inflating: ./CelebA_HQ_facial_identity_dataset/train/213/11053.jpg  \n",
            "  inflating: ./CelebA_HQ_facial_identity_dataset/train/213/11255.jpg  \n",
            "  inflating: ./CelebA_HQ_facial_identity_dataset/train/213/1198.jpg  \n",
            "  inflating: ./CelebA_HQ_facial_identity_dataset/train/213/1209.jpg  \n",
            "  inflating: ./CelebA_HQ_facial_identity_dataset/train/213/12848.jpg  \n",
            "  inflating: ./CelebA_HQ_facial_identity_dataset/train/213/12923.jpg  \n",
            "  inflating: ./CelebA_HQ_facial_identity_dataset/train/213/15232.jpg  \n",
            "  inflating: ./CelebA_HQ_facial_identity_dataset/train/213/16589.jpg  \n",
            "  inflating: ./CelebA_HQ_facial_identity_dataset/train/213/16825.jpg  \n",
            "  inflating: ./CelebA_HQ_facial_identity_dataset/train/213/19596.jpg  \n",
            "  inflating: ./CelebA_HQ_facial_identity_dataset/train/213/21294.jpg  \n",
            "  inflating: ./CelebA_HQ_facial_identity_dataset/train/213/21423.jpg  \n",
            "  inflating: ./CelebA_HQ_facial_identity_dataset/train/213/23049.jpg  \n",
            "  inflating: ./CelebA_HQ_facial_identity_dataset/train/213/243.jpg  \n",
            "  inflating: ./CelebA_HQ_facial_identity_dataset/train/213/25381.jpg  \n",
            "  inflating: ./CelebA_HQ_facial_identity_dataset/train/213/2879.jpg  \n",
            "  inflating: ./CelebA_HQ_facial_identity_dataset/train/213/29572.jpg  \n",
            "  inflating: ./CelebA_HQ_facial_identity_dataset/train/213/4140.jpg  \n",
            "   creating: ./CelebA_HQ_facial_identity_dataset/train/2131/\n",
            "  inflating: ./CelebA_HQ_facial_identity_dataset/train/2131/12208.jpg  \n",
            "  inflating: ./CelebA_HQ_facial_identity_dataset/train/2131/12360.jpg  \n",
            "  inflating: ./CelebA_HQ_facial_identity_dataset/train/2131/13205.jpg  \n",
            "  inflating: ./CelebA_HQ_facial_identity_dataset/train/2131/13587.jpg  \n",
            "  inflating: ./CelebA_HQ_facial_identity_dataset/train/2131/15544.jpg  \n",
            "  inflating: ./CelebA_HQ_facial_identity_dataset/train/2131/15620.jpg  \n",
            "  inflating: ./CelebA_HQ_facial_identity_dataset/train/2131/15820.jpg  \n",
            "  inflating: ./CelebA_HQ_facial_identity_dataset/train/2131/15878.jpg  \n",
            "  inflating: ./CelebA_HQ_facial_identity_dataset/train/2131/16866.jpg  \n",
            "  inflating: ./CelebA_HQ_facial_identity_dataset/train/2131/17144.jpg  \n",
            "  inflating: ./CelebA_HQ_facial_identity_dataset/train/2131/18836.jpg  \n",
            "  inflating: ./CelebA_HQ_facial_identity_dataset/train/2131/19988.jpg  \n",
            "  inflating: ./CelebA_HQ_facial_identity_dataset/train/2131/20990.jpg  \n",
            "  inflating: ./CelebA_HQ_facial_identity_dataset/train/2131/21334.jpg  \n",
            "  inflating: ./CelebA_HQ_facial_identity_dataset/train/2131/23248.jpg  \n",
            "  inflating: ./CelebA_HQ_facial_identity_dataset/train/2131/26846.jpg  \n",
            "   creating: ./CelebA_HQ_facial_identity_dataset/train/218/\n",
            "  inflating: ./CelebA_HQ_facial_identity_dataset/train/218/12774.jpg  \n",
            "  inflating: ./CelebA_HQ_facial_identity_dataset/train/218/12844.jpg  \n",
            "  inflating: ./CelebA_HQ_facial_identity_dataset/train/218/13434.jpg  \n",
            "  inflating: ./CelebA_HQ_facial_identity_dataset/train/218/16314.jpg  \n",
            "  inflating: ./CelebA_HQ_facial_identity_dataset/train/218/248.jpg  \n",
            "  inflating: ./CelebA_HQ_facial_identity_dataset/train/218/25670.jpg  \n",
            "  inflating: ./CelebA_HQ_facial_identity_dataset/train/218/3579.jpg  \n",
            "  inflating: ./CelebA_HQ_facial_identity_dataset/train/218/3663.jpg  \n",
            "  inflating: ./CelebA_HQ_facial_identity_dataset/train/218/3733.jpg  \n",
            "  inflating: ./CelebA_HQ_facial_identity_dataset/train/218/4138.jpg  \n",
            "  inflating: ./CelebA_HQ_facial_identity_dataset/train/218/4149.jpg  \n",
            "  inflating: ./CelebA_HQ_facial_identity_dataset/train/218/5344.jpg  \n",
            "   creating: ./CelebA_HQ_facial_identity_dataset/train/2193/\n",
            "  inflating: ./CelebA_HQ_facial_identity_dataset/train/2193/11323.jpg  \n",
            "  inflating: ./CelebA_HQ_facial_identity_dataset/train/2193/11740.jpg  \n",
            "  inflating: ./CelebA_HQ_facial_identity_dataset/train/2193/12903.jpg  \n",
            "  inflating: ./CelebA_HQ_facial_identity_dataset/train/2193/17423.jpg  \n",
            "  inflating: ./CelebA_HQ_facial_identity_dataset/train/2193/18822.jpg  \n",
            "  inflating: ./CelebA_HQ_facial_identity_dataset/train/2193/19319.jpg  \n",
            "  inflating: ./CelebA_HQ_facial_identity_dataset/train/2193/19452.jpg  \n",
            "  inflating: ./CelebA_HQ_facial_identity_dataset/train/2193/21244.jpg  \n",
            "  inflating: ./CelebA_HQ_facial_identity_dataset/train/2193/23830.jpg  \n",
            "  inflating: ./CelebA_HQ_facial_identity_dataset/train/2193/26072.jpg  \n",
            "  inflating: ./CelebA_HQ_facial_identity_dataset/train/2193/5582.jpg  \n",
            "  inflating: ./CelebA_HQ_facial_identity_dataset/train/2193/6336.jpg  \n",
            "   creating: ./CelebA_HQ_facial_identity_dataset/train/2214/\n",
            "  inflating: ./CelebA_HQ_facial_identity_dataset/train/2214/10404.jpg  \n",
            "  inflating: ./CelebA_HQ_facial_identity_dataset/train/2214/10704.jpg  \n",
            "  inflating: ./CelebA_HQ_facial_identity_dataset/train/2214/15827.jpg  \n",
            "  inflating: ./CelebA_HQ_facial_identity_dataset/train/2214/16719.jpg  \n",
            "  inflating: ./CelebA_HQ_facial_identity_dataset/train/2214/19589.jpg  \n",
            "  inflating: ./CelebA_HQ_facial_identity_dataset/train/2214/19933.jpg  \n",
            "  inflating: ./CelebA_HQ_facial_identity_dataset/train/2214/21733.jpg  \n",
            "  inflating: ./CelebA_HQ_facial_identity_dataset/train/2214/21960.jpg  \n",
            "  inflating: ./CelebA_HQ_facial_identity_dataset/train/2214/26518.jpg  \n",
            "  inflating: ./CelebA_HQ_facial_identity_dataset/train/2214/28338.jpg  \n",
            "  inflating: ./CelebA_HQ_facial_identity_dataset/train/2214/29868.jpg  \n",
            "  inflating: ./CelebA_HQ_facial_identity_dataset/train/2214/5686.jpg  \n",
            "   creating: ./CelebA_HQ_facial_identity_dataset/train/223/\n",
            "  inflating: ./CelebA_HQ_facial_identity_dataset/train/223/1048.jpg  \n",
            "  inflating: ./CelebA_HQ_facial_identity_dataset/train/223/11809.jpg  \n",
            "  inflating: ./CelebA_HQ_facial_identity_dataset/train/223/1208.jpg  \n",
            "  inflating: ./CelebA_HQ_facial_identity_dataset/train/223/1500.jpg  \n",
            "  inflating: ./CelebA_HQ_facial_identity_dataset/train/223/1516.jpg  \n",
            "  inflating: ./CelebA_HQ_facial_identity_dataset/train/223/1560.jpg  \n",
            "  inflating: ./CelebA_HQ_facial_identity_dataset/train/223/17196.jpg  \n",
            "  inflating: ./CelebA_HQ_facial_identity_dataset/train/223/17625.jpg  \n",
            "  inflating: ./CelebA_HQ_facial_identity_dataset/train/223/18488.jpg  \n",
            "  inflating: ./CelebA_HQ_facial_identity_dataset/train/223/254.jpg  \n",
            "  inflating: ./CelebA_HQ_facial_identity_dataset/train/223/2991.jpg  \n",
            "  inflating: ./CelebA_HQ_facial_identity_dataset/train/223/3600.jpg  \n",
            "  inflating: ./CelebA_HQ_facial_identity_dataset/train/223/4090.jpg  \n",
            "  inflating: ./CelebA_HQ_facial_identity_dataset/train/223/4155.jpg  \n",
            "  inflating: ./CelebA_HQ_facial_identity_dataset/train/223/4229.jpg  \n",
            "  inflating: ./CelebA_HQ_facial_identity_dataset/train/223/435.jpg  \n",
            "  inflating: ./CelebA_HQ_facial_identity_dataset/train/223/4540.jpg  \n",
            "  inflating: ./CelebA_HQ_facial_identity_dataset/train/223/5450.jpg  \n",
            "  inflating: ./CelebA_HQ_facial_identity_dataset/train/223/6915.jpg  \n",
            "   creating: ./CelebA_HQ_facial_identity_dataset/train/226/\n",
            "  inflating: ./CelebA_HQ_facial_identity_dataset/train/226/1029.jpg  \n",
            "  inflating: ./CelebA_HQ_facial_identity_dataset/train/226/16248.jpg  \n",
            "  inflating: ./CelebA_HQ_facial_identity_dataset/train/226/17174.jpg  \n",
            "  inflating: ./CelebA_HQ_facial_identity_dataset/train/226/1934.jpg  \n",
            "  inflating: ./CelebA_HQ_facial_identity_dataset/train/226/19417.jpg  \n",
            "  inflating: ./CelebA_HQ_facial_identity_dataset/train/226/25237.jpg  \n",
            "  inflating: ./CelebA_HQ_facial_identity_dataset/train/226/259.jpg  \n",
            "  inflating: ./CelebA_HQ_facial_identity_dataset/train/226/26101.jpg  \n",
            "  inflating: ./CelebA_HQ_facial_identity_dataset/train/226/26669.jpg  \n",
            "  inflating: ./CelebA_HQ_facial_identity_dataset/train/226/3016.jpg  \n",
            "  inflating: ./CelebA_HQ_facial_identity_dataset/train/226/372.jpg  \n",
            "  inflating: ./CelebA_HQ_facial_identity_dataset/train/226/390.jpg  \n",
            "  inflating: ./CelebA_HQ_facial_identity_dataset/train/226/426.jpg  \n",
            "   creating: ./CelebA_HQ_facial_identity_dataset/train/228/\n",
            "  inflating: ./CelebA_HQ_facial_identity_dataset/train/228/1182.jpg  \n",
            "  inflating: ./CelebA_HQ_facial_identity_dataset/train/228/12019.jpg  \n",
            "  inflating: ./CelebA_HQ_facial_identity_dataset/train/228/15166.jpg  \n",
            "  inflating: ./CelebA_HQ_facial_identity_dataset/train/228/17220.jpg  \n",
            "  inflating: ./CelebA_HQ_facial_identity_dataset/train/228/19533.jpg  \n",
            "  inflating: ./CelebA_HQ_facial_identity_dataset/train/228/20428.jpg  \n",
            "  inflating: ./CelebA_HQ_facial_identity_dataset/train/228/21802.jpg  \n",
            "  inflating: ./CelebA_HQ_facial_identity_dataset/train/228/2271.jpg  \n",
            "  inflating: ./CelebA_HQ_facial_identity_dataset/train/228/2523.jpg  \n",
            "  inflating: ./CelebA_HQ_facial_identity_dataset/train/228/261.jpg  \n",
            "  inflating: ./CelebA_HQ_facial_identity_dataset/train/228/29399.jpg  \n",
            "  inflating: ./CelebA_HQ_facial_identity_dataset/train/228/29557.jpg  \n",
            "  inflating: ./CelebA_HQ_facial_identity_dataset/train/228/2983.jpg  \n",
            "  inflating: ./CelebA_HQ_facial_identity_dataset/train/228/4124.jpg  \n",
            "  inflating: ./CelebA_HQ_facial_identity_dataset/train/228/454.jpg  \n",
            "  inflating: ./CelebA_HQ_facial_identity_dataset/train/228/5152.jpg  \n",
            "   creating: ./CelebA_HQ_facial_identity_dataset/train/230/\n",
            "  inflating: ./CelebA_HQ_facial_identity_dataset/train/230/10177.jpg  \n",
            "  inflating: ./CelebA_HQ_facial_identity_dataset/train/230/10252.jpg  \n",
            "  inflating: ./CelebA_HQ_facial_identity_dataset/train/230/13318.jpg  \n",
            "  inflating: ./CelebA_HQ_facial_identity_dataset/train/230/13530.jpg  \n",
            "  inflating: ./CelebA_HQ_facial_identity_dataset/train/230/1586.jpg  \n",
            "  inflating: ./CelebA_HQ_facial_identity_dataset/train/230/21441.jpg  \n",
            "  inflating: ./CelebA_HQ_facial_identity_dataset/train/230/21811.jpg  \n",
            "  inflating: ./CelebA_HQ_facial_identity_dataset/train/230/2641.jpg  \n",
            "  inflating: ./CelebA_HQ_facial_identity_dataset/train/230/265.jpg  \n",
            "  inflating: ./CelebA_HQ_facial_identity_dataset/train/230/2805.jpg  \n",
            "  inflating: ./CelebA_HQ_facial_identity_dataset/train/230/29075.jpg  \n",
            "  inflating: ./CelebA_HQ_facial_identity_dataset/train/230/2960.jpg  \n",
            "  inflating: ./CelebA_HQ_facial_identity_dataset/train/230/3344.jpg  \n",
            "   creating: ./CelebA_HQ_facial_identity_dataset/train/235/\n",
            "  inflating: ./CelebA_HQ_facial_identity_dataset/train/235/1050.jpg  \n",
            "  inflating: ./CelebA_HQ_facial_identity_dataset/train/235/10842.jpg  \n",
            "  inflating: ./CelebA_HQ_facial_identity_dataset/train/235/1091.jpg  \n",
            "  inflating: ./CelebA_HQ_facial_identity_dataset/train/235/15843.jpg  \n",
            "  inflating: ./CelebA_HQ_facial_identity_dataset/train/235/16614.jpg  \n",
            "  inflating: ./CelebA_HQ_facial_identity_dataset/train/235/21414.jpg  \n",
            "  inflating: ./CelebA_HQ_facial_identity_dataset/train/235/2314.jpg  \n",
            "  inflating: ./CelebA_HQ_facial_identity_dataset/train/235/25738.jpg  \n",
            "  inflating: ./CelebA_HQ_facial_identity_dataset/train/235/25988.jpg  \n",
            "  inflating: ./CelebA_HQ_facial_identity_dataset/train/235/271.jpg  \n",
            "  inflating: ./CelebA_HQ_facial_identity_dataset/train/235/3326.jpg  \n",
            "  inflating: ./CelebA_HQ_facial_identity_dataset/train/235/5007.jpg  \n",
            "   creating: ./CelebA_HQ_facial_identity_dataset/train/2402/\n",
            "  inflating: ./CelebA_HQ_facial_identity_dataset/train/2402/10445.jpg  \n",
            "  inflating: ./CelebA_HQ_facial_identity_dataset/train/2402/11412.jpg  \n",
            "  inflating: ./CelebA_HQ_facial_identity_dataset/train/2402/11739.jpg  \n",
            "  inflating: ./CelebA_HQ_facial_identity_dataset/train/2402/12111.jpg  \n",
            "  inflating: ./CelebA_HQ_facial_identity_dataset/train/2402/15466.jpg  \n",
            "  inflating: ./CelebA_HQ_facial_identity_dataset/train/2402/16278.jpg  \n",
            "  inflating: ./CelebA_HQ_facial_identity_dataset/train/2402/20517.jpg  \n",
            "  inflating: ./CelebA_HQ_facial_identity_dataset/train/2402/21550.jpg  \n",
            "  inflating: ./CelebA_HQ_facial_identity_dataset/train/2402/23596.jpg  \n",
            "  inflating: ./CelebA_HQ_facial_identity_dataset/train/2402/24085.jpg  \n",
            "  inflating: ./CelebA_HQ_facial_identity_dataset/train/2402/27338.jpg  \n",
            "  inflating: ./CelebA_HQ_facial_identity_dataset/train/2402/27554.jpg  \n",
            "   creating: ./CelebA_HQ_facial_identity_dataset/train/242/\n",
            "  inflating: ./CelebA_HQ_facial_identity_dataset/train/242/10367.jpg  \n",
            "  inflating: ./CelebA_HQ_facial_identity_dataset/train/242/10369.jpg  \n",
            "  inflating: ./CelebA_HQ_facial_identity_dataset/train/242/10636.jpg  \n",
            "  inflating: ./CelebA_HQ_facial_identity_dataset/train/242/1169.jpg  \n",
            "  inflating: ./CelebA_HQ_facial_identity_dataset/train/242/19068.jpg  \n",
            "  inflating: ./CelebA_HQ_facial_identity_dataset/train/242/279.jpg  \n",
            "  inflating: ./CelebA_HQ_facial_identity_dataset/train/242/29977.jpg  \n",
            "  inflating: ./CelebA_HQ_facial_identity_dataset/train/242/3753.jpg  \n",
            "  inflating: ./CelebA_HQ_facial_identity_dataset/train/242/3967.jpg  \n",
            "  inflating: ./CelebA_HQ_facial_identity_dataset/train/242/4544.jpg  \n",
            "  inflating: ./CelebA_HQ_facial_identity_dataset/train/242/4668.jpg  \n",
            "  inflating: ./CelebA_HQ_facial_identity_dataset/train/242/4973.jpg  \n",
            "  inflating: ./CelebA_HQ_facial_identity_dataset/train/242/5253.jpg  \n",
            "  inflating: ./CelebA_HQ_facial_identity_dataset/train/242/5491.jpg  \n",
            "   creating: ./CelebA_HQ_facial_identity_dataset/train/2464/\n",
            "  inflating: ./CelebA_HQ_facial_identity_dataset/train/2464/11113.jpg  \n",
            "  inflating: ./CelebA_HQ_facial_identity_dataset/train/2464/11718.jpg  \n",
            "  inflating: ./CelebA_HQ_facial_identity_dataset/train/2464/12398.jpg  \n",
            "  inflating: ./CelebA_HQ_facial_identity_dataset/train/2464/12748.jpg  \n",
            "  inflating: ./CelebA_HQ_facial_identity_dataset/train/2464/13490.jpg  \n",
            "  inflating: ./CelebA_HQ_facial_identity_dataset/train/2464/14487.jpg  \n",
            "  inflating: ./CelebA_HQ_facial_identity_dataset/train/2464/6882.jpg  \n",
            "  inflating: ./CelebA_HQ_facial_identity_dataset/train/2464/7053.jpg  \n",
            "  inflating: ./CelebA_HQ_facial_identity_dataset/train/2464/7236.jpg  \n",
            "  inflating: ./CelebA_HQ_facial_identity_dataset/train/2464/7464.jpg  \n",
            "  inflating: ./CelebA_HQ_facial_identity_dataset/train/2464/7868.jpg  \n",
            "  inflating: ./CelebA_HQ_facial_identity_dataset/train/2464/8257.jpg  \n",
            "  inflating: ./CelebA_HQ_facial_identity_dataset/train/2464/8344.jpg  \n",
            "   creating: ./CelebA_HQ_facial_identity_dataset/train/25/\n",
            "  inflating: ./CelebA_HQ_facial_identity_dataset/train/25/12167.jpg  \n",
            "  inflating: ./CelebA_HQ_facial_identity_dataset/train/25/14670.jpg  \n",
            "  inflating: ./CelebA_HQ_facial_identity_dataset/train/25/16393.jpg  \n",
            "  inflating: ./CelebA_HQ_facial_identity_dataset/train/25/16927.jpg  \n",
            "  inflating: ./CelebA_HQ_facial_identity_dataset/train/25/18372.jpg  \n",
            "  inflating: ./CelebA_HQ_facial_identity_dataset/train/25/20273.jpg  \n",
            "  inflating: ./CelebA_HQ_facial_identity_dataset/train/25/21286.jpg  \n",
            "  inflating: ./CelebA_HQ_facial_identity_dataset/train/25/26.jpg  \n",
            "  inflating: ./CelebA_HQ_facial_identity_dataset/train/25/26148.jpg  \n",
            "  inflating: ./CelebA_HQ_facial_identity_dataset/train/25/27530.jpg  \n",
            "  inflating: ./CelebA_HQ_facial_identity_dataset/train/25/28567.jpg  \n",
            "  inflating: ./CelebA_HQ_facial_identity_dataset/train/25/29323.jpg  \n",
            "   creating: ./CelebA_HQ_facial_identity_dataset/train/251/\n",
            "  inflating: ./CelebA_HQ_facial_identity_dataset/train/251/1238.jpg  \n",
            "  inflating: ./CelebA_HQ_facial_identity_dataset/train/251/13062.jpg  \n",
            "  inflating: ./CelebA_HQ_facial_identity_dataset/train/251/1414.jpg  \n",
            "  inflating: ./CelebA_HQ_facial_identity_dataset/train/251/14262.jpg  \n",
            "  inflating: ./CelebA_HQ_facial_identity_dataset/train/251/14486.jpg  \n",
            "  inflating: ./CelebA_HQ_facial_identity_dataset/train/251/20895.jpg  \n",
            "  inflating: ./CelebA_HQ_facial_identity_dataset/train/251/22392.jpg  \n",
            "  inflating: ./CelebA_HQ_facial_identity_dataset/train/251/26116.jpg  \n",
            "  inflating: ./CelebA_HQ_facial_identity_dataset/train/251/291.jpg  \n",
            "  inflating: ./CelebA_HQ_facial_identity_dataset/train/251/3181.jpg  \n",
            "  inflating: ./CelebA_HQ_facial_identity_dataset/train/251/491.jpg  \n",
            "  inflating: ./CelebA_HQ_facial_identity_dataset/train/251/5464.jpg  \n",
            "   creating: ./CelebA_HQ_facial_identity_dataset/train/255/\n",
            "  inflating: ./CelebA_HQ_facial_identity_dataset/train/255/1090.jpg  \n",
            "  inflating: ./CelebA_HQ_facial_identity_dataset/train/255/11997.jpg  \n",
            "  inflating: ./CelebA_HQ_facial_identity_dataset/train/255/12541.jpg  \n",
            "  inflating: ./CelebA_HQ_facial_identity_dataset/train/255/13268.jpg  \n",
            "  inflating: ./CelebA_HQ_facial_identity_dataset/train/255/16891.jpg  \n",
            "  inflating: ./CelebA_HQ_facial_identity_dataset/train/255/20710.jpg  \n",
            "  inflating: ./CelebA_HQ_facial_identity_dataset/train/255/2136.jpg  \n",
            "  inflating: ./CelebA_HQ_facial_identity_dataset/train/255/2229.jpg  \n",
            "  inflating: ./CelebA_HQ_facial_identity_dataset/train/255/22912.jpg  \n",
            "  inflating: ./CelebA_HQ_facial_identity_dataset/train/255/296.jpg  \n",
            "  inflating: ./CelebA_HQ_facial_identity_dataset/train/255/539.jpg  \n",
            "  inflating: ./CelebA_HQ_facial_identity_dataset/train/255/5443.jpg  \n",
            "   creating: ./CelebA_HQ_facial_identity_dataset/train/258/\n",
            "  inflating: ./CelebA_HQ_facial_identity_dataset/train/258/1836.jpg  \n",
            "  inflating: ./CelebA_HQ_facial_identity_dataset/train/258/18731.jpg  \n",
            "  inflating: ./CelebA_HQ_facial_identity_dataset/train/258/1894.jpg  \n",
            "  inflating: ./CelebA_HQ_facial_identity_dataset/train/258/21863.jpg  \n",
            "  inflating: ./CelebA_HQ_facial_identity_dataset/train/258/22405.jpg  \n",
            "  inflating: ./CelebA_HQ_facial_identity_dataset/train/258/2580.jpg  \n",
            "  inflating: ./CelebA_HQ_facial_identity_dataset/train/258/26643.jpg  \n",
            "  inflating: ./CelebA_HQ_facial_identity_dataset/train/258/28575.jpg  \n",
            "  inflating: ./CelebA_HQ_facial_identity_dataset/train/258/28699.jpg  \n",
            "  inflating: ./CelebA_HQ_facial_identity_dataset/train/258/29174.jpg  \n",
            "  inflating: ./CelebA_HQ_facial_identity_dataset/train/258/299.jpg  \n",
            "  inflating: ./CelebA_HQ_facial_identity_dataset/train/258/4269.jpg  \n",
            "   creating: ./CelebA_HQ_facial_identity_dataset/train/26/\n",
            "  inflating: ./CelebA_HQ_facial_identity_dataset/train/26/1017.jpg  \n",
            "  inflating: ./CelebA_HQ_facial_identity_dataset/train/26/1020.jpg  \n",
            "  inflating: ./CelebA_HQ_facial_identity_dataset/train/26/1140.jpg  \n",
            "  inflating: ./CelebA_HQ_facial_identity_dataset/train/26/11469.jpg  \n",
            "  inflating: ./CelebA_HQ_facial_identity_dataset/train/26/130.jpg  \n",
            "  inflating: ./CelebA_HQ_facial_identity_dataset/train/26/1577.jpg  \n",
            "  inflating: ./CelebA_HQ_facial_identity_dataset/train/26/1725.jpg  \n",
            "  inflating: ./CelebA_HQ_facial_identity_dataset/train/26/1862.jpg  \n",
            "  inflating: ./CelebA_HQ_facial_identity_dataset/train/26/2068.jpg  \n",
            "  inflating: ./CelebA_HQ_facial_identity_dataset/train/26/2077.jpg  \n",
            "  inflating: ./CelebA_HQ_facial_identity_dataset/train/26/2426.jpg  \n",
            "  inflating: ./CelebA_HQ_facial_identity_dataset/train/26/27.jpg  \n",
            "  inflating: ./CelebA_HQ_facial_identity_dataset/train/26/312.jpg  \n",
            "  inflating: ./CelebA_HQ_facial_identity_dataset/train/26/36.jpg  \n",
            "  inflating: ./CelebA_HQ_facial_identity_dataset/train/26/3797.jpg  \n",
            "  inflating: ./CelebA_HQ_facial_identity_dataset/train/26/415.jpg  \n",
            "   creating: ./CelebA_HQ_facial_identity_dataset/train/260/\n",
            "  inflating: ./CelebA_HQ_facial_identity_dataset/train/260/10318.jpg  \n",
            "  inflating: ./CelebA_HQ_facial_identity_dataset/train/260/11666.jpg  \n",
            "  inflating: ./CelebA_HQ_facial_identity_dataset/train/260/12233.jpg  \n",
            "  inflating: ./CelebA_HQ_facial_identity_dataset/train/260/12556.jpg  \n",
            "  inflating: ./CelebA_HQ_facial_identity_dataset/train/260/15287.jpg  \n",
            "  inflating: ./CelebA_HQ_facial_identity_dataset/train/260/15884.jpg  \n",
            "  inflating: ./CelebA_HQ_facial_identity_dataset/train/260/19088.jpg  \n",
            "  inflating: ./CelebA_HQ_facial_identity_dataset/train/260/20117.jpg  \n",
            "  inflating: ./CelebA_HQ_facial_identity_dataset/train/260/20480.jpg  \n",
            "  inflating: ./CelebA_HQ_facial_identity_dataset/train/260/21631.jpg  \n",
            "  inflating: ./CelebA_HQ_facial_identity_dataset/train/260/21703.jpg  \n",
            "  inflating: ./CelebA_HQ_facial_identity_dataset/train/260/21730.jpg  \n",
            "  inflating: ./CelebA_HQ_facial_identity_dataset/train/260/24622.jpg  \n",
            "  inflating: ./CelebA_HQ_facial_identity_dataset/train/260/24776.jpg  \n",
            "  inflating: ./CelebA_HQ_facial_identity_dataset/train/260/28353.jpg  \n",
            "   creating: ./CelebA_HQ_facial_identity_dataset/train/262/\n",
            "  inflating: ./CelebA_HQ_facial_identity_dataset/train/262/1129.jpg  \n",
            "  inflating: ./CelebA_HQ_facial_identity_dataset/train/262/12455.jpg  \n",
            "  inflating: ./CelebA_HQ_facial_identity_dataset/train/262/14227.jpg  \n",
            "  inflating: ./CelebA_HQ_facial_identity_dataset/train/262/14440.jpg  \n",
            "  inflating: ./CelebA_HQ_facial_identity_dataset/train/262/20171.jpg  \n",
            "  inflating: ./CelebA_HQ_facial_identity_dataset/train/262/2609.jpg  \n",
            "  inflating: ./CelebA_HQ_facial_identity_dataset/train/262/2730.jpg  \n",
            "  inflating: ./CelebA_HQ_facial_identity_dataset/train/262/27800.jpg  \n",
            "  inflating: ./CelebA_HQ_facial_identity_dataset/train/262/304.jpg  \n",
            "  inflating: ./CelebA_HQ_facial_identity_dataset/train/262/4660.jpg  \n",
            "  inflating: ./CelebA_HQ_facial_identity_dataset/train/262/5265.jpg  \n",
            "  inflating: ./CelebA_HQ_facial_identity_dataset/train/262/5391.jpg  \n",
            "  inflating: ./CelebA_HQ_facial_identity_dataset/train/262/5754.jpg  \n",
            "  inflating: ./CelebA_HQ_facial_identity_dataset/train/262/772.jpg  \n",
            "   creating: ./CelebA_HQ_facial_identity_dataset/train/263/\n",
            "  inflating: ./CelebA_HQ_facial_identity_dataset/train/263/10022.jpg  \n",
            "  inflating: ./CelebA_HQ_facial_identity_dataset/train/263/1035.jpg  \n",
            "  inflating: ./CelebA_HQ_facial_identity_dataset/train/263/14703.jpg  \n",
            "  inflating: ./CelebA_HQ_facial_identity_dataset/train/263/14986.jpg  \n",
            "  inflating: ./CelebA_HQ_facial_identity_dataset/train/263/1685.jpg  \n",
            "  inflating: ./CelebA_HQ_facial_identity_dataset/train/263/17233.jpg  \n",
            "  inflating: ./CelebA_HQ_facial_identity_dataset/train/263/1754.jpg  \n",
            "  inflating: ./CelebA_HQ_facial_identity_dataset/train/263/1762.jpg  \n",
            "  inflating: ./CelebA_HQ_facial_identity_dataset/train/263/1905.jpg  \n",
            "  inflating: ./CelebA_HQ_facial_identity_dataset/train/263/22051.jpg  \n",
            "  inflating: ./CelebA_HQ_facial_identity_dataset/train/263/24919.jpg  \n",
            "  inflating: ./CelebA_HQ_facial_identity_dataset/train/263/29827.jpg  \n",
            "  inflating: ./CelebA_HQ_facial_identity_dataset/train/263/305.jpg  \n",
            "  inflating: ./CelebA_HQ_facial_identity_dataset/train/263/3375.jpg  \n",
            "  inflating: ./CelebA_HQ_facial_identity_dataset/train/263/3698.jpg  \n",
            "   creating: ./CelebA_HQ_facial_identity_dataset/train/2632/\n",
            "  inflating: ./CelebA_HQ_facial_identity_dataset/train/2632/11227.jpg  \n",
            "  inflating: ./CelebA_HQ_facial_identity_dataset/train/2632/11914.jpg  \n",
            "  inflating: ./CelebA_HQ_facial_identity_dataset/train/2632/12434.jpg  \n",
            "  inflating: ./CelebA_HQ_facial_identity_dataset/train/2632/13128.jpg  \n",
            "  inflating: ./CelebA_HQ_facial_identity_dataset/train/2632/14323.jpg  \n",
            "  inflating: ./CelebA_HQ_facial_identity_dataset/train/2632/16922.jpg  \n",
            "  inflating: ./CelebA_HQ_facial_identity_dataset/train/2632/17561.jpg  \n",
            "  inflating: ./CelebA_HQ_facial_identity_dataset/train/2632/20229.jpg  \n",
            "  inflating: ./CelebA_HQ_facial_identity_dataset/train/2632/20333.jpg  \n",
            "  inflating: ./CelebA_HQ_facial_identity_dataset/train/2632/24208.jpg  \n",
            "  inflating: ./CelebA_HQ_facial_identity_dataset/train/2632/26236.jpg  \n",
            "  inflating: ./CelebA_HQ_facial_identity_dataset/train/2632/27538.jpg  \n",
            "   creating: ./CelebA_HQ_facial_identity_dataset/train/267/\n",
            "  inflating: ./CelebA_HQ_facial_identity_dataset/train/267/10702.jpg  \n",
            "  inflating: ./CelebA_HQ_facial_identity_dataset/train/267/1116.jpg  \n",
            "  inflating: ./CelebA_HQ_facial_identity_dataset/train/267/14368.jpg  \n",
            "  inflating: ./CelebA_HQ_facial_identity_dataset/train/267/1720.jpg  \n",
            "  inflating: ./CelebA_HQ_facial_identity_dataset/train/267/1989.jpg  \n",
            "  inflating: ./CelebA_HQ_facial_identity_dataset/train/267/2184.jpg  \n",
            "  inflating: ./CelebA_HQ_facial_identity_dataset/train/267/23800.jpg  \n",
            "  inflating: ./CelebA_HQ_facial_identity_dataset/train/267/25973.jpg  \n",
            "  inflating: ./CelebA_HQ_facial_identity_dataset/train/267/29042.jpg  \n",
            "  inflating: ./CelebA_HQ_facial_identity_dataset/train/267/29203.jpg  \n",
            "  inflating: ./CelebA_HQ_facial_identity_dataset/train/267/309.jpg  \n",
            "  inflating: ./CelebA_HQ_facial_identity_dataset/train/267/3090.jpg  \n",
            "  inflating: ./CelebA_HQ_facial_identity_dataset/train/267/3322.jpg  \n",
            "  inflating: ./CelebA_HQ_facial_identity_dataset/train/267/3368.jpg  \n",
            "   creating: ./CelebA_HQ_facial_identity_dataset/train/268/\n",
            "  inflating: ./CelebA_HQ_facial_identity_dataset/train/268/1003.jpg  \n",
            "  inflating: ./CelebA_HQ_facial_identity_dataset/train/268/12552.jpg  \n",
            "  inflating: ./CelebA_HQ_facial_identity_dataset/train/268/14114.jpg  \n",
            "  inflating: ./CelebA_HQ_facial_identity_dataset/train/268/1528.jpg  \n",
            "  inflating: ./CelebA_HQ_facial_identity_dataset/train/268/19156.jpg  \n",
            "  inflating: ./CelebA_HQ_facial_identity_dataset/train/268/2174.jpg  \n",
            "  inflating: ./CelebA_HQ_facial_identity_dataset/train/268/2248.jpg  \n",
            "  inflating: ./CelebA_HQ_facial_identity_dataset/train/268/23294.jpg  \n",
            "  inflating: ./CelebA_HQ_facial_identity_dataset/train/268/2658.jpg  \n",
            "  inflating: ./CelebA_HQ_facial_identity_dataset/train/268/28858.jpg  \n",
            "  inflating: ./CelebA_HQ_facial_identity_dataset/train/268/3014.jpg  \n",
            "  inflating: ./CelebA_HQ_facial_identity_dataset/train/268/310.jpg  \n",
            "  inflating: ./CelebA_HQ_facial_identity_dataset/train/268/3889.jpg  \n",
            "  inflating: ./CelebA_HQ_facial_identity_dataset/train/268/5409.jpg  \n",
            "  inflating: ./CelebA_HQ_facial_identity_dataset/train/268/6028.jpg  \n",
            "  inflating: ./CelebA_HQ_facial_identity_dataset/train/268/6064.jpg  \n",
            "   creating: ./CelebA_HQ_facial_identity_dataset/train/270/\n",
            "  inflating: ./CelebA_HQ_facial_identity_dataset/train/270/1077.jpg  \n",
            "  inflating: ./CelebA_HQ_facial_identity_dataset/train/270/1191.jpg  \n",
            "  inflating: ./CelebA_HQ_facial_identity_dataset/train/270/13150.jpg  \n",
            "  inflating: ./CelebA_HQ_facial_identity_dataset/train/270/1741.jpg  \n",
            "  inflating: ./CelebA_HQ_facial_identity_dataset/train/270/1998.jpg  \n",
            "  inflating: ./CelebA_HQ_facial_identity_dataset/train/270/2480.jpg  \n",
            "  inflating: ./CelebA_HQ_facial_identity_dataset/train/270/26411.jpg  \n",
            "  inflating: ./CelebA_HQ_facial_identity_dataset/train/270/26992.jpg  \n",
            "  inflating: ./CelebA_HQ_facial_identity_dataset/train/270/2766.jpg  \n",
            "  inflating: ./CelebA_HQ_facial_identity_dataset/train/270/313.jpg  \n",
            "  inflating: ./CelebA_HQ_facial_identity_dataset/train/270/4078.jpg  \n",
            "  inflating: ./CelebA_HQ_facial_identity_dataset/train/270/4454.jpg  \n",
            "  inflating: ./CelebA_HQ_facial_identity_dataset/train/270/4698.jpg  \n",
            "  inflating: ./CelebA_HQ_facial_identity_dataset/train/270/4960.jpg  \n",
            "  inflating: ./CelebA_HQ_facial_identity_dataset/train/270/5122.jpg  \n",
            "  inflating: ./CelebA_HQ_facial_identity_dataset/train/270/5571.jpg  \n",
            "  inflating: ./CelebA_HQ_facial_identity_dataset/train/270/5645.jpg  \n",
            "   creating: ./CelebA_HQ_facial_identity_dataset/train/2734/\n",
            "  inflating: ./CelebA_HQ_facial_identity_dataset/train/2734/10856.jpg  \n",
            "  inflating: ./CelebA_HQ_facial_identity_dataset/train/2734/11823.jpg  \n",
            "  inflating: ./CelebA_HQ_facial_identity_dataset/train/2734/12772.jpg  \n",
            "  inflating: ./CelebA_HQ_facial_identity_dataset/train/2734/13853.jpg  \n",
            "  inflating: ./CelebA_HQ_facial_identity_dataset/train/2734/13964.jpg  \n",
            "  inflating: ./CelebA_HQ_facial_identity_dataset/train/2734/14476.jpg  \n",
            "  inflating: ./CelebA_HQ_facial_identity_dataset/train/2734/17358.jpg  \n",
            "  inflating: ./CelebA_HQ_facial_identity_dataset/train/2734/21531.jpg  \n",
            "  inflating: ./CelebA_HQ_facial_identity_dataset/train/2734/23359.jpg  \n",
            "  inflating: ./CelebA_HQ_facial_identity_dataset/train/2734/24316.jpg  \n",
            "  inflating: ./CelebA_HQ_facial_identity_dataset/train/2734/27689.jpg  \n",
            "  inflating: ./CelebA_HQ_facial_identity_dataset/train/2734/28274.jpg  \n",
            "   creating: ./CelebA_HQ_facial_identity_dataset/train/276/\n",
            "  inflating: ./CelebA_HQ_facial_identity_dataset/train/276/13068.jpg  \n",
            "  inflating: ./CelebA_HQ_facial_identity_dataset/train/276/15319.jpg  \n",
            "  inflating: ./CelebA_HQ_facial_identity_dataset/train/276/17762.jpg  \n",
            "  inflating: ./CelebA_HQ_facial_identity_dataset/train/276/1857.jpg  \n",
            "  inflating: ./CelebA_HQ_facial_identity_dataset/train/276/18965.jpg  \n",
            "  inflating: ./CelebA_HQ_facial_identity_dataset/train/276/19209.jpg  \n",
            "  inflating: ./CelebA_HQ_facial_identity_dataset/train/276/20986.jpg  \n",
            "  inflating: ./CelebA_HQ_facial_identity_dataset/train/276/21410.jpg  \n",
            "  inflating: ./CelebA_HQ_facial_identity_dataset/train/276/22905.jpg  \n",
            "  inflating: ./CelebA_HQ_facial_identity_dataset/train/276/23733.jpg  \n",
            "  inflating: ./CelebA_HQ_facial_identity_dataset/train/276/24023.jpg  \n",
            "  inflating: ./CelebA_HQ_facial_identity_dataset/train/276/2923.jpg  \n",
            "   creating: ./CelebA_HQ_facial_identity_dataset/train/277/\n",
            "  inflating: ./CelebA_HQ_facial_identity_dataset/train/277/13497.jpg  \n",
            "  inflating: ./CelebA_HQ_facial_identity_dataset/train/277/17023.jpg  \n",
            "  inflating: ./CelebA_HQ_facial_identity_dataset/train/277/27080.jpg  \n",
            "  inflating: ./CelebA_HQ_facial_identity_dataset/train/277/28080.jpg  \n",
            "  inflating: ./CelebA_HQ_facial_identity_dataset/train/277/28312.jpg  \n",
            "  inflating: ./CelebA_HQ_facial_identity_dataset/train/277/2871.jpg  \n",
            "  inflating: ./CelebA_HQ_facial_identity_dataset/train/277/3100.jpg  \n",
            "  inflating: ./CelebA_HQ_facial_identity_dataset/train/277/322.jpg  \n",
            "  inflating: ./CelebA_HQ_facial_identity_dataset/train/277/379.jpg  \n",
            "  inflating: ./CelebA_HQ_facial_identity_dataset/train/277/4096.jpg  \n",
            "  inflating: ./CelebA_HQ_facial_identity_dataset/train/277/4203.jpg  \n",
            "  inflating: ./CelebA_HQ_facial_identity_dataset/train/277/4806.jpg  \n",
            "   creating: ./CelebA_HQ_facial_identity_dataset/train/285/\n",
            "  inflating: ./CelebA_HQ_facial_identity_dataset/train/285/12618.jpg  \n",
            "  inflating: ./CelebA_HQ_facial_identity_dataset/train/285/1264.jpg  \n",
            "  inflating: ./CelebA_HQ_facial_identity_dataset/train/285/13194.jpg  \n",
            "  inflating: ./CelebA_HQ_facial_identity_dataset/train/285/13646.jpg  \n",
            "  inflating: ./CelebA_HQ_facial_identity_dataset/train/285/13783.jpg  \n",
            "  inflating: ./CelebA_HQ_facial_identity_dataset/train/285/15011.jpg  \n",
            "  inflating: ./CelebA_HQ_facial_identity_dataset/train/285/16222.jpg  \n",
            "  inflating: ./CelebA_HQ_facial_identity_dataset/train/285/16678.jpg  \n",
            "  inflating: ./CelebA_HQ_facial_identity_dataset/train/285/17435.jpg  \n",
            "  inflating: ./CelebA_HQ_facial_identity_dataset/train/285/17844.jpg  \n",
            "  inflating: ./CelebA_HQ_facial_identity_dataset/train/285/21911.jpg  \n",
            "  inflating: ./CelebA_HQ_facial_identity_dataset/train/285/22863.jpg  \n",
            "  inflating: ./CelebA_HQ_facial_identity_dataset/train/285/336.jpg  \n",
            "  inflating: ./CelebA_HQ_facial_identity_dataset/train/285/4363.jpg  \n",
            "  inflating: ./CelebA_HQ_facial_identity_dataset/train/285/4374.jpg  \n",
            "  inflating: ./CelebA_HQ_facial_identity_dataset/train/285/514.jpg  \n",
            "   creating: ./CelebA_HQ_facial_identity_dataset/train/286/\n",
            "  inflating: ./CelebA_HQ_facial_identity_dataset/train/286/10151.jpg  \n",
            "  inflating: ./CelebA_HQ_facial_identity_dataset/train/286/1060.jpg  \n",
            "  inflating: ./CelebA_HQ_facial_identity_dataset/train/286/11026.jpg  \n",
            "  inflating: ./CelebA_HQ_facial_identity_dataset/train/286/11043.jpg  \n",
            "  inflating: ./CelebA_HQ_facial_identity_dataset/train/286/12917.jpg  \n",
            "  inflating: ./CelebA_HQ_facial_identity_dataset/train/286/22130.jpg  \n",
            "  inflating: ./CelebA_HQ_facial_identity_dataset/train/286/23018.jpg  \n",
            "  inflating: ./CelebA_HQ_facial_identity_dataset/train/286/23319.jpg  \n",
            "  inflating: ./CelebA_HQ_facial_identity_dataset/train/286/2433.jpg  \n",
            "  inflating: ./CelebA_HQ_facial_identity_dataset/train/286/24712.jpg  \n",
            "  inflating: ./CelebA_HQ_facial_identity_dataset/train/286/2496.jpg  \n",
            "  inflating: ./CelebA_HQ_facial_identity_dataset/train/286/25507.jpg  \n",
            "  inflating: ./CelebA_HQ_facial_identity_dataset/train/286/3236.jpg  \n",
            "  inflating: ./CelebA_HQ_facial_identity_dataset/train/286/338.jpg  \n",
            "   creating: ./CelebA_HQ_facial_identity_dataset/train/289/\n",
            "  inflating: ./CelebA_HQ_facial_identity_dataset/train/289/10183.jpg  \n",
            "  inflating: ./CelebA_HQ_facial_identity_dataset/train/289/1064.jpg  \n",
            "  inflating: ./CelebA_HQ_facial_identity_dataset/train/289/14074.jpg  \n",
            "  inflating: ./CelebA_HQ_facial_identity_dataset/train/289/19525.jpg  \n",
            "  inflating: ./CelebA_HQ_facial_identity_dataset/train/289/20465.jpg  \n",
            "  inflating: ./CelebA_HQ_facial_identity_dataset/train/289/25932.jpg  \n",
            "  inflating: ./CelebA_HQ_facial_identity_dataset/train/289/2831.jpg  \n",
            "  inflating: ./CelebA_HQ_facial_identity_dataset/train/289/3317.jpg  \n",
            "  inflating: ./CelebA_HQ_facial_identity_dataset/train/289/341.jpg  \n",
            "  inflating: ./CelebA_HQ_facial_identity_dataset/train/289/3486.jpg  \n",
            "  inflating: ./CelebA_HQ_facial_identity_dataset/train/289/364.jpg  \n",
            "  inflating: ./CelebA_HQ_facial_identity_dataset/train/289/3676.jpg  \n",
            "  inflating: ./CelebA_HQ_facial_identity_dataset/train/289/3734.jpg  \n",
            "  inflating: ./CelebA_HQ_facial_identity_dataset/train/289/3907.jpg  \n",
            "  inflating: ./CelebA_HQ_facial_identity_dataset/train/289/4207.jpg  \n",
            "  inflating: ./CelebA_HQ_facial_identity_dataset/train/289/4328.jpg  \n",
            "  inflating: ./CelebA_HQ_facial_identity_dataset/train/289/4649.jpg  \n",
            "  inflating: ./CelebA_HQ_facial_identity_dataset/train/289/5506.jpg  \n",
            "  inflating: ./CelebA_HQ_facial_identity_dataset/train/289/5555.jpg  \n",
            "   creating: ./CelebA_HQ_facial_identity_dataset/train/295/\n",
            "  inflating: ./CelebA_HQ_facial_identity_dataset/train/295/11321.jpg  \n",
            "  inflating: ./CelebA_HQ_facial_identity_dataset/train/295/12829.jpg  \n",
            "  inflating: ./CelebA_HQ_facial_identity_dataset/train/295/1665.jpg  \n",
            "  inflating: ./CelebA_HQ_facial_identity_dataset/train/295/18959.jpg  \n",
            "  inflating: ./CelebA_HQ_facial_identity_dataset/train/295/22796.jpg  \n",
            "  inflating: ./CelebA_HQ_facial_identity_dataset/train/295/22874.jpg  \n",
            "  inflating: ./CelebA_HQ_facial_identity_dataset/train/295/24641.jpg  \n",
            "  inflating: ./CelebA_HQ_facial_identity_dataset/train/295/2752.jpg  \n",
            "  inflating: ./CelebA_HQ_facial_identity_dataset/train/295/2759.jpg  \n",
            "  inflating: ./CelebA_HQ_facial_identity_dataset/train/295/3139.jpg  \n",
            "  inflating: ./CelebA_HQ_facial_identity_dataset/train/295/352.jpg  \n",
            "  inflating: ./CelebA_HQ_facial_identity_dataset/train/295/4533.jpg  \n",
            "  inflating: ./CelebA_HQ_facial_identity_dataset/train/295/5175.jpg  \n",
            "  inflating: ./CelebA_HQ_facial_identity_dataset/train/295/6628.jpg  \n",
            "   creating: ./CelebA_HQ_facial_identity_dataset/train/299/\n",
            "  inflating: ./CelebA_HQ_facial_identity_dataset/train/299/10673.jpg  \n",
            "  inflating: ./CelebA_HQ_facial_identity_dataset/train/299/11801.jpg  \n",
            "  inflating: ./CelebA_HQ_facial_identity_dataset/train/299/14867.jpg  \n",
            "  inflating: ./CelebA_HQ_facial_identity_dataset/train/299/18512.jpg  \n",
            "  inflating: ./CelebA_HQ_facial_identity_dataset/train/299/24968.jpg  \n",
            "  inflating: ./CelebA_HQ_facial_identity_dataset/train/299/26001.jpg  \n",
            "  inflating: ./CelebA_HQ_facial_identity_dataset/train/299/26276.jpg  \n",
            "  inflating: ./CelebA_HQ_facial_identity_dataset/train/299/357.jpg  \n",
            "  inflating: ./CelebA_HQ_facial_identity_dataset/train/299/4046.jpg  \n",
            "  inflating: ./CelebA_HQ_facial_identity_dataset/train/299/4403.jpg  \n",
            "  inflating: ./CelebA_HQ_facial_identity_dataset/train/299/4769.jpg  \n",
            "  inflating: ./CelebA_HQ_facial_identity_dataset/train/299/5208.jpg  \n",
            "  inflating: ./CelebA_HQ_facial_identity_dataset/train/299/5581.jpg  \n",
            "   creating: ./CelebA_HQ_facial_identity_dataset/train/301/\n",
            "  inflating: ./CelebA_HQ_facial_identity_dataset/train/301/12416.jpg  \n",
            "  inflating: ./CelebA_HQ_facial_identity_dataset/train/301/12710.jpg  \n",
            "  inflating: ./CelebA_HQ_facial_identity_dataset/train/301/14729.jpg  \n",
            "  inflating: ./CelebA_HQ_facial_identity_dataset/train/301/1497.jpg  \n",
            "  inflating: ./CelebA_HQ_facial_identity_dataset/train/301/18775.jpg  \n",
            "  inflating: ./CelebA_HQ_facial_identity_dataset/train/301/24679.jpg  \n",
            "  inflating: ./CelebA_HQ_facial_identity_dataset/train/301/2777.jpg  \n",
            "  inflating: ./CelebA_HQ_facial_identity_dataset/train/301/28518.jpg  \n",
            "  inflating: ./CelebA_HQ_facial_identity_dataset/train/301/3070.jpg  \n",
            "  inflating: ./CelebA_HQ_facial_identity_dataset/train/301/3544.jpg  \n",
            "  inflating: ./CelebA_HQ_facial_identity_dataset/train/301/359.jpg  \n",
            "  inflating: ./CelebA_HQ_facial_identity_dataset/train/301/7116.jpg  \n",
            "   creating: ./CelebA_HQ_facial_identity_dataset/train/304/\n",
            "  inflating: ./CelebA_HQ_facial_identity_dataset/train/304/1158.jpg  \n",
            "  inflating: ./CelebA_HQ_facial_identity_dataset/train/304/13146.jpg  \n",
            "  inflating: ./CelebA_HQ_facial_identity_dataset/train/304/1385.jpg  \n",
            "  inflating: ./CelebA_HQ_facial_identity_dataset/train/304/14975.jpg  \n",
            "  inflating: ./CelebA_HQ_facial_identity_dataset/train/304/1748.jpg  \n",
            "  inflating: ./CelebA_HQ_facial_identity_dataset/train/304/19214.jpg  \n",
            "  inflating: ./CelebA_HQ_facial_identity_dataset/train/304/2429.jpg  \n",
            "  inflating: ./CelebA_HQ_facial_identity_dataset/train/304/2537.jpg  \n",
            "  inflating: ./CelebA_HQ_facial_identity_dataset/train/304/2593.jpg  \n",
            "  inflating: ./CelebA_HQ_facial_identity_dataset/train/304/2811.jpg  \n",
            "  inflating: ./CelebA_HQ_facial_identity_dataset/train/304/29466.jpg  \n",
            "  inflating: ./CelebA_HQ_facial_identity_dataset/train/304/365.jpg  \n",
            "  inflating: ./CelebA_HQ_facial_identity_dataset/train/304/3941.jpg  \n",
            "   creating: ./CelebA_HQ_facial_identity_dataset/train/309/\n",
            "  inflating: ./CelebA_HQ_facial_identity_dataset/train/309/12128.jpg  \n",
            "  inflating: ./CelebA_HQ_facial_identity_dataset/train/309/12732.jpg  \n",
            "  inflating: ./CelebA_HQ_facial_identity_dataset/train/309/14008.jpg  \n",
            "  inflating: ./CelebA_HQ_facial_identity_dataset/train/309/1415.jpg  \n",
            "  inflating: ./CelebA_HQ_facial_identity_dataset/train/309/1526.jpg  \n",
            "  inflating: ./CelebA_HQ_facial_identity_dataset/train/309/1546.jpg  \n",
            "  inflating: ./CelebA_HQ_facial_identity_dataset/train/309/1628.jpg  \n",
            "  inflating: ./CelebA_HQ_facial_identity_dataset/train/309/16652.jpg  \n",
            "  inflating: ./CelebA_HQ_facial_identity_dataset/train/309/16703.jpg  \n",
            "  inflating: ./CelebA_HQ_facial_identity_dataset/train/309/26616.jpg  \n",
            "  inflating: ./CelebA_HQ_facial_identity_dataset/train/309/370.jpg  \n",
            "  inflating: ./CelebA_HQ_facial_identity_dataset/train/309/4700.jpg  \n",
            "  inflating: ./CelebA_HQ_facial_identity_dataset/train/309/513.jpg  \n",
            "   creating: ./CelebA_HQ_facial_identity_dataset/train/314/\n",
            "  inflating: ./CelebA_HQ_facial_identity_dataset/train/314/10740.jpg  \n",
            "  inflating: ./CelebA_HQ_facial_identity_dataset/train/314/1232.jpg  \n",
            "  inflating: ./CelebA_HQ_facial_identity_dataset/train/314/13006.jpg  \n",
            "  inflating: ./CelebA_HQ_facial_identity_dataset/train/314/1458.jpg  \n",
            "  inflating: ./CelebA_HQ_facial_identity_dataset/train/314/1618.jpg  \n",
            "  inflating: ./CelebA_HQ_facial_identity_dataset/train/314/16674.jpg  \n",
            "  inflating: ./CelebA_HQ_facial_identity_dataset/train/314/1969.jpg  \n",
            "  inflating: ./CelebA_HQ_facial_identity_dataset/train/314/22576.jpg  \n",
            "  inflating: ./CelebA_HQ_facial_identity_dataset/train/314/2344.jpg  \n",
            "  inflating: ./CelebA_HQ_facial_identity_dataset/train/314/2892.jpg  \n",
            "  inflating: ./CelebA_HQ_facial_identity_dataset/train/314/2951.jpg  \n",
            "  inflating: ./CelebA_HQ_facial_identity_dataset/train/314/377.jpg  \n",
            "  inflating: ./CelebA_HQ_facial_identity_dataset/train/314/4029.jpg  \n",
            "   creating: ./CelebA_HQ_facial_identity_dataset/train/321/\n",
            "  inflating: ./CelebA_HQ_facial_identity_dataset/train/321/10076.jpg  \n",
            "  inflating: ./CelebA_HQ_facial_identity_dataset/train/321/1018.jpg  \n",
            "  inflating: ./CelebA_HQ_facial_identity_dataset/train/321/1031.jpg  \n",
            "  inflating: ./CelebA_HQ_facial_identity_dataset/train/321/11189.jpg  \n",
            "  inflating: ./CelebA_HQ_facial_identity_dataset/train/321/14686.jpg  \n",
            "  inflating: ./CelebA_HQ_facial_identity_dataset/train/321/15952.jpg  \n",
            "  inflating: ./CelebA_HQ_facial_identity_dataset/train/321/16728.jpg  \n",
            "  inflating: ./CelebA_HQ_facial_identity_dataset/train/321/21852.jpg  \n",
            "  inflating: ./CelebA_HQ_facial_identity_dataset/train/321/2283.jpg  \n",
            "  inflating: ./CelebA_HQ_facial_identity_dataset/train/321/28259.jpg  \n",
            "  inflating: ./CelebA_HQ_facial_identity_dataset/train/321/3294.jpg  \n",
            "  inflating: ./CelebA_HQ_facial_identity_dataset/train/321/389.jpg  \n",
            "  inflating: ./CelebA_HQ_facial_identity_dataset/train/321/3931.jpg  \n",
            "  inflating: ./CelebA_HQ_facial_identity_dataset/train/321/5219.jpg  \n",
            "  inflating: ./CelebA_HQ_facial_identity_dataset/train/321/5410.jpg  \n",
            "  inflating: ./CelebA_HQ_facial_identity_dataset/train/321/5919.jpg  \n",
            "   creating: ./CelebA_HQ_facial_identity_dataset/train/327/\n",
            "  inflating: ./CelebA_HQ_facial_identity_dataset/train/327/10626.jpg  \n",
            "  inflating: ./CelebA_HQ_facial_identity_dataset/train/327/12402.jpg  \n",
            "  inflating: ./CelebA_HQ_facial_identity_dataset/train/327/13402.jpg  \n",
            "  inflating: ./CelebA_HQ_facial_identity_dataset/train/327/14003.jpg  \n",
            "  inflating: ./CelebA_HQ_facial_identity_dataset/train/327/17830.jpg  \n",
            "  inflating: ./CelebA_HQ_facial_identity_dataset/train/327/18321.jpg  \n",
            "  inflating: ./CelebA_HQ_facial_identity_dataset/train/327/1868.jpg  \n",
            "  inflating: ./CelebA_HQ_facial_identity_dataset/train/327/19621.jpg  \n",
            "  inflating: ./CelebA_HQ_facial_identity_dataset/train/327/22763.jpg  \n",
            "  inflating: ./CelebA_HQ_facial_identity_dataset/train/327/26244.jpg  \n",
            "  inflating: ./CelebA_HQ_facial_identity_dataset/train/327/399.jpg  \n",
            "  inflating: ./CelebA_HQ_facial_identity_dataset/train/327/4409.jpg  \n",
            "  inflating: ./CelebA_HQ_facial_identity_dataset/train/327/5258.jpg  \n",
            "   creating: ./CelebA_HQ_facial_identity_dataset/train/329/\n",
            "  inflating: ./CelebA_HQ_facial_identity_dataset/train/329/1243.jpg  \n",
            "  inflating: ./CelebA_HQ_facial_identity_dataset/train/329/1273.jpg  \n",
            "  inflating: ./CelebA_HQ_facial_identity_dataset/train/329/14089.jpg  \n",
            "  inflating: ./CelebA_HQ_facial_identity_dataset/train/329/14346.jpg  \n",
            "  inflating: ./CelebA_HQ_facial_identity_dataset/train/329/14899.jpg  \n",
            "  inflating: ./CelebA_HQ_facial_identity_dataset/train/329/15527.jpg  \n",
            "  inflating: ./CelebA_HQ_facial_identity_dataset/train/329/1864.jpg  \n",
            "  inflating: ./CelebA_HQ_facial_identity_dataset/train/329/20948.jpg  \n",
            "  inflating: ./CelebA_HQ_facial_identity_dataset/train/329/21141.jpg  \n",
            "  inflating: ./CelebA_HQ_facial_identity_dataset/train/329/21299.jpg  \n",
            "  inflating: ./CelebA_HQ_facial_identity_dataset/train/329/24214.jpg  \n",
            "  inflating: ./CelebA_HQ_facial_identity_dataset/train/329/24389.jpg  \n",
            "  inflating: ./CelebA_HQ_facial_identity_dataset/train/329/2525.jpg  \n",
            "  inflating: ./CelebA_HQ_facial_identity_dataset/train/329/26331.jpg  \n",
            "  inflating: ./CelebA_HQ_facial_identity_dataset/train/329/3777.jpg  \n",
            "  inflating: ./CelebA_HQ_facial_identity_dataset/train/329/401.jpg  \n",
            "   creating: ./CelebA_HQ_facial_identity_dataset/train/330/\n",
            "  inflating: ./CelebA_HQ_facial_identity_dataset/train/330/1203.jpg  \n",
            "  inflating: ./CelebA_HQ_facial_identity_dataset/train/330/12081.jpg  \n",
            "  inflating: ./CelebA_HQ_facial_identity_dataset/train/330/16103.jpg  \n",
            "  inflating: ./CelebA_HQ_facial_identity_dataset/train/330/17215.jpg  \n",
            "  inflating: ./CelebA_HQ_facial_identity_dataset/train/330/17484.jpg  \n",
            "  inflating: ./CelebA_HQ_facial_identity_dataset/train/330/18183.jpg  \n",
            "  inflating: ./CelebA_HQ_facial_identity_dataset/train/330/18317.jpg  \n",
            "  inflating: ./CelebA_HQ_facial_identity_dataset/train/330/19822.jpg  \n",
            "  inflating: ./CelebA_HQ_facial_identity_dataset/train/330/21408.jpg  \n",
            "  inflating: ./CelebA_HQ_facial_identity_dataset/train/330/402.jpg  \n",
            "  inflating: ./CelebA_HQ_facial_identity_dataset/train/330/6094.jpg  \n",
            "  inflating: ./CelebA_HQ_facial_identity_dataset/train/330/6232.jpg  \n",
            "  inflating: ./CelebA_HQ_facial_identity_dataset/train/330/6387.jpg  \n",
            "   creating: ./CelebA_HQ_facial_identity_dataset/train/332/\n",
            "  inflating: ./CelebA_HQ_facial_identity_dataset/train/332/11006.jpg  \n",
            "  inflating: ./CelebA_HQ_facial_identity_dataset/train/332/14273.jpg  \n",
            "  inflating: ./CelebA_HQ_facial_identity_dataset/train/332/16000.jpg  \n",
            "  inflating: ./CelebA_HQ_facial_identity_dataset/train/332/16594.jpg  \n",
            "  inflating: ./CelebA_HQ_facial_identity_dataset/train/332/16767.jpg  \n",
            "  inflating: ./CelebA_HQ_facial_identity_dataset/train/332/19742.jpg  \n",
            "  inflating: ./CelebA_HQ_facial_identity_dataset/train/332/21957.jpg  \n",
            "  inflating: ./CelebA_HQ_facial_identity_dataset/train/332/27762.jpg  \n",
            "  inflating: ./CelebA_HQ_facial_identity_dataset/train/332/3609.jpg  \n",
            "  inflating: ./CelebA_HQ_facial_identity_dataset/train/332/3959.jpg  \n",
            "  inflating: ./CelebA_HQ_facial_identity_dataset/train/332/4008.jpg  \n",
            "  inflating: ./CelebA_HQ_facial_identity_dataset/train/332/404.jpg  \n",
            "  inflating: ./CelebA_HQ_facial_identity_dataset/train/332/6233.jpg  \n",
            "  inflating: ./CelebA_HQ_facial_identity_dataset/train/332/7137.jpg  \n",
            "   creating: ./CelebA_HQ_facial_identity_dataset/train/334/\n",
            "  inflating: ./CelebA_HQ_facial_identity_dataset/train/334/11835.jpg  \n",
            "  inflating: ./CelebA_HQ_facial_identity_dataset/train/334/1280.jpg  \n",
            "  inflating: ./CelebA_HQ_facial_identity_dataset/train/334/13570.jpg  \n",
            "  inflating: ./CelebA_HQ_facial_identity_dataset/train/334/14266.jpg  \n",
            "  inflating: ./CelebA_HQ_facial_identity_dataset/train/334/16034.jpg  \n",
            "  inflating: ./CelebA_HQ_facial_identity_dataset/train/334/1638.jpg  \n",
            "  inflating: ./CelebA_HQ_facial_identity_dataset/train/334/16713.jpg  \n",
            "  inflating: ./CelebA_HQ_facial_identity_dataset/train/334/16862.jpg  \n",
            "  inflating: ./CelebA_HQ_facial_identity_dataset/train/334/18607.jpg  \n",
            "  inflating: ./CelebA_HQ_facial_identity_dataset/train/334/19471.jpg  \n",
            "  inflating: ./CelebA_HQ_facial_identity_dataset/train/334/25010.jpg  \n",
            "  inflating: ./CelebA_HQ_facial_identity_dataset/train/334/25883.jpg  \n",
            "  inflating: ./CelebA_HQ_facial_identity_dataset/train/334/28103.jpg  \n",
            "  inflating: ./CelebA_HQ_facial_identity_dataset/train/334/3466.jpg  \n",
            "  inflating: ./CelebA_HQ_facial_identity_dataset/train/334/406.jpg  \n",
            "  inflating: ./CelebA_HQ_facial_identity_dataset/train/334/4301.jpg  \n",
            "  inflating: ./CelebA_HQ_facial_identity_dataset/train/334/5198.jpg  \n",
            "  inflating: ./CelebA_HQ_facial_identity_dataset/train/334/5614.jpg  \n",
            "   creating: ./CelebA_HQ_facial_identity_dataset/train/335/\n",
            "  inflating: ./CelebA_HQ_facial_identity_dataset/train/335/10083.jpg  \n",
            "  inflating: ./CelebA_HQ_facial_identity_dataset/train/335/12867.jpg  \n",
            "  inflating: ./CelebA_HQ_facial_identity_dataset/train/335/13543.jpg  \n",
            "  inflating: ./CelebA_HQ_facial_identity_dataset/train/335/17121.jpg  \n",
            "  inflating: ./CelebA_HQ_facial_identity_dataset/train/335/17837.jpg  \n",
            "  inflating: ./CelebA_HQ_facial_identity_dataset/train/335/1820.jpg  \n",
            "  inflating: ./CelebA_HQ_facial_identity_dataset/train/335/20760.jpg  \n",
            "  inflating: ./CelebA_HQ_facial_identity_dataset/train/335/21166.jpg  \n",
            "  inflating: ./CelebA_HQ_facial_identity_dataset/train/335/21841.jpg  \n",
            "  inflating: ./CelebA_HQ_facial_identity_dataset/train/335/23756.jpg  \n",
            "  inflating: ./CelebA_HQ_facial_identity_dataset/train/335/2602.jpg  \n",
            "  inflating: ./CelebA_HQ_facial_identity_dataset/train/335/407.jpg  \n",
            "  inflating: ./CelebA_HQ_facial_identity_dataset/train/335/5011.jpg  \n",
            "   creating: ./CelebA_HQ_facial_identity_dataset/train/3368/\n",
            "  inflating: ./CelebA_HQ_facial_identity_dataset/train/3368/11983.jpg  \n",
            "  inflating: ./CelebA_HQ_facial_identity_dataset/train/3368/14259.jpg  \n",
            "  inflating: ./CelebA_HQ_facial_identity_dataset/train/3368/15961.jpg  \n",
            "  inflating: ./CelebA_HQ_facial_identity_dataset/train/3368/16514.jpg  \n",
            "  inflating: ./CelebA_HQ_facial_identity_dataset/train/3368/17509.jpg  \n",
            "  inflating: ./CelebA_HQ_facial_identity_dataset/train/3368/17776.jpg  \n",
            "  inflating: ./CelebA_HQ_facial_identity_dataset/train/3368/18127.jpg  \n",
            "  inflating: ./CelebA_HQ_facial_identity_dataset/train/3368/18492.jpg  \n",
            "  inflating: ./CelebA_HQ_facial_identity_dataset/train/3368/21029.jpg  \n",
            "  inflating: ./CelebA_HQ_facial_identity_dataset/train/3368/23665.jpg  \n",
            "  inflating: ./CelebA_HQ_facial_identity_dataset/train/3368/25083.jpg  \n",
            "  inflating: ./CelebA_HQ_facial_identity_dataset/train/3368/25212.jpg  \n",
            "   creating: ./CelebA_HQ_facial_identity_dataset/train/34/\n",
            "  inflating: ./CelebA_HQ_facial_identity_dataset/train/34/11442.jpg  \n",
            "  inflating: ./CelebA_HQ_facial_identity_dataset/train/34/11475.jpg  \n",
            "  inflating: ./CelebA_HQ_facial_identity_dataset/train/34/17278.jpg  \n",
            "  inflating: ./CelebA_HQ_facial_identity_dataset/train/34/1807.jpg  \n",
            "  inflating: ./CelebA_HQ_facial_identity_dataset/train/34/1990.jpg  \n",
            "  inflating: ./CelebA_HQ_facial_identity_dataset/train/34/2005.jpg  \n",
            "  inflating: ./CelebA_HQ_facial_identity_dataset/train/34/2127.jpg  \n",
            "  inflating: ./CelebA_HQ_facial_identity_dataset/train/34/22160.jpg  \n",
            "  inflating: ./CelebA_HQ_facial_identity_dataset/train/34/25522.jpg  \n",
            "  inflating: ./CelebA_HQ_facial_identity_dataset/train/34/2785.jpg  \n",
            "  inflating: ./CelebA_HQ_facial_identity_dataset/train/34/3023.jpg  \n",
            "  inflating: ./CelebA_HQ_facial_identity_dataset/train/34/35.jpg  \n",
            "  inflating: ./CelebA_HQ_facial_identity_dataset/train/34/482.jpg  \n",
            "  inflating: ./CelebA_HQ_facial_identity_dataset/train/34/4847.jpg  \n",
            "  inflating: ./CelebA_HQ_facial_identity_dataset/train/34/5763.jpg  \n",
            "  inflating: ./CelebA_HQ_facial_identity_dataset/train/34/6166.jpg  \n",
            "   creating: ./CelebA_HQ_facial_identity_dataset/train/342/\n",
            "  inflating: ./CelebA_HQ_facial_identity_dataset/train/342/10737.jpg  \n",
            "  inflating: ./CelebA_HQ_facial_identity_dataset/train/342/14265.jpg  \n",
            "  inflating: ./CelebA_HQ_facial_identity_dataset/train/342/16955.jpg  \n",
            "  inflating: ./CelebA_HQ_facial_identity_dataset/train/342/19331.jpg  \n",
            "  inflating: ./CelebA_HQ_facial_identity_dataset/train/342/2304.jpg  \n",
            "  inflating: ./CelebA_HQ_facial_identity_dataset/train/342/2485.jpg  \n",
            "  inflating: ./CelebA_HQ_facial_identity_dataset/train/342/2531.jpg  \n",
            "  inflating: ./CelebA_HQ_facial_identity_dataset/train/342/2936.jpg  \n",
            "  inflating: ./CelebA_HQ_facial_identity_dataset/train/342/3246.jpg  \n",
            "  inflating: ./CelebA_HQ_facial_identity_dataset/train/342/3303.jpg  \n",
            "  inflating: ./CelebA_HQ_facial_identity_dataset/train/342/3362.jpg  \n",
            "  inflating: ./CelebA_HQ_facial_identity_dataset/train/342/416.jpg  \n",
            "  inflating: ./CelebA_HQ_facial_identity_dataset/train/342/4259.jpg  \n",
            "  inflating: ./CelebA_HQ_facial_identity_dataset/train/342/4677.jpg  \n",
            "  inflating: ./CelebA_HQ_facial_identity_dataset/train/342/5294.jpg  \n",
            "  inflating: ./CelebA_HQ_facial_identity_dataset/train/342/6208.jpg  \n",
            "   creating: ./CelebA_HQ_facial_identity_dataset/train/343/\n",
            "  inflating: ./CelebA_HQ_facial_identity_dataset/train/343/11194.jpg  \n",
            "  inflating: ./CelebA_HQ_facial_identity_dataset/train/343/11671.jpg  \n",
            "  inflating: ./CelebA_HQ_facial_identity_dataset/train/343/12002.jpg  \n",
            "  inflating: ./CelebA_HQ_facial_identity_dataset/train/343/12703.jpg  \n",
            "  inflating: ./CelebA_HQ_facial_identity_dataset/train/343/13089.jpg  \n",
            "  inflating: ./CelebA_HQ_facial_identity_dataset/train/343/1313.jpg  \n",
            "  inflating: ./CelebA_HQ_facial_identity_dataset/train/343/13166.jpg  \n",
            "  inflating: ./CelebA_HQ_facial_identity_dataset/train/343/1317.jpg  \n",
            "  inflating: ./CelebA_HQ_facial_identity_dataset/train/343/13228.jpg  \n",
            "  inflating: ./CelebA_HQ_facial_identity_dataset/train/343/15173.jpg  \n",
            "  inflating: ./CelebA_HQ_facial_identity_dataset/train/343/19904.jpg  \n",
            "  inflating: ./CelebA_HQ_facial_identity_dataset/train/343/2096.jpg  \n",
            "  inflating: ./CelebA_HQ_facial_identity_dataset/train/343/2149.jpg  \n",
            "  inflating: ./CelebA_HQ_facial_identity_dataset/train/343/2167.jpg  \n",
            "  inflating: ./CelebA_HQ_facial_identity_dataset/train/343/26484.jpg  \n",
            "  inflating: ./CelebA_HQ_facial_identity_dataset/train/343/3674.jpg  \n",
            "  inflating: ./CelebA_HQ_facial_identity_dataset/train/343/417.jpg  \n",
            "  inflating: ./CelebA_HQ_facial_identity_dataset/train/343/505.jpg  \n",
            "  inflating: ./CelebA_HQ_facial_identity_dataset/train/343/5305.jpg  \n",
            "   creating: ./CelebA_HQ_facial_identity_dataset/train/351/\n",
            "  inflating: ./CelebA_HQ_facial_identity_dataset/train/351/12724.jpg  \n",
            "  inflating: ./CelebA_HQ_facial_identity_dataset/train/351/13111.jpg  \n",
            "  inflating: ./CelebA_HQ_facial_identity_dataset/train/351/14676.jpg  \n",
            "  inflating: ./CelebA_HQ_facial_identity_dataset/train/351/15025.jpg  \n",
            "  inflating: ./CelebA_HQ_facial_identity_dataset/train/351/1570.jpg  \n",
            "  inflating: ./CelebA_HQ_facial_identity_dataset/train/351/19072.jpg  \n",
            "  inflating: ./CelebA_HQ_facial_identity_dataset/train/351/19131.jpg  \n",
            "  inflating: ./CelebA_HQ_facial_identity_dataset/train/351/1944.jpg  \n",
            "  inflating: ./CelebA_HQ_facial_identity_dataset/train/351/22426.jpg  \n",
            "  inflating: ./CelebA_HQ_facial_identity_dataset/train/351/23981.jpg  \n",
            "  inflating: ./CelebA_HQ_facial_identity_dataset/train/351/2753.jpg  \n",
            "  inflating: ./CelebA_HQ_facial_identity_dataset/train/351/3374.jpg  \n",
            "  inflating: ./CelebA_HQ_facial_identity_dataset/train/351/428.jpg  \n",
            "   creating: ./CelebA_HQ_facial_identity_dataset/train/356/\n",
            "  inflating: ./CelebA_HQ_facial_identity_dataset/train/356/10186.jpg  \n",
            "  inflating: ./CelebA_HQ_facial_identity_dataset/train/356/10246.jpg  \n",
            "  inflating: ./CelebA_HQ_facial_identity_dataset/train/356/1289.jpg  \n",
            "  inflating: ./CelebA_HQ_facial_identity_dataset/train/356/1467.jpg  \n",
            "  inflating: ./CelebA_HQ_facial_identity_dataset/train/356/14834.jpg  \n",
            "  inflating: ./CelebA_HQ_facial_identity_dataset/train/356/1775.jpg  \n",
            "  inflating: ./CelebA_HQ_facial_identity_dataset/train/356/20373.jpg  \n",
            "  inflating: ./CelebA_HQ_facial_identity_dataset/train/356/3512.jpg  \n",
            "  inflating: ./CelebA_HQ_facial_identity_dataset/train/356/3553.jpg  \n",
            "  inflating: ./CelebA_HQ_facial_identity_dataset/train/356/3876.jpg  \n",
            "  inflating: ./CelebA_HQ_facial_identity_dataset/train/356/433.jpg  \n",
            "  inflating: ./CelebA_HQ_facial_identity_dataset/train/356/5414.jpg  \n",
            "  inflating: ./CelebA_HQ_facial_identity_dataset/train/356/686.jpg  \n",
            "  inflating: ./CelebA_HQ_facial_identity_dataset/train/356/7553.jpg  \n",
            "   creating: ./CelebA_HQ_facial_identity_dataset/train/360/\n",
            "  inflating: ./CelebA_HQ_facial_identity_dataset/train/360/1066.jpg  \n",
            "  inflating: ./CelebA_HQ_facial_identity_dataset/train/360/11085.jpg  \n",
            "  inflating: ./CelebA_HQ_facial_identity_dataset/train/360/1355.jpg  \n",
            "  inflating: ./CelebA_HQ_facial_identity_dataset/train/360/1898.jpg  \n",
            "  inflating: ./CelebA_HQ_facial_identity_dataset/train/360/2633.jpg  \n",
            "  inflating: ./CelebA_HQ_facial_identity_dataset/train/360/2694.jpg  \n",
            "  inflating: ./CelebA_HQ_facial_identity_dataset/train/360/27044.jpg  \n",
            "  inflating: ./CelebA_HQ_facial_identity_dataset/train/360/2770.jpg  \n",
            "  inflating: ./CelebA_HQ_facial_identity_dataset/train/360/3073.jpg  \n",
            "  inflating: ./CelebA_HQ_facial_identity_dataset/train/360/3403.jpg  \n",
            "  inflating: ./CelebA_HQ_facial_identity_dataset/train/360/3456.jpg  \n",
            "  inflating: ./CelebA_HQ_facial_identity_dataset/train/360/4026.jpg  \n",
            "  inflating: ./CelebA_HQ_facial_identity_dataset/train/360/4061.jpg  \n",
            "  inflating: ./CelebA_HQ_facial_identity_dataset/train/360/4309.jpg  \n",
            "  inflating: ./CelebA_HQ_facial_identity_dataset/train/360/4324.jpg  \n",
            "  inflating: ./CelebA_HQ_facial_identity_dataset/train/360/4369.jpg  \n",
            "  inflating: ./CelebA_HQ_facial_identity_dataset/train/360/438.jpg  \n",
            "  inflating: ./CelebA_HQ_facial_identity_dataset/train/360/518.jpg  \n",
            "  inflating: ./CelebA_HQ_facial_identity_dataset/train/360/5552.jpg  \n",
            "  inflating: ./CelebA_HQ_facial_identity_dataset/train/360/6319.jpg  \n",
            "  inflating: ./CelebA_HQ_facial_identity_dataset/train/360/635.jpg  \n",
            "   creating: ./CelebA_HQ_facial_identity_dataset/train/361/\n",
            "  inflating: ./CelebA_HQ_facial_identity_dataset/train/361/1535.jpg  \n",
            "  inflating: ./CelebA_HQ_facial_identity_dataset/train/361/15469.jpg  \n",
            "  inflating: ./CelebA_HQ_facial_identity_dataset/train/361/1557.jpg  \n",
            "  inflating: ./CelebA_HQ_facial_identity_dataset/train/361/18290.jpg  \n",
            "  inflating: ./CelebA_HQ_facial_identity_dataset/train/361/19185.jpg  \n",
            "  inflating: ./CelebA_HQ_facial_identity_dataset/train/361/24744.jpg  \n",
            "  inflating: ./CelebA_HQ_facial_identity_dataset/train/361/25537.jpg  \n",
            "  inflating: ./CelebA_HQ_facial_identity_dataset/train/361/28544.jpg  \n",
            "  inflating: ./CelebA_HQ_facial_identity_dataset/train/361/3607.jpg  \n",
            "  inflating: ./CelebA_HQ_facial_identity_dataset/train/361/3669.jpg  \n",
            "  inflating: ./CelebA_HQ_facial_identity_dataset/train/361/439.jpg  \n",
            "  inflating: ./CelebA_HQ_facial_identity_dataset/train/361/5044.jpg  \n",
            "  inflating: ./CelebA_HQ_facial_identity_dataset/train/361/5560.jpg  \n",
            "  inflating: ./CelebA_HQ_facial_identity_dataset/train/361/5939.jpg  \n",
            "  inflating: ./CelebA_HQ_facial_identity_dataset/train/361/5946.jpg  \n",
            "  inflating: ./CelebA_HQ_facial_identity_dataset/train/361/6113.jpg  \n",
            "   creating: ./CelebA_HQ_facial_identity_dataset/train/362/\n",
            "  inflating: ./CelebA_HQ_facial_identity_dataset/train/362/10777.jpg  \n",
            "  inflating: ./CelebA_HQ_facial_identity_dataset/train/362/1139.jpg  \n",
            "  inflating: ./CelebA_HQ_facial_identity_dataset/train/362/1315.jpg  \n",
            "  inflating: ./CelebA_HQ_facial_identity_dataset/train/362/1338.jpg  \n",
            "  inflating: ./CelebA_HQ_facial_identity_dataset/train/362/1431.jpg  \n",
            "  inflating: ./CelebA_HQ_facial_identity_dataset/train/362/1488.jpg  \n",
            "  inflating: ./CelebA_HQ_facial_identity_dataset/train/362/15044.jpg  \n",
            "  inflating: ./CelebA_HQ_facial_identity_dataset/train/362/1605.jpg  \n",
            "  inflating: ./CelebA_HQ_facial_identity_dataset/train/362/16390.jpg  \n",
            "  inflating: ./CelebA_HQ_facial_identity_dataset/train/362/16455.jpg  \n",
            "  inflating: ./CelebA_HQ_facial_identity_dataset/train/362/17466.jpg  \n",
            "  inflating: ./CelebA_HQ_facial_identity_dataset/train/362/23288.jpg  \n",
            "  inflating: ./CelebA_HQ_facial_identity_dataset/train/362/25298.jpg  \n",
            "  inflating: ./CelebA_HQ_facial_identity_dataset/train/362/2616.jpg  \n",
            "  inflating: ./CelebA_HQ_facial_identity_dataset/train/362/2675.jpg  \n",
            "  inflating: ./CelebA_HQ_facial_identity_dataset/train/362/2865.jpg  \n",
            "  inflating: ./CelebA_HQ_facial_identity_dataset/train/362/3310.jpg  \n",
            "  inflating: ./CelebA_HQ_facial_identity_dataset/train/362/440.jpg  \n",
            "  inflating: ./CelebA_HQ_facial_identity_dataset/train/362/6137.jpg  \n",
            "  inflating: ./CelebA_HQ_facial_identity_dataset/train/362/6597.jpg  \n",
            "   creating: ./CelebA_HQ_facial_identity_dataset/train/366/\n",
            "  inflating: ./CelebA_HQ_facial_identity_dataset/train/366/17243.jpg  \n",
            "  inflating: ./CelebA_HQ_facial_identity_dataset/train/366/17251.jpg  \n",
            "  inflating: ./CelebA_HQ_facial_identity_dataset/train/366/18187.jpg  \n",
            "  inflating: ./CelebA_HQ_facial_identity_dataset/train/366/19508.jpg  \n",
            "  inflating: ./CelebA_HQ_facial_identity_dataset/train/366/21385.jpg  \n",
            "  inflating: ./CelebA_HQ_facial_identity_dataset/train/366/22001.jpg  \n",
            "  inflating: ./CelebA_HQ_facial_identity_dataset/train/366/2293.jpg  \n",
            "  inflating: ./CelebA_HQ_facial_identity_dataset/train/366/2372.jpg  \n",
            "  inflating: ./CelebA_HQ_facial_identity_dataset/train/366/2486.jpg  \n",
            "  inflating: ./CelebA_HQ_facial_identity_dataset/train/366/28370.jpg  \n",
            "  inflating: ./CelebA_HQ_facial_identity_dataset/train/366/3808.jpg  \n",
            "  inflating: ./CelebA_HQ_facial_identity_dataset/train/366/4113.jpg  \n",
            "  inflating: ./CelebA_HQ_facial_identity_dataset/train/366/444.jpg  \n",
            "  inflating: ./CelebA_HQ_facial_identity_dataset/train/366/5126.jpg  \n",
            "  inflating: ./CelebA_HQ_facial_identity_dataset/train/366/6157.jpg  \n",
            "   creating: ./CelebA_HQ_facial_identity_dataset/train/368/\n",
            "  inflating: ./CelebA_HQ_facial_identity_dataset/train/368/10147.jpg  \n",
            "  inflating: ./CelebA_HQ_facial_identity_dataset/train/368/11667.jpg  \n",
            "  inflating: ./CelebA_HQ_facial_identity_dataset/train/368/12807.jpg  \n",
            "  inflating: ./CelebA_HQ_facial_identity_dataset/train/368/14709.jpg  \n",
            "  inflating: ./CelebA_HQ_facial_identity_dataset/train/368/15448.jpg  \n",
            "  inflating: ./CelebA_HQ_facial_identity_dataset/train/368/16020.jpg  \n",
            "  inflating: ./CelebA_HQ_facial_identity_dataset/train/368/16289.jpg  \n",
            "  inflating: ./CelebA_HQ_facial_identity_dataset/train/368/17110.jpg  \n",
            "  inflating: ./CelebA_HQ_facial_identity_dataset/train/368/17331.jpg  \n",
            "  inflating: ./CelebA_HQ_facial_identity_dataset/train/368/17350.jpg  \n",
            "  inflating: ./CelebA_HQ_facial_identity_dataset/train/368/1767.jpg  \n",
            "  inflating: ./CelebA_HQ_facial_identity_dataset/train/368/18793.jpg  \n",
            "  inflating: ./CelebA_HQ_facial_identity_dataset/train/368/21766.jpg  \n",
            "  inflating: ./CelebA_HQ_facial_identity_dataset/train/368/22414.jpg  \n",
            "  inflating: ./CelebA_HQ_facial_identity_dataset/train/368/23731.jpg  \n",
            "  inflating: ./CelebA_HQ_facial_identity_dataset/train/368/2423.jpg  \n",
            "  inflating: ./CelebA_HQ_facial_identity_dataset/train/368/26614.jpg  \n",
            "  inflating: ./CelebA_HQ_facial_identity_dataset/train/368/4245.jpg  \n",
            "  inflating: ./CelebA_HQ_facial_identity_dataset/train/368/447.jpg  \n",
            "  inflating: ./CelebA_HQ_facial_identity_dataset/train/368/4971.jpg  \n",
            "   creating: ./CelebA_HQ_facial_identity_dataset/train/374/\n",
            "  inflating: ./CelebA_HQ_facial_identity_dataset/train/374/1298.jpg  \n",
            "  inflating: ./CelebA_HQ_facial_identity_dataset/train/374/13553.jpg  \n",
            "  inflating: ./CelebA_HQ_facial_identity_dataset/train/374/15120.jpg  \n",
            "  inflating: ./CelebA_HQ_facial_identity_dataset/train/374/16089.jpg  \n",
            "  inflating: ./CelebA_HQ_facial_identity_dataset/train/374/16596.jpg  \n",
            "  inflating: ./CelebA_HQ_facial_identity_dataset/train/374/18890.jpg  \n",
            "  inflating: ./CelebA_HQ_facial_identity_dataset/train/374/19381.jpg  \n",
            "  inflating: ./CelebA_HQ_facial_identity_dataset/train/374/20953.jpg  \n",
            "  inflating: ./CelebA_HQ_facial_identity_dataset/train/374/22180.jpg  \n",
            "  inflating: ./CelebA_HQ_facial_identity_dataset/train/374/24065.jpg  \n",
            "  inflating: ./CelebA_HQ_facial_identity_dataset/train/374/26162.jpg  \n",
            "  inflating: ./CelebA_HQ_facial_identity_dataset/train/374/29490.jpg  \n",
            "   creating: ./CelebA_HQ_facial_identity_dataset/train/376/\n",
            "  inflating: ./CelebA_HQ_facial_identity_dataset/train/376/10869.jpg  \n",
            "  inflating: ./CelebA_HQ_facial_identity_dataset/train/376/11955.jpg  \n",
            "  inflating: ./CelebA_HQ_facial_identity_dataset/train/376/12311.jpg  \n",
            "  inflating: ./CelebA_HQ_facial_identity_dataset/train/376/12899.jpg  \n",
            "  inflating: ./CelebA_HQ_facial_identity_dataset/train/376/14123.jpg  \n",
            "  inflating: ./CelebA_HQ_facial_identity_dataset/train/376/1446.jpg  \n",
            "  inflating: ./CelebA_HQ_facial_identity_dataset/train/376/15206.jpg  \n",
            "  inflating: ./CelebA_HQ_facial_identity_dataset/train/376/17193.jpg  \n",
            "  inflating: ./CelebA_HQ_facial_identity_dataset/train/376/18462.jpg  \n",
            "  inflating: ./CelebA_HQ_facial_identity_dataset/train/376/18573.jpg  \n",
            "  inflating: ./CelebA_HQ_facial_identity_dataset/train/376/1871.jpg  \n",
            "  inflating: ./CelebA_HQ_facial_identity_dataset/train/376/21535.jpg  \n",
            "  inflating: ./CelebA_HQ_facial_identity_dataset/train/376/2225.jpg  \n",
            "  inflating: ./CelebA_HQ_facial_identity_dataset/train/376/27401.jpg  \n",
            "  inflating: ./CelebA_HQ_facial_identity_dataset/train/376/27404.jpg  \n",
            "  inflating: ./CelebA_HQ_facial_identity_dataset/train/376/3075.jpg  \n",
            "  inflating: ./CelebA_HQ_facial_identity_dataset/train/376/3359.jpg  \n",
            "   creating: ./CelebA_HQ_facial_identity_dataset/train/379/\n",
            "  inflating: ./CelebA_HQ_facial_identity_dataset/train/379/12005.jpg  \n",
            "  inflating: ./CelebA_HQ_facial_identity_dataset/train/379/15824.jpg  \n",
            "  inflating: ./CelebA_HQ_facial_identity_dataset/train/379/16033.jpg  \n",
            "  inflating: ./CelebA_HQ_facial_identity_dataset/train/379/19664.jpg  \n",
            "  inflating: ./CelebA_HQ_facial_identity_dataset/train/379/20509.jpg  \n",
            "  inflating: ./CelebA_HQ_facial_identity_dataset/train/379/23065.jpg  \n",
            "  inflating: ./CelebA_HQ_facial_identity_dataset/train/379/26096.jpg  \n",
            "  inflating: ./CelebA_HQ_facial_identity_dataset/train/379/3801.jpg  \n",
            "  inflating: ./CelebA_HQ_facial_identity_dataset/train/379/3955.jpg  \n",
            "  inflating: ./CelebA_HQ_facial_identity_dataset/train/379/461.jpg  \n",
            "  inflating: ./CelebA_HQ_facial_identity_dataset/train/379/4763.jpg  \n",
            "  inflating: ./CelebA_HQ_facial_identity_dataset/train/379/5629.jpg  \n",
            "  inflating: ./CelebA_HQ_facial_identity_dataset/train/379/5830.jpg  \n",
            "  inflating: ./CelebA_HQ_facial_identity_dataset/train/379/6179.jpg  \n",
            "  inflating: ./CelebA_HQ_facial_identity_dataset/train/379/6925.jpg  \n",
            "   creating: ./CelebA_HQ_facial_identity_dataset/train/385/\n",
            "  inflating: ./CelebA_HQ_facial_identity_dataset/train/385/10377.jpg  \n",
            "  inflating: ./CelebA_HQ_facial_identity_dataset/train/385/1677.jpg  \n",
            "  inflating: ./CelebA_HQ_facial_identity_dataset/train/385/1774.jpg  \n",
            "  inflating: ./CelebA_HQ_facial_identity_dataset/train/385/18651.jpg  \n",
            "  inflating: ./CelebA_HQ_facial_identity_dataset/train/385/19959.jpg  \n",
            "  inflating: ./CelebA_HQ_facial_identity_dataset/train/385/2057.jpg  \n",
            "  inflating: ./CelebA_HQ_facial_identity_dataset/train/385/2489.jpg  \n",
            "  inflating: ./CelebA_HQ_facial_identity_dataset/train/385/27129.jpg  \n",
            "  inflating: ./CelebA_HQ_facial_identity_dataset/train/385/4417.jpg  \n",
            "  inflating: ./CelebA_HQ_facial_identity_dataset/train/385/471.jpg  \n",
            "  inflating: ./CelebA_HQ_facial_identity_dataset/train/385/5639.jpg  \n",
            "  inflating: ./CelebA_HQ_facial_identity_dataset/train/385/6190.jpg  \n",
            "   creating: ./CelebA_HQ_facial_identity_dataset/train/3911/\n",
            "  inflating: ./CelebA_HQ_facial_identity_dataset/train/3911/14818.jpg  \n",
            "  inflating: ./CelebA_HQ_facial_identity_dataset/train/3911/15136.jpg  \n",
            "  inflating: ./CelebA_HQ_facial_identity_dataset/train/3911/15644.jpg  \n",
            "  inflating: ./CelebA_HQ_facial_identity_dataset/train/3911/16229.jpg  \n",
            "  inflating: ./CelebA_HQ_facial_identity_dataset/train/3911/17062.jpg  \n",
            "  inflating: ./CelebA_HQ_facial_identity_dataset/train/3911/17083.jpg  \n",
            "  inflating: ./CelebA_HQ_facial_identity_dataset/train/3911/17872.jpg  \n",
            "  inflating: ./CelebA_HQ_facial_identity_dataset/train/3911/18657.jpg  \n",
            "  inflating: ./CelebA_HQ_facial_identity_dataset/train/3911/19377.jpg  \n",
            "  inflating: ./CelebA_HQ_facial_identity_dataset/train/3911/19464.jpg  \n",
            "  inflating: ./CelebA_HQ_facial_identity_dataset/train/3911/19700.jpg  \n",
            "  inflating: ./CelebA_HQ_facial_identity_dataset/train/3911/20136.jpg  \n",
            "  inflating: ./CelebA_HQ_facial_identity_dataset/train/3911/20763.jpg  \n",
            "   creating: ./CelebA_HQ_facial_identity_dataset/train/406/\n",
            "  inflating: ./CelebA_HQ_facial_identity_dataset/train/406/10628.jpg  \n",
            "  inflating: ./CelebA_HQ_facial_identity_dataset/train/406/11644.jpg  \n",
            "  inflating: ./CelebA_HQ_facial_identity_dataset/train/406/14279.jpg  \n",
            "  inflating: ./CelebA_HQ_facial_identity_dataset/train/406/19969.jpg  \n",
            "  inflating: ./CelebA_HQ_facial_identity_dataset/train/406/2082.jpg  \n",
            "  inflating: ./CelebA_HQ_facial_identity_dataset/train/406/21301.jpg  \n",
            "  inflating: ./CelebA_HQ_facial_identity_dataset/train/406/22477.jpg  \n",
            "  inflating: ./CelebA_HQ_facial_identity_dataset/train/406/2364.jpg  \n",
            "  inflating: ./CelebA_HQ_facial_identity_dataset/train/406/2478.jpg  \n",
            "  inflating: ./CelebA_HQ_facial_identity_dataset/train/406/27153.jpg  \n",
            "  inflating: ./CelebA_HQ_facial_identity_dataset/train/406/2835.jpg  \n",
            "  inflating: ./CelebA_HQ_facial_identity_dataset/train/406/3275.jpg  \n",
            "  inflating: ./CelebA_HQ_facial_identity_dataset/train/406/3527.jpg  \n",
            "  inflating: ./CelebA_HQ_facial_identity_dataset/train/406/4614.jpg  \n",
            "  inflating: ./CelebA_HQ_facial_identity_dataset/train/406/500.jpg  \n",
            "  inflating: ./CelebA_HQ_facial_identity_dataset/train/406/5132.jpg  \n",
            "   creating: ./CelebA_HQ_facial_identity_dataset/train/407/\n",
            "  inflating: ./CelebA_HQ_facial_identity_dataset/train/407/1148.jpg  \n",
            "  inflating: ./CelebA_HQ_facial_identity_dataset/train/407/12766.jpg  \n",
            "  inflating: ./CelebA_HQ_facial_identity_dataset/train/407/13087.jpg  \n",
            "  inflating: ./CelebA_HQ_facial_identity_dataset/train/407/2251.jpg  \n",
            "  inflating: ./CelebA_HQ_facial_identity_dataset/train/407/26366.jpg  \n",
            "  inflating: ./CelebA_HQ_facial_identity_dataset/train/407/2732.jpg  \n",
            "  inflating: ./CelebA_HQ_facial_identity_dataset/train/407/3061.jpg  \n",
            "  inflating: ./CelebA_HQ_facial_identity_dataset/train/407/3105.jpg  \n",
            "  inflating: ./CelebA_HQ_facial_identity_dataset/train/407/4547.jpg  \n",
            "  inflating: ./CelebA_HQ_facial_identity_dataset/train/407/4616.jpg  \n",
            "  inflating: ./CelebA_HQ_facial_identity_dataset/train/407/501.jpg  \n",
            "  inflating: ./CelebA_HQ_facial_identity_dataset/train/407/5360.jpg  \n",
            "  inflating: ./CelebA_HQ_facial_identity_dataset/train/407/5765.jpg  \n",
            "   creating: ./CelebA_HQ_facial_identity_dataset/train/409/\n",
            "  inflating: ./CelebA_HQ_facial_identity_dataset/train/409/12120.jpg  \n",
            "  inflating: ./CelebA_HQ_facial_identity_dataset/train/409/12474.jpg  \n",
            "  inflating: ./CelebA_HQ_facial_identity_dataset/train/409/13447.jpg  \n",
            "  inflating: ./CelebA_HQ_facial_identity_dataset/train/409/13782.jpg  \n",
            "  inflating: ./CelebA_HQ_facial_identity_dataset/train/409/19677.jpg  \n",
            "  inflating: ./CelebA_HQ_facial_identity_dataset/train/409/19722.jpg  \n",
            "  inflating: ./CelebA_HQ_facial_identity_dataset/train/409/22342.jpg  \n",
            "  inflating: ./CelebA_HQ_facial_identity_dataset/train/409/22605.jpg  \n",
            "  inflating: ./CelebA_HQ_facial_identity_dataset/train/409/26968.jpg  \n",
            "  inflating: ./CelebA_HQ_facial_identity_dataset/train/409/28251.jpg  \n",
            "  inflating: ./CelebA_HQ_facial_identity_dataset/train/409/3410.jpg  \n",
            "  inflating: ./CelebA_HQ_facial_identity_dataset/train/409/4413.jpg  \n",
            "  inflating: ./CelebA_HQ_facial_identity_dataset/train/409/503.jpg  \n",
            "   creating: ./CelebA_HQ_facial_identity_dataset/train/410/\n",
            "  inflating: ./CelebA_HQ_facial_identity_dataset/train/410/12394.jpg  \n",
            "  inflating: ./CelebA_HQ_facial_identity_dataset/train/410/1659.jpg  \n",
            "  inflating: ./CelebA_HQ_facial_identity_dataset/train/410/18275.jpg  \n",
            "  inflating: ./CelebA_HQ_facial_identity_dataset/train/410/19627.jpg  \n",
            "  inflating: ./CelebA_HQ_facial_identity_dataset/train/410/2430.jpg  \n",
            "  inflating: ./CelebA_HQ_facial_identity_dataset/train/410/3775.jpg  \n",
            "  inflating: ./CelebA_HQ_facial_identity_dataset/train/410/4273.jpg  \n",
            "  inflating: ./CelebA_HQ_facial_identity_dataset/train/410/4709.jpg  \n",
            "  inflating: ./CelebA_HQ_facial_identity_dataset/train/410/4728.jpg  \n",
            "  inflating: ./CelebA_HQ_facial_identity_dataset/train/410/506.jpg  \n",
            "  inflating: ./CelebA_HQ_facial_identity_dataset/train/410/5337.jpg  \n",
            "  inflating: ./CelebA_HQ_facial_identity_dataset/train/410/6057.jpg  \n",
            "  inflating: ./CelebA_HQ_facial_identity_dataset/train/410/6078.jpg  \n",
            "  inflating: ./CelebA_HQ_facial_identity_dataset/train/410/6262.jpg  \n",
            "   creating: ./CelebA_HQ_facial_identity_dataset/train/422/\n",
            "  inflating: ./CelebA_HQ_facial_identity_dataset/train/422/1111.jpg  \n",
            "  inflating: ./CelebA_HQ_facial_identity_dataset/train/422/11241.jpg  \n",
            "  inflating: ./CelebA_HQ_facial_identity_dataset/train/422/11796.jpg  \n",
            "  inflating: ./CelebA_HQ_facial_identity_dataset/train/422/12356.jpg  \n",
            "  inflating: ./CelebA_HQ_facial_identity_dataset/train/422/14000.jpg  \n",
            "  inflating: ./CelebA_HQ_facial_identity_dataset/train/422/19228.jpg  \n",
            "  inflating: ./CelebA_HQ_facial_identity_dataset/train/422/21086.jpg  \n",
            "  inflating: ./CelebA_HQ_facial_identity_dataset/train/422/2272.jpg  \n",
            "  inflating: ./CelebA_HQ_facial_identity_dataset/train/422/2277.jpg  \n",
            "  inflating: ./CelebA_HQ_facial_identity_dataset/train/422/2331.jpg  \n",
            "  inflating: ./CelebA_HQ_facial_identity_dataset/train/422/23346.jpg  \n",
            "  inflating: ./CelebA_HQ_facial_identity_dataset/train/422/23956.jpg  \n",
            "   creating: ./CelebA_HQ_facial_identity_dataset/train/423/\n",
            "  inflating: ./CelebA_HQ_facial_identity_dataset/train/423/10327.jpg  \n",
            "  inflating: ./CelebA_HQ_facial_identity_dataset/train/423/1119.jpg  \n",
            "  inflating: ./CelebA_HQ_facial_identity_dataset/train/423/11960.jpg  \n",
            "  inflating: ./CelebA_HQ_facial_identity_dataset/train/423/15891.jpg  \n",
            "  inflating: ./CelebA_HQ_facial_identity_dataset/train/423/18800.jpg  \n",
            "  inflating: ./CelebA_HQ_facial_identity_dataset/train/423/22141.jpg  \n",
            "  inflating: ./CelebA_HQ_facial_identity_dataset/train/423/2639.jpg  \n",
            "  inflating: ./CelebA_HQ_facial_identity_dataset/train/423/4747.jpg  \n",
            "  inflating: ./CelebA_HQ_facial_identity_dataset/train/423/4771.jpg  \n",
            "  inflating: ./CelebA_HQ_facial_identity_dataset/train/423/526.jpg  \n",
            "  inflating: ./CelebA_HQ_facial_identity_dataset/train/423/5824.jpg  \n",
            "  inflating: ./CelebA_HQ_facial_identity_dataset/train/423/6036.jpg  \n",
            "   creating: ./CelebA_HQ_facial_identity_dataset/train/425/\n",
            "  inflating: ./CelebA_HQ_facial_identity_dataset/train/425/10089.jpg  \n",
            "  inflating: ./CelebA_HQ_facial_identity_dataset/train/425/10982.jpg  \n",
            "  inflating: ./CelebA_HQ_facial_identity_dataset/train/425/17920.jpg  \n",
            "  inflating: ./CelebA_HQ_facial_identity_dataset/train/425/18064.jpg  \n",
            "  inflating: ./CelebA_HQ_facial_identity_dataset/train/425/18825.jpg  \n",
            "  inflating: ./CelebA_HQ_facial_identity_dataset/train/425/20267.jpg  \n",
            "  inflating: ./CelebA_HQ_facial_identity_dataset/train/425/2802.jpg  \n",
            "  inflating: ./CelebA_HQ_facial_identity_dataset/train/425/28107.jpg  \n",
            "  inflating: ./CelebA_HQ_facial_identity_dataset/train/425/2848.jpg  \n",
            "  inflating: ./CelebA_HQ_facial_identity_dataset/train/425/3509.jpg  \n",
            "  inflating: ./CelebA_HQ_facial_identity_dataset/train/425/3756.jpg  \n",
            "  inflating: ./CelebA_HQ_facial_identity_dataset/train/425/4448.jpg  \n",
            "  inflating: ./CelebA_HQ_facial_identity_dataset/train/425/529.jpg  \n",
            "   creating: ./CelebA_HQ_facial_identity_dataset/train/437/\n",
            "  inflating: ./CelebA_HQ_facial_identity_dataset/train/437/13138.jpg  \n",
            "  inflating: ./CelebA_HQ_facial_identity_dataset/train/437/13747.jpg  \n",
            "  inflating: ./CelebA_HQ_facial_identity_dataset/train/437/13757.jpg  \n",
            "  inflating: ./CelebA_HQ_facial_identity_dataset/train/437/15764.jpg  \n",
            "  inflating: ./CelebA_HQ_facial_identity_dataset/train/437/20283.jpg  \n",
            "  inflating: ./CelebA_HQ_facial_identity_dataset/train/437/21586.jpg  \n",
            "  inflating: ./CelebA_HQ_facial_identity_dataset/train/437/22388.jpg  \n",
            "  inflating: ./CelebA_HQ_facial_identity_dataset/train/437/22816.jpg  \n",
            "  inflating: ./CelebA_HQ_facial_identity_dataset/train/437/25338.jpg  \n",
            "  inflating: ./CelebA_HQ_facial_identity_dataset/train/437/26663.jpg  \n",
            "  inflating: ./CelebA_HQ_facial_identity_dataset/train/437/26739.jpg  \n",
            "  inflating: ./CelebA_HQ_facial_identity_dataset/train/437/27599.jpg  \n",
            "   creating: ./CelebA_HQ_facial_identity_dataset/train/438/\n",
            "  inflating: ./CelebA_HQ_facial_identity_dataset/train/438/10502.jpg  \n",
            "  inflating: ./CelebA_HQ_facial_identity_dataset/train/438/11414.jpg  \n",
            "  inflating: ./CelebA_HQ_facial_identity_dataset/train/438/11488.jpg  \n",
            "  inflating: ./CelebA_HQ_facial_identity_dataset/train/438/1181.jpg  \n",
            "  inflating: ./CelebA_HQ_facial_identity_dataset/train/438/1681.jpg  \n",
            "  inflating: ./CelebA_HQ_facial_identity_dataset/train/438/1930.jpg  \n",
            "  inflating: ./CelebA_HQ_facial_identity_dataset/train/438/21695.jpg  \n",
            "  inflating: ./CelebA_HQ_facial_identity_dataset/train/438/22162.jpg  \n",
            "  inflating: ./CelebA_HQ_facial_identity_dataset/train/438/24838.jpg  \n",
            "  inflating: ./CelebA_HQ_facial_identity_dataset/train/438/29813.jpg  \n",
            "  inflating: ./CelebA_HQ_facial_identity_dataset/train/438/3637.jpg  \n",
            "  inflating: ./CelebA_HQ_facial_identity_dataset/train/438/4910.jpg  \n",
            "   creating: ./CelebA_HQ_facial_identity_dataset/train/44/\n",
            "  inflating: ./CelebA_HQ_facial_identity_dataset/train/44/10879.jpg  \n",
            "  inflating: ./CelebA_HQ_facial_identity_dataset/train/44/11999.jpg  \n",
            "  inflating: ./CelebA_HQ_facial_identity_dataset/train/44/14539.jpg  \n",
            "  inflating: ./CelebA_HQ_facial_identity_dataset/train/44/1555.jpg  \n",
            "  inflating: ./CelebA_HQ_facial_identity_dataset/train/44/16021.jpg  \n",
            "  inflating: ./CelebA_HQ_facial_identity_dataset/train/44/170.jpg  \n",
            "  inflating: ./CelebA_HQ_facial_identity_dataset/train/44/19542.jpg  \n",
            "  inflating: ./CelebA_HQ_facial_identity_dataset/train/44/2211.jpg  \n",
            "  inflating: ./CelebA_HQ_facial_identity_dataset/train/44/3172.jpg  \n",
            "  inflating: ./CelebA_HQ_facial_identity_dataset/train/44/3820.jpg  \n",
            "  inflating: ./CelebA_HQ_facial_identity_dataset/train/44/46.jpg  \n",
            "  inflating: ./CelebA_HQ_facial_identity_dataset/train/44/5033.jpg  \n",
            "  inflating: ./CelebA_HQ_facial_identity_dataset/train/44/5402.jpg  \n",
            "  inflating: ./CelebA_HQ_facial_identity_dataset/train/44/5408.jpg  \n",
            "   creating: ./CelebA_HQ_facial_identity_dataset/train/440/\n",
            "  inflating: ./CelebA_HQ_facial_identity_dataset/train/440/10771.jpg  \n",
            "  inflating: ./CelebA_HQ_facial_identity_dataset/train/440/11184.jpg  \n",
            "  inflating: ./CelebA_HQ_facial_identity_dataset/train/440/12053.jpg  \n",
            "  inflating: ./CelebA_HQ_facial_identity_dataset/train/440/13188.jpg  \n",
            "  inflating: ./CelebA_HQ_facial_identity_dataset/train/440/1372.jpg  \n",
            "  inflating: ./CelebA_HQ_facial_identity_dataset/train/440/14064.jpg  \n",
            "  inflating: ./CelebA_HQ_facial_identity_dataset/train/440/15338.jpg  \n",
            "  inflating: ./CelebA_HQ_facial_identity_dataset/train/440/17172.jpg  \n",
            "  inflating: ./CelebA_HQ_facial_identity_dataset/train/440/18680.jpg  \n",
            "  inflating: ./CelebA_HQ_facial_identity_dataset/train/440/26461.jpg  \n",
            "  inflating: ./CelebA_HQ_facial_identity_dataset/train/440/26851.jpg  \n",
            "  inflating: ./CelebA_HQ_facial_identity_dataset/train/440/3353.jpg  \n",
            "  inflating: ./CelebA_HQ_facial_identity_dataset/train/440/5290.jpg  \n",
            "  inflating: ./CelebA_HQ_facial_identity_dataset/train/440/552.jpg  \n",
            "  inflating: ./CelebA_HQ_facial_identity_dataset/train/440/7086.jpg  \n",
            "  inflating: ./CelebA_HQ_facial_identity_dataset/train/440/7490.jpg  \n",
            "   creating: ./CelebA_HQ_facial_identity_dataset/train/442/\n",
            "  inflating: ./CelebA_HQ_facial_identity_dataset/train/442/12080.jpg  \n",
            "  inflating: ./CelebA_HQ_facial_identity_dataset/train/442/12104.jpg  \n",
            "  inflating: ./CelebA_HQ_facial_identity_dataset/train/442/1352.jpg  \n",
            "  inflating: ./CelebA_HQ_facial_identity_dataset/train/442/1362.jpg  \n",
            "  inflating: ./CelebA_HQ_facial_identity_dataset/train/442/14126.jpg  \n",
            "  inflating: ./CelebA_HQ_facial_identity_dataset/train/442/15063.jpg  \n",
            "  inflating: ./CelebA_HQ_facial_identity_dataset/train/442/15782.jpg  \n",
            "  inflating: ./CelebA_HQ_facial_identity_dataset/train/442/16054.jpg  \n",
            "  inflating: ./CelebA_HQ_facial_identity_dataset/train/442/16523.jpg  \n",
            "  inflating: ./CelebA_HQ_facial_identity_dataset/train/442/18320.jpg  \n",
            "  inflating: ./CelebA_HQ_facial_identity_dataset/train/442/20458.jpg  \n",
            "  inflating: ./CelebA_HQ_facial_identity_dataset/train/442/21457.jpg  \n",
            "  inflating: ./CelebA_HQ_facial_identity_dataset/train/442/2434.jpg  \n",
            "  inflating: ./CelebA_HQ_facial_identity_dataset/train/442/3168.jpg  \n",
            "  inflating: ./CelebA_HQ_facial_identity_dataset/train/442/3215.jpg  \n",
            "  inflating: ./CelebA_HQ_facial_identity_dataset/train/442/4560.jpg  \n",
            "  inflating: ./CelebA_HQ_facial_identity_dataset/train/442/5382.jpg  \n",
            "  inflating: ./CelebA_HQ_facial_identity_dataset/train/442/557.jpg  \n",
            "  inflating: ./CelebA_HQ_facial_identity_dataset/train/442/7190.jpg  \n",
            "   creating: ./CelebA_HQ_facial_identity_dataset/train/449/\n",
            "  inflating: ./CelebA_HQ_facial_identity_dataset/train/449/10792.jpg  \n",
            "  inflating: ./CelebA_HQ_facial_identity_dataset/train/449/14215.jpg  \n",
            "  inflating: ./CelebA_HQ_facial_identity_dataset/train/449/14819.jpg  \n",
            "  inflating: ./CelebA_HQ_facial_identity_dataset/train/449/18628.jpg  \n",
            "  inflating: ./CelebA_HQ_facial_identity_dataset/train/449/23153.jpg  \n",
            "  inflating: ./CelebA_HQ_facial_identity_dataset/train/449/23427.jpg  \n",
            "  inflating: ./CelebA_HQ_facial_identity_dataset/train/449/24779.jpg  \n",
            "  inflating: ./CelebA_HQ_facial_identity_dataset/train/449/2522.jpg  \n",
            "  inflating: ./CelebA_HQ_facial_identity_dataset/train/449/26709.jpg  \n",
            "  inflating: ./CelebA_HQ_facial_identity_dataset/train/449/2725.jpg  \n",
            "  inflating: ./CelebA_HQ_facial_identity_dataset/train/449/27332.jpg  \n",
            "  inflating: ./CelebA_HQ_facial_identity_dataset/train/449/4876.jpg  \n",
            "   creating: ./CelebA_HQ_facial_identity_dataset/train/45/\n",
            "  inflating: ./CelebA_HQ_facial_identity_dataset/train/45/2198.jpg  \n",
            "  inflating: ./CelebA_HQ_facial_identity_dataset/train/45/26227.jpg  \n",
            "  inflating: ./CelebA_HQ_facial_identity_dataset/train/45/28082.jpg  \n",
            "  inflating: ./CelebA_HQ_facial_identity_dataset/train/45/2859.jpg  \n",
            "  inflating: ./CelebA_HQ_facial_identity_dataset/train/45/29361.jpg  \n",
            "  inflating: ./CelebA_HQ_facial_identity_dataset/train/45/3058.jpg  \n",
            "  inflating: ./CelebA_HQ_facial_identity_dataset/train/45/3098.jpg  \n",
            "  inflating: ./CelebA_HQ_facial_identity_dataset/train/45/3863.jpg  \n",
            "  inflating: ./CelebA_HQ_facial_identity_dataset/train/45/4166.jpg  \n",
            "  inflating: ./CelebA_HQ_facial_identity_dataset/train/45/4441.jpg  \n",
            "  inflating: ./CelebA_HQ_facial_identity_dataset/train/45/4608.jpg  \n",
            "  inflating: ./CelebA_HQ_facial_identity_dataset/train/45/47.jpg  \n",
            "  inflating: ./CelebA_HQ_facial_identity_dataset/train/45/6041.jpg  \n",
            "  inflating: ./CelebA_HQ_facial_identity_dataset/train/45/6126.jpg  \n",
            "  inflating: ./CelebA_HQ_facial_identity_dataset/train/45/6263.jpg  \n",
            "  inflating: ./CelebA_HQ_facial_identity_dataset/train/45/6400.jpg  \n",
            "   creating: ./CelebA_HQ_facial_identity_dataset/train/450/\n",
            "  inflating: ./CelebA_HQ_facial_identity_dataset/train/450/10833.jpg  \n",
            "  inflating: ./CelebA_HQ_facial_identity_dataset/train/450/11017.jpg  \n",
            "  inflating: ./CelebA_HQ_facial_identity_dataset/train/450/1213.jpg  \n",
            "  inflating: ./CelebA_HQ_facial_identity_dataset/train/450/16846.jpg  \n",
            "  inflating: ./CelebA_HQ_facial_identity_dataset/train/450/20017.jpg  \n",
            "  inflating: ./CelebA_HQ_facial_identity_dataset/train/450/20599.jpg  \n",
            "  inflating: ./CelebA_HQ_facial_identity_dataset/train/450/21769.jpg  \n",
            "  inflating: ./CelebA_HQ_facial_identity_dataset/train/450/21940.jpg  \n",
            "  inflating: ./CelebA_HQ_facial_identity_dataset/train/450/2740.jpg  \n",
            "  inflating: ./CelebA_HQ_facial_identity_dataset/train/450/3809.jpg  \n",
            "  inflating: ./CelebA_HQ_facial_identity_dataset/train/450/4602.jpg  \n",
            "  inflating: ./CelebA_HQ_facial_identity_dataset/train/450/5278.jpg  \n",
            "  inflating: ./CelebA_HQ_facial_identity_dataset/train/450/5557.jpg  \n",
            "  inflating: ./CelebA_HQ_facial_identity_dataset/train/450/574.jpg  \n",
            "  inflating: ./CelebA_HQ_facial_identity_dataset/train/450/5893.jpg  \n",
            "  inflating: ./CelebA_HQ_facial_identity_dataset/train/450/7239.jpg  \n",
            "   creating: ./CelebA_HQ_facial_identity_dataset/train/451/\n",
            "  inflating: ./CelebA_HQ_facial_identity_dataset/train/451/10093.jpg  \n",
            "  inflating: ./CelebA_HQ_facial_identity_dataset/train/451/1081.jpg  \n",
            "  inflating: ./CelebA_HQ_facial_identity_dataset/train/451/11686.jpg  \n",
            "  inflating: ./CelebA_HQ_facial_identity_dataset/train/451/13712.jpg  \n",
            "  inflating: ./CelebA_HQ_facial_identity_dataset/train/451/14501.jpg  \n",
            "  inflating: ./CelebA_HQ_facial_identity_dataset/train/451/14905.jpg  \n",
            "  inflating: ./CelebA_HQ_facial_identity_dataset/train/451/15028.jpg  \n",
            "  inflating: ./CelebA_HQ_facial_identity_dataset/train/451/16201.jpg  \n",
            "  inflating: ./CelebA_HQ_facial_identity_dataset/train/451/18299.jpg  \n",
            "  inflating: ./CelebA_HQ_facial_identity_dataset/train/451/20395.jpg  \n",
            "  inflating: ./CelebA_HQ_facial_identity_dataset/train/451/24818.jpg  \n",
            "  inflating: ./CelebA_HQ_facial_identity_dataset/train/451/2722.jpg  \n",
            "  inflating: ./CelebA_HQ_facial_identity_dataset/train/451/27399.jpg  \n",
            "  inflating: ./CelebA_HQ_facial_identity_dataset/train/451/28170.jpg  \n",
            "  inflating: ./CelebA_HQ_facial_identity_dataset/train/451/4130.jpg  \n",
            "  inflating: ./CelebA_HQ_facial_identity_dataset/train/451/4237.jpg  \n",
            "  inflating: ./CelebA_HQ_facial_identity_dataset/train/451/5156.jpg  \n",
            "   creating: ./CelebA_HQ_facial_identity_dataset/train/452/\n",
            "  inflating: ./CelebA_HQ_facial_identity_dataset/train/452/10823.jpg  \n",
            "  inflating: ./CelebA_HQ_facial_identity_dataset/train/452/11791.jpg  \n",
            "  inflating: ./CelebA_HQ_facial_identity_dataset/train/452/14253.jpg  \n",
            "  inflating: ./CelebA_HQ_facial_identity_dataset/train/452/18328.jpg  \n",
            "  inflating: ./CelebA_HQ_facial_identity_dataset/train/452/21368.jpg  \n",
            "  inflating: ./CelebA_HQ_facial_identity_dataset/train/452/22258.jpg  \n",
            "  inflating: ./CelebA_HQ_facial_identity_dataset/train/452/23030.jpg  \n",
            "  inflating: ./CelebA_HQ_facial_identity_dataset/train/452/23654.jpg  \n",
            "  inflating: ./CelebA_HQ_facial_identity_dataset/train/452/25572.jpg  \n",
            "  inflating: ./CelebA_HQ_facial_identity_dataset/train/452/4012.jpg  \n",
            "  inflating: ./CelebA_HQ_facial_identity_dataset/train/452/5271.jpg  \n",
            "  inflating: ./CelebA_HQ_facial_identity_dataset/train/452/577.jpg  \n",
            "   creating: ./CelebA_HQ_facial_identity_dataset/train/458/\n",
            "  inflating: ./CelebA_HQ_facial_identity_dataset/train/458/12013.jpg  \n",
            "  inflating: ./CelebA_HQ_facial_identity_dataset/train/458/12945.jpg  \n",
            "  inflating: ./CelebA_HQ_facial_identity_dataset/train/458/15691.jpg  \n",
            "  inflating: ./CelebA_HQ_facial_identity_dataset/train/458/17447.jpg  \n",
            "  inflating: ./CelebA_HQ_facial_identity_dataset/train/458/1804.jpg  \n",
            "  inflating: ./CelebA_HQ_facial_identity_dataset/train/458/2054.jpg  \n",
            "  inflating: ./CelebA_HQ_facial_identity_dataset/train/458/21402.jpg  \n",
            "  inflating: ./CelebA_HQ_facial_identity_dataset/train/458/21759.jpg  \n",
            "  inflating: ./CelebA_HQ_facial_identity_dataset/train/458/29083.jpg  \n",
            "  inflating: ./CelebA_HQ_facial_identity_dataset/train/458/4219.jpg  \n",
            "  inflating: ./CelebA_HQ_facial_identity_dataset/train/458/4866.jpg  \n",
            "  inflating: ./CelebA_HQ_facial_identity_dataset/train/458/5609.jpg  \n",
            "  inflating: ./CelebA_HQ_facial_identity_dataset/train/458/586.jpg  \n",
            "  inflating: ./CelebA_HQ_facial_identity_dataset/train/458/6294.jpg  \n",
            "  inflating: ./CelebA_HQ_facial_identity_dataset/train/458/7336.jpg  \n",
            "   creating: ./CelebA_HQ_facial_identity_dataset/train/461/\n",
            "  inflating: ./CelebA_HQ_facial_identity_dataset/train/461/1027.jpg  \n",
            "  inflating: ./CelebA_HQ_facial_identity_dataset/train/461/16875.jpg  \n",
            "  inflating: ./CelebA_HQ_facial_identity_dataset/train/461/17465.jpg  \n",
            "  inflating: ./CelebA_HQ_facial_identity_dataset/train/461/1808.jpg  \n",
            "  inflating: ./CelebA_HQ_facial_identity_dataset/train/461/18147.jpg  \n",
            "  inflating: ./CelebA_HQ_facial_identity_dataset/train/461/1893.jpg  \n",
            "  inflating: ./CelebA_HQ_facial_identity_dataset/train/461/20254.jpg  \n",
            "  inflating: ./CelebA_HQ_facial_identity_dataset/train/461/20569.jpg  \n",
            "  inflating: ./CelebA_HQ_facial_identity_dataset/train/461/23247.jpg  \n",
            "  inflating: ./CelebA_HQ_facial_identity_dataset/train/461/2668.jpg  \n",
            "  inflating: ./CelebA_HQ_facial_identity_dataset/train/461/5458.jpg  \n",
            "  inflating: ./CelebA_HQ_facial_identity_dataset/train/461/589.jpg  \n",
            "  inflating: ./CelebA_HQ_facial_identity_dataset/train/461/6131.jpg  \n",
            "   creating: ./CelebA_HQ_facial_identity_dataset/train/469/\n",
            "  inflating: ./CelebA_HQ_facial_identity_dataset/train/469/17269.jpg  \n",
            "  inflating: ./CelebA_HQ_facial_identity_dataset/train/469/18400.jpg  \n",
            "  inflating: ./CelebA_HQ_facial_identity_dataset/train/469/19118.jpg  \n",
            "  inflating: ./CelebA_HQ_facial_identity_dataset/train/469/21372.jpg  \n",
            "  inflating: ./CelebA_HQ_facial_identity_dataset/train/469/21750.jpg  \n",
            "  inflating: ./CelebA_HQ_facial_identity_dataset/train/469/22260.jpg  \n",
            "  inflating: ./CelebA_HQ_facial_identity_dataset/train/469/24752.jpg  \n",
            "  inflating: ./CelebA_HQ_facial_identity_dataset/train/469/25419.jpg  \n",
            "  inflating: ./CelebA_HQ_facial_identity_dataset/train/469/25809.jpg  \n",
            "  inflating: ./CelebA_HQ_facial_identity_dataset/train/469/2787.jpg  \n",
            "  inflating: ./CelebA_HQ_facial_identity_dataset/train/469/28417.jpg  \n",
            "  inflating: ./CelebA_HQ_facial_identity_dataset/train/469/28886.jpg  \n",
            "  inflating: ./CelebA_HQ_facial_identity_dataset/train/469/29568.jpg  \n",
            "  inflating: ./CelebA_HQ_facial_identity_dataset/train/469/3214.jpg  \n",
            "  inflating: ./CelebA_HQ_facial_identity_dataset/train/469/600.jpg  \n",
            "  inflating: ./CelebA_HQ_facial_identity_dataset/train/469/6345.jpg  \n",
            "   creating: ./CelebA_HQ_facial_identity_dataset/train/47/\n",
            "  inflating: ./CelebA_HQ_facial_identity_dataset/train/47/10570.jpg  \n",
            "  inflating: ./CelebA_HQ_facial_identity_dataset/train/47/12106.jpg  \n",
            "  inflating: ./CelebA_HQ_facial_identity_dataset/train/47/14465.jpg  \n",
            "  inflating: ./CelebA_HQ_facial_identity_dataset/train/47/14469.jpg  \n",
            "  inflating: ./CelebA_HQ_facial_identity_dataset/train/47/16567.jpg  \n",
            "  inflating: ./CelebA_HQ_facial_identity_dataset/train/47/17054.jpg  \n",
            "  inflating: ./CelebA_HQ_facial_identity_dataset/train/47/19354.jpg  \n",
            "  inflating: ./CelebA_HQ_facial_identity_dataset/train/47/2025.jpg  \n",
            "  inflating: ./CelebA_HQ_facial_identity_dataset/train/47/20368.jpg  \n",
            "  inflating: ./CelebA_HQ_facial_identity_dataset/train/47/2415.jpg  \n",
            "  inflating: ./CelebA_HQ_facial_identity_dataset/train/47/4424.jpg  \n",
            "  inflating: ./CelebA_HQ_facial_identity_dataset/train/47/4706.jpg  \n",
            "   creating: ./CelebA_HQ_facial_identity_dataset/train/479/\n",
            "  inflating: ./CelebA_HQ_facial_identity_dataset/train/479/10170.jpg  \n",
            "  inflating: ./CelebA_HQ_facial_identity_dataset/train/479/1595.jpg  \n",
            "  inflating: ./CelebA_HQ_facial_identity_dataset/train/479/1737.jpg  \n",
            "  inflating: ./CelebA_HQ_facial_identity_dataset/train/479/1813.jpg  \n",
            "  inflating: ./CelebA_HQ_facial_identity_dataset/train/479/18218.jpg  \n",
            "  inflating: ./CelebA_HQ_facial_identity_dataset/train/479/18833.jpg  \n",
            "  inflating: ./CelebA_HQ_facial_identity_dataset/train/479/1918.jpg  \n",
            "  inflating: ./CelebA_HQ_facial_identity_dataset/train/479/20489.jpg  \n",
            "  inflating: ./CelebA_HQ_facial_identity_dataset/train/479/25721.jpg  \n",
            "  inflating: ./CelebA_HQ_facial_identity_dataset/train/479/3724.jpg  \n",
            "  inflating: ./CelebA_HQ_facial_identity_dataset/train/479/4088.jpg  \n",
            "  inflating: ./CelebA_HQ_facial_identity_dataset/train/479/5502.jpg  \n",
            "  inflating: ./CelebA_HQ_facial_identity_dataset/train/479/5671.jpg  \n",
            "  inflating: ./CelebA_HQ_facial_identity_dataset/train/479/5821.jpg  \n",
            "  inflating: ./CelebA_HQ_facial_identity_dataset/train/479/5918.jpg  \n",
            "   creating: ./CelebA_HQ_facial_identity_dataset/train/481/\n",
            "  inflating: ./CelebA_HQ_facial_identity_dataset/train/481/10247.jpg  \n",
            "  inflating: ./CelebA_HQ_facial_identity_dataset/train/481/1043.jpg  \n",
            "  inflating: ./CelebA_HQ_facial_identity_dataset/train/481/10523.jpg  \n",
            "  inflating: ./CelebA_HQ_facial_identity_dataset/train/481/11154.jpg  \n",
            "  inflating: ./CelebA_HQ_facial_identity_dataset/train/481/1173.jpg  \n",
            "  inflating: ./CelebA_HQ_facial_identity_dataset/train/481/1394.jpg  \n",
            "  inflating: ./CelebA_HQ_facial_identity_dataset/train/481/14808.jpg  \n",
            "  inflating: ./CelebA_HQ_facial_identity_dataset/train/481/18222.jpg  \n",
            "  inflating: ./CelebA_HQ_facial_identity_dataset/train/481/18265.jpg  \n",
            "  inflating: ./CelebA_HQ_facial_identity_dataset/train/481/1844.jpg  \n",
            "  inflating: ./CelebA_HQ_facial_identity_dataset/train/481/18644.jpg  \n",
            "  inflating: ./CelebA_HQ_facial_identity_dataset/train/481/1896.jpg  \n",
            "  inflating: ./CelebA_HQ_facial_identity_dataset/train/481/19820.jpg  \n",
            "  inflating: ./CelebA_HQ_facial_identity_dataset/train/481/20442.jpg  \n",
            "  inflating: ./CelebA_HQ_facial_identity_dataset/train/481/21127.jpg  \n",
            "  inflating: ./CelebA_HQ_facial_identity_dataset/train/481/21664.jpg  \n",
            "  inflating: ./CelebA_HQ_facial_identity_dataset/train/481/25235.jpg  \n",
            "  inflating: ./CelebA_HQ_facial_identity_dataset/train/481/2990.jpg  \n",
            "  inflating: ./CelebA_HQ_facial_identity_dataset/train/481/3794.jpg  \n",
            "  inflating: ./CelebA_HQ_facial_identity_dataset/train/481/5928.jpg  \n",
            "   creating: ./CelebA_HQ_facial_identity_dataset/train/483/\n",
            "  inflating: ./CelebA_HQ_facial_identity_dataset/train/483/10768.jpg  \n",
            "  inflating: ./CelebA_HQ_facial_identity_dataset/train/483/1167.jpg  \n",
            "  inflating: ./CelebA_HQ_facial_identity_dataset/train/483/12046.jpg  \n",
            "  inflating: ./CelebA_HQ_facial_identity_dataset/train/483/12178.jpg  \n",
            "  inflating: ./CelebA_HQ_facial_identity_dataset/train/483/12662.jpg  \n",
            "  inflating: ./CelebA_HQ_facial_identity_dataset/train/483/1364.jpg  \n",
            "  inflating: ./CelebA_HQ_facial_identity_dataset/train/483/15093.jpg  \n",
            "  inflating: ./CelebA_HQ_facial_identity_dataset/train/483/15733.jpg  \n",
            "  inflating: ./CelebA_HQ_facial_identity_dataset/train/483/1717.jpg  \n",
            "  inflating: ./CelebA_HQ_facial_identity_dataset/train/483/2089.jpg  \n",
            "  inflating: ./CelebA_HQ_facial_identity_dataset/train/483/26144.jpg  \n",
            "  inflating: ./CelebA_HQ_facial_identity_dataset/train/483/27099.jpg  \n",
            "  inflating: ./CelebA_HQ_facial_identity_dataset/train/483/3226.jpg  \n",
            "   creating: ./CelebA_HQ_facial_identity_dataset/train/486/\n",
            "  inflating: ./CelebA_HQ_facial_identity_dataset/train/486/1015.jpg  \n",
            "  inflating: ./CelebA_HQ_facial_identity_dataset/train/486/12571.jpg  \n",
            "  inflating: ./CelebA_HQ_facial_identity_dataset/train/486/16296.jpg  \n",
            "  inflating: ./CelebA_HQ_facial_identity_dataset/train/486/16609.jpg  \n",
            "  inflating: ./CelebA_HQ_facial_identity_dataset/train/486/18004.jpg  \n",
            "  inflating: ./CelebA_HQ_facial_identity_dataset/train/486/19155.jpg  \n",
            "  inflating: ./CelebA_HQ_facial_identity_dataset/train/486/19575.jpg  \n",
            "  inflating: ./CelebA_HQ_facial_identity_dataset/train/486/19611.jpg  \n",
            "  inflating: ./CelebA_HQ_facial_identity_dataset/train/486/19720.jpg  \n",
            "  inflating: ./CelebA_HQ_facial_identity_dataset/train/486/2116.jpg  \n",
            "  inflating: ./CelebA_HQ_facial_identity_dataset/train/486/22314.jpg  \n",
            "  inflating: ./CelebA_HQ_facial_identity_dataset/train/486/22550.jpg  \n",
            "  inflating: ./CelebA_HQ_facial_identity_dataset/train/486/2408.jpg  \n",
            "  inflating: ./CelebA_HQ_facial_identity_dataset/train/486/25016.jpg  \n",
            "  inflating: ./CelebA_HQ_facial_identity_dataset/train/486/27579.jpg  \n",
            "  inflating: ./CelebA_HQ_facial_identity_dataset/train/486/28233.jpg  \n",
            "  inflating: ./CelebA_HQ_facial_identity_dataset/train/486/2830.jpg  \n",
            "  inflating: ./CelebA_HQ_facial_identity_dataset/train/486/3573.jpg  \n",
            "   creating: ./CelebA_HQ_facial_identity_dataset/train/49/\n",
            "  inflating: ./CelebA_HQ_facial_identity_dataset/train/49/10138.jpg  \n",
            "  inflating: ./CelebA_HQ_facial_identity_dataset/train/49/15122.jpg  \n",
            "  inflating: ./CelebA_HQ_facial_identity_dataset/train/49/19411.jpg  \n",
            "  inflating: ./CelebA_HQ_facial_identity_dataset/train/49/1964.jpg  \n",
            "  inflating: ./CelebA_HQ_facial_identity_dataset/train/49/2241.jpg  \n",
            "  inflating: ./CelebA_HQ_facial_identity_dataset/train/49/22994.jpg  \n",
            "  inflating: ./CelebA_HQ_facial_identity_dataset/train/49/24473.jpg  \n",
            "  inflating: ./CelebA_HQ_facial_identity_dataset/train/49/24780.jpg  \n",
            "  inflating: ./CelebA_HQ_facial_identity_dataset/train/49/25075.jpg  \n",
            "  inflating: ./CelebA_HQ_facial_identity_dataset/train/49/25449.jpg  \n",
            "  inflating: ./CelebA_HQ_facial_identity_dataset/train/49/3117.jpg  \n",
            "  inflating: ./CelebA_HQ_facial_identity_dataset/train/49/3760.jpg  \n",
            "   creating: ./CelebA_HQ_facial_identity_dataset/train/495/\n",
            "  inflating: ./CelebA_HQ_facial_identity_dataset/train/495/10667.jpg  \n",
            "  inflating: ./CelebA_HQ_facial_identity_dataset/train/495/1145.jpg  \n",
            "  inflating: ./CelebA_HQ_facial_identity_dataset/train/495/1484.jpg  \n",
            "  inflating: ./CelebA_HQ_facial_identity_dataset/train/495/1552.jpg  \n",
            "  inflating: ./CelebA_HQ_facial_identity_dataset/train/495/1731.jpg  \n",
            "  inflating: ./CelebA_HQ_facial_identity_dataset/train/495/18478.jpg  \n",
            "  inflating: ./CelebA_HQ_facial_identity_dataset/train/495/1947.jpg  \n",
            "  inflating: ./CelebA_HQ_facial_identity_dataset/train/495/2419.jpg  \n",
            "  inflating: ./CelebA_HQ_facial_identity_dataset/train/495/24231.jpg  \n",
            "  inflating: ./CelebA_HQ_facial_identity_dataset/train/495/25877.jpg  \n",
            "  inflating: ./CelebA_HQ_facial_identity_dataset/train/495/2853.jpg  \n",
            "  inflating: ./CelebA_HQ_facial_identity_dataset/train/495/4071.jpg  \n",
            "  inflating: ./CelebA_HQ_facial_identity_dataset/train/495/4094.jpg  \n",
            "  inflating: ./CelebA_HQ_facial_identity_dataset/train/495/4174.jpg  \n",
            "  inflating: ./CelebA_HQ_facial_identity_dataset/train/495/4576.jpg  \n",
            "  inflating: ./CelebA_HQ_facial_identity_dataset/train/495/5289.jpg  \n",
            "  inflating: ./CelebA_HQ_facial_identity_dataset/train/495/631.jpg  \n",
            "   creating: ./CelebA_HQ_facial_identity_dataset/train/5/\n",
            "  inflating: ./CelebA_HQ_facial_identity_dataset/train/5/1033.jpg  \n",
            "  inflating: ./CelebA_HQ_facial_identity_dataset/train/5/1107.jpg  \n",
            "  inflating: ./CelebA_HQ_facial_identity_dataset/train/5/19265.jpg  \n",
            "  inflating: ./CelebA_HQ_facial_identity_dataset/train/5/20851.jpg  \n",
            "  inflating: ./CelebA_HQ_facial_identity_dataset/train/5/21424.jpg  \n",
            "  inflating: ./CelebA_HQ_facial_identity_dataset/train/5/2228.jpg  \n",
            "  inflating: ./CelebA_HQ_facial_identity_dataset/train/5/28715.jpg  \n",
            "  inflating: ./CelebA_HQ_facial_identity_dataset/train/5/3645.jpg  \n",
            "  inflating: ./CelebA_HQ_facial_identity_dataset/train/5/412.jpg  \n",
            "  inflating: ./CelebA_HQ_facial_identity_dataset/train/5/4303.jpg  \n",
            "  inflating: ./CelebA_HQ_facial_identity_dataset/train/5/4794.jpg  \n",
            "  inflating: ./CelebA_HQ_facial_identity_dataset/train/5/5.jpg  \n",
            "  inflating: ./CelebA_HQ_facial_identity_dataset/train/5/5731.jpg  \n",
            "  inflating: ./CelebA_HQ_facial_identity_dataset/train/5/5956.jpg  \n",
            "  inflating: ./CelebA_HQ_facial_identity_dataset/train/5/66.jpg  \n",
            "  inflating: ./CelebA_HQ_facial_identity_dataset/train/5/7050.jpg  \n",
            "   creating: ./CelebA_HQ_facial_identity_dataset/train/501/\n",
            "  inflating: ./CelebA_HQ_facial_identity_dataset/train/501/15217.jpg  \n",
            "  inflating: ./CelebA_HQ_facial_identity_dataset/train/501/15321.jpg  \n",
            "  inflating: ./CelebA_HQ_facial_identity_dataset/train/501/17012.jpg  \n",
            "  inflating: ./CelebA_HQ_facial_identity_dataset/train/501/18881.jpg  \n",
            "  inflating: ./CelebA_HQ_facial_identity_dataset/train/501/22148.jpg  \n",
            "  inflating: ./CelebA_HQ_facial_identity_dataset/train/501/23243.jpg  \n",
            "  inflating: ./CelebA_HQ_facial_identity_dataset/train/501/2605.jpg  \n",
            "  inflating: ./CelebA_HQ_facial_identity_dataset/train/501/29108.jpg  \n",
            "  inflating: ./CelebA_HQ_facial_identity_dataset/train/501/3391.jpg  \n",
            "  inflating: ./CelebA_HQ_facial_identity_dataset/train/501/3548.jpg  \n",
            "  inflating: ./CelebA_HQ_facial_identity_dataset/train/501/4589.jpg  \n",
            "  inflating: ./CelebA_HQ_facial_identity_dataset/train/501/4783.jpg  \n",
            "   creating: ./CelebA_HQ_facial_identity_dataset/train/509/\n",
            "  inflating: ./CelebA_HQ_facial_identity_dataset/train/509/10378.jpg  \n",
            "  inflating: ./CelebA_HQ_facial_identity_dataset/train/509/10572.jpg  \n",
            "  inflating: ./CelebA_HQ_facial_identity_dataset/train/509/13636.jpg  \n",
            "  inflating: ./CelebA_HQ_facial_identity_dataset/train/509/15886.jpg  \n",
            "  inflating: ./CelebA_HQ_facial_identity_dataset/train/509/18700.jpg  \n",
            "  inflating: ./CelebA_HQ_facial_identity_dataset/train/509/19443.jpg  \n",
            "  inflating: ./CelebA_HQ_facial_identity_dataset/train/509/19890.jpg  \n",
            "  inflating: ./CelebA_HQ_facial_identity_dataset/train/509/20079.jpg  \n",
            "  inflating: ./CelebA_HQ_facial_identity_dataset/train/509/22511.jpg  \n",
            "  inflating: ./CelebA_HQ_facial_identity_dataset/train/509/24483.jpg  \n",
            "  inflating: ./CelebA_HQ_facial_identity_dataset/train/509/26538.jpg  \n",
            "  inflating: ./CelebA_HQ_facial_identity_dataset/train/509/28724.jpg  \n",
            "   creating: ./CelebA_HQ_facial_identity_dataset/train/516/\n",
            "  inflating: ./CelebA_HQ_facial_identity_dataset/train/516/10461.jpg  \n",
            "  inflating: ./CelebA_HQ_facial_identity_dataset/train/516/11658.jpg  \n",
            "  inflating: ./CelebA_HQ_facial_identity_dataset/train/516/1282.jpg  \n",
            "  inflating: ./CelebA_HQ_facial_identity_dataset/train/516/1771.jpg  \n",
            "  inflating: ./CelebA_HQ_facial_identity_dataset/train/516/1811.jpg  \n",
            "  inflating: ./CelebA_HQ_facial_identity_dataset/train/516/1954.jpg  \n",
            "  inflating: ./CelebA_HQ_facial_identity_dataset/train/516/19943.jpg  \n",
            "  inflating: ./CelebA_HQ_facial_identity_dataset/train/516/23028.jpg  \n",
            "  inflating: ./CelebA_HQ_facial_identity_dataset/train/516/2453.jpg  \n",
            "  inflating: ./CelebA_HQ_facial_identity_dataset/train/516/3639.jpg  \n",
            "  inflating: ./CelebA_HQ_facial_identity_dataset/train/516/3949.jpg  \n",
            "  inflating: ./CelebA_HQ_facial_identity_dataset/train/516/4232.jpg  \n",
            "   creating: ./CelebA_HQ_facial_identity_dataset/train/521/\n",
            "  inflating: ./CelebA_HQ_facial_identity_dataset/train/521/15277.jpg  \n",
            "  inflating: ./CelebA_HQ_facial_identity_dataset/train/521/1567.jpg  \n",
            "  inflating: ./CelebA_HQ_facial_identity_dataset/train/521/1660.jpg  \n",
            "  inflating: ./CelebA_HQ_facial_identity_dataset/train/521/19329.jpg  \n",
            "  inflating: ./CelebA_HQ_facial_identity_dataset/train/521/2249.jpg  \n",
            "  inflating: ./CelebA_HQ_facial_identity_dataset/train/521/2751.jpg  \n",
            "  inflating: ./CelebA_HQ_facial_identity_dataset/train/521/28261.jpg  \n",
            "  inflating: ./CelebA_HQ_facial_identity_dataset/train/521/2917.jpg  \n",
            "  inflating: ./CelebA_HQ_facial_identity_dataset/train/521/29651.jpg  \n",
            "  inflating: ./CelebA_HQ_facial_identity_dataset/train/521/29767.jpg  \n",
            "  inflating: ./CelebA_HQ_facial_identity_dataset/train/521/4017.jpg  \n",
            "  inflating: ./CelebA_HQ_facial_identity_dataset/train/521/4400.jpg  \n",
            "   creating: ./CelebA_HQ_facial_identity_dataset/train/528/\n",
            "  inflating: ./CelebA_HQ_facial_identity_dataset/train/528/10249.jpg  \n",
            "  inflating: ./CelebA_HQ_facial_identity_dataset/train/528/10774.jpg  \n",
            "  inflating: ./CelebA_HQ_facial_identity_dataset/train/528/1123.jpg  \n",
            "  inflating: ./CelebA_HQ_facial_identity_dataset/train/528/15175.jpg  \n",
            "  inflating: ./CelebA_HQ_facial_identity_dataset/train/528/16485.jpg  \n",
            "  inflating: ./CelebA_HQ_facial_identity_dataset/train/528/16617.jpg  \n",
            "  inflating: ./CelebA_HQ_facial_identity_dataset/train/528/17162.jpg  \n",
            "  inflating: ./CelebA_HQ_facial_identity_dataset/train/528/25569.jpg  \n",
            "  inflating: ./CelebA_HQ_facial_identity_dataset/train/528/2707.jpg  \n",
            "  inflating: ./CelebA_HQ_facial_identity_dataset/train/528/4300.jpg  \n",
            "  inflating: ./CelebA_HQ_facial_identity_dataset/train/528/5642.jpg  \n",
            "  inflating: ./CelebA_HQ_facial_identity_dataset/train/528/6646.jpg  \n",
            "   creating: ./CelebA_HQ_facial_identity_dataset/train/530/\n",
            "  inflating: ./CelebA_HQ_facial_identity_dataset/train/530/13765.jpg  \n",
            "  inflating: ./CelebA_HQ_facial_identity_dataset/train/530/14548.jpg  \n",
            "  inflating: ./CelebA_HQ_facial_identity_dataset/train/530/15384.jpg  \n",
            "  inflating: ./CelebA_HQ_facial_identity_dataset/train/530/15399.jpg  \n",
            "  inflating: ./CelebA_HQ_facial_identity_dataset/train/530/16056.jpg  \n",
            "  inflating: ./CelebA_HQ_facial_identity_dataset/train/530/16453.jpg  \n",
            "  inflating: ./CelebA_HQ_facial_identity_dataset/train/530/1785.jpg  \n",
            "  inflating: ./CelebA_HQ_facial_identity_dataset/train/530/21868.jpg  \n",
            "  inflating: ./CelebA_HQ_facial_identity_dataset/train/530/2544.jpg  \n",
            "  inflating: ./CelebA_HQ_facial_identity_dataset/train/530/29013.jpg  \n",
            "  inflating: ./CelebA_HQ_facial_identity_dataset/train/530/29788.jpg  \n",
            "  inflating: ./CelebA_HQ_facial_identity_dataset/train/530/3574.jpg  \n",
            "  inflating: ./CelebA_HQ_facial_identity_dataset/train/530/4376.jpg  \n",
            "  inflating: ./CelebA_HQ_facial_identity_dataset/train/530/4689.jpg  \n",
            "   creating: ./CelebA_HQ_facial_identity_dataset/train/532/\n",
            "  inflating: ./CelebA_HQ_facial_identity_dataset/train/532/10111.jpg  \n",
            "  inflating: ./CelebA_HQ_facial_identity_dataset/train/532/10638.jpg  \n",
            "  inflating: ./CelebA_HQ_facial_identity_dataset/train/532/10989.jpg  \n",
            "  inflating: ./CelebA_HQ_facial_identity_dataset/train/532/11178.jpg  \n",
            "  inflating: ./CelebA_HQ_facial_identity_dataset/train/532/1136.jpg  \n",
            "  inflating: ./CelebA_HQ_facial_identity_dataset/train/532/11702.jpg  \n",
            "  inflating: ./CelebA_HQ_facial_identity_dataset/train/532/15154.jpg  \n",
            "  inflating: ./CelebA_HQ_facial_identity_dataset/train/532/16002.jpg  \n",
            "  inflating: ./CelebA_HQ_facial_identity_dataset/train/532/16077.jpg  \n",
            "  inflating: ./CelebA_HQ_facial_identity_dataset/train/532/16481.jpg  \n",
            "  inflating: ./CelebA_HQ_facial_identity_dataset/train/532/19547.jpg  \n",
            "  inflating: ./CelebA_HQ_facial_identity_dataset/train/532/24822.jpg  \n",
            "  inflating: ./CelebA_HQ_facial_identity_dataset/train/532/2511.jpg  \n",
            "  inflating: ./CelebA_HQ_facial_identity_dataset/train/532/2644.jpg  \n",
            "  inflating: ./CelebA_HQ_facial_identity_dataset/train/532/3621.jpg  \n",
            "  inflating: ./CelebA_HQ_facial_identity_dataset/train/532/5938.jpg  \n",
            "  inflating: ./CelebA_HQ_facial_identity_dataset/train/532/6860.jpg  \n",
            "   creating: ./CelebA_HQ_facial_identity_dataset/train/537/\n",
            "  inflating: ./CelebA_HQ_facial_identity_dataset/train/537/10040.jpg  \n",
            "  inflating: ./CelebA_HQ_facial_identity_dataset/train/537/12375.jpg  \n",
            "  inflating: ./CelebA_HQ_facial_identity_dataset/train/537/12751.jpg  \n",
            "  inflating: ./CelebA_HQ_facial_identity_dataset/train/537/14588.jpg  \n",
            "  inflating: ./CelebA_HQ_facial_identity_dataset/train/537/14785.jpg  \n",
            "  inflating: ./CelebA_HQ_facial_identity_dataset/train/537/15058.jpg  \n",
            "  inflating: ./CelebA_HQ_facial_identity_dataset/train/537/15082.jpg  \n",
            "  inflating: ./CelebA_HQ_facial_identity_dataset/train/537/16861.jpg  \n",
            "  inflating: ./CelebA_HQ_facial_identity_dataset/train/537/18845.jpg  \n",
            "  inflating: ./CelebA_HQ_facial_identity_dataset/train/537/20910.jpg  \n",
            "  inflating: ./CelebA_HQ_facial_identity_dataset/train/537/22083.jpg  \n",
            "  inflating: ./CelebA_HQ_facial_identity_dataset/train/537/22167.jpg  \n",
            "  inflating: ./CelebA_HQ_facial_identity_dataset/train/537/25361.jpg  \n",
            "  inflating: ./CelebA_HQ_facial_identity_dataset/train/537/26889.jpg  \n",
            "  inflating: ./CelebA_HQ_facial_identity_dataset/train/537/28761.jpg  \n",
            "  inflating: ./CelebA_HQ_facial_identity_dataset/train/537/4250.jpg  \n",
            "   creating: ./CelebA_HQ_facial_identity_dataset/train/556/\n",
            "  inflating: ./CelebA_HQ_facial_identity_dataset/train/556/10699.jpg  \n",
            "  inflating: ./CelebA_HQ_facial_identity_dataset/train/556/10835.jpg  \n",
            "  inflating: ./CelebA_HQ_facial_identity_dataset/train/556/12667.jpg  \n",
            "  inflating: ./CelebA_HQ_facial_identity_dataset/train/556/16842.jpg  \n",
            "  inflating: ./CelebA_HQ_facial_identity_dataset/train/556/18253.jpg  \n",
            "  inflating: ./CelebA_HQ_facial_identity_dataset/train/556/18756.jpg  \n",
            "  inflating: ./CelebA_HQ_facial_identity_dataset/train/556/20137.jpg  \n",
            "  inflating: ./CelebA_HQ_facial_identity_dataset/train/556/2315.jpg  \n",
            "  inflating: ./CelebA_HQ_facial_identity_dataset/train/556/24663.jpg  \n",
            "  inflating: ./CelebA_HQ_facial_identity_dataset/train/556/2861.jpg  \n",
            "  inflating: ./CelebA_HQ_facial_identity_dataset/train/556/3021.jpg  \n",
            "  inflating: ./CelebA_HQ_facial_identity_dataset/train/556/3428.jpg  \n",
            "  inflating: ./CelebA_HQ_facial_identity_dataset/train/556/3843.jpg  \n",
            "  inflating: ./CelebA_HQ_facial_identity_dataset/train/556/4050.jpg  \n",
            "  inflating: ./CelebA_HQ_facial_identity_dataset/train/556/6107.jpg  \n",
            "  inflating: ./CelebA_HQ_facial_identity_dataset/train/556/6893.jpg  \n",
            "   creating: ./CelebA_HQ_facial_identity_dataset/train/559/\n",
            "  inflating: ./CelebA_HQ_facial_identity_dataset/train/559/10884.jpg  \n",
            "  inflating: ./CelebA_HQ_facial_identity_dataset/train/559/12256.jpg  \n",
            "  inflating: ./CelebA_HQ_facial_identity_dataset/train/559/15414.jpg  \n",
            "  inflating: ./CelebA_HQ_facial_identity_dataset/train/559/20673.jpg  \n",
            "  inflating: ./CelebA_HQ_facial_identity_dataset/train/559/20797.jpg  \n",
            "  inflating: ./CelebA_HQ_facial_identity_dataset/train/559/25682.jpg  \n",
            "  inflating: ./CelebA_HQ_facial_identity_dataset/train/559/28701.jpg  \n",
            "  inflating: ./CelebA_HQ_facial_identity_dataset/train/559/29442.jpg  \n",
            "  inflating: ./CelebA_HQ_facial_identity_dataset/train/559/4033.jpg  \n",
            "  inflating: ./CelebA_HQ_facial_identity_dataset/train/559/4447.jpg  \n",
            "  inflating: ./CelebA_HQ_facial_identity_dataset/train/559/5039.jpg  \n",
            "  inflating: ./CelebA_HQ_facial_identity_dataset/train/559/5993.jpg  \n",
            "  inflating: ./CelebA_HQ_facial_identity_dataset/train/559/6624.jpg  \n",
            "   creating: ./CelebA_HQ_facial_identity_dataset/train/560/\n",
            "  inflating: ./CelebA_HQ_facial_identity_dataset/train/560/10677.jpg  \n",
            "  inflating: ./CelebA_HQ_facial_identity_dataset/train/560/13540.jpg  \n",
            "  inflating: ./CelebA_HQ_facial_identity_dataset/train/560/18107.jpg  \n",
            "  inflating: ./CelebA_HQ_facial_identity_dataset/train/560/19113.jpg  \n",
            "  inflating: ./CelebA_HQ_facial_identity_dataset/train/560/20755.jpg  \n",
            "  inflating: ./CelebA_HQ_facial_identity_dataset/train/560/25155.jpg  \n",
            "  inflating: ./CelebA_HQ_facial_identity_dataset/train/560/26521.jpg  \n",
            "  inflating: ./CelebA_HQ_facial_identity_dataset/train/560/26861.jpg  \n",
            "  inflating: ./CelebA_HQ_facial_identity_dataset/train/560/4512.jpg  \n",
            "  inflating: ./CelebA_HQ_facial_identity_dataset/train/560/6195.jpg  \n",
            "  inflating: ./CelebA_HQ_facial_identity_dataset/train/560/6245.jpg  \n",
            "  inflating: ./CelebA_HQ_facial_identity_dataset/train/560/6432.jpg  \n",
            "  inflating: ./CelebA_HQ_facial_identity_dataset/train/560/727.jpg  \n",
            "   creating: ./CelebA_HQ_facial_identity_dataset/train/561/\n",
            "  inflating: ./CelebA_HQ_facial_identity_dataset/train/561/10778.jpg  \n",
            "  inflating: ./CelebA_HQ_facial_identity_dataset/train/561/1247.jpg  \n",
            "  inflating: ./CelebA_HQ_facial_identity_dataset/train/561/14543.jpg  \n",
            "  inflating: ./CelebA_HQ_facial_identity_dataset/train/561/1483.jpg  \n",
            "  inflating: ./CelebA_HQ_facial_identity_dataset/train/561/15256.jpg  \n",
            "  inflating: ./CelebA_HQ_facial_identity_dataset/train/561/15694.jpg  \n",
            "  inflating: ./CelebA_HQ_facial_identity_dataset/train/561/1750.jpg  \n",
            "  inflating: ./CelebA_HQ_facial_identity_dataset/train/561/2090.jpg  \n",
            "  inflating: ./CelebA_HQ_facial_identity_dataset/train/561/2468.jpg  \n",
            "  inflating: ./CelebA_HQ_facial_identity_dataset/train/561/27715.jpg  \n",
            "  inflating: ./CelebA_HQ_facial_identity_dataset/train/561/27956.jpg  \n",
            "  inflating: ./CelebA_HQ_facial_identity_dataset/train/561/2828.jpg  \n",
            "  inflating: ./CelebA_HQ_facial_identity_dataset/train/561/3019.jpg  \n",
            "  inflating: ./CelebA_HQ_facial_identity_dataset/train/561/3740.jpg  \n",
            "  inflating: ./CelebA_HQ_facial_identity_dataset/train/561/5468.jpg  \n",
            "   creating: ./CelebA_HQ_facial_identity_dataset/train/562/\n",
            "  inflating: ./CelebA_HQ_facial_identity_dataset/train/562/11453.jpg  \n",
            "  inflating: ./CelebA_HQ_facial_identity_dataset/train/562/15509.jpg  \n",
            "  inflating: ./CelebA_HQ_facial_identity_dataset/train/562/15676.jpg  \n",
            "  inflating: ./CelebA_HQ_facial_identity_dataset/train/562/2129.jpg  \n",
            "  inflating: ./CelebA_HQ_facial_identity_dataset/train/562/2159.jpg  \n",
            "  inflating: ./CelebA_HQ_facial_identity_dataset/train/562/26716.jpg  \n",
            "  inflating: ./CelebA_HQ_facial_identity_dataset/train/562/3975.jpg  \n",
            "  inflating: ./CelebA_HQ_facial_identity_dataset/train/562/5115.jpg  \n",
            "  inflating: ./CelebA_HQ_facial_identity_dataset/train/562/6266.jpg  \n",
            "  inflating: ./CelebA_HQ_facial_identity_dataset/train/562/7243.jpg  \n",
            "  inflating: ./CelebA_HQ_facial_identity_dataset/train/562/7260.jpg  \n",
            "  inflating: ./CelebA_HQ_facial_identity_dataset/train/562/734.jpg  \n",
            "   creating: ./CelebA_HQ_facial_identity_dataset/train/563/\n",
            "  inflating: ./CelebA_HQ_facial_identity_dataset/train/563/10214.jpg  \n",
            "  inflating: ./CelebA_HQ_facial_identity_dataset/train/563/11029.jpg  \n",
            "  inflating: ./CelebA_HQ_facial_identity_dataset/train/563/1241.jpg  \n",
            "  inflating: ./CelebA_HQ_facial_identity_dataset/train/563/12696.jpg  \n",
            "  inflating: ./CelebA_HQ_facial_identity_dataset/train/563/19150.jpg  \n",
            "  inflating: ./CelebA_HQ_facial_identity_dataset/train/563/2336.jpg  \n",
            "  inflating: ./CelebA_HQ_facial_identity_dataset/train/563/2508.jpg  \n",
            "  inflating: ./CelebA_HQ_facial_identity_dataset/train/563/25550.jpg  \n",
            "  inflating: ./CelebA_HQ_facial_identity_dataset/train/563/2693.jpg  \n",
            "  inflating: ./CelebA_HQ_facial_identity_dataset/train/563/2735.jpg  \n",
            "  inflating: ./CelebA_HQ_facial_identity_dataset/train/563/3245.jpg  \n",
            "  inflating: ./CelebA_HQ_facial_identity_dataset/train/563/3259.jpg  \n",
            "  inflating: ./CelebA_HQ_facial_identity_dataset/train/563/5103.jpg  \n",
            "   creating: ./CelebA_HQ_facial_identity_dataset/train/564/\n",
            "  inflating: ./CelebA_HQ_facial_identity_dataset/train/564/12431.jpg  \n",
            "  inflating: ./CelebA_HQ_facial_identity_dataset/train/564/13578.jpg  \n",
            "  inflating: ./CelebA_HQ_facial_identity_dataset/train/564/1457.jpg  \n",
            "  inflating: ./CelebA_HQ_facial_identity_dataset/train/564/15125.jpg  \n",
            "  inflating: ./CelebA_HQ_facial_identity_dataset/train/564/1559.jpg  \n",
            "  inflating: ./CelebA_HQ_facial_identity_dataset/train/564/1769.jpg  \n",
            "  inflating: ./CelebA_HQ_facial_identity_dataset/train/564/1877.jpg  \n",
            "  inflating: ./CelebA_HQ_facial_identity_dataset/train/564/26712.jpg  \n",
            "  inflating: ./CelebA_HQ_facial_identity_dataset/train/564/2721.jpg  \n",
            "  inflating: ./CelebA_HQ_facial_identity_dataset/train/564/3626.jpg  \n",
            "  inflating: ./CelebA_HQ_facial_identity_dataset/train/564/3796.jpg  \n",
            "  inflating: ./CelebA_HQ_facial_identity_dataset/train/564/4685.jpg  \n",
            "  inflating: ./CelebA_HQ_facial_identity_dataset/train/564/5030.jpg  \n",
            "  inflating: ./CelebA_HQ_facial_identity_dataset/train/564/5054.jpg  \n",
            "  inflating: ./CelebA_HQ_facial_identity_dataset/train/564/5425.jpg  \n",
            "  inflating: ./CelebA_HQ_facial_identity_dataset/train/564/5904.jpg  \n",
            "  inflating: ./CelebA_HQ_facial_identity_dataset/train/564/6472.jpg  \n",
            "  inflating: ./CelebA_HQ_facial_identity_dataset/train/564/6560.jpg  \n",
            "   creating: ./CelebA_HQ_facial_identity_dataset/train/571/\n",
            "  inflating: ./CelebA_HQ_facial_identity_dataset/train/571/11034.jpg  \n",
            "  inflating: ./CelebA_HQ_facial_identity_dataset/train/571/11647.jpg  \n",
            "  inflating: ./CelebA_HQ_facial_identity_dataset/train/571/11820.jpg  \n",
            "  inflating: ./CelebA_HQ_facial_identity_dataset/train/571/13022.jpg  \n",
            "  inflating: ./CelebA_HQ_facial_identity_dataset/train/571/13294.jpg  \n",
            "  inflating: ./CelebA_HQ_facial_identity_dataset/train/571/16286.jpg  \n",
            "  inflating: ./CelebA_HQ_facial_identity_dataset/train/571/22708.jpg  \n",
            "  inflating: ./CelebA_HQ_facial_identity_dataset/train/571/2657.jpg  \n",
            "  inflating: ./CelebA_HQ_facial_identity_dataset/train/571/28510.jpg  \n",
            "  inflating: ./CelebA_HQ_facial_identity_dataset/train/571/3006.jpg  \n",
            "  inflating: ./CelebA_HQ_facial_identity_dataset/train/571/3030.jpg  \n",
            "  inflating: ./CelebA_HQ_facial_identity_dataset/train/571/3255.jpg  \n",
            "  inflating: ./CelebA_HQ_facial_identity_dataset/train/571/4111.jpg  \n",
            "   creating: ./CelebA_HQ_facial_identity_dataset/train/573/\n",
            "  inflating: ./CelebA_HQ_facial_identity_dataset/train/573/10625.jpg  \n",
            "  inflating: ./CelebA_HQ_facial_identity_dataset/train/573/1327.jpg  \n",
            "  inflating: ./CelebA_HQ_facial_identity_dataset/train/573/13514.jpg  \n",
            "  inflating: ./CelebA_HQ_facial_identity_dataset/train/573/1782.jpg  \n",
            "  inflating: ./CelebA_HQ_facial_identity_dataset/train/573/21547.jpg  \n",
            "  inflating: ./CelebA_HQ_facial_identity_dataset/train/573/23375.jpg  \n",
            "  inflating: ./CelebA_HQ_facial_identity_dataset/train/573/2646.jpg  \n",
            "  inflating: ./CelebA_HQ_facial_identity_dataset/train/573/28246.jpg  \n",
            "  inflating: ./CelebA_HQ_facial_identity_dataset/train/573/3390.jpg  \n",
            "  inflating: ./CelebA_HQ_facial_identity_dataset/train/573/3821.jpg  \n",
            "  inflating: ./CelebA_HQ_facial_identity_dataset/train/573/5023.jpg  \n",
            "  inflating: ./CelebA_HQ_facial_identity_dataset/train/573/5060.jpg  \n",
            "   creating: ./CelebA_HQ_facial_identity_dataset/train/577/\n",
            "  inflating: ./CelebA_HQ_facial_identity_dataset/train/577/11731.jpg  \n",
            "  inflating: ./CelebA_HQ_facial_identity_dataset/train/577/13716.jpg  \n",
            "  inflating: ./CelebA_HQ_facial_identity_dataset/train/577/20662.jpg  \n",
            "  inflating: ./CelebA_HQ_facial_identity_dataset/train/577/20831.jpg  \n",
            "  inflating: ./CelebA_HQ_facial_identity_dataset/train/577/28505.jpg  \n",
            "  inflating: ./CelebA_HQ_facial_identity_dataset/train/577/29485.jpg  \n",
            "  inflating: ./CelebA_HQ_facial_identity_dataset/train/577/2950.jpg  \n",
            "  inflating: ./CelebA_HQ_facial_identity_dataset/train/577/3012.jpg  \n",
            "  inflating: ./CelebA_HQ_facial_identity_dataset/train/577/4707.jpg  \n",
            "  inflating: ./CelebA_HQ_facial_identity_dataset/train/577/4947.jpg  \n",
            "  inflating: ./CelebA_HQ_facial_identity_dataset/train/577/5751.jpg  \n",
            "  inflating: ./CelebA_HQ_facial_identity_dataset/train/577/5803.jpg  \n",
            "  inflating: ./CelebA_HQ_facial_identity_dataset/train/577/6360.jpg  \n",
            "  inflating: ./CelebA_HQ_facial_identity_dataset/train/577/6989.jpg  \n",
            "  inflating: ./CelebA_HQ_facial_identity_dataset/train/577/7502.jpg  \n",
            "  inflating: ./CelebA_HQ_facial_identity_dataset/train/577/756.jpg  \n",
            "   creating: ./CelebA_HQ_facial_identity_dataset/train/578/\n",
            "  inflating: ./CelebA_HQ_facial_identity_dataset/train/578/11867.jpg  \n",
            "  inflating: ./CelebA_HQ_facial_identity_dataset/train/578/1193.jpg  \n",
            "  inflating: ./CelebA_HQ_facial_identity_dataset/train/578/1339.jpg  \n",
            "  inflating: ./CelebA_HQ_facial_identity_dataset/train/578/13683.jpg  \n",
            "  inflating: ./CelebA_HQ_facial_identity_dataset/train/578/1575.jpg  \n",
            "  inflating: ./CelebA_HQ_facial_identity_dataset/train/578/16680.jpg  \n",
            "  inflating: ./CelebA_HQ_facial_identity_dataset/train/578/20407.jpg  \n",
            "  inflating: ./CelebA_HQ_facial_identity_dataset/train/578/22818.jpg  \n",
            "  inflating: ./CelebA_HQ_facial_identity_dataset/train/578/24490.jpg  \n",
            "  inflating: ./CelebA_HQ_facial_identity_dataset/train/578/26436.jpg  \n",
            "  inflating: ./CelebA_HQ_facial_identity_dataset/train/578/5151.jpg  \n",
            "  inflating: ./CelebA_HQ_facial_identity_dataset/train/578/6625.jpg  \n",
            "  inflating: ./CelebA_HQ_facial_identity_dataset/train/578/7094.jpg  \n",
            "  inflating: ./CelebA_HQ_facial_identity_dataset/train/578/758.jpg  \n",
            "  inflating: ./CelebA_HQ_facial_identity_dataset/train/578/8133.jpg  \n",
            "   creating: ./CelebA_HQ_facial_identity_dataset/train/587/\n",
            "  inflating: ./CelebA_HQ_facial_identity_dataset/train/587/10476.jpg  \n",
            "  inflating: ./CelebA_HQ_facial_identity_dataset/train/587/1251.jpg  \n",
            "  inflating: ./CelebA_HQ_facial_identity_dataset/train/587/13811.jpg  \n",
            "  inflating: ./CelebA_HQ_facial_identity_dataset/train/587/17668.jpg  \n",
            "  inflating: ./CelebA_HQ_facial_identity_dataset/train/587/18595.jpg  \n",
            "  inflating: ./CelebA_HQ_facial_identity_dataset/train/587/20477.jpg  \n",
            "  inflating: ./CelebA_HQ_facial_identity_dataset/train/587/20881.jpg  \n",
            "  inflating: ./CelebA_HQ_facial_identity_dataset/train/587/2148.jpg  \n",
            "  inflating: ./CelebA_HQ_facial_identity_dataset/train/587/22300.jpg  \n",
            "  inflating: ./CelebA_HQ_facial_identity_dataset/train/587/2773.jpg  \n",
            "  inflating: ./CelebA_HQ_facial_identity_dataset/train/587/3908.jpg  \n",
            "  inflating: ./CelebA_HQ_facial_identity_dataset/train/587/3976.jpg  \n",
            "  inflating: ./CelebA_HQ_facial_identity_dataset/train/587/4948.jpg  \n",
            "  inflating: ./CelebA_HQ_facial_identity_dataset/train/587/5752.jpg  \n",
            "   creating: ./CelebA_HQ_facial_identity_dataset/train/591/\n",
            "  inflating: ./CelebA_HQ_facial_identity_dataset/train/591/11338.jpg  \n",
            "  inflating: ./CelebA_HQ_facial_identity_dataset/train/591/13875.jpg  \n",
            "  inflating: ./CelebA_HQ_facial_identity_dataset/train/591/13960.jpg  \n",
            "  inflating: ./CelebA_HQ_facial_identity_dataset/train/591/1411.jpg  \n",
            "  inflating: ./CelebA_HQ_facial_identity_dataset/train/591/14471.jpg  \n",
            "  inflating: ./CelebA_HQ_facial_identity_dataset/train/591/1742.jpg  \n",
            "  inflating: ./CelebA_HQ_facial_identity_dataset/train/591/22645.jpg  \n",
            "  inflating: ./CelebA_HQ_facial_identity_dataset/train/591/24113.jpg  \n",
            "  inflating: ./CelebA_HQ_facial_identity_dataset/train/591/27686.jpg  \n",
            "  inflating: ./CelebA_HQ_facial_identity_dataset/train/591/3056.jpg  \n",
            "  inflating: ./CelebA_HQ_facial_identity_dataset/train/591/3272.jpg  \n",
            "  inflating: ./CelebA_HQ_facial_identity_dataset/train/591/4144.jpg  \n",
            "  inflating: ./CelebA_HQ_facial_identity_dataset/train/591/4882.jpg  \n",
            "  inflating: ./CelebA_HQ_facial_identity_dataset/train/591/5009.jpg  \n",
            "  inflating: ./CelebA_HQ_facial_identity_dataset/train/591/7353.jpg  \n",
            "   creating: ./CelebA_HQ_facial_identity_dataset/train/593/\n",
            "  inflating: ./CelebA_HQ_facial_identity_dataset/train/593/10142.jpg  \n",
            "  inflating: ./CelebA_HQ_facial_identity_dataset/train/593/10961.jpg  \n",
            "  inflating: ./CelebA_HQ_facial_identity_dataset/train/593/11726.jpg  \n",
            "  inflating: ./CelebA_HQ_facial_identity_dataset/train/593/17265.jpg  \n",
            "  inflating: ./CelebA_HQ_facial_identity_dataset/train/593/17852.jpg  \n",
            "  inflating: ./CelebA_HQ_facial_identity_dataset/train/593/22724.jpg  \n",
            "  inflating: ./CelebA_HQ_facial_identity_dataset/train/593/28838.jpg  \n",
            "  inflating: ./CelebA_HQ_facial_identity_dataset/train/593/3529.jpg  \n",
            "  inflating: ./CelebA_HQ_facial_identity_dataset/train/593/3881.jpg  \n",
            "  inflating: ./CelebA_HQ_facial_identity_dataset/train/593/5021.jpg  \n",
            "  inflating: ./CelebA_HQ_facial_identity_dataset/train/593/6204.jpg  \n",
            "  inflating: ./CelebA_HQ_facial_identity_dataset/train/593/7046.jpg  \n",
            "  inflating: ./CelebA_HQ_facial_identity_dataset/train/593/7405.jpg  \n",
            "   creating: ./CelebA_HQ_facial_identity_dataset/train/597/\n",
            "  inflating: ./CelebA_HQ_facial_identity_dataset/train/597/1006.jpg  \n",
            "  inflating: ./CelebA_HQ_facial_identity_dataset/train/597/10195.jpg  \n",
            "  inflating: ./CelebA_HQ_facial_identity_dataset/train/597/10660.jpg  \n",
            "  inflating: ./CelebA_HQ_facial_identity_dataset/train/597/15487.jpg  \n",
            "  inflating: ./CelebA_HQ_facial_identity_dataset/train/597/16074.jpg  \n",
            "  inflating: ./CelebA_HQ_facial_identity_dataset/train/597/16233.jpg  \n",
            "  inflating: ./CelebA_HQ_facial_identity_dataset/train/597/16404.jpg  \n",
            "  inflating: ./CelebA_HQ_facial_identity_dataset/train/597/2360.jpg  \n",
            "  inflating: ./CelebA_HQ_facial_identity_dataset/train/597/29510.jpg  \n",
            "  inflating: ./CelebA_HQ_facial_identity_dataset/train/597/2959.jpg  \n",
            "  inflating: ./CelebA_HQ_facial_identity_dataset/train/597/3043.jpg  \n",
            "  inflating: ./CelebA_HQ_facial_identity_dataset/train/597/3250.jpg  \n",
            "  inflating: ./CelebA_HQ_facial_identity_dataset/train/597/3978.jpg  \n",
            "  inflating: ./CelebA_HQ_facial_identity_dataset/train/597/4014.jpg  \n",
            "  inflating: ./CelebA_HQ_facial_identity_dataset/train/597/4119.jpg  \n",
            "  inflating: ./CelebA_HQ_facial_identity_dataset/train/597/5431.jpg  \n",
            "   creating: ./CelebA_HQ_facial_identity_dataset/train/598/\n",
            "  inflating: ./CelebA_HQ_facial_identity_dataset/train/598/1582.jpg  \n",
            "  inflating: ./CelebA_HQ_facial_identity_dataset/train/598/1626.jpg  \n",
            "  inflating: ./CelebA_HQ_facial_identity_dataset/train/598/16311.jpg  \n",
            "  inflating: ./CelebA_HQ_facial_identity_dataset/train/598/18079.jpg  \n",
            "  inflating: ./CelebA_HQ_facial_identity_dataset/train/598/20315.jpg  \n",
            "  inflating: ./CelebA_HQ_facial_identity_dataset/train/598/2178.jpg  \n",
            "  inflating: ./CelebA_HQ_facial_identity_dataset/train/598/22721.jpg  \n",
            "  inflating: ./CelebA_HQ_facial_identity_dataset/train/598/23385.jpg  \n",
            "  inflating: ./CelebA_HQ_facial_identity_dataset/train/598/24600.jpg  \n",
            "  inflating: ./CelebA_HQ_facial_identity_dataset/train/598/28197.jpg  \n",
            "  inflating: ./CelebA_HQ_facial_identity_dataset/train/598/28927.jpg  \n",
            "  inflating: ./CelebA_HQ_facial_identity_dataset/train/598/3057.jpg  \n",
            "   creating: ./CelebA_HQ_facial_identity_dataset/train/603/\n",
            "  inflating: ./CelebA_HQ_facial_identity_dataset/train/603/10616.jpg  \n",
            "  inflating: ./CelebA_HQ_facial_identity_dataset/train/603/10633.jpg  \n",
            "  inflating: ./CelebA_HQ_facial_identity_dataset/train/603/10641.jpg  \n",
            "  inflating: ./CelebA_HQ_facial_identity_dataset/train/603/12133.jpg  \n",
            "  inflating: ./CelebA_HQ_facial_identity_dataset/train/603/15312.jpg  \n",
            "  inflating: ./CelebA_HQ_facial_identity_dataset/train/603/1923.jpg  \n",
            "  inflating: ./CelebA_HQ_facial_identity_dataset/train/603/20025.jpg  \n",
            "  inflating: ./CelebA_HQ_facial_identity_dataset/train/603/2201.jpg  \n",
            "  inflating: ./CelebA_HQ_facial_identity_dataset/train/603/23399.jpg  \n",
            "  inflating: ./CelebA_HQ_facial_identity_dataset/train/603/2403.jpg  \n",
            "  inflating: ./CelebA_HQ_facial_identity_dataset/train/603/26285.jpg  \n",
            "  inflating: ./CelebA_HQ_facial_identity_dataset/train/603/28121.jpg  \n",
            "  inflating: ./CelebA_HQ_facial_identity_dataset/train/603/28552.jpg  \n",
            "  inflating: ./CelebA_HQ_facial_identity_dataset/train/603/3661.jpg  \n",
            "  inflating: ./CelebA_HQ_facial_identity_dataset/train/603/4179.jpg  \n",
            "  inflating: ./CelebA_HQ_facial_identity_dataset/train/603/5902.jpg  \n",
            "   creating: ./CelebA_HQ_facial_identity_dataset/train/606/\n",
            "  inflating: ./CelebA_HQ_facial_identity_dataset/train/606/1219.jpg  \n",
            "  inflating: ./CelebA_HQ_facial_identity_dataset/train/606/15974.jpg  \n",
            "  inflating: ./CelebA_HQ_facial_identity_dataset/train/606/16635.jpg  \n",
            "  inflating: ./CelebA_HQ_facial_identity_dataset/train/606/17255.jpg  \n",
            "  inflating: ./CelebA_HQ_facial_identity_dataset/train/606/24075.jpg  \n",
            "  inflating: ./CelebA_HQ_facial_identity_dataset/train/606/24286.jpg  \n",
            "  inflating: ./CelebA_HQ_facial_identity_dataset/train/606/25059.jpg  \n",
            "  inflating: ./CelebA_HQ_facial_identity_dataset/train/606/2588.jpg  \n",
            "  inflating: ./CelebA_HQ_facial_identity_dataset/train/606/25992.jpg  \n",
            "  inflating: ./CelebA_HQ_facial_identity_dataset/train/606/29647.jpg  \n",
            "  inflating: ./CelebA_HQ_facial_identity_dataset/train/606/3598.jpg  \n",
            "  inflating: ./CelebA_HQ_facial_identity_dataset/train/606/4858.jpg  \n",
            "  inflating: ./CelebA_HQ_facial_identity_dataset/train/606/5028.jpg  \n",
            "   creating: ./CelebA_HQ_facial_identity_dataset/train/609/\n",
            "  inflating: ./CelebA_HQ_facial_identity_dataset/train/609/1109.jpg  \n",
            "  inflating: ./CelebA_HQ_facial_identity_dataset/train/609/11877.jpg  \n",
            "  inflating: ./CelebA_HQ_facial_identity_dataset/train/609/13078.jpg  \n",
            "  inflating: ./CelebA_HQ_facial_identity_dataset/train/609/18650.jpg  \n",
            "  inflating: ./CelebA_HQ_facial_identity_dataset/train/609/18837.jpg  \n",
            "  inflating: ./CelebA_HQ_facial_identity_dataset/train/609/19792.jpg  \n",
            "  inflating: ./CelebA_HQ_facial_identity_dataset/train/609/20293.jpg  \n",
            "  inflating: ./CelebA_HQ_facial_identity_dataset/train/609/20859.jpg  \n",
            "  inflating: ./CelebA_HQ_facial_identity_dataset/train/609/21115.jpg  \n",
            "  inflating: ./CelebA_HQ_facial_identity_dataset/train/609/2620.jpg  \n",
            "  inflating: ./CelebA_HQ_facial_identity_dataset/train/609/8129.jpg  \n",
            "  inflating: ./CelebA_HQ_facial_identity_dataset/train/609/813.jpg  \n",
            "   creating: ./CelebA_HQ_facial_identity_dataset/train/615/\n",
            "  inflating: ./CelebA_HQ_facial_identity_dataset/train/615/10108.jpg  \n",
            "  inflating: ./CelebA_HQ_facial_identity_dataset/train/615/10426.jpg  \n",
            "  inflating: ./CelebA_HQ_facial_identity_dataset/train/615/12573.jpg  \n",
            "  inflating: ./CelebA_HQ_facial_identity_dataset/train/615/13234.jpg  \n",
            "  inflating: ./CelebA_HQ_facial_identity_dataset/train/615/14720.jpg  \n",
            "  inflating: ./CelebA_HQ_facial_identity_dataset/train/615/14825.jpg  \n",
            "  inflating: ./CelebA_HQ_facial_identity_dataset/train/615/15450.jpg  \n",
            "  inflating: ./CelebA_HQ_facial_identity_dataset/train/615/15547.jpg  \n",
            "  inflating: ./CelebA_HQ_facial_identity_dataset/train/615/18485.jpg  \n",
            "  inflating: ./CelebA_HQ_facial_identity_dataset/train/615/21795.jpg  \n",
            "  inflating: ./CelebA_HQ_facial_identity_dataset/train/615/23617.jpg  \n",
            "  inflating: ./CelebA_HQ_facial_identity_dataset/train/615/25289.jpg  \n",
            "  inflating: ./CelebA_HQ_facial_identity_dataset/train/615/2856.jpg  \n",
            "  inflating: ./CelebA_HQ_facial_identity_dataset/train/615/3094.jpg  \n",
            "  inflating: ./CelebA_HQ_facial_identity_dataset/train/615/3339.jpg  \n",
            "  inflating: ./CelebA_HQ_facial_identity_dataset/train/615/3470.jpg  \n",
            "  inflating: ./CelebA_HQ_facial_identity_dataset/train/615/3515.jpg  \n",
            "  inflating: ./CelebA_HQ_facial_identity_dataset/train/615/6042.jpg  \n",
            "   creating: ./CelebA_HQ_facial_identity_dataset/train/618/\n",
            "  inflating: ./CelebA_HQ_facial_identity_dataset/train/618/10460.jpg  \n",
            "  inflating: ./CelebA_HQ_facial_identity_dataset/train/618/1563.jpg  \n",
            "  inflating: ./CelebA_HQ_facial_identity_dataset/train/618/15718.jpg  \n",
            "  inflating: ./CelebA_HQ_facial_identity_dataset/train/618/17926.jpg  \n",
            "  inflating: ./CelebA_HQ_facial_identity_dataset/train/618/1974.jpg  \n",
            "  inflating: ./CelebA_HQ_facial_identity_dataset/train/618/2118.jpg  \n",
            "  inflating: ./CelebA_HQ_facial_identity_dataset/train/618/23293.jpg  \n",
            "  inflating: ./CelebA_HQ_facial_identity_dataset/train/618/26735.jpg  \n",
            "  inflating: ./CelebA_HQ_facial_identity_dataset/train/618/2756.jpg  \n",
            "  inflating: ./CelebA_HQ_facial_identity_dataset/train/618/3220.jpg  \n",
            "  inflating: ./CelebA_HQ_facial_identity_dataset/train/618/3958.jpg  \n",
            "  inflating: ./CelebA_HQ_facial_identity_dataset/train/618/3977.jpg  \n",
            "   creating: ./CelebA_HQ_facial_identity_dataset/train/622/\n",
            "  inflating: ./CelebA_HQ_facial_identity_dataset/train/622/13933.jpg  \n",
            "  inflating: ./CelebA_HQ_facial_identity_dataset/train/622/16710.jpg  \n",
            "  inflating: ./CelebA_HQ_facial_identity_dataset/train/622/18350.jpg  \n",
            "  inflating: ./CelebA_HQ_facial_identity_dataset/train/622/19756.jpg  \n",
            "  inflating: ./CelebA_HQ_facial_identity_dataset/train/622/2325.jpg  \n",
            "  inflating: ./CelebA_HQ_facial_identity_dataset/train/622/2411.jpg  \n",
            "  inflating: ./CelebA_HQ_facial_identity_dataset/train/622/24217.jpg  \n",
            "  inflating: ./CelebA_HQ_facial_identity_dataset/train/622/2578.jpg  \n",
            "  inflating: ./CelebA_HQ_facial_identity_dataset/train/622/3846.jpg  \n",
            "  inflating: ./CelebA_HQ_facial_identity_dataset/train/622/3858.jpg  \n",
            "  inflating: ./CelebA_HQ_facial_identity_dataset/train/622/3956.jpg  \n",
            "  inflating: ./CelebA_HQ_facial_identity_dataset/train/622/3990.jpg  \n",
            "  inflating: ./CelebA_HQ_facial_identity_dataset/train/622/4084.jpg  \n",
            "  inflating: ./CelebA_HQ_facial_identity_dataset/train/622/4452.jpg  \n",
            "  inflating: ./CelebA_HQ_facial_identity_dataset/train/622/4718.jpg  \n",
            "  inflating: ./CelebA_HQ_facial_identity_dataset/train/622/5212.jpg  \n",
            "   creating: ./CelebA_HQ_facial_identity_dataset/train/624/\n",
            "  inflating: ./CelebA_HQ_facial_identity_dataset/train/624/10306.jpg  \n",
            "  inflating: ./CelebA_HQ_facial_identity_dataset/train/624/11946.jpg  \n",
            "  inflating: ./CelebA_HQ_facial_identity_dataset/train/624/12558.jpg  \n",
            "  inflating: ./CelebA_HQ_facial_identity_dataset/train/624/12929.jpg  \n",
            "  inflating: ./CelebA_HQ_facial_identity_dataset/train/624/13191.jpg  \n",
            "  inflating: ./CelebA_HQ_facial_identity_dataset/train/624/19926.jpg  \n",
            "  inflating: ./CelebA_HQ_facial_identity_dataset/train/624/20061.jpg  \n",
            "  inflating: ./CelebA_HQ_facial_identity_dataset/train/624/20125.jpg  \n",
            "  inflating: ./CelebA_HQ_facial_identity_dataset/train/624/20339.jpg  \n",
            "  inflating: ./CelebA_HQ_facial_identity_dataset/train/624/23948.jpg  \n",
            "  inflating: ./CelebA_HQ_facial_identity_dataset/train/624/26126.jpg  \n",
            "  inflating: ./CelebA_HQ_facial_identity_dataset/train/624/28382.jpg  \n",
            "  inflating: ./CelebA_HQ_facial_identity_dataset/train/624/29246.jpg  \n",
            "  inflating: ./CelebA_HQ_facial_identity_dataset/train/624/3855.jpg  \n",
            "   creating: ./CelebA_HQ_facial_identity_dataset/train/628/\n",
            "  inflating: ./CelebA_HQ_facial_identity_dataset/train/628/1046.jpg  \n",
            "  inflating: ./CelebA_HQ_facial_identity_dataset/train/628/14407.jpg  \n",
            "  inflating: ./CelebA_HQ_facial_identity_dataset/train/628/1728.jpg  \n",
            "  inflating: ./CelebA_HQ_facial_identity_dataset/train/628/1932.jpg  \n",
            "  inflating: ./CelebA_HQ_facial_identity_dataset/train/628/19522.jpg  \n",
            "  inflating: ./CelebA_HQ_facial_identity_dataset/train/628/2152.jpg  \n",
            "  inflating: ./CelebA_HQ_facial_identity_dataset/train/628/2503.jpg  \n",
            "  inflating: ./CelebA_HQ_facial_identity_dataset/train/628/2867.jpg  \n",
            "  inflating: ./CelebA_HQ_facial_identity_dataset/train/628/2938.jpg  \n",
            "  inflating: ./CelebA_HQ_facial_identity_dataset/train/628/3133.jpg  \n",
            "  inflating: ./CelebA_HQ_facial_identity_dataset/train/628/3293.jpg  \n",
            "  inflating: ./CelebA_HQ_facial_identity_dataset/train/628/5804.jpg  \n",
            "  inflating: ./CelebA_HQ_facial_identity_dataset/train/628/6182.jpg  \n",
            "   creating: ./CelebA_HQ_facial_identity_dataset/train/629/\n",
            "  inflating: ./CelebA_HQ_facial_identity_dataset/train/629/11645.jpg  \n",
            "  inflating: ./CelebA_HQ_facial_identity_dataset/train/629/13073.jpg  \n",
            "  inflating: ./CelebA_HQ_facial_identity_dataset/train/629/13145.jpg  \n",
            "  inflating: ./CelebA_HQ_facial_identity_dataset/train/629/13510.jpg  \n",
            "  inflating: ./CelebA_HQ_facial_identity_dataset/train/629/13667.jpg  \n",
            "  inflating: ./CelebA_HQ_facial_identity_dataset/train/629/13847.jpg  \n",
            "  inflating: ./CelebA_HQ_facial_identity_dataset/train/629/14901.jpg  \n",
            "  inflating: ./CelebA_HQ_facial_identity_dataset/train/629/15055.jpg  \n",
            "  inflating: ./CelebA_HQ_facial_identity_dataset/train/629/1622.jpg  \n",
            "  inflating: ./CelebA_HQ_facial_identity_dataset/train/629/16459.jpg  \n",
            "  inflating: ./CelebA_HQ_facial_identity_dataset/train/629/16994.jpg  \n",
            "  inflating: ./CelebA_HQ_facial_identity_dataset/train/629/20236.jpg  \n",
            "   creating: ./CelebA_HQ_facial_identity_dataset/train/63/\n",
            "  inflating: ./CelebA_HQ_facial_identity_dataset/train/63/10576.jpg  \n",
            "  inflating: ./CelebA_HQ_facial_identity_dataset/train/63/11025.jpg  \n",
            "  inflating: ./CelebA_HQ_facial_identity_dataset/train/63/1146.jpg  \n",
            "  inflating: ./CelebA_HQ_facial_identity_dataset/train/63/13292.jpg  \n",
            "  inflating: ./CelebA_HQ_facial_identity_dataset/train/63/14383.jpg  \n",
            "  inflating: ./CelebA_HQ_facial_identity_dataset/train/63/22515.jpg  \n",
            "  inflating: ./CelebA_HQ_facial_identity_dataset/train/63/255.jpg  \n",
            "  inflating: ./CelebA_HQ_facial_identity_dataset/train/63/2703.jpg  \n",
            "  inflating: ./CelebA_HQ_facial_identity_dataset/train/63/3654.jpg  \n",
            "  inflating: ./CelebA_HQ_facial_identity_dataset/train/63/610.jpg  \n",
            "  inflating: ./CelebA_HQ_facial_identity_dataset/train/63/6174.jpg  \n",
            "  inflating: ./CelebA_HQ_facial_identity_dataset/train/63/6694.jpg  \n",
            "   creating: ./CelebA_HQ_facial_identity_dataset/train/632/\n",
            "  inflating: ./CelebA_HQ_facial_identity_dataset/train/632/12513.jpg  \n",
            "  inflating: ./CelebA_HQ_facial_identity_dataset/train/632/15474.jpg  \n",
            "  inflating: ./CelebA_HQ_facial_identity_dataset/train/632/19070.jpg  \n",
            "  inflating: ./CelebA_HQ_facial_identity_dataset/train/632/20886.jpg  \n",
            "  inflating: ./CelebA_HQ_facial_identity_dataset/train/632/21048.jpg  \n",
            "  inflating: ./CelebA_HQ_facial_identity_dataset/train/632/24122.jpg  \n",
            "  inflating: ./CelebA_HQ_facial_identity_dataset/train/632/27854.jpg  \n",
            "  inflating: ./CelebA_HQ_facial_identity_dataset/train/632/28516.jpg  \n",
            "  inflating: ./CelebA_HQ_facial_identity_dataset/train/632/3386.jpg  \n",
            "  inflating: ./CelebA_HQ_facial_identity_dataset/train/632/5386.jpg  \n",
            "  inflating: ./CelebA_HQ_facial_identity_dataset/train/632/5783.jpg  \n",
            "  inflating: ./CelebA_HQ_facial_identity_dataset/train/632/6102.jpg  \n",
            "   creating: ./CelebA_HQ_facial_identity_dataset/train/636/\n",
            "  inflating: ./CelebA_HQ_facial_identity_dataset/train/636/11366.jpg  \n",
            "  inflating: ./CelebA_HQ_facial_identity_dataset/train/636/16412.jpg  \n",
            "  inflating: ./CelebA_HQ_facial_identity_dataset/train/636/17516.jpg  \n",
            "  inflating: ./CelebA_HQ_facial_identity_dataset/train/636/19813.jpg  \n",
            "  inflating: ./CelebA_HQ_facial_identity_dataset/train/636/22952.jpg  \n",
            "  inflating: ./CelebA_HQ_facial_identity_dataset/train/636/2386.jpg  \n",
            "  inflating: ./CelebA_HQ_facial_identity_dataset/train/636/29143.jpg  \n",
            "  inflating: ./CelebA_HQ_facial_identity_dataset/train/636/4313.jpg  \n",
            "  inflating: ./CelebA_HQ_facial_identity_dataset/train/636/5421.jpg  \n",
            "  inflating: ./CelebA_HQ_facial_identity_dataset/train/636/5926.jpg  \n",
            "  inflating: ./CelebA_HQ_facial_identity_dataset/train/636/6841.jpg  \n",
            "  inflating: ./CelebA_HQ_facial_identity_dataset/train/636/8432.jpg  \n",
            "   creating: ./CelebA_HQ_facial_identity_dataset/train/649/\n",
            "  inflating: ./CelebA_HQ_facial_identity_dataset/train/649/12245.jpg  \n",
            "  inflating: ./CelebA_HQ_facial_identity_dataset/train/649/15148.jpg  \n",
            "  inflating: ./CelebA_HQ_facial_identity_dataset/train/649/1527.jpg  \n",
            "  inflating: ./CelebA_HQ_facial_identity_dataset/train/649/15311.jpg  \n",
            "  inflating: ./CelebA_HQ_facial_identity_dataset/train/649/16745.jpg  \n",
            "  inflating: ./CelebA_HQ_facial_identity_dataset/train/649/18066.jpg  \n",
            "  inflating: ./CelebA_HQ_facial_identity_dataset/train/649/18214.jpg  \n",
            "  inflating: ./CelebA_HQ_facial_identity_dataset/train/649/18422.jpg  \n",
            "  inflating: ./CelebA_HQ_facial_identity_dataset/train/649/18796.jpg  \n",
            "  inflating: ./CelebA_HQ_facial_identity_dataset/train/649/18870.jpg  \n",
            "  inflating: ./CelebA_HQ_facial_identity_dataset/train/649/19412.jpg  \n",
            "  inflating: ./CelebA_HQ_facial_identity_dataset/train/649/24800.jpg  \n",
            "  inflating: ./CelebA_HQ_facial_identity_dataset/train/649/25074.jpg  \n",
            "  inflating: ./CelebA_HQ_facial_identity_dataset/train/649/26943.jpg  \n",
            "  inflating: ./CelebA_HQ_facial_identity_dataset/train/649/29792.jpg  \n",
            "   creating: ./CelebA_HQ_facial_identity_dataset/train/65/\n",
            "  inflating: ./CelebA_HQ_facial_identity_dataset/train/65/11627.jpg  \n",
            "  inflating: ./CelebA_HQ_facial_identity_dataset/train/65/11896.jpg  \n",
            "  inflating: ./CelebA_HQ_facial_identity_dataset/train/65/14517.jpg  \n",
            "  inflating: ./CelebA_HQ_facial_identity_dataset/train/65/15410.jpg  \n",
            "  inflating: ./CelebA_HQ_facial_identity_dataset/train/65/1553.jpg  \n",
            "  inflating: ./CelebA_HQ_facial_identity_dataset/train/65/16008.jpg  \n",
            "  inflating: ./CelebA_HQ_facial_identity_dataset/train/65/1763.jpg  \n",
            "  inflating: ./CelebA_HQ_facial_identity_dataset/train/65/199.jpg  \n",
            "  inflating: ./CelebA_HQ_facial_identity_dataset/train/65/21439.jpg  \n",
            "  inflating: ./CelebA_HQ_facial_identity_dataset/train/65/24946.jpg  \n",
            "  inflating: ./CelebA_HQ_facial_identity_dataset/train/65/2763.jpg  \n",
            "  inflating: ./CelebA_HQ_facial_identity_dataset/train/65/28213.jpg  \n",
            "  inflating: ./CelebA_HQ_facial_identity_dataset/train/65/3010.jpg  \n",
            "  inflating: ./CelebA_HQ_facial_identity_dataset/train/65/329.jpg  \n",
            "  inflating: ./CelebA_HQ_facial_identity_dataset/train/65/4573.jpg  \n",
            "  inflating: ./CelebA_HQ_facial_identity_dataset/train/65/4880.jpg  \n",
            "  inflating: ./CelebA_HQ_facial_identity_dataset/train/65/5329.jpg  \n",
            "   creating: ./CelebA_HQ_facial_identity_dataset/train/651/\n",
            "  inflating: ./CelebA_HQ_facial_identity_dataset/train/651/1038.jpg  \n",
            "  inflating: ./CelebA_HQ_facial_identity_dataset/train/651/11648.jpg  \n",
            "  inflating: ./CelebA_HQ_facial_identity_dataset/train/651/1262.jpg  \n",
            "  inflating: ./CelebA_HQ_facial_identity_dataset/train/651/1278.jpg  \n",
            "  inflating: ./CelebA_HQ_facial_identity_dataset/train/651/1348.jpg  \n",
            "  inflating: ./CelebA_HQ_facial_identity_dataset/train/651/16611.jpg  \n",
            "  inflating: ./CelebA_HQ_facial_identity_dataset/train/651/17785.jpg  \n",
            "  inflating: ./CelebA_HQ_facial_identity_dataset/train/651/19584.jpg  \n",
            "  inflating: ./CelebA_HQ_facial_identity_dataset/train/651/2029.jpg  \n",
            "  inflating: ./CelebA_HQ_facial_identity_dataset/train/651/20941.jpg  \n",
            "  inflating: ./CelebA_HQ_facial_identity_dataset/train/651/27046.jpg  \n",
            "  inflating: ./CelebA_HQ_facial_identity_dataset/train/651/28021.jpg  \n",
            "  inflating: ./CelebA_HQ_facial_identity_dataset/train/651/3599.jpg  \n",
            "  inflating: ./CelebA_HQ_facial_identity_dataset/train/651/4442.jpg  \n",
            "  inflating: ./CelebA_HQ_facial_identity_dataset/train/651/5882.jpg  \n",
            "   creating: ./CelebA_HQ_facial_identity_dataset/train/664/\n",
            "  inflating: ./CelebA_HQ_facial_identity_dataset/train/664/11198.jpg  \n",
            "  inflating: ./CelebA_HQ_facial_identity_dataset/train/664/14150.jpg  \n",
            "  inflating: ./CelebA_HQ_facial_identity_dataset/train/664/14230.jpg  \n",
            "  inflating: ./CelebA_HQ_facial_identity_dataset/train/664/18124.jpg  \n",
            "  inflating: ./CelebA_HQ_facial_identity_dataset/train/664/22237.jpg  \n",
            "  inflating: ./CelebA_HQ_facial_identity_dataset/train/664/24717.jpg  \n",
            "  inflating: ./CelebA_HQ_facial_identity_dataset/train/664/2650.jpg  \n",
            "  inflating: ./CelebA_HQ_facial_identity_dataset/train/664/2981.jpg  \n",
            "  inflating: ./CelebA_HQ_facial_identity_dataset/train/664/3406.jpg  \n",
            "  inflating: ./CelebA_HQ_facial_identity_dataset/train/664/3549.jpg  \n",
            "  inflating: ./CelebA_HQ_facial_identity_dataset/train/664/4863.jpg  \n",
            "  inflating: ./CelebA_HQ_facial_identity_dataset/train/664/5318.jpg  \n",
            "   creating: ./CelebA_HQ_facial_identity_dataset/train/67/\n",
            "  inflating: ./CelebA_HQ_facial_identity_dataset/train/67/10743.jpg  \n",
            "  inflating: ./CelebA_HQ_facial_identity_dataset/train/67/10849.jpg  \n",
            "  inflating: ./CelebA_HQ_facial_identity_dataset/train/67/1634.jpg  \n",
            "  inflating: ./CelebA_HQ_facial_identity_dataset/train/67/16921.jpg  \n",
            "  inflating: ./CelebA_HQ_facial_identity_dataset/train/67/19360.jpg  \n",
            "  inflating: ./CelebA_HQ_facial_identity_dataset/train/67/22542.jpg  \n",
            "  inflating: ./CelebA_HQ_facial_identity_dataset/train/67/23602.jpg  \n",
            "  inflating: ./CelebA_HQ_facial_identity_dataset/train/67/27978.jpg  \n",
            "  inflating: ./CelebA_HQ_facial_identity_dataset/train/67/28352.jpg  \n",
            "  inflating: ./CelebA_HQ_facial_identity_dataset/train/67/383.jpg  \n",
            "  inflating: ./CelebA_HQ_facial_identity_dataset/train/67/462.jpg  \n",
            "  inflating: ./CelebA_HQ_facial_identity_dataset/train/67/4929.jpg  \n",
            "  inflating: ./CelebA_HQ_facial_identity_dataset/train/67/541.jpg  \n",
            "   creating: ./CelebA_HQ_facial_identity_dataset/train/673/\n",
            "  inflating: ./CelebA_HQ_facial_identity_dataset/train/673/11181.jpg  \n",
            "  inflating: ./CelebA_HQ_facial_identity_dataset/train/673/12872.jpg  \n",
            "  inflating: ./CelebA_HQ_facial_identity_dataset/train/673/13018.jpg  \n",
            "  inflating: ./CelebA_HQ_facial_identity_dataset/train/673/13516.jpg  \n",
            "  inflating: ./CelebA_HQ_facial_identity_dataset/train/673/16464.jpg  \n",
            "  inflating: ./CelebA_HQ_facial_identity_dataset/train/673/18245.jpg  \n",
            "  inflating: ./CelebA_HQ_facial_identity_dataset/train/673/22212.jpg  \n",
            "  inflating: ./CelebA_HQ_facial_identity_dataset/train/673/24790.jpg  \n",
            "  inflating: ./CelebA_HQ_facial_identity_dataset/train/673/24882.jpg  \n",
            "  inflating: ./CelebA_HQ_facial_identity_dataset/train/673/27894.jpg  \n",
            "  inflating: ./CelebA_HQ_facial_identity_dataset/train/673/2887.jpg  \n",
            "  inflating: ./CelebA_HQ_facial_identity_dataset/train/673/5820.jpg  \n",
            "   creating: ./CelebA_HQ_facial_identity_dataset/train/674/\n",
            "  inflating: ./CelebA_HQ_facial_identity_dataset/train/674/1106.jpg  \n",
            "  inflating: ./CelebA_HQ_facial_identity_dataset/train/674/11861.jpg  \n",
            "  inflating: ./CelebA_HQ_facial_identity_dataset/train/674/12483.jpg  \n",
            "  inflating: ./CelebA_HQ_facial_identity_dataset/train/674/1343.jpg  \n",
            "  inflating: ./CelebA_HQ_facial_identity_dataset/train/674/15174.jpg  \n",
            "  inflating: ./CelebA_HQ_facial_identity_dataset/train/674/1531.jpg  \n",
            "  inflating: ./CelebA_HQ_facial_identity_dataset/train/674/15418.jpg  \n",
            "  inflating: ./CelebA_HQ_facial_identity_dataset/train/674/1607.jpg  \n",
            "  inflating: ./CelebA_HQ_facial_identity_dataset/train/674/16457.jpg  \n",
            "  inflating: ./CelebA_HQ_facial_identity_dataset/train/674/18211.jpg  \n",
            "  inflating: ./CelebA_HQ_facial_identity_dataset/train/674/18499.jpg  \n",
            "  inflating: ./CelebA_HQ_facial_identity_dataset/train/674/2504.jpg  \n",
            "  inflating: ./CelebA_HQ_facial_identity_dataset/train/674/2637.jpg  \n",
            "  inflating: ./CelebA_HQ_facial_identity_dataset/train/674/2788.jpg  \n",
            "  inflating: ./CelebA_HQ_facial_identity_dataset/train/674/29261.jpg  \n",
            "  inflating: ./CelebA_HQ_facial_identity_dataset/train/674/3203.jpg  \n",
            "   creating: ./CelebA_HQ_facial_identity_dataset/train/676/\n",
            "  inflating: ./CelebA_HQ_facial_identity_dataset/train/676/15323.jpg  \n",
            "  inflating: ./CelebA_HQ_facial_identity_dataset/train/676/19746.jpg  \n",
            "  inflating: ./CelebA_HQ_facial_identity_dataset/train/676/20648.jpg  \n",
            "  inflating: ./CelebA_HQ_facial_identity_dataset/train/676/2155.jpg  \n",
            "  inflating: ./CelebA_HQ_facial_identity_dataset/train/676/21872.jpg  \n",
            "  inflating: ./CelebA_HQ_facial_identity_dataset/train/676/28542.jpg  \n",
            "  inflating: ./CelebA_HQ_facial_identity_dataset/train/676/2898.jpg  \n",
            "  inflating: ./CelebA_HQ_facial_identity_dataset/train/676/3739.jpg  \n",
            "  inflating: ./CelebA_HQ_facial_identity_dataset/train/676/4646.jpg  \n",
            "  inflating: ./CelebA_HQ_facial_identity_dataset/train/676/4787.jpg  \n",
            "  inflating: ./CelebA_HQ_facial_identity_dataset/train/676/6634.jpg  \n",
            "  inflating: ./CelebA_HQ_facial_identity_dataset/train/676/8194.jpg  \n",
            "   creating: ./CelebA_HQ_facial_identity_dataset/train/677/\n",
            "  inflating: ./CelebA_HQ_facial_identity_dataset/train/677/11095.jpg  \n",
            "  inflating: ./CelebA_HQ_facial_identity_dataset/train/677/12761.jpg  \n",
            "  inflating: ./CelebA_HQ_facial_identity_dataset/train/677/1285.jpg  \n",
            "  inflating: ./CelebA_HQ_facial_identity_dataset/train/677/13426.jpg  \n",
            "  inflating: ./CelebA_HQ_facial_identity_dataset/train/677/14221.jpg  \n",
            "  inflating: ./CelebA_HQ_facial_identity_dataset/train/677/1438.jpg  \n",
            "  inflating: ./CelebA_HQ_facial_identity_dataset/train/677/16448.jpg  \n",
            "  inflating: ./CelebA_HQ_facial_identity_dataset/train/677/1823.jpg  \n",
            "  inflating: ./CelebA_HQ_facial_identity_dataset/train/677/2212.jpg  \n",
            "  inflating: ./CelebA_HQ_facial_identity_dataset/train/677/22213.jpg  \n",
            "  inflating: ./CelebA_HQ_facial_identity_dataset/train/677/28155.jpg  \n",
            "  inflating: ./CelebA_HQ_facial_identity_dataset/train/677/4099.jpg  \n",
            "  inflating: ./CelebA_HQ_facial_identity_dataset/train/677/4844.jpg  \n",
            "  inflating: ./CelebA_HQ_facial_identity_dataset/train/677/6874.jpg  \n",
            "   creating: ./CelebA_HQ_facial_identity_dataset/train/678/\n",
            "  inflating: ./CelebA_HQ_facial_identity_dataset/train/678/10225.jpg  \n",
            "  inflating: ./CelebA_HQ_facial_identity_dataset/train/678/12011.jpg  \n",
            "  inflating: ./CelebA_HQ_facial_identity_dataset/train/678/15339.jpg  \n",
            "  inflating: ./CelebA_HQ_facial_identity_dataset/train/678/22525.jpg  \n",
            "  inflating: ./CelebA_HQ_facial_identity_dataset/train/678/23261.jpg  \n",
            "  inflating: ./CelebA_HQ_facial_identity_dataset/train/678/23803.jpg  \n",
            "  inflating: ./CelebA_HQ_facial_identity_dataset/train/678/2455.jpg  \n",
            "  inflating: ./CelebA_HQ_facial_identity_dataset/train/678/25942.jpg  \n",
            "  inflating: ./CelebA_HQ_facial_identity_dataset/train/678/3232.jpg  \n",
            "  inflating: ./CelebA_HQ_facial_identity_dataset/train/678/3569.jpg  \n",
            "  inflating: ./CelebA_HQ_facial_identity_dataset/train/678/3709.jpg  \n",
            "  inflating: ./CelebA_HQ_facial_identity_dataset/train/678/4600.jpg  \n",
            "   creating: ./CelebA_HQ_facial_identity_dataset/train/679/\n",
            "  inflating: ./CelebA_HQ_facial_identity_dataset/train/679/11014.jpg  \n",
            "  inflating: ./CelebA_HQ_facial_identity_dataset/train/679/1329.jpg  \n",
            "  inflating: ./CelebA_HQ_facial_identity_dataset/train/679/13541.jpg  \n",
            "  inflating: ./CelebA_HQ_facial_identity_dataset/train/679/17375.jpg  \n",
            "  inflating: ./CelebA_HQ_facial_identity_dataset/train/679/18532.jpg  \n",
            "  inflating: ./CelebA_HQ_facial_identity_dataset/train/679/19184.jpg  \n",
            "  inflating: ./CelebA_HQ_facial_identity_dataset/train/679/20260.jpg  \n",
            "  inflating: ./CelebA_HQ_facial_identity_dataset/train/679/25521.jpg  \n",
            "  inflating: ./CelebA_HQ_facial_identity_dataset/train/679/27136.jpg  \n",
            "  inflating: ./CelebA_HQ_facial_identity_dataset/train/679/2791.jpg  \n",
            "  inflating: ./CelebA_HQ_facial_identity_dataset/train/679/3192.jpg  \n",
            "  inflating: ./CelebA_HQ_facial_identity_dataset/train/679/3418.jpg  \n",
            "   creating: ./CelebA_HQ_facial_identity_dataset/train/688/\n",
            "  inflating: ./CelebA_HQ_facial_identity_dataset/train/688/11324.jpg  \n",
            "  inflating: ./CelebA_HQ_facial_identity_dataset/train/688/14990.jpg  \n",
            "  inflating: ./CelebA_HQ_facial_identity_dataset/train/688/1633.jpg  \n",
            "  inflating: ./CelebA_HQ_facial_identity_dataset/train/688/1637.jpg  \n",
            "  inflating: ./CelebA_HQ_facial_identity_dataset/train/688/19128.jpg  \n",
            "  inflating: ./CelebA_HQ_facial_identity_dataset/train/688/29583.jpg  \n",
            "  inflating: ./CelebA_HQ_facial_identity_dataset/train/688/3053.jpg  \n",
            "  inflating: ./CelebA_HQ_facial_identity_dataset/train/688/3137.jpg  \n",
            "  inflating: ./CelebA_HQ_facial_identity_dataset/train/688/3913.jpg  \n",
            "  inflating: ./CelebA_HQ_facial_identity_dataset/train/688/3951.jpg  \n",
            "  inflating: ./CelebA_HQ_facial_identity_dataset/train/688/4331.jpg  \n",
            "  inflating: ./CelebA_HQ_facial_identity_dataset/train/688/5635.jpg  \n",
            "   creating: ./CelebA_HQ_facial_identity_dataset/train/698/\n",
            "  inflating: ./CelebA_HQ_facial_identity_dataset/train/698/10152.jpg  \n",
            "  inflating: ./CelebA_HQ_facial_identity_dataset/train/698/10807.jpg  \n",
            "  inflating: ./CelebA_HQ_facial_identity_dataset/train/698/11811.jpg  \n",
            "  inflating: ./CelebA_HQ_facial_identity_dataset/train/698/11985.jpg  \n",
            "  inflating: ./CelebA_HQ_facial_identity_dataset/train/698/14131.jpg  \n",
            "  inflating: ./CelebA_HQ_facial_identity_dataset/train/698/14385.jpg  \n",
            "  inflating: ./CelebA_HQ_facial_identity_dataset/train/698/15405.jpg  \n",
            "  inflating: ./CelebA_HQ_facial_identity_dataset/train/698/15996.jpg  \n",
            "  inflating: ./CelebA_HQ_facial_identity_dataset/train/698/19973.jpg  \n",
            "  inflating: ./CelebA_HQ_facial_identity_dataset/train/698/23620.jpg  \n",
            "  inflating: ./CelebA_HQ_facial_identity_dataset/train/698/25605.jpg  \n",
            "  inflating: ./CelebA_HQ_facial_identity_dataset/train/698/29446.jpg  \n",
            "   creating: ./CelebA_HQ_facial_identity_dataset/train/701/\n",
            "  inflating: ./CelebA_HQ_facial_identity_dataset/train/701/11670.jpg  \n",
            "  inflating: ./CelebA_HQ_facial_identity_dataset/train/701/12604.jpg  \n",
            "  inflating: ./CelebA_HQ_facial_identity_dataset/train/701/14964.jpg  \n",
            "  inflating: ./CelebA_HQ_facial_identity_dataset/train/701/17572.jpg  \n",
            "  inflating: ./CelebA_HQ_facial_identity_dataset/train/701/17936.jpg  \n",
            "  inflating: ./CelebA_HQ_facial_identity_dataset/train/701/2335.jpg  \n",
            "  inflating: ./CelebA_HQ_facial_identity_dataset/train/701/24299.jpg  \n",
            "  inflating: ./CelebA_HQ_facial_identity_dataset/train/701/26658.jpg  \n",
            "  inflating: ./CelebA_HQ_facial_identity_dataset/train/701/27053.jpg  \n",
            "  inflating: ./CelebA_HQ_facial_identity_dataset/train/701/27877.jpg  \n",
            "  inflating: ./CelebA_HQ_facial_identity_dataset/train/701/3263.jpg  \n",
            "  inflating: ./CelebA_HQ_facial_identity_dataset/train/701/6459.jpg  \n",
            "   creating: ./CelebA_HQ_facial_identity_dataset/train/703/\n",
            "  inflating: ./CelebA_HQ_facial_identity_dataset/train/703/1175.jpg  \n",
            "  inflating: ./CelebA_HQ_facial_identity_dataset/train/703/11928.jpg  \n",
            "  inflating: ./CelebA_HQ_facial_identity_dataset/train/703/13425.jpg  \n",
            "  inflating: ./CelebA_HQ_facial_identity_dataset/train/703/14282.jpg  \n",
            "  inflating: ./CelebA_HQ_facial_identity_dataset/train/703/1468.jpg  \n",
            "  inflating: ./CelebA_HQ_facial_identity_dataset/train/703/1642.jpg  \n",
            "  inflating: ./CelebA_HQ_facial_identity_dataset/train/703/17461.jpg  \n",
            "  inflating: ./CelebA_HQ_facial_identity_dataset/train/703/1821.jpg  \n",
            "  inflating: ./CelebA_HQ_facial_identity_dataset/train/703/1895.jpg  \n",
            "  inflating: ./CelebA_HQ_facial_identity_dataset/train/703/19470.jpg  \n",
            "  inflating: ./CelebA_HQ_facial_identity_dataset/train/703/2280.jpg  \n",
            "  inflating: ./CelebA_HQ_facial_identity_dataset/train/703/26609.jpg  \n",
            "  inflating: ./CelebA_HQ_facial_identity_dataset/train/703/2769.jpg  \n",
            "  inflating: ./CelebA_HQ_facial_identity_dataset/train/703/2953.jpg  \n",
            "  inflating: ./CelebA_HQ_facial_identity_dataset/train/703/3032.jpg  \n",
            "  inflating: ./CelebA_HQ_facial_identity_dataset/train/703/3205.jpg  \n",
            "  inflating: ./CelebA_HQ_facial_identity_dataset/train/703/3833.jpg  \n",
            "   creating: ./CelebA_HQ_facial_identity_dataset/train/716/\n",
            "  inflating: ./CelebA_HQ_facial_identity_dataset/train/716/1009.jpg  \n",
            "  inflating: ./CelebA_HQ_facial_identity_dataset/train/716/11099.jpg  \n",
            "  inflating: ./CelebA_HQ_facial_identity_dataset/train/716/12953.jpg  \n",
            "  inflating: ./CelebA_HQ_facial_identity_dataset/train/716/13909.jpg  \n",
            "  inflating: ./CelebA_HQ_facial_identity_dataset/train/716/14661.jpg  \n",
            "  inflating: ./CelebA_HQ_facial_identity_dataset/train/716/17895.jpg  \n",
            "  inflating: ./CelebA_HQ_facial_identity_dataset/train/716/25806.jpg  \n",
            "  inflating: ./CelebA_HQ_facial_identity_dataset/train/716/27201.jpg  \n",
            "  inflating: ./CelebA_HQ_facial_identity_dataset/train/716/4831.jpg  \n",
            "  inflating: ./CelebA_HQ_facial_identity_dataset/train/716/6016.jpg  \n",
            "  inflating: ./CelebA_HQ_facial_identity_dataset/train/716/7022.jpg  \n",
            "  inflating: ./CelebA_HQ_facial_identity_dataset/train/716/7995.jpg  \n",
            "   creating: ./CelebA_HQ_facial_identity_dataset/train/719/\n",
            "  inflating: ./CelebA_HQ_facial_identity_dataset/train/719/1021.jpg  \n",
            "  inflating: ./CelebA_HQ_facial_identity_dataset/train/719/10866.jpg  \n",
            "  inflating: ./CelebA_HQ_facial_identity_dataset/train/719/1162.jpg  \n",
            "  inflating: ./CelebA_HQ_facial_identity_dataset/train/719/15510.jpg  \n",
            "  inflating: ./CelebA_HQ_facial_identity_dataset/train/719/17619.jpg  \n",
            "  inflating: ./CelebA_HQ_facial_identity_dataset/train/719/19613.jpg  \n",
            "  inflating: ./CelebA_HQ_facial_identity_dataset/train/719/24515.jpg  \n",
            "  inflating: ./CelebA_HQ_facial_identity_dataset/train/719/25665.jpg  \n",
            "  inflating: ./CelebA_HQ_facial_identity_dataset/train/719/2628.jpg  \n",
            "  inflating: ./CelebA_HQ_facial_identity_dataset/train/719/2636.jpg  \n",
            "  inflating: ./CelebA_HQ_facial_identity_dataset/train/719/27271.jpg  \n",
            "  inflating: ./CelebA_HQ_facial_identity_dataset/train/719/28533.jpg  \n",
            "   creating: ./CelebA_HQ_facial_identity_dataset/train/725/\n",
            "  inflating: ./CelebA_HQ_facial_identity_dataset/train/725/10275.jpg  \n",
            "  inflating: ./CelebA_HQ_facial_identity_dataset/train/725/1034.jpg  \n",
            "  inflating: ./CelebA_HQ_facial_identity_dataset/train/725/11217.jpg  \n",
            "  inflating: ./CelebA_HQ_facial_identity_dataset/train/725/12754.jpg  \n",
            "  inflating: ./CelebA_HQ_facial_identity_dataset/train/725/13725.jpg  \n",
            "  inflating: ./CelebA_HQ_facial_identity_dataset/train/725/14846.jpg  \n",
            "  inflating: ./CelebA_HQ_facial_identity_dataset/train/725/1801.jpg  \n",
            "  inflating: ./CelebA_HQ_facial_identity_dataset/train/725/19180.jpg  \n",
            "  inflating: ./CelebA_HQ_facial_identity_dataset/train/725/2285.jpg  \n",
            "  inflating: ./CelebA_HQ_facial_identity_dataset/train/725/3625.jpg  \n",
            "  inflating: ./CelebA_HQ_facial_identity_dataset/train/725/3856.jpg  \n",
            "  inflating: ./CelebA_HQ_facial_identity_dataset/train/725/3862.jpg  \n",
            "  inflating: ./CelebA_HQ_facial_identity_dataset/train/725/4725.jpg  \n",
            "   creating: ./CelebA_HQ_facial_identity_dataset/train/731/\n",
            "  inflating: ./CelebA_HQ_facial_identity_dataset/train/731/1049.jpg  \n",
            "  inflating: ./CelebA_HQ_facial_identity_dataset/train/731/12712.jpg  \n",
            "  inflating: ./CelebA_HQ_facial_identity_dataset/train/731/13316.jpg  \n",
            "  inflating: ./CelebA_HQ_facial_identity_dataset/train/731/1450.jpg  \n",
            "  inflating: ./CelebA_HQ_facial_identity_dataset/train/731/14711.jpg  \n",
            "  inflating: ./CelebA_HQ_facial_identity_dataset/train/731/2035.jpg  \n",
            "  inflating: ./CelebA_HQ_facial_identity_dataset/train/731/20605.jpg  \n",
            "  inflating: ./CelebA_HQ_facial_identity_dataset/train/731/2284.jpg  \n",
            "  inflating: ./CelebA_HQ_facial_identity_dataset/train/731/2623.jpg  \n",
            "  inflating: ./CelebA_HQ_facial_identity_dataset/train/731/4212.jpg  \n",
            "  inflating: ./CelebA_HQ_facial_identity_dataset/train/731/4281.jpg  \n",
            "  inflating: ./CelebA_HQ_facial_identity_dataset/train/731/4412.jpg  \n",
            "  inflating: ./CelebA_HQ_facial_identity_dataset/train/731/5522.jpg  \n",
            "  inflating: ./CelebA_HQ_facial_identity_dataset/train/731/5886.jpg  \n",
            "  inflating: ./CelebA_HQ_facial_identity_dataset/train/731/5982.jpg  \n",
            "   creating: ./CelebA_HQ_facial_identity_dataset/train/735/\n",
            "  inflating: ./CelebA_HQ_facial_identity_dataset/train/735/1056.jpg  \n",
            "  inflating: ./CelebA_HQ_facial_identity_dataset/train/735/1125.jpg  \n",
            "  inflating: ./CelebA_HQ_facial_identity_dataset/train/735/11709.jpg  \n",
            "  inflating: ./CelebA_HQ_facial_identity_dataset/train/735/12673.jpg  \n",
            "  inflating: ./CelebA_HQ_facial_identity_dataset/train/735/13603.jpg  \n",
            "  inflating: ./CelebA_HQ_facial_identity_dataset/train/735/1367.jpg  \n",
            "  inflating: ./CelebA_HQ_facial_identity_dataset/train/735/14529.jpg  \n",
            "  inflating: ./CelebA_HQ_facial_identity_dataset/train/735/1601.jpg  \n",
            "  inflating: ./CelebA_HQ_facial_identity_dataset/train/735/1981.jpg  \n",
            "  inflating: ./CelebA_HQ_facial_identity_dataset/train/735/2527.jpg  \n",
            "  inflating: ./CelebA_HQ_facial_identity_dataset/train/735/26080.jpg  \n",
            "  inflating: ./CelebA_HQ_facial_identity_dataset/train/735/2782.jpg  \n",
            "  inflating: ./CelebA_HQ_facial_identity_dataset/train/735/2889.jpg  \n",
            "  inflating: ./CelebA_HQ_facial_identity_dataset/train/735/2971.jpg  \n",
            "  inflating: ./CelebA_HQ_facial_identity_dataset/train/735/3028.jpg  \n",
            "  inflating: ./CelebA_HQ_facial_identity_dataset/train/735/4106.jpg  \n",
            "   creating: ./CelebA_HQ_facial_identity_dataset/train/745/\n",
            "  inflating: ./CelebA_HQ_facial_identity_dataset/train/745/1076.jpg  \n",
            "  inflating: ./CelebA_HQ_facial_identity_dataset/train/745/10767.jpg  \n",
            "  inflating: ./CelebA_HQ_facial_identity_dataset/train/745/13911.jpg  \n",
            "  inflating: ./CelebA_HQ_facial_identity_dataset/train/745/14178.jpg  \n",
            "  inflating: ./CelebA_HQ_facial_identity_dataset/train/745/14609.jpg  \n",
            "  inflating: ./CelebA_HQ_facial_identity_dataset/train/745/15434.jpg  \n",
            "  inflating: ./CelebA_HQ_facial_identity_dataset/train/745/18665.jpg  \n",
            "  inflating: ./CelebA_HQ_facial_identity_dataset/train/745/20678.jpg  \n",
            "  inflating: ./CelebA_HQ_facial_identity_dataset/train/745/27607.jpg  \n",
            "  inflating: ./CelebA_HQ_facial_identity_dataset/train/745/29266.jpg  \n",
            "  inflating: ./CelebA_HQ_facial_identity_dataset/train/745/3484.jpg  \n",
            "  inflating: ./CelebA_HQ_facial_identity_dataset/train/745/5110.jpg  \n",
            "  inflating: ./CelebA_HQ_facial_identity_dataset/train/745/6338.jpg  \n",
            "   creating: ./CelebA_HQ_facial_identity_dataset/train/746/\n",
            "  inflating: ./CelebA_HQ_facial_identity_dataset/train/746/10209.jpg  \n",
            "  inflating: ./CelebA_HQ_facial_identity_dataset/train/746/1078.jpg  \n",
            "  inflating: ./CelebA_HQ_facial_identity_dataset/train/746/10887.jpg  \n",
            "  inflating: ./CelebA_HQ_facial_identity_dataset/train/746/10933.jpg  \n",
            "  inflating: ./CelebA_HQ_facial_identity_dataset/train/746/19600.jpg  \n",
            "  inflating: ./CelebA_HQ_facial_identity_dataset/train/746/21327.jpg  \n",
            "  inflating: ./CelebA_HQ_facial_identity_dataset/train/746/2238.jpg  \n",
            "  inflating: ./CelebA_HQ_facial_identity_dataset/train/746/24022.jpg  \n",
            "  inflating: ./CelebA_HQ_facial_identity_dataset/train/746/2690.jpg  \n",
            "  inflating: ./CelebA_HQ_facial_identity_dataset/train/746/27269.jpg  \n",
            "  inflating: ./CelebA_HQ_facial_identity_dataset/train/746/29023.jpg  \n",
            "  inflating: ./CelebA_HQ_facial_identity_dataset/train/746/3079.jpg  \n",
            "  inflating: ./CelebA_HQ_facial_identity_dataset/train/746/3176.jpg  \n",
            "  inflating: ./CelebA_HQ_facial_identity_dataset/train/746/4070.jpg  \n",
            "  inflating: ./CelebA_HQ_facial_identity_dataset/train/746/4330.jpg  \n",
            "  inflating: ./CelebA_HQ_facial_identity_dataset/train/746/4451.jpg  \n",
            "  inflating: ./CelebA_HQ_facial_identity_dataset/train/746/4694.jpg  \n",
            "   creating: ./CelebA_HQ_facial_identity_dataset/train/748/\n",
            "  inflating: ./CelebA_HQ_facial_identity_dataset/train/748/10717.jpg  \n",
            "  inflating: ./CelebA_HQ_facial_identity_dataset/train/748/1082.jpg  \n",
            "  inflating: ./CelebA_HQ_facial_identity_dataset/train/748/13637.jpg  \n",
            "  inflating: ./CelebA_HQ_facial_identity_dataset/train/748/15489.jpg  \n",
            "  inflating: ./CelebA_HQ_facial_identity_dataset/train/748/18715.jpg  \n",
            "  inflating: ./CelebA_HQ_facial_identity_dataset/train/748/21148.jpg  \n",
            "  inflating: ./CelebA_HQ_facial_identity_dataset/train/748/22627.jpg  \n",
            "  inflating: ./CelebA_HQ_facial_identity_dataset/train/748/2396.jpg  \n",
            "  inflating: ./CelebA_HQ_facial_identity_dataset/train/748/24193.jpg  \n",
            "  inflating: ./CelebA_HQ_facial_identity_dataset/train/748/25327.jpg  \n",
            "  inflating: ./CelebA_HQ_facial_identity_dataset/train/748/26384.jpg  \n",
            "  inflating: ./CelebA_HQ_facial_identity_dataset/train/748/5413.jpg  \n",
            "   creating: ./CelebA_HQ_facial_identity_dataset/train/766/\n",
            "  inflating: ./CelebA_HQ_facial_identity_dataset/train/766/10279.jpg  \n",
            "  inflating: ./CelebA_HQ_facial_identity_dataset/train/766/1115.jpg  \n",
            "  inflating: ./CelebA_HQ_facial_identity_dataset/train/766/11251.jpg  \n",
            "  inflating: ./CelebA_HQ_facial_identity_dataset/train/766/16640.jpg  \n",
            "  inflating: ./CelebA_HQ_facial_identity_dataset/train/766/19993.jpg  \n",
            "  inflating: ./CelebA_HQ_facial_identity_dataset/train/766/2006.jpg  \n",
            "  inflating: ./CelebA_HQ_facial_identity_dataset/train/766/20988.jpg  \n",
            "  inflating: ./CelebA_HQ_facial_identity_dataset/train/766/23677.jpg  \n",
            "  inflating: ./CelebA_HQ_facial_identity_dataset/train/766/25821.jpg  \n",
            "  inflating: ./CelebA_HQ_facial_identity_dataset/train/766/25978.jpg  \n",
            "  inflating: ./CelebA_HQ_facial_identity_dataset/train/766/26230.jpg  \n",
            "  inflating: ./CelebA_HQ_facial_identity_dataset/train/766/27560.jpg  \n",
            "   creating: ./CelebA_HQ_facial_identity_dataset/train/77/\n",
            "  inflating: ./CelebA_HQ_facial_identity_dataset/train/77/10567.jpg  \n",
            "  inflating: ./CelebA_HQ_facial_identity_dataset/train/77/11242.jpg  \n",
            "  inflating: ./CelebA_HQ_facial_identity_dataset/train/77/13207.jpg  \n",
            "  inflating: ./CelebA_HQ_facial_identity_dataset/train/77/1331.jpg  \n",
            "  inflating: ./CelebA_HQ_facial_identity_dataset/train/77/1443.jpg  \n",
            "  inflating: ./CelebA_HQ_facial_identity_dataset/train/77/1492.jpg  \n",
            "  inflating: ./CelebA_HQ_facial_identity_dataset/train/77/1949.jpg  \n",
            "  inflating: ./CelebA_HQ_facial_identity_dataset/train/77/22007.jpg  \n",
            "  inflating: ./CelebA_HQ_facial_identity_dataset/train/77/22322.jpg  \n",
            "  inflating: ./CelebA_HQ_facial_identity_dataset/train/77/23600.jpg  \n",
            "  inflating: ./CelebA_HQ_facial_identity_dataset/train/77/2545.jpg  \n",
            "  inflating: ./CelebA_HQ_facial_identity_dataset/train/77/26785.jpg  \n",
            "  inflating: ./CelebA_HQ_facial_identity_dataset/train/77/28392.jpg  \n",
            "  inflating: ./CelebA_HQ_facial_identity_dataset/train/77/378.jpg  \n",
            "   creating: ./CelebA_HQ_facial_identity_dataset/train/776/\n",
            "  inflating: ./CelebA_HQ_facial_identity_dataset/train/776/1135.jpg  \n",
            "  inflating: ./CelebA_HQ_facial_identity_dataset/train/776/11762.jpg  \n",
            "  inflating: ./CelebA_HQ_facial_identity_dataset/train/776/13815.jpg  \n",
            "  inflating: ./CelebA_HQ_facial_identity_dataset/train/776/13941.jpg  \n",
            "  inflating: ./CelebA_HQ_facial_identity_dataset/train/776/14765.jpg  \n",
            "  inflating: ./CelebA_HQ_facial_identity_dataset/train/776/16879.jpg  \n",
            "  inflating: ./CelebA_HQ_facial_identity_dataset/train/776/17328.jpg  \n",
            "  inflating: ./CelebA_HQ_facial_identity_dataset/train/776/1766.jpg  \n",
            "  inflating: ./CelebA_HQ_facial_identity_dataset/train/776/20738.jpg  \n",
            "  inflating: ./CelebA_HQ_facial_identity_dataset/train/776/2413.jpg  \n",
            "  inflating: ./CelebA_HQ_facial_identity_dataset/train/776/25461.jpg  \n",
            "  inflating: ./CelebA_HQ_facial_identity_dataset/train/776/2665.jpg  \n",
            "  inflating: ./CelebA_HQ_facial_identity_dataset/train/776/3005.jpg  \n",
            "  inflating: ./CelebA_HQ_facial_identity_dataset/train/776/4553.jpg  \n",
            "  inflating: ./CelebA_HQ_facial_identity_dataset/train/776/5691.jpg  \n",
            "   creating: ./CelebA_HQ_facial_identity_dataset/train/782/\n",
            "  inflating: ./CelebA_HQ_facial_identity_dataset/train/782/10370.jpg  \n",
            "  inflating: ./CelebA_HQ_facial_identity_dataset/train/782/11143.jpg  \n",
            "  inflating: ./CelebA_HQ_facial_identity_dataset/train/782/11335.jpg  \n",
            "  inflating: ./CelebA_HQ_facial_identity_dataset/train/782/11452.jpg  \n",
            "  inflating: ./CelebA_HQ_facial_identity_dataset/train/782/1152.jpg  \n",
            "  inflating: ./CelebA_HQ_facial_identity_dataset/train/782/12873.jpg  \n",
            "  inflating: ./CelebA_HQ_facial_identity_dataset/train/782/16190.jpg  \n",
            "  inflating: ./CelebA_HQ_facial_identity_dataset/train/782/20357.jpg  \n",
            "  inflating: ./CelebA_HQ_facial_identity_dataset/train/782/20732.jpg  \n",
            "  inflating: ./CelebA_HQ_facial_identity_dataset/train/782/21525.jpg  \n",
            "  inflating: ./CelebA_HQ_facial_identity_dataset/train/782/22142.jpg  \n",
            "  inflating: ./CelebA_HQ_facial_identity_dataset/train/782/2384.jpg  \n",
            "  inflating: ./CelebA_HQ_facial_identity_dataset/train/782/2648.jpg  \n",
            "   creating: ./CelebA_HQ_facial_identity_dataset/train/785/\n",
            "  inflating: ./CelebA_HQ_facial_identity_dataset/train/785/10957.jpg  \n",
            "  inflating: ./CelebA_HQ_facial_identity_dataset/train/785/1156.jpg  \n",
            "  inflating: ./CelebA_HQ_facial_identity_dataset/train/785/1434.jpg  \n",
            "  inflating: ./CelebA_HQ_facial_identity_dataset/train/785/16558.jpg  \n",
            "  inflating: ./CelebA_HQ_facial_identity_dataset/train/785/16592.jpg  \n",
            "  inflating: ./CelebA_HQ_facial_identity_dataset/train/785/2058.jpg  \n",
            "  inflating: ./CelebA_HQ_facial_identity_dataset/train/785/2287.jpg  \n",
            "  inflating: ./CelebA_HQ_facial_identity_dataset/train/785/2781.jpg  \n",
            "  inflating: ./CelebA_HQ_facial_identity_dataset/train/785/2925.jpg  \n",
            "  inflating: ./CelebA_HQ_facial_identity_dataset/train/785/3038.jpg  \n",
            "  inflating: ./CelebA_HQ_facial_identity_dataset/train/785/3251.jpg  \n",
            "  inflating: ./CelebA_HQ_facial_identity_dataset/train/785/4019.jpg  \n",
            "  inflating: ./CelebA_HQ_facial_identity_dataset/train/785/5543.jpg  \n",
            "  inflating: ./CelebA_HQ_facial_identity_dataset/train/785/6440.jpg  \n",
            "  inflating: ./CelebA_HQ_facial_identity_dataset/train/785/6595.jpg  \n",
            "  inflating: ./CelebA_HQ_facial_identity_dataset/train/785/6973.jpg  \n",
            "   creating: ./CelebA_HQ_facial_identity_dataset/train/793/\n",
            "  inflating: ./CelebA_HQ_facial_identity_dataset/train/793/10642.jpg  \n",
            "  inflating: ./CelebA_HQ_facial_identity_dataset/train/793/1171.jpg  \n",
            "  inflating: ./CelebA_HQ_facial_identity_dataset/train/793/12166.jpg  \n",
            "  inflating: ./CelebA_HQ_facial_identity_dataset/train/793/12518.jpg  \n",
            "  inflating: ./CelebA_HQ_facial_identity_dataset/train/793/14419.jpg  \n",
            "  inflating: ./CelebA_HQ_facial_identity_dataset/train/793/14429.jpg  \n",
            "  inflating: ./CelebA_HQ_facial_identity_dataset/train/793/15180.jpg  \n",
            "  inflating: ./CelebA_HQ_facial_identity_dataset/train/793/1979.jpg  \n",
            "  inflating: ./CelebA_HQ_facial_identity_dataset/train/793/2073.jpg  \n",
            "  inflating: ./CelebA_HQ_facial_identity_dataset/train/793/22340.jpg  \n",
            "  inflating: ./CelebA_HQ_facial_identity_dataset/train/793/22813.jpg  \n",
            "  inflating: ./CelebA_HQ_facial_identity_dataset/train/793/28164.jpg  \n",
            "   creating: ./CelebA_HQ_facial_identity_dataset/train/795/\n",
            "  inflating: ./CelebA_HQ_facial_identity_dataset/train/795/10006.jpg  \n",
            "  inflating: ./CelebA_HQ_facial_identity_dataset/train/795/10120.jpg  \n",
            "  inflating: ./CelebA_HQ_facial_identity_dataset/train/795/1174.jpg  \n",
            "  inflating: ./CelebA_HQ_facial_identity_dataset/train/795/13466.jpg  \n",
            "  inflating: ./CelebA_HQ_facial_identity_dataset/train/795/1699.jpg  \n",
            "  inflating: ./CelebA_HQ_facial_identity_dataset/train/795/18865.jpg  \n",
            "  inflating: ./CelebA_HQ_facial_identity_dataset/train/795/22441.jpg  \n",
            "  inflating: ./CelebA_HQ_facial_identity_dataset/train/795/25657.jpg  \n",
            "  inflating: ./CelebA_HQ_facial_identity_dataset/train/795/26368.jpg  \n",
            "  inflating: ./CelebA_HQ_facial_identity_dataset/train/795/2713.jpg  \n",
            "  inflating: ./CelebA_HQ_facial_identity_dataset/train/795/28572.jpg  \n",
            "  inflating: ./CelebA_HQ_facial_identity_dataset/train/795/28671.jpg  \n",
            "  inflating: ./CelebA_HQ_facial_identity_dataset/train/795/3355.jpg  \n",
            "  inflating: ./CelebA_HQ_facial_identity_dataset/train/795/4842.jpg  \n",
            "   creating: ./CelebA_HQ_facial_identity_dataset/train/80/\n",
            "  inflating: ./CelebA_HQ_facial_identity_dataset/train/80/1134.jpg  \n",
            "  inflating: ./CelebA_HQ_facial_identity_dataset/train/80/1142.jpg  \n",
            "  inflating: ./CelebA_HQ_facial_identity_dataset/train/80/13726.jpg  \n",
            "  inflating: ./CelebA_HQ_facial_identity_dataset/train/80/14664.jpg  \n",
            "  inflating: ./CelebA_HQ_facial_identity_dataset/train/80/14682.jpg  \n",
            "  inflating: ./CelebA_HQ_facial_identity_dataset/train/80/1672.jpg  \n",
            "  inflating: ./CelebA_HQ_facial_identity_dataset/train/80/19460.jpg  \n",
            "  inflating: ./CelebA_HQ_facial_identity_dataset/train/80/23351.jpg  \n",
            "  inflating: ./CelebA_HQ_facial_identity_dataset/train/80/24686.jpg  \n",
            "  inflating: ./CelebA_HQ_facial_identity_dataset/train/80/274.jpg  \n",
            "  inflating: ./CelebA_HQ_facial_identity_dataset/train/80/318.jpg  \n",
            "  inflating: ./CelebA_HQ_facial_identity_dataset/train/80/5306.jpg  \n",
            "   creating: ./CelebA_HQ_facial_identity_dataset/train/805/\n",
            "  inflating: ./CelebA_HQ_facial_identity_dataset/train/805/11224.jpg  \n",
            "  inflating: ./CelebA_HQ_facial_identity_dataset/train/805/11780.jpg  \n",
            "  inflating: ./CelebA_HQ_facial_identity_dataset/train/805/1194.jpg  \n",
            "  inflating: ./CelebA_HQ_facial_identity_dataset/train/805/14124.jpg  \n",
            "  inflating: ./CelebA_HQ_facial_identity_dataset/train/805/14507.jpg  \n",
            "  inflating: ./CelebA_HQ_facial_identity_dataset/train/805/18622.jpg  \n",
            "  inflating: ./CelebA_HQ_facial_identity_dataset/train/805/19875.jpg  \n",
            "  inflating: ./CelebA_HQ_facial_identity_dataset/train/805/2169.jpg  \n",
            "  inflating: ./CelebA_HQ_facial_identity_dataset/train/805/22586.jpg  \n",
            "  inflating: ./CelebA_HQ_facial_identity_dataset/train/805/25539.jpg  \n",
            "  inflating: ./CelebA_HQ_facial_identity_dataset/train/805/3971.jpg  \n",
            "  inflating: ./CelebA_HQ_facial_identity_dataset/train/805/6159.jpg  \n",
            "  inflating: ./CelebA_HQ_facial_identity_dataset/train/805/6264.jpg  \n",
            "   creating: ./CelebA_HQ_facial_identity_dataset/train/812/\n",
            "  inflating: ./CelebA_HQ_facial_identity_dataset/train/812/1205.jpg  \n",
            "  inflating: ./CelebA_HQ_facial_identity_dataset/train/812/12704.jpg  \n",
            "  inflating: ./CelebA_HQ_facial_identity_dataset/train/812/13694.jpg  \n",
            "  inflating: ./CelebA_HQ_facial_identity_dataset/train/812/15095.jpg  \n",
            "  inflating: ./CelebA_HQ_facial_identity_dataset/train/812/17726.jpg  \n",
            "  inflating: ./CelebA_HQ_facial_identity_dataset/train/812/18530.jpg  \n",
            "  inflating: ./CelebA_HQ_facial_identity_dataset/train/812/2107.jpg  \n",
            "  inflating: ./CelebA_HQ_facial_identity_dataset/train/812/27819.jpg  \n",
            "  inflating: ./CelebA_HQ_facial_identity_dataset/train/812/28243.jpg  \n",
            "  inflating: ./CelebA_HQ_facial_identity_dataset/train/812/3165.jpg  \n",
            "  inflating: ./CelebA_HQ_facial_identity_dataset/train/812/4240.jpg  \n",
            "  inflating: ./CelebA_HQ_facial_identity_dataset/train/812/4462.jpg  \n",
            "  inflating: ./CelebA_HQ_facial_identity_dataset/train/812/4891.jpg  \n",
            "  inflating: ./CelebA_HQ_facial_identity_dataset/train/812/5509.jpg  \n",
            "  inflating: ./CelebA_HQ_facial_identity_dataset/train/812/6757.jpg  \n",
            "   creating: ./CelebA_HQ_facial_identity_dataset/train/816/\n",
            "  inflating: ./CelebA_HQ_facial_identity_dataset/train/816/11650.jpg  \n",
            "  inflating: ./CelebA_HQ_facial_identity_dataset/train/816/1211.jpg  \n",
            "  inflating: ./CelebA_HQ_facial_identity_dataset/train/816/14022.jpg  \n",
            "  inflating: ./CelebA_HQ_facial_identity_dataset/train/816/17086.jpg  \n",
            "  inflating: ./CelebA_HQ_facial_identity_dataset/train/816/2007.jpg  \n",
            "  inflating: ./CelebA_HQ_facial_identity_dataset/train/816/22369.jpg  \n",
            "  inflating: ./CelebA_HQ_facial_identity_dataset/train/816/25439.jpg  \n",
            "  inflating: ./CelebA_HQ_facial_identity_dataset/train/816/2689.jpg  \n",
            "  inflating: ./CelebA_HQ_facial_identity_dataset/train/816/29471.jpg  \n",
            "  inflating: ./CelebA_HQ_facial_identity_dataset/train/816/4278.jpg  \n",
            "  inflating: ./CelebA_HQ_facial_identity_dataset/train/816/4676.jpg  \n",
            "  inflating: ./CelebA_HQ_facial_identity_dataset/train/816/4840.jpg  \n",
            "  inflating: ./CelebA_HQ_facial_identity_dataset/train/816/6147.jpg  \n",
            "   creating: ./CelebA_HQ_facial_identity_dataset/train/817/\n",
            "  inflating: ./CelebA_HQ_facial_identity_dataset/train/817/10946.jpg  \n",
            "  inflating: ./CelebA_HQ_facial_identity_dataset/train/817/1212.jpg  \n",
            "  inflating: ./CelebA_HQ_facial_identity_dataset/train/817/12639.jpg  \n",
            "  inflating: ./CelebA_HQ_facial_identity_dataset/train/817/1337.jpg  \n",
            "  inflating: ./CelebA_HQ_facial_identity_dataset/train/817/15335.jpg  \n",
            "  inflating: ./CelebA_HQ_facial_identity_dataset/train/817/16115.jpg  \n",
            "  inflating: ./CelebA_HQ_facial_identity_dataset/train/817/16698.jpg  \n",
            "  inflating: ./CelebA_HQ_facial_identity_dataset/train/817/16961.jpg  \n",
            "  inflating: ./CelebA_HQ_facial_identity_dataset/train/817/17943.jpg  \n",
            "  inflating: ./CelebA_HQ_facial_identity_dataset/train/817/18058.jpg  \n",
            "  inflating: ./CelebA_HQ_facial_identity_dataset/train/817/2008.jpg  \n",
            "  inflating: ./CelebA_HQ_facial_identity_dataset/train/817/25009.jpg  \n",
            "  inflating: ./CelebA_HQ_facial_identity_dataset/train/817/25519.jpg  \n",
            "  inflating: ./CelebA_HQ_facial_identity_dataset/train/817/3495.jpg  \n",
            "  inflating: ./CelebA_HQ_facial_identity_dataset/train/817/3695.jpg  \n",
            "  inflating: ./CelebA_HQ_facial_identity_dataset/train/817/3903.jpg  \n",
            "   creating: ./CelebA_HQ_facial_identity_dataset/train/820/\n",
            "  inflating: ./CelebA_HQ_facial_identity_dataset/train/820/12070.jpg  \n",
            "  inflating: ./CelebA_HQ_facial_identity_dataset/train/820/1222.jpg  \n",
            "  inflating: ./CelebA_HQ_facial_identity_dataset/train/820/16755.jpg  \n",
            "  inflating: ./CelebA_HQ_facial_identity_dataset/train/820/17797.jpg  \n",
            "  inflating: ./CelebA_HQ_facial_identity_dataset/train/820/18274.jpg  \n",
            "  inflating: ./CelebA_HQ_facial_identity_dataset/train/820/19288.jpg  \n",
            "  inflating: ./CelebA_HQ_facial_identity_dataset/train/820/1946.jpg  \n",
            "  inflating: ./CelebA_HQ_facial_identity_dataset/train/820/19913.jpg  \n",
            "  inflating: ./CelebA_HQ_facial_identity_dataset/train/820/22011.jpg  \n",
            "  inflating: ./CelebA_HQ_facial_identity_dataset/train/820/22522.jpg  \n",
            "  inflating: ./CelebA_HQ_facial_identity_dataset/train/820/24525.jpg  \n",
            "  inflating: ./CelebA_HQ_facial_identity_dataset/train/820/25030.jpg  \n",
            "   creating: ./CelebA_HQ_facial_identity_dataset/train/840/\n",
            "  inflating: ./CelebA_HQ_facial_identity_dataset/train/840/10733.jpg  \n",
            "  inflating: ./CelebA_HQ_facial_identity_dataset/train/840/1250.jpg  \n",
            "  inflating: ./CelebA_HQ_facial_identity_dataset/train/840/1490.jpg  \n",
            "  inflating: ./CelebA_HQ_facial_identity_dataset/train/840/1540.jpg  \n",
            "  inflating: ./CelebA_HQ_facial_identity_dataset/train/840/15845.jpg  \n",
            "  inflating: ./CelebA_HQ_facial_identity_dataset/train/840/16848.jpg  \n",
            "  inflating: ./CelebA_HQ_facial_identity_dataset/train/840/19140.jpg  \n",
            "  inflating: ./CelebA_HQ_facial_identity_dataset/train/840/2181.jpg  \n",
            "  inflating: ./CelebA_HQ_facial_identity_dataset/train/840/29046.jpg  \n",
            "  inflating: ./CelebA_HQ_facial_identity_dataset/train/840/2924.jpg  \n",
            "  inflating: ./CelebA_HQ_facial_identity_dataset/train/840/3325.jpg  \n",
            "  inflating: ./CelebA_HQ_facial_identity_dataset/train/840/4115.jpg  \n",
            "  inflating: ./CelebA_HQ_facial_identity_dataset/train/840/4285.jpg  \n",
            "  inflating: ./CelebA_HQ_facial_identity_dataset/train/840/4615.jpg  \n",
            "  inflating: ./CelebA_HQ_facial_identity_dataset/train/840/4901.jpg  \n",
            "   creating: ./CelebA_HQ_facial_identity_dataset/train/841/\n",
            "  inflating: ./CelebA_HQ_facial_identity_dataset/train/841/11129.jpg  \n",
            "  inflating: ./CelebA_HQ_facial_identity_dataset/train/841/1252.jpg  \n",
            "  inflating: ./CelebA_HQ_facial_identity_dataset/train/841/12626.jpg  \n",
            "  inflating: ./CelebA_HQ_facial_identity_dataset/train/841/13429.jpg  \n",
            "  inflating: ./CelebA_HQ_facial_identity_dataset/train/841/19712.jpg  \n",
            "  inflating: ./CelebA_HQ_facial_identity_dataset/train/841/20279.jpg  \n",
            "  inflating: ./CelebA_HQ_facial_identity_dataset/train/841/20989.jpg  \n",
            "  inflating: ./CelebA_HQ_facial_identity_dataset/train/841/24314.jpg  \n",
            "  inflating: ./CelebA_HQ_facial_identity_dataset/train/841/25076.jpg  \n",
            "  inflating: ./CelebA_HQ_facial_identity_dataset/train/841/27597.jpg  \n",
            "  inflating: ./CelebA_HQ_facial_identity_dataset/train/841/2912.jpg  \n",
            "  inflating: ./CelebA_HQ_facial_identity_dataset/train/841/4030.jpg  \n",
            "   creating: ./CelebA_HQ_facial_identity_dataset/train/845/\n",
            "  inflating: ./CelebA_HQ_facial_identity_dataset/train/845/10882.jpg  \n",
            "  inflating: ./CelebA_HQ_facial_identity_dataset/train/845/1257.jpg  \n",
            "  inflating: ./CelebA_HQ_facial_identity_dataset/train/845/13856.jpg  \n",
            "  inflating: ./CelebA_HQ_facial_identity_dataset/train/845/1512.jpg  \n",
            "  inflating: ./CelebA_HQ_facial_identity_dataset/train/845/1828.jpg  \n",
            "  inflating: ./CelebA_HQ_facial_identity_dataset/train/845/2243.jpg  \n",
            "  inflating: ./CelebA_HQ_facial_identity_dataset/train/845/23752.jpg  \n",
            "  inflating: ./CelebA_HQ_facial_identity_dataset/train/845/3997.jpg  \n",
            "  inflating: ./CelebA_HQ_facial_identity_dataset/train/845/4757.jpg  \n",
            "  inflating: ./CelebA_HQ_facial_identity_dataset/train/845/4874.jpg  \n",
            "  inflating: ./CelebA_HQ_facial_identity_dataset/train/845/4898.jpg  \n",
            "  inflating: ./CelebA_HQ_facial_identity_dataset/train/845/5375.jpg  \n",
            "  inflating: ./CelebA_HQ_facial_identity_dataset/train/845/6277.jpg  \n",
            "   creating: ./CelebA_HQ_facial_identity_dataset/train/846/\n",
            "  inflating: ./CelebA_HQ_facial_identity_dataset/train/846/11208.jpg  \n",
            "  inflating: ./CelebA_HQ_facial_identity_dataset/train/846/1259.jpg  \n",
            "  inflating: ./CelebA_HQ_facial_identity_dataset/train/846/14238.jpg  \n",
            "  inflating: ./CelebA_HQ_facial_identity_dataset/train/846/16724.jpg  \n",
            "  inflating: ./CelebA_HQ_facial_identity_dataset/train/846/16912.jpg  \n",
            "  inflating: ./CelebA_HQ_facial_identity_dataset/train/846/1786.jpg  \n",
            "  inflating: ./CelebA_HQ_facial_identity_dataset/train/846/20402.jpg  \n",
            "  inflating: ./CelebA_HQ_facial_identity_dataset/train/846/20699.jpg  \n",
            "  inflating: ./CelebA_HQ_facial_identity_dataset/train/846/21026.jpg  \n",
            "  inflating: ./CelebA_HQ_facial_identity_dataset/train/846/2161.jpg  \n",
            "  inflating: ./CelebA_HQ_facial_identity_dataset/train/846/25240.jpg  \n",
            "  inflating: ./CelebA_HQ_facial_identity_dataset/train/846/3035.jpg  \n",
            "  inflating: ./CelebA_HQ_facial_identity_dataset/train/846/3241.jpg  \n",
            "  inflating: ./CelebA_HQ_facial_identity_dataset/train/846/3411.jpg  \n",
            "  inflating: ./CelebA_HQ_facial_identity_dataset/train/846/3730.jpg  \n",
            "  inflating: ./CelebA_HQ_facial_identity_dataset/train/846/3793.jpg  \n",
            "  inflating: ./CelebA_HQ_facial_identity_dataset/train/846/4274.jpg  \n",
            "  inflating: ./CelebA_HQ_facial_identity_dataset/train/846/4881.jpg  \n",
            "   creating: ./CelebA_HQ_facial_identity_dataset/train/847/\n",
            "  inflating: ./CelebA_HQ_facial_identity_dataset/train/847/1260.jpg  \n",
            "  inflating: ./CelebA_HQ_facial_identity_dataset/train/847/13665.jpg  \n",
            "  inflating: ./CelebA_HQ_facial_identity_dataset/train/847/15072.jpg  \n",
            "  inflating: ./CelebA_HQ_facial_identity_dataset/train/847/16212.jpg  \n",
            "  inflating: ./CelebA_HQ_facial_identity_dataset/train/847/16276.jpg  \n",
            "  inflating: ./CelebA_HQ_facial_identity_dataset/train/847/16432.jpg  \n",
            "  inflating: ./CelebA_HQ_facial_identity_dataset/train/847/20716.jpg  \n",
            "  inflating: ./CelebA_HQ_facial_identity_dataset/train/847/23171.jpg  \n",
            "  inflating: ./CelebA_HQ_facial_identity_dataset/train/847/2779.jpg  \n",
            "  inflating: ./CelebA_HQ_facial_identity_dataset/train/847/4786.jpg  \n",
            "  inflating: ./CelebA_HQ_facial_identity_dataset/train/847/6584.jpg  \n",
            "  inflating: ./CelebA_HQ_facial_identity_dataset/train/847/8098.jpg  \n",
            "   creating: ./CelebA_HQ_facial_identity_dataset/train/848/\n",
            "  inflating: ./CelebA_HQ_facial_identity_dataset/train/848/1261.jpg  \n",
            "  inflating: ./CelebA_HQ_facial_identity_dataset/train/848/1433.jpg  \n",
            "  inflating: ./CelebA_HQ_facial_identity_dataset/train/848/15150.jpg  \n",
            "  inflating: ./CelebA_HQ_facial_identity_dataset/train/848/15408.jpg  \n",
            "  inflating: ./CelebA_HQ_facial_identity_dataset/train/848/16372.jpg  \n",
            "  inflating: ./CelebA_HQ_facial_identity_dataset/train/848/17456.jpg  \n",
            "  inflating: ./CelebA_HQ_facial_identity_dataset/train/848/2062.jpg  \n",
            "  inflating: ./CelebA_HQ_facial_identity_dataset/train/848/21549.jpg  \n",
            "  inflating: ./CelebA_HQ_facial_identity_dataset/train/848/23747.jpg  \n",
            "  inflating: ./CelebA_HQ_facial_identity_dataset/train/848/2742.jpg  \n",
            "  inflating: ./CelebA_HQ_facial_identity_dataset/train/848/29704.jpg  \n",
            "  inflating: ./CelebA_HQ_facial_identity_dataset/train/848/3292.jpg  \n",
            "  inflating: ./CelebA_HQ_facial_identity_dataset/train/848/3849.jpg  \n",
            "  inflating: ./CelebA_HQ_facial_identity_dataset/train/848/4168.jpg  \n",
            "  inflating: ./CelebA_HQ_facial_identity_dataset/train/848/4659.jpg  \n",
            "   creating: ./CelebA_HQ_facial_identity_dataset/train/851/\n",
            "  inflating: ./CelebA_HQ_facial_identity_dataset/train/851/11491.jpg  \n",
            "  inflating: ./CelebA_HQ_facial_identity_dataset/train/851/12468.jpg  \n",
            "  inflating: ./CelebA_HQ_facial_identity_dataset/train/851/1268.jpg  \n",
            "  inflating: ./CelebA_HQ_facial_identity_dataset/train/851/15317.jpg  \n",
            "  inflating: ./CelebA_HQ_facial_identity_dataset/train/851/16456.jpg  \n",
            "  inflating: ./CelebA_HQ_facial_identity_dataset/train/851/19122.jpg  \n",
            "  inflating: ./CelebA_HQ_facial_identity_dataset/train/851/20388.jpg  \n",
            "  inflating: ./CelebA_HQ_facial_identity_dataset/train/851/21894.jpg  \n",
            "  inflating: ./CelebA_HQ_facial_identity_dataset/train/851/27308.jpg  \n",
            "  inflating: ./CelebA_HQ_facial_identity_dataset/train/851/27474.jpg  \n",
            "  inflating: ./CelebA_HQ_facial_identity_dataset/train/851/2999.jpg  \n",
            "  inflating: ./CelebA_HQ_facial_identity_dataset/train/851/4481.jpg  \n",
            "  inflating: ./CelebA_HQ_facial_identity_dataset/train/851/4536.jpg  \n",
            "   creating: ./CelebA_HQ_facial_identity_dataset/train/858/\n",
            "  inflating: ./CelebA_HQ_facial_identity_dataset/train/858/10041.jpg  \n",
            "  inflating: ./CelebA_HQ_facial_identity_dataset/train/858/10116.jpg  \n",
            "  inflating: ./CelebA_HQ_facial_identity_dataset/train/858/10227.jpg  \n",
            "  inflating: ./CelebA_HQ_facial_identity_dataset/train/858/12184.jpg  \n",
            "  inflating: ./CelebA_HQ_facial_identity_dataset/train/858/1279.jpg  \n",
            "  inflating: ./CelebA_HQ_facial_identity_dataset/train/858/12932.jpg  \n",
            "  inflating: ./CelebA_HQ_facial_identity_dataset/train/858/20247.jpg  \n",
            "  inflating: ./CelebA_HQ_facial_identity_dataset/train/858/20408.jpg  \n",
            "  inflating: ./CelebA_HQ_facial_identity_dataset/train/858/25733.jpg  \n",
            "  inflating: ./CelebA_HQ_facial_identity_dataset/train/858/25763.jpg  \n",
            "  inflating: ./CelebA_HQ_facial_identity_dataset/train/858/26817.jpg  \n",
            "  inflating: ./CelebA_HQ_facial_identity_dataset/train/858/27348.jpg  \n",
            "   creating: ./CelebA_HQ_facial_identity_dataset/train/862/\n",
            "  inflating: ./CelebA_HQ_facial_identity_dataset/train/862/10008.jpg  \n",
            "  inflating: ./CelebA_HQ_facial_identity_dataset/train/862/11990.jpg  \n",
            "  inflating: ./CelebA_HQ_facial_identity_dataset/train/862/1286.jpg  \n",
            "  inflating: ./CelebA_HQ_facial_identity_dataset/train/862/13507.jpg  \n",
            "  inflating: ./CelebA_HQ_facial_identity_dataset/train/862/14892.jpg  \n",
            "  inflating: ./CelebA_HQ_facial_identity_dataset/train/862/17915.jpg  \n",
            "  inflating: ./CelebA_HQ_facial_identity_dataset/train/862/18571.jpg  \n",
            "  inflating: ./CelebA_HQ_facial_identity_dataset/train/862/19864.jpg  \n",
            "  inflating: ./CelebA_HQ_facial_identity_dataset/train/862/2395.jpg  \n",
            "  inflating: ./CelebA_HQ_facial_identity_dataset/train/862/24296.jpg  \n",
            "  inflating: ./CelebA_HQ_facial_identity_dataset/train/862/4098.jpg  \n",
            "  inflating: ./CelebA_HQ_facial_identity_dataset/train/862/4543.jpg  \n",
            "   creating: ./CelebA_HQ_facial_identity_dataset/train/864/\n",
            "  inflating: ./CelebA_HQ_facial_identity_dataset/train/864/11115.jpg  \n",
            "  inflating: ./CelebA_HQ_facial_identity_dataset/train/864/1291.jpg  \n",
            "  inflating: ./CelebA_HQ_facial_identity_dataset/train/864/14172.jpg  \n",
            "  inflating: ./CelebA_HQ_facial_identity_dataset/train/864/14565.jpg  \n",
            "  inflating: ./CelebA_HQ_facial_identity_dataset/train/864/1558.jpg  \n",
            "  inflating: ./CelebA_HQ_facial_identity_dataset/train/864/16183.jpg  \n",
            "  inflating: ./CelebA_HQ_facial_identity_dataset/train/864/18173.jpg  \n",
            "  inflating: ./CelebA_HQ_facial_identity_dataset/train/864/19702.jpg  \n",
            "  inflating: ./CelebA_HQ_facial_identity_dataset/train/864/20109.jpg  \n",
            "  inflating: ./CelebA_HQ_facial_identity_dataset/train/864/26354.jpg  \n",
            "  inflating: ./CelebA_HQ_facial_identity_dataset/train/864/28461.jpg  \n",
            "  inflating: ./CelebA_HQ_facial_identity_dataset/train/864/3081.jpg  \n",
            "   creating: ./CelebA_HQ_facial_identity_dataset/train/870/\n",
            "  inflating: ./CelebA_HQ_facial_identity_dataset/train/870/11971.jpg  \n",
            "  inflating: ./CelebA_HQ_facial_identity_dataset/train/870/12121.jpg  \n",
            "  inflating: ./CelebA_HQ_facial_identity_dataset/train/870/12131.jpg  \n",
            "  inflating: ./CelebA_HQ_facial_identity_dataset/train/870/1304.jpg  \n",
            "  inflating: ./CelebA_HQ_facial_identity_dataset/train/870/13966.jpg  \n",
            "  inflating: ./CelebA_HQ_facial_identity_dataset/train/870/15484.jpg  \n",
            "  inflating: ./CelebA_HQ_facial_identity_dataset/train/870/18035.jpg  \n",
            "  inflating: ./CelebA_HQ_facial_identity_dataset/train/870/1831.jpg  \n",
            "  inflating: ./CelebA_HQ_facial_identity_dataset/train/870/18359.jpg  \n",
            "  inflating: ./CelebA_HQ_facial_identity_dataset/train/870/20154.jpg  \n",
            "  inflating: ./CelebA_HQ_facial_identity_dataset/train/870/23796.jpg  \n",
            "  inflating: ./CelebA_HQ_facial_identity_dataset/train/870/3106.jpg  \n",
            "  inflating: ./CelebA_HQ_facial_identity_dataset/train/870/3124.jpg  \n",
            "  inflating: ./CelebA_HQ_facial_identity_dataset/train/870/3318.jpg  \n",
            "   creating: ./CelebA_HQ_facial_identity_dataset/train/872/\n",
            "  inflating: ./CelebA_HQ_facial_identity_dataset/train/872/10287.jpg  \n",
            "  inflating: ./CelebA_HQ_facial_identity_dataset/train/872/10795.jpg  \n",
            "  inflating: ./CelebA_HQ_facial_identity_dataset/train/872/13043.jpg  \n",
            "  inflating: ./CelebA_HQ_facial_identity_dataset/train/872/1310.jpg  \n",
            "  inflating: ./CelebA_HQ_facial_identity_dataset/train/872/1606.jpg  \n",
            "  inflating: ./CelebA_HQ_facial_identity_dataset/train/872/17031.jpg  \n",
            "  inflating: ./CelebA_HQ_facial_identity_dataset/train/872/17374.jpg  \n",
            "  inflating: ./CelebA_HQ_facial_identity_dataset/train/872/17618.jpg  \n",
            "  inflating: ./CelebA_HQ_facial_identity_dataset/train/872/18428.jpg  \n",
            "  inflating: ./CelebA_HQ_facial_identity_dataset/train/872/18819.jpg  \n",
            "  inflating: ./CelebA_HQ_facial_identity_dataset/train/872/24770.jpg  \n",
            "  inflating: ./CelebA_HQ_facial_identity_dataset/train/872/27480.jpg  \n",
            "  inflating: ./CelebA_HQ_facial_identity_dataset/train/872/4288.jpg  \n",
            "  inflating: ./CelebA_HQ_facial_identity_dataset/train/872/4823.jpg  \n",
            "  inflating: ./CelebA_HQ_facial_identity_dataset/train/872/4848.jpg  \n",
            "  inflating: ./CelebA_HQ_facial_identity_dataset/train/872/5107.jpg  \n",
            "   creating: ./CelebA_HQ_facial_identity_dataset/train/878/\n",
            "  inflating: ./CelebA_HQ_facial_identity_dataset/train/878/1323.jpg  \n",
            "  inflating: ./CelebA_HQ_facial_identity_dataset/train/878/16128.jpg  \n",
            "  inflating: ./CelebA_HQ_facial_identity_dataset/train/878/17127.jpg  \n",
            "  inflating: ./CelebA_HQ_facial_identity_dataset/train/878/20934.jpg  \n",
            "  inflating: ./CelebA_HQ_facial_identity_dataset/train/878/21142.jpg  \n",
            "  inflating: ./CelebA_HQ_facial_identity_dataset/train/878/25564.jpg  \n",
            "  inflating: ./CelebA_HQ_facial_identity_dataset/train/878/26451.jpg  \n",
            "  inflating: ./CelebA_HQ_facial_identity_dataset/train/878/3416.jpg  \n",
            "  inflating: ./CelebA_HQ_facial_identity_dataset/train/878/4622.jpg  \n",
            "  inflating: ./CelebA_HQ_facial_identity_dataset/train/878/5717.jpg  \n",
            "  inflating: ./CelebA_HQ_facial_identity_dataset/train/878/5922.jpg  \n",
            "  inflating: ./CelebA_HQ_facial_identity_dataset/train/878/6514.jpg  \n",
            "   creating: ./CelebA_HQ_facial_identity_dataset/train/879/\n",
            "  inflating: ./CelebA_HQ_facial_identity_dataset/train/879/10038.jpg  \n",
            "  inflating: ./CelebA_HQ_facial_identity_dataset/train/879/10552.jpg  \n",
            "  inflating: ./CelebA_HQ_facial_identity_dataset/train/879/10934.jpg  \n",
            "  inflating: ./CelebA_HQ_facial_identity_dataset/train/879/11554.jpg  \n",
            "  inflating: ./CelebA_HQ_facial_identity_dataset/train/879/12190.jpg  \n",
            "  inflating: ./CelebA_HQ_facial_identity_dataset/train/879/1326.jpg  \n",
            "  inflating: ./CelebA_HQ_facial_identity_dataset/train/879/14406.jpg  \n",
            "  inflating: ./CelebA_HQ_facial_identity_dataset/train/879/21419.jpg  \n",
            "  inflating: ./CelebA_HQ_facial_identity_dataset/train/879/25700.jpg  \n",
            "  inflating: ./CelebA_HQ_facial_identity_dataset/train/879/6170.jpg  \n",
            "  inflating: ./CelebA_HQ_facial_identity_dataset/train/879/6251.jpg  \n",
            "  inflating: ./CelebA_HQ_facial_identity_dataset/train/879/8077.jpg  \n",
            "   creating: ./CelebA_HQ_facial_identity_dataset/train/882/\n",
            "  inflating: ./CelebA_HQ_facial_identity_dataset/train/882/10931.jpg  \n",
            "  inflating: ./CelebA_HQ_facial_identity_dataset/train/882/11444.jpg  \n",
            "  inflating: ./CelebA_HQ_facial_identity_dataset/train/882/1332.jpg  \n",
            "  inflating: ./CelebA_HQ_facial_identity_dataset/train/882/14322.jpg  \n",
            "  inflating: ./CelebA_HQ_facial_identity_dataset/train/882/1561.jpg  \n",
            "  inflating: ./CelebA_HQ_facial_identity_dataset/train/882/1783.jpg  \n",
            "  inflating: ./CelebA_HQ_facial_identity_dataset/train/882/20572.jpg  \n",
            "  inflating: ./CelebA_HQ_facial_identity_dataset/train/882/2189.jpg  \n",
            "  inflating: ./CelebA_HQ_facial_identity_dataset/train/882/22060.jpg  \n",
            "  inflating: ./CelebA_HQ_facial_identity_dataset/train/882/24967.jpg  \n",
            "  inflating: ./CelebA_HQ_facial_identity_dataset/train/882/3445.jpg  \n",
            "  inflating: ./CelebA_HQ_facial_identity_dataset/train/882/6032.jpg  \n",
            "   creating: ./CelebA_HQ_facial_identity_dataset/train/894/\n",
            "  inflating: ./CelebA_HQ_facial_identity_dataset/train/894/10742.jpg  \n",
            "  inflating: ./CelebA_HQ_facial_identity_dataset/train/894/11873.jpg  \n",
            "  inflating: ./CelebA_HQ_facial_identity_dataset/train/894/13107.jpg  \n",
            "  inflating: ./CelebA_HQ_facial_identity_dataset/train/894/1360.jpg  \n",
            "  inflating: ./CelebA_HQ_facial_identity_dataset/train/894/15866.jpg  \n",
            "  inflating: ./CelebA_HQ_facial_identity_dataset/train/894/19357.jpg  \n",
            "  inflating: ./CelebA_HQ_facial_identity_dataset/train/894/20449.jpg  \n",
            "  inflating: ./CelebA_HQ_facial_identity_dataset/train/894/23366.jpg  \n",
            "  inflating: ./CelebA_HQ_facial_identity_dataset/train/894/2762.jpg  \n",
            "  inflating: ./CelebA_HQ_facial_identity_dataset/train/894/28313.jpg  \n",
            "  inflating: ./CelebA_HQ_facial_identity_dataset/train/894/2900.jpg  \n",
            "  inflating: ./CelebA_HQ_facial_identity_dataset/train/894/3987.jpg  \n",
            "   creating: ./CelebA_HQ_facial_identity_dataset/train/908/\n",
            "  inflating: ./CelebA_HQ_facial_identity_dataset/train/908/10072.jpg  \n",
            "  inflating: ./CelebA_HQ_facial_identity_dataset/train/908/11385.jpg  \n",
            "  inflating: ./CelebA_HQ_facial_identity_dataset/train/908/1387.jpg  \n",
            "  inflating: ./CelebA_HQ_facial_identity_dataset/train/908/14029.jpg  \n",
            "  inflating: ./CelebA_HQ_facial_identity_dataset/train/908/15068.jpg  \n",
            "  inflating: ./CelebA_HQ_facial_identity_dataset/train/908/17742.jpg  \n",
            "  inflating: ./CelebA_HQ_facial_identity_dataset/train/908/20855.jpg  \n",
            "  inflating: ./CelebA_HQ_facial_identity_dataset/train/908/22589.jpg  \n",
            "  inflating: ./CelebA_HQ_facial_identity_dataset/train/908/23993.jpg  \n",
            "  inflating: ./CelebA_HQ_facial_identity_dataset/train/908/2479.jpg  \n",
            "  inflating: ./CelebA_HQ_facial_identity_dataset/train/908/3174.jpg  \n",
            "  inflating: ./CelebA_HQ_facial_identity_dataset/train/908/3786.jpg  \n",
            "   creating: ./CelebA_HQ_facial_identity_dataset/train/934/\n",
            "  inflating: ./CelebA_HQ_facial_identity_dataset/train/934/10125.jpg  \n",
            "  inflating: ./CelebA_HQ_facial_identity_dataset/train/934/14037.jpg  \n",
            "  inflating: ./CelebA_HQ_facial_identity_dataset/train/934/1432.jpg  \n",
            "  inflating: ./CelebA_HQ_facial_identity_dataset/train/934/14693.jpg  \n",
            "  inflating: ./CelebA_HQ_facial_identity_dataset/train/934/15085.jpg  \n",
            "  inflating: ./CelebA_HQ_facial_identity_dataset/train/934/16984.jpg  \n",
            "  inflating: ./CelebA_HQ_facial_identity_dataset/train/934/18794.jpg  \n",
            "  inflating: ./CelebA_HQ_facial_identity_dataset/train/934/19563.jpg  \n",
            "  inflating: ./CelebA_HQ_facial_identity_dataset/train/934/20762.jpg  \n",
            "  inflating: ./CelebA_HQ_facial_identity_dataset/train/934/23105.jpg  \n",
            "  inflating: ./CelebA_HQ_facial_identity_dataset/train/934/23513.jpg  \n",
            "  inflating: ./CelebA_HQ_facial_identity_dataset/train/934/23899.jpg  \n",
            "  inflating: ./CelebA_HQ_facial_identity_dataset/train/934/26086.jpg  \n",
            "  inflating: ./CelebA_HQ_facial_identity_dataset/train/934/29889.jpg  \n",
            "  inflating: ./CelebA_HQ_facial_identity_dataset/train/934/4534.jpg  \n",
            "  inflating: ./CelebA_HQ_facial_identity_dataset/train/934/4994.jpg  \n",
            "   creating: ./CelebA_HQ_facial_identity_dataset/train/945/\n",
            "  inflating: ./CelebA_HQ_facial_identity_dataset/train/945/11516.jpg  \n",
            "  inflating: ./CelebA_HQ_facial_identity_dataset/train/945/13690.jpg  \n",
            "  inflating: ./CelebA_HQ_facial_identity_dataset/train/945/1459.jpg  \n",
            "  inflating: ./CelebA_HQ_facial_identity_dataset/train/945/14945.jpg  \n",
            "  inflating: ./CelebA_HQ_facial_identity_dataset/train/945/15348.jpg  \n",
            "  inflating: ./CelebA_HQ_facial_identity_dataset/train/945/15433.jpg  \n",
            "  inflating: ./CelebA_HQ_facial_identity_dataset/train/945/16897.jpg  \n",
            "  inflating: ./CelebA_HQ_facial_identity_dataset/train/945/21305.jpg  \n",
            "  inflating: ./CelebA_HQ_facial_identity_dataset/train/945/23404.jpg  \n",
            "  inflating: ./CelebA_HQ_facial_identity_dataset/train/945/25986.jpg  \n",
            "  inflating: ./CelebA_HQ_facial_identity_dataset/train/945/26990.jpg  \n",
            "  inflating: ./CelebA_HQ_facial_identity_dataset/train/945/27981.jpg  \n",
            "   creating: ./CelebA_HQ_facial_identity_dataset/train/95/\n",
            "  inflating: ./CelebA_HQ_facial_identity_dataset/train/95/1025.jpg  \n",
            "  inflating: ./CelebA_HQ_facial_identity_dataset/train/95/104.jpg  \n",
            "  inflating: ./CelebA_HQ_facial_identity_dataset/train/95/1163.jpg  \n",
            "  inflating: ./CelebA_HQ_facial_identity_dataset/train/95/1177.jpg  \n",
            "  inflating: ./CelebA_HQ_facial_identity_dataset/train/95/13986.jpg  \n",
            "  inflating: ./CelebA_HQ_facial_identity_dataset/train/95/1413.jpg  \n",
            "  inflating: ./CelebA_HQ_facial_identity_dataset/train/95/1590.jpg  \n",
            "  inflating: ./CelebA_HQ_facial_identity_dataset/train/95/24345.jpg  \n",
            "  inflating: ./CelebA_HQ_facial_identity_dataset/train/95/24805.jpg  \n",
            "  inflating: ./CelebA_HQ_facial_identity_dataset/train/95/28114.jpg  \n",
            "  inflating: ./CelebA_HQ_facial_identity_dataset/train/95/29308.jpg  \n",
            "  inflating: ./CelebA_HQ_facial_identity_dataset/train/95/3998.jpg  \n",
            "  inflating: ./CelebA_HQ_facial_identity_dataset/train/95/4492.jpg  \n",
            "  inflating: ./CelebA_HQ_facial_identity_dataset/train/95/4550.jpg  \n",
            "  inflating: ./CelebA_HQ_facial_identity_dataset/train/95/508.jpg  \n",
            "  inflating: ./CelebA_HQ_facial_identity_dataset/train/95/6905.jpg  \n",
            "   creating: ./CelebA_HQ_facial_identity_dataset/train/952/\n",
            "  inflating: ./CelebA_HQ_facial_identity_dataset/train/952/10013.jpg  \n",
            "  inflating: ./CelebA_HQ_facial_identity_dataset/train/952/10531.jpg  \n",
            "  inflating: ./CelebA_HQ_facial_identity_dataset/train/952/11538.jpg  \n",
            "  inflating: ./CelebA_HQ_facial_identity_dataset/train/952/11767.jpg  \n",
            "  inflating: ./CelebA_HQ_facial_identity_dataset/train/952/12090.jpg  \n",
            "  inflating: ./CelebA_HQ_facial_identity_dataset/train/952/12882.jpg  \n",
            "  inflating: ./CelebA_HQ_facial_identity_dataset/train/952/13655.jpg  \n",
            "  inflating: ./CelebA_HQ_facial_identity_dataset/train/952/1473.jpg  \n",
            "  inflating: ./CelebA_HQ_facial_identity_dataset/train/952/14791.jpg  \n",
            "  inflating: ./CelebA_HQ_facial_identity_dataset/train/952/19765.jpg  \n",
            "  inflating: ./CelebA_HQ_facial_identity_dataset/train/952/23435.jpg  \n",
            "  inflating: ./CelebA_HQ_facial_identity_dataset/train/952/29497.jpg  \n",
            "  inflating: ./CelebA_HQ_facial_identity_dataset/train/952/3422.jpg  \n",
            "  inflating: ./CelebA_HQ_facial_identity_dataset/train/952/4007.jpg  \n",
            "  inflating: ./CelebA_HQ_facial_identity_dataset/train/952/5143.jpg  \n",
            "  inflating: ./CelebA_HQ_facial_identity_dataset/train/952/6151.jpg  \n",
            "   creating: ./CelebA_HQ_facial_identity_dataset/train/953/\n",
            "  inflating: ./CelebA_HQ_facial_identity_dataset/train/953/12819.jpg  \n",
            "  inflating: ./CelebA_HQ_facial_identity_dataset/train/953/1474.jpg  \n",
            "  inflating: ./CelebA_HQ_facial_identity_dataset/train/953/15203.jpg  \n",
            "  inflating: ./CelebA_HQ_facial_identity_dataset/train/953/17839.jpg  \n",
            "  inflating: ./CelebA_HQ_facial_identity_dataset/train/953/20506.jpg  \n",
            "  inflating: ./CelebA_HQ_facial_identity_dataset/train/953/21153.jpg  \n",
            "  inflating: ./CelebA_HQ_facial_identity_dataset/train/953/2236.jpg  \n",
            "  inflating: ./CelebA_HQ_facial_identity_dataset/train/953/22947.jpg  \n",
            "  inflating: ./CelebA_HQ_facial_identity_dataset/train/953/28753.jpg  \n",
            "  inflating: ./CelebA_HQ_facial_identity_dataset/train/953/29391.jpg  \n",
            "  inflating: ./CelebA_HQ_facial_identity_dataset/train/953/3455.jpg  \n",
            "  inflating: ./CelebA_HQ_facial_identity_dataset/train/953/3487.jpg  \n",
            "  inflating: ./CelebA_HQ_facial_identity_dataset/train/953/4458.jpg  \n",
            "   creating: ./CelebA_HQ_facial_identity_dataset/train/956/\n",
            "  inflating: ./CelebA_HQ_facial_identity_dataset/train/956/10373.jpg  \n",
            "  inflating: ./CelebA_HQ_facial_identity_dataset/train/956/10726.jpg  \n",
            "  inflating: ./CelebA_HQ_facial_identity_dataset/train/956/13953.jpg  \n",
            "  inflating: ./CelebA_HQ_facial_identity_dataset/train/956/14654.jpg  \n",
            "  inflating: ./CelebA_HQ_facial_identity_dataset/train/956/1478.jpg  \n",
            "  inflating: ./CelebA_HQ_facial_identity_dataset/train/956/15022.jpg  \n",
            "  inflating: ./CelebA_HQ_facial_identity_dataset/train/956/2132.jpg  \n",
            "  inflating: ./CelebA_HQ_facial_identity_dataset/train/956/2312.jpg  \n",
            "  inflating: ./CelebA_HQ_facial_identity_dataset/train/956/2348.jpg  \n",
            "  inflating: ./CelebA_HQ_facial_identity_dataset/train/956/2349.jpg  \n",
            "  inflating: ./CelebA_HQ_facial_identity_dataset/train/956/2901.jpg  \n",
            "  inflating: ./CelebA_HQ_facial_identity_dataset/train/956/3631.jpg  \n",
            "   creating: ./CelebA_HQ_facial_identity_dataset/train/959/\n",
            "  inflating: ./CelebA_HQ_facial_identity_dataset/train/959/13363.jpg  \n",
            "  inflating: ./CelebA_HQ_facial_identity_dataset/train/959/1482.jpg  \n",
            "  inflating: ./CelebA_HQ_facial_identity_dataset/train/959/16901.jpg  \n",
            "  inflating: ./CelebA_HQ_facial_identity_dataset/train/959/19089.jpg  \n",
            "  inflating: ./CelebA_HQ_facial_identity_dataset/train/959/22637.jpg  \n",
            "  inflating: ./CelebA_HQ_facial_identity_dataset/train/959/23431.jpg  \n",
            "  inflating: ./CelebA_HQ_facial_identity_dataset/train/959/24091.jpg  \n",
            "  inflating: ./CelebA_HQ_facial_identity_dataset/train/959/24572.jpg  \n",
            "  inflating: ./CelebA_HQ_facial_identity_dataset/train/959/27344.jpg  \n",
            "  inflating: ./CelebA_HQ_facial_identity_dataset/train/959/29520.jpg  \n",
            "  inflating: ./CelebA_HQ_facial_identity_dataset/train/959/3541.jpg  \n",
            "  inflating: ./CelebA_HQ_facial_identity_dataset/train/959/5649.jpg  \n",
            "   creating: ./CelebA_HQ_facial_identity_dataset/train/968/\n",
            "  inflating: ./CelebA_HQ_facial_identity_dataset/train/968/11613.jpg  \n",
            "  inflating: ./CelebA_HQ_facial_identity_dataset/train/968/13878.jpg  \n",
            "  inflating: ./CelebA_HQ_facial_identity_dataset/train/968/1501.jpg  \n",
            "  inflating: ./CelebA_HQ_facial_identity_dataset/train/968/19095.jpg  \n",
            "  inflating: ./CelebA_HQ_facial_identity_dataset/train/968/19842.jpg  \n",
            "  inflating: ./CelebA_HQ_facial_identity_dataset/train/968/20227.jpg  \n",
            "  inflating: ./CelebA_HQ_facial_identity_dataset/train/968/22021.jpg  \n",
            "  inflating: ./CelebA_HQ_facial_identity_dataset/train/968/24310.jpg  \n",
            "  inflating: ./CelebA_HQ_facial_identity_dataset/train/968/25395.jpg  \n",
            "  inflating: ./CelebA_HQ_facial_identity_dataset/train/968/26216.jpg  \n",
            "  inflating: ./CelebA_HQ_facial_identity_dataset/train/968/2719.jpg  \n",
            "  inflating: ./CelebA_HQ_facial_identity_dataset/train/968/3037.jpg  \n",
            "  inflating: ./CelebA_HQ_facial_identity_dataset/train/968/3177.jpg  \n",
            "  inflating: ./CelebA_HQ_facial_identity_dataset/train/968/4306.jpg  \n",
            "   creating: ./CelebA_HQ_facial_identity_dataset/train/980/\n",
            "  inflating: ./CelebA_HQ_facial_identity_dataset/train/980/10284.jpg  \n",
            "  inflating: ./CelebA_HQ_facial_identity_dataset/train/980/10873.jpg  \n",
            "  inflating: ./CelebA_HQ_facial_identity_dataset/train/980/12389.jpg  \n",
            "  inflating: ./CelebA_HQ_facial_identity_dataset/train/980/12406.jpg  \n",
            "  inflating: ./CelebA_HQ_facial_identity_dataset/train/980/14749.jpg  \n",
            "  inflating: ./CelebA_HQ_facial_identity_dataset/train/980/15145.jpg  \n",
            "  inflating: ./CelebA_HQ_facial_identity_dataset/train/980/1519.jpg  \n",
            "  inflating: ./CelebA_HQ_facial_identity_dataset/train/980/19545.jpg  \n",
            "  inflating: ./CelebA_HQ_facial_identity_dataset/train/980/20767.jpg  \n",
            "  inflating: ./CelebA_HQ_facial_identity_dataset/train/980/21540.jpg  \n",
            "  inflating: ./CelebA_HQ_facial_identity_dataset/train/980/2182.jpg  \n",
            "  inflating: ./CelebA_HQ_facial_identity_dataset/train/980/24499.jpg  \n",
            "  inflating: ./CelebA_HQ_facial_identity_dataset/train/980/2476.jpg  \n",
            "  inflating: ./CelebA_HQ_facial_identity_dataset/train/980/25835.jpg  \n",
            "   creating: ./CelebA_HQ_facial_identity_dataset/train/982/\n",
            "  inflating: ./CelebA_HQ_facial_identity_dataset/train/982/1521.jpg  \n",
            "  inflating: ./CelebA_HQ_facial_identity_dataset/train/982/20504.jpg  \n",
            "  inflating: ./CelebA_HQ_facial_identity_dataset/train/982/24171.jpg  \n",
            "  inflating: ./CelebA_HQ_facial_identity_dataset/train/982/2726.jpg  \n",
            "  inflating: ./CelebA_HQ_facial_identity_dataset/train/982/28356.jpg  \n",
            "  inflating: ./CelebA_HQ_facial_identity_dataset/train/982/3145.jpg  \n",
            "  inflating: ./CelebA_HQ_facial_identity_dataset/train/982/3434.jpg  \n",
            "  inflating: ./CelebA_HQ_facial_identity_dataset/train/982/3848.jpg  \n",
            "  inflating: ./CelebA_HQ_facial_identity_dataset/train/982/4647.jpg  \n",
            "  inflating: ./CelebA_HQ_facial_identity_dataset/train/982/6044.jpg  \n",
            "  inflating: ./CelebA_HQ_facial_identity_dataset/train/982/7332.jpg  \n",
            "  inflating: ./CelebA_HQ_facial_identity_dataset/train/982/7359.jpg  \n",
            "   creating: ./CelebA_HQ_facial_identity_dataset/train/99/\n",
            "  inflating: ./CelebA_HQ_facial_identity_dataset/train/99/108.jpg  \n",
            "  inflating: ./CelebA_HQ_facial_identity_dataset/train/99/13620.jpg  \n",
            "  inflating: ./CelebA_HQ_facial_identity_dataset/train/99/1417.jpg  \n",
            "  inflating: ./CelebA_HQ_facial_identity_dataset/train/99/1493.jpg  \n",
            "  inflating: ./CelebA_HQ_facial_identity_dataset/train/99/15766.jpg  \n",
            "  inflating: ./CelebA_HQ_facial_identity_dataset/train/99/17404.jpg  \n",
            "  inflating: ./CelebA_HQ_facial_identity_dataset/train/99/26977.jpg  \n",
            "  inflating: ./CelebA_HQ_facial_identity_dataset/train/99/353.jpg  \n",
            "  inflating: ./CelebA_HQ_facial_identity_dataset/train/99/3771.jpg  \n",
            "  inflating: ./CelebA_HQ_facial_identity_dataset/train/99/4368.jpg  \n",
            "  inflating: ./CelebA_HQ_facial_identity_dataset/train/99/5199.jpg  \n",
            "  inflating: ./CelebA_HQ_facial_identity_dataset/train/99/5703.jpg  \n",
            "  inflating: ./CelebA_HQ_facial_identity_dataset/train/99/5875.jpg  \n",
            "   creating: ./CelebA_HQ_facial_identity_dataset/train/993/\n",
            "  inflating: ./CelebA_HQ_facial_identity_dataset/train/993/10176.jpg  \n",
            "  inflating: ./CelebA_HQ_facial_identity_dataset/train/993/12600.jpg  \n",
            "  inflating: ./CelebA_HQ_facial_identity_dataset/train/993/13617.jpg  \n",
            "  inflating: ./CelebA_HQ_facial_identity_dataset/train/993/1551.jpg  \n",
            "  inflating: ./CelebA_HQ_facial_identity_dataset/train/993/16105.jpg  \n",
            "  inflating: ./CelebA_HQ_facial_identity_dataset/train/993/1779.jpg  \n",
            "  inflating: ./CelebA_HQ_facial_identity_dataset/train/993/17923.jpg  \n",
            "  inflating: ./CelebA_HQ_facial_identity_dataset/train/993/1865.jpg  \n",
            "  inflating: ./CelebA_HQ_facial_identity_dataset/train/993/20077.jpg  \n",
            "  inflating: ./CelebA_HQ_facial_identity_dataset/train/993/20768.jpg  \n",
            "  inflating: ./CelebA_HQ_facial_identity_dataset/train/993/29390.jpg  \n",
            "  inflating: ./CelebA_HQ_facial_identity_dataset/train/993/3111.jpg  \n",
            "   creating: ./CelebA_HQ_facial_identity_dataset/train/995/\n",
            "  inflating: ./CelebA_HQ_facial_identity_dataset/train/995/10736.jpg  \n",
            "  inflating: ./CelebA_HQ_facial_identity_dataset/train/995/11027.jpg  \n",
            "  inflating: ./CelebA_HQ_facial_identity_dataset/train/995/1564.jpg  \n",
            "  inflating: ./CelebA_HQ_facial_identity_dataset/train/995/1679.jpg  \n",
            "  inflating: ./CelebA_HQ_facial_identity_dataset/train/995/23833.jpg  \n",
            "  inflating: ./CelebA_HQ_facial_identity_dataset/train/995/24381.jpg  \n",
            "  inflating: ./CelebA_HQ_facial_identity_dataset/train/995/3284.jpg  \n",
            "  inflating: ./CelebA_HQ_facial_identity_dataset/train/995/3397.jpg  \n",
            "  inflating: ./CelebA_HQ_facial_identity_dataset/train/995/3546.jpg  \n",
            "  inflating: ./CelebA_HQ_facial_identity_dataset/train/995/3748.jpg  \n",
            "  inflating: ./CelebA_HQ_facial_identity_dataset/train/995/4401.jpg  \n",
            "  inflating: ./CelebA_HQ_facial_identity_dataset/train/995/4717.jpg  \n"
          ]
        }
      ]
    },
    {
      "cell_type": "code",
      "source": [
        "transforms_train = transforms.Compose([\n",
        "    transforms.Resize((256, 256)),\n",
        "    transforms.RandomHorizontalFlip(), # data augmentation\n",
        "    transforms.ToTensor(),\n",
        "    transforms.Normalize([0.485, 0.456, 0.406], [0.229, 0.224, 0.225]) # normalization\n",
        "])\n",
        "\n",
        "transforms_test = transforms.Compose([\n",
        "    transforms.Resize((256, 256)),\n",
        "    transforms.ToTensor(),\n",
        "    transforms.Normalize([0.485, 0.456, 0.406], [0.229, 0.224, 0.225])\n",
        "])\n"
      ],
      "metadata": {
        "id": "jmR_SfqpHtO9"
      },
      "execution_count": null,
      "outputs": []
    },
    {
      "cell_type": "code",
      "source": [
        "\"\"\"\n",
        "Optuna example that optimizes multi-layer perceptrons using PyTorch.\n",
        "\n",
        "In this example, we optimize the validation accuracy of fashion product recognition using\n",
        "PyTorch and FashionMNIST. We optimize the neural network architecture as well as the optimizer\n",
        "configuration. As it is too time consuming to use the whole FashionMNIST dataset,\n",
        "we here use a small subset of it.\n",
        "\n",
        "\"\"\"\n",
        "device = torch.device('cuda' if torch.cuda.is_available() else 'cpu')\n",
        "DIR = os.getcwd()\n",
        "num_epochs = 5"
      ],
      "metadata": {
        "id": "p6HRGOoIjmnr"
      },
      "execution_count": null,
      "outputs": []
    },
    {
      "cell_type": "code",
      "source": [
        "faceNet = InceptionResnetV1(pretrained='vggface2')\n",
        "faceNet = set_parameter_requires_grad(faceNet, 307) # number of identities = 307 in celebA-HQ subset\n",
        "# new_resnet\n",
        "params_to_update = []\n",
        "for name,param in faceNet.named_parameters():\n",
        "    if param.requires_grad == True:\n",
        "        params_to_update.append(param)\n",
        "        print(\"\\t\",name)"
      ],
      "metadata": {
        "colab": {
          "base_uri": "https://localhost:8080/",
          "height": 84,
          "referenced_widgets": [
            "6429234659b14427a70b9d9db678897d",
            "906d39e8b23045b8948a80d2b6b151eb",
            "31f8033c65b248df8f4d3299fac04a0e",
            "893f415c44e84efbb66aaf6cda4bc4ef",
            "6ffc44d71a2942529dd582d8c712e55f",
            "2f535c15d1754323a05fbc80c8d3f386",
            "a50d122a18214bbb80be0566d55734e4",
            "2f99695343e74d88b846078a83b64a98",
            "8e415bf7c1544e96a38a8a6d6ecf5ff5",
            "1947f1db01914b84a28dd786f79edf71",
            "eee9a595192348878753520d08aefae3"
          ]
        },
        "id": "QuP7vdL3juv0",
        "outputId": "17b34fae-1c5f-45c7-f374-e723e5d7356e"
      },
      "execution_count": null,
      "outputs": [
        {
          "output_type": "display_data",
          "data": {
            "text/plain": [
              "  0%|          | 0.00/107M [00:00<?, ?B/s]"
            ],
            "application/vnd.jupyter.widget-view+json": {
              "version_major": 2,
              "version_minor": 0,
              "model_id": "6429234659b14427a70b9d9db678897d"
            }
          },
          "metadata": {}
        },
        {
          "output_type": "stream",
          "name": "stdout",
          "text": [
            "\t logits.weight\n",
            "\t logits.bias\n"
          ]
        }
      ]
    },
    {
      "cell_type": "code",
      "source": [
        "def get_celeba(batch_size):\n",
        "    data_dir = './CelebA_HQ_facial_identity_dataset'\n",
        "    train_dataset = datasets.ImageFolder(os.path.join(data_dir, 'train'), transforms_train)\n",
        "    val_dataset = datasets.ImageFolder(os.path.join(data_dir, 'test'), transforms_test)\n",
        "\n",
        "    train_dataloader = torch.utils.data.DataLoader(train_dataset, batch_size=batch_size, shuffle=True, num_workers=2)\n",
        "    val_dataloader = torch.utils.data.DataLoader(val_dataset, batch_size=batch_size, shuffle=True, num_workers=2)\n",
        "\n",
        "    print('Train dataset size:', len(train_dataset))\n",
        "    print('Test dataset size:', len(val_dataset))\n",
        "\n",
        "    return train_dataloader, val_dataloader, len(val_dataset)\n",
        "\n",
        "\n",
        "def objective(trial):\n",
        "    global faceNet\n",
        "    global device\n",
        "    # Generate the model.\n",
        "    faceNet = faceNet.to(device)\n",
        "\n",
        "    # Generate the optimizers.\n",
        "    optimizer_name = trial.suggest_categorical(\"optimizer\", [\"Adam\", \"SGD\"])\n",
        "    lr = trial.suggest_float(\"lr\", 1e-5, 1e-1, log=True)\n",
        "    batch_size = trial.suggest_categorical('batch_size', [8, 64])\n",
        "    optimizer = getattr(optim, optimizer_name)(params_to_update, lr=lr)\n",
        "    criterion = nn.CrossEntropyLoss()   \n",
        "    num_epochs = 5\n",
        "    # Get the FashionMNIST dataset.\n",
        "    train_loader, valid_loader, len_val_dataset = get_celeba(batch_size)\n",
        "    n_train_examples = batch_size * 30\n",
        "    n_valid_examples = batch_size * 10\n",
        "    # Training of the model.\n",
        "    for epoch in range(num_epochs):\n",
        "        faceNet.train()\n",
        "        for batch_idx, (inputs, labels) in enumerate(train_loader):\n",
        "            # Limiting training data for faster epochs.\n",
        "            if batch_idx * batch_size >= n_train_examples:\n",
        "                break\n",
        "            inputs, labels = inputs.to(device), labels.to(device)\n",
        "            # forward inputs and get output\n",
        "            optimizer.zero_grad()\n",
        "            outputs = faceNet(inputs)\n",
        "            loss = criterion(outputs, labels)\n",
        "            # get loss value and update the network weights\n",
        "            loss.backward()\n",
        "            optimizer.step()\n",
        "\n",
        "        # Validation of the model.\n",
        "        faceNet.eval()\n",
        "        correct = 0\n",
        "        with torch.no_grad():\n",
        "            for batch_idx, (inputs, labels) in enumerate(valid_loader):\n",
        "                # Limiting validation data.\n",
        "                if batch_idx * batch_size >= n_valid_examples:\n",
        "                    break\n",
        "                inputs, labels = inputs.to(device), labels.to(device)\n",
        "                outputs = faceNet(inputs)\n",
        "                # Get the index of the max log-probability.\n",
        "                _, preds = torch.max(outputs, 1)\n",
        "                correct += torch.sum(preds == labels.data)\n",
        "                # print(f\"batch acc = {torch.sum(preds == labels.data)/batch_size}\")\n",
        "\n",
        "        accuracy = (correct / min(len_val_dataset, n_valid_examples)) *100.\n",
        "        print(f\"accuracy : {accuracy}, epoch = {epoch}\")\n",
        "        trial.report(accuracy, epoch)\n",
        "\n",
        "        # Handle pruning based on the intermediate value.\n",
        "        if trial.should_prune():\n",
        "            raise optuna.exceptions.TrialPruned()\n",
        "\n",
        "    return accuracy\n",
        "\n",
        "    "
      ],
      "metadata": {
        "id": "LXC8-2_V8neW"
      },
      "execution_count": null,
      "outputs": []
    },
    {
      "cell_type": "code",
      "source": [
        "study = optuna.create_study(study_name=\"FaceNet\", direction=\"maximize\", sampler=optuna.samplers.TPESampler())\n",
        "study.optimize(objective, n_trials=100, timeout=6000000)\n",
        "\n",
        "pruned_trials = study.get_trials(deepcopy=False, states=[TrialState.PRUNED])\n",
        "complete_trials = study.get_trials(deepcopy=False, states=[TrialState.COMPLETE])\n",
        "\n",
        "print(\"Study statistics: \")\n",
        "print(\"  Number of finished trials: \", len(study.trials))\n",
        "print(\"  Number of pruned trials: \", len(pruned_trials))\n",
        "print(\"  Number of complete trials: \", len(complete_trials))\n",
        "\n",
        "print(\"Best trial:\")\n",
        "trial = study.best_trial\n",
        "\n",
        "print(\"  Value: \", trial.value)\n",
        "\n",
        "print(\"  Params: \")\n",
        "for key, value in trial.params.items():\n",
        "  print(\"    {}: {}\".format(key, value))\n"
      ],
      "metadata": {
        "colab": {
          "base_uri": "https://localhost:8080/"
        },
        "id": "H-nBHQ0lmncW",
        "outputId": "de7bd0c5-1770-4bb6-95b2-b43cffabcf57"
      },
      "execution_count": null,
      "outputs": [
        {
          "output_type": "stream",
          "name": "stderr",
          "text": [
            "\u001b[32m[I 2023-01-21 21:43:00,545]\u001b[0m A new study created in memory with name: FaceNet\u001b[0m\n"
          ]
        },
        {
          "output_type": "stream",
          "name": "stdout",
          "text": [
            "Train dataset size: 4263\n",
            "Test dataset size: 1215\n",
            "accuracy : 0.0, epoch = 0\n",
            "accuracy : 5.0, epoch = 1\n",
            "accuracy : 2.5, epoch = 2\n",
            "accuracy : 1.25, epoch = 3\n"
          ]
        },
        {
          "output_type": "stream",
          "name": "stderr",
          "text": [
            "\u001b[32m[I 2023-01-21 21:43:33,691]\u001b[0m Trial 0 finished with value: 1.25 and parameters: {'optimizer': 'SGD', 'lr': 0.002467861496294836, 'batch_size': 8}. Best is trial 0 with value: 1.25.\u001b[0m\n"
          ]
        },
        {
          "output_type": "stream",
          "name": "stdout",
          "text": [
            "accuracy : 1.25, epoch = 4\n",
            "Train dataset size: 4263\n",
            "Test dataset size: 1215\n",
            "accuracy : 2.5, epoch = 0\n",
            "accuracy : 2.5, epoch = 1\n",
            "accuracy : 2.5, epoch = 2\n",
            "accuracy : 2.5, epoch = 3\n"
          ]
        },
        {
          "output_type": "stream",
          "name": "stderr",
          "text": [
            "\u001b[32m[I 2023-01-21 21:43:56,056]\u001b[0m Trial 1 finished with value: 0.0 and parameters: {'optimizer': 'Adam', 'lr': 1.7858589263777402e-05, 'batch_size': 8}. Best is trial 0 with value: 1.25.\u001b[0m\n"
          ]
        },
        {
          "output_type": "stream",
          "name": "stdout",
          "text": [
            "accuracy : 0.0, epoch = 4\n",
            "Train dataset size: 4263\n",
            "Test dataset size: 1215\n",
            "accuracy : 78.28125, epoch = 0\n",
            "accuracy : 95.15625, epoch = 1\n",
            "accuracy : 97.34375, epoch = 2\n",
            "accuracy : 96.5625, epoch = 3\n"
          ]
        },
        {
          "output_type": "stream",
          "name": "stderr",
          "text": [
            "\u001b[32m[I 2023-01-21 21:46:36,549]\u001b[0m Trial 2 finished with value: 96.875 and parameters: {'optimizer': 'Adam', 'lr': 0.0017757204037148566, 'batch_size': 64}. Best is trial 2 with value: 96.875.\u001b[0m\n"
          ]
        },
        {
          "output_type": "stream",
          "name": "stdout",
          "text": [
            "accuracy : 96.875, epoch = 4\n",
            "Train dataset size: 4263\n",
            "Test dataset size: 1215\n",
            "accuracy : 93.75, epoch = 0\n",
            "accuracy : 95.0, epoch = 1\n",
            "accuracy : 92.5, epoch = 2\n",
            "accuracy : 97.5, epoch = 3\n"
          ]
        },
        {
          "output_type": "stream",
          "name": "stderr",
          "text": [
            "\u001b[32m[I 2023-01-21 21:46:59,037]\u001b[0m Trial 3 finished with value: 97.5 and parameters: {'optimizer': 'SGD', 'lr': 0.008072163108637793, 'batch_size': 8}. Best is trial 3 with value: 97.5.\u001b[0m\n"
          ]
        },
        {
          "output_type": "stream",
          "name": "stdout",
          "text": [
            "accuracy : 97.5, epoch = 4\n",
            "Train dataset size: 4263\n",
            "Test dataset size: 1215\n",
            "accuracy : 69.0625, epoch = 0\n",
            "accuracy : 82.96875, epoch = 1\n",
            "accuracy : 83.90625, epoch = 2\n",
            "accuracy : 84.0625, epoch = 3\n"
          ]
        },
        {
          "output_type": "stream",
          "name": "stderr",
          "text": [
            "\u001b[32m[I 2023-01-21 21:49:40,773]\u001b[0m Trial 4 finished with value: 87.96875 and parameters: {'optimizer': 'Adam', 'lr': 0.036327173174806764, 'batch_size': 64}. Best is trial 3 with value: 97.5.\u001b[0m\n"
          ]
        },
        {
          "output_type": "stream",
          "name": "stdout",
          "text": [
            "accuracy : 87.96875, epoch = 4\n",
            "Train dataset size: 4263\n",
            "Test dataset size: 1215\n",
            "accuracy : 88.75, epoch = 0\n",
            "accuracy : 73.75, epoch = 1\n",
            "accuracy : 93.75, epoch = 2\n",
            "accuracy : 77.5, epoch = 3\n"
          ]
        },
        {
          "output_type": "stream",
          "name": "stderr",
          "text": [
            "\u001b[32m[I 2023-01-21 21:50:03,145]\u001b[0m Trial 5 finished with value: 87.5 and parameters: {'optimizer': 'SGD', 'lr': 1.2794440909392363e-05, 'batch_size': 8}. Best is trial 3 with value: 97.5.\u001b[0m\n"
          ]
        },
        {
          "output_type": "stream",
          "name": "stdout",
          "text": [
            "accuracy : 87.5, epoch = 4\n",
            "Train dataset size: 4263\n",
            "Test dataset size: 1215\n",
            "accuracy : 88.90625, epoch = 0\n",
            "accuracy : 88.125, epoch = 1\n",
            "accuracy : 89.84375, epoch = 2\n",
            "accuracy : 87.65625, epoch = 3\n"
          ]
        },
        {
          "output_type": "stream",
          "name": "stderr",
          "text": [
            "\u001b[32m[I 2023-01-21 21:52:46,452]\u001b[0m Trial 6 finished with value: 88.75 and parameters: {'optimizer': 'Adam', 'lr': 0.00010569859156716665, 'batch_size': 64}. Best is trial 3 with value: 97.5.\u001b[0m\n"
          ]
        },
        {
          "output_type": "stream",
          "name": "stdout",
          "text": [
            "accuracy : 88.75, epoch = 4\n",
            "Train dataset size: 4263\n",
            "Test dataset size: 1215\n",
            "accuracy : 89.84375, epoch = 0\n",
            "accuracy : 88.59375, epoch = 1\n",
            "accuracy : 87.96875, epoch = 2\n",
            "accuracy : 89.0625, epoch = 3\n"
          ]
        },
        {
          "output_type": "stream",
          "name": "stderr",
          "text": [
            "\u001b[32m[I 2023-01-21 21:55:30,830]\u001b[0m Trial 7 finished with value: 88.125 and parameters: {'optimizer': 'SGD', 'lr': 3.637449958165503e-05, 'batch_size': 64}. Best is trial 3 with value: 97.5.\u001b[0m\n"
          ]
        },
        {
          "output_type": "stream",
          "name": "stdout",
          "text": [
            "accuracy : 88.125, epoch = 4\n",
            "Train dataset size: 4263\n",
            "Test dataset size: 1215\n"
          ]
        },
        {
          "output_type": "stream",
          "name": "stderr",
          "text": [
            "\u001b[32m[I 2023-01-21 21:55:35,415]\u001b[0m Trial 8 pruned. \u001b[0m\n"
          ]
        },
        {
          "output_type": "stream",
          "name": "stdout",
          "text": [
            "accuracy : 60.000003814697266, epoch = 0\n",
            "Train dataset size: 4263\n",
            "Test dataset size: 1215\n",
            "accuracy : 89.53125, epoch = 0\n",
            "accuracy : 90.15625, epoch = 1\n",
            "accuracy : 91.875, epoch = 2\n",
            "accuracy : 92.5, epoch = 3\n"
          ]
        },
        {
          "output_type": "stream",
          "name": "stderr",
          "text": [
            "\u001b[32m[I 2023-01-21 21:58:19,049]\u001b[0m Trial 9 finished with value: 92.03125 and parameters: {'optimizer': 'Adam', 'lr': 0.019064751182869766, 'batch_size': 64}. Best is trial 3 with value: 97.5.\u001b[0m\n"
          ]
        },
        {
          "output_type": "stream",
          "name": "stdout",
          "text": [
            "accuracy : 92.03125, epoch = 4\n",
            "Train dataset size: 4263\n",
            "Test dataset size: 1215\n"
          ]
        },
        {
          "output_type": "stream",
          "name": "stderr",
          "text": [
            "\u001b[32m[I 2023-01-21 21:58:23,616]\u001b[0m Trial 10 pruned. \u001b[0m\n"
          ]
        },
        {
          "output_type": "stream",
          "name": "stdout",
          "text": [
            "accuracy : 86.25, epoch = 0\n",
            "Train dataset size: 4263\n",
            "Test dataset size: 1215\n",
            "accuracy : 91.25, epoch = 0\n",
            "accuracy : 93.90625, epoch = 1\n",
            "accuracy : 91.40625, epoch = 2\n",
            "accuracy : 92.8125, epoch = 3\n"
          ]
        },
        {
          "output_type": "stream",
          "name": "stderr",
          "text": [
            "\u001b[32m[I 2023-01-21 22:01:04,537]\u001b[0m Trial 11 finished with value: 92.96875 and parameters: {'optimizer': 'SGD', 'lr': 0.000838646199373718, 'batch_size': 64}. Best is trial 3 with value: 97.5.\u001b[0m\n"
          ]
        },
        {
          "output_type": "stream",
          "name": "stdout",
          "text": [
            "accuracy : 92.96875, epoch = 4\n",
            "Train dataset size: 4263\n",
            "Test dataset size: 1215\n",
            "accuracy : 90.0, epoch = 0\n",
            "accuracy : 93.75, epoch = 1\n",
            "accuracy : 88.75, epoch = 2\n",
            "accuracy : 91.25, epoch = 3\n"
          ]
        },
        {
          "output_type": "stream",
          "name": "stderr",
          "text": [
            "\u001b[32m[I 2023-01-21 22:01:27,150]\u001b[0m Trial 12 finished with value: 88.75 and parameters: {'optimizer': 'Adam', 'lr': 0.0022626181173430195, 'batch_size': 8}. Best is trial 3 with value: 97.5.\u001b[0m\n"
          ]
        },
        {
          "output_type": "stream",
          "name": "stdout",
          "text": [
            "accuracy : 88.75, epoch = 4\n",
            "Train dataset size: 4263\n",
            "Test dataset size: 1215\n",
            "accuracy : 93.28125, epoch = 0\n",
            "accuracy : 93.90625, epoch = 1\n",
            "accuracy : 92.96875, epoch = 2\n",
            "accuracy : 94.375, epoch = 3\n"
          ]
        },
        {
          "output_type": "stream",
          "name": "stderr",
          "text": [
            "\u001b[32m[I 2023-01-21 22:04:08,082]\u001b[0m Trial 13 finished with value: 92.8125 and parameters: {'optimizer': 'SGD', 'lr': 0.007037753535304146, 'batch_size': 64}. Best is trial 3 with value: 97.5.\u001b[0m\n"
          ]
        },
        {
          "output_type": "stream",
          "name": "stdout",
          "text": [
            "accuracy : 92.8125, epoch = 4\n",
            "Train dataset size: 4263\n",
            "Test dataset size: 1215\n",
            "accuracy : 93.28125, epoch = 0\n",
            "accuracy : 94.0625, epoch = 1\n",
            "accuracy : 93.125, epoch = 2\n",
            "accuracy : 94.84375, epoch = 3\n"
          ]
        },
        {
          "output_type": "stream",
          "name": "stderr",
          "text": [
            "\u001b[32m[I 2023-01-21 22:06:49,469]\u001b[0m Trial 14 finished with value: 93.75 and parameters: {'optimizer': 'Adam', 'lr': 0.00021343343691659079, 'batch_size': 64}. Best is trial 3 with value: 97.5.\u001b[0m\n"
          ]
        },
        {
          "output_type": "stream",
          "name": "stdout",
          "text": [
            "accuracy : 93.75, epoch = 4\n",
            "Train dataset size: 4263\n",
            "Test dataset size: 1215\n",
            "accuracy : 92.5, epoch = 0\n",
            "accuracy : 90.0, epoch = 1\n",
            "accuracy : 85.0, epoch = 2\n",
            "accuracy : 90.0, epoch = 3\n"
          ]
        },
        {
          "output_type": "stream",
          "name": "stderr",
          "text": [
            "\u001b[32m[I 2023-01-21 22:07:12,271]\u001b[0m Trial 15 finished with value: 96.25 and parameters: {'optimizer': 'SGD', 'lr': 0.08388646686487887, 'batch_size': 8}. Best is trial 3 with value: 97.5.\u001b[0m\n"
          ]
        },
        {
          "output_type": "stream",
          "name": "stdout",
          "text": [
            "accuracy : 96.25, epoch = 4\n",
            "Train dataset size: 4263\n",
            "Test dataset size: 1215\n",
            "accuracy : 94.21875, epoch = 0\n",
            "accuracy : 94.375, epoch = 1\n",
            "accuracy : 93.59375, epoch = 2\n",
            "accuracy : 94.53125, epoch = 3\n"
          ]
        },
        {
          "output_type": "stream",
          "name": "stderr",
          "text": [
            "\u001b[32m[I 2023-01-21 22:09:53,809]\u001b[0m Trial 16 finished with value: 93.75 and parameters: {'optimizer': 'Adam', 'lr': 0.0003793390798433101, 'batch_size': 64}. Best is trial 3 with value: 97.5.\u001b[0m\n"
          ]
        },
        {
          "output_type": "stream",
          "name": "stdout",
          "text": [
            "accuracy : 93.75, epoch = 4\n",
            "Train dataset size: 4263\n",
            "Test dataset size: 1215\n"
          ]
        },
        {
          "output_type": "stream",
          "name": "stderr",
          "text": [
            "\u001b[32m[I 2023-01-21 22:09:58,395]\u001b[0m Trial 17 pruned. \u001b[0m\n"
          ]
        },
        {
          "output_type": "stream",
          "name": "stdout",
          "text": [
            "accuracy : 88.75, epoch = 0\n",
            "Train dataset size: 4263\n",
            "Test dataset size: 1215\n",
            "accuracy : 93.59375, epoch = 0\n",
            "accuracy : 93.75, epoch = 1\n",
            "accuracy : 93.75, epoch = 2\n",
            "accuracy : 93.125, epoch = 3\n"
          ]
        },
        {
          "output_type": "stream",
          "name": "stderr",
          "text": [
            "\u001b[32m[I 2023-01-21 22:12:36,928]\u001b[0m Trial 18 finished with value: 94.53125 and parameters: {'optimizer': 'SGD', 'lr': 0.005568501913106916, 'batch_size': 64}. Best is trial 3 with value: 97.5.\u001b[0m\n"
          ]
        },
        {
          "output_type": "stream",
          "name": "stdout",
          "text": [
            "accuracy : 94.53125, epoch = 4\n",
            "Train dataset size: 4263\n",
            "Test dataset size: 1215\n"
          ]
        },
        {
          "output_type": "stream",
          "name": "stderr",
          "text": [
            "\u001b[32m[I 2023-01-21 22:12:41,442]\u001b[0m Trial 19 pruned. \u001b[0m\n"
          ]
        },
        {
          "output_type": "stream",
          "name": "stdout",
          "text": [
            "accuracy : 83.75, epoch = 0\n",
            "Train dataset size: 4263\n",
            "Test dataset size: 1215\n",
            "accuracy : 93.4375, epoch = 0\n",
            "accuracy : 94.375, epoch = 1\n",
            "accuracy : 93.75, epoch = 2\n",
            "accuracy : 93.90625, epoch = 3\n"
          ]
        },
        {
          "output_type": "stream",
          "name": "stderr",
          "text": [
            "\u001b[32m[I 2023-01-21 22:15:20,213]\u001b[0m Trial 20 finished with value: 93.28125 and parameters: {'optimizer': 'SGD', 'lr': 0.0007323446937701829, 'batch_size': 64}. Best is trial 3 with value: 97.5.\u001b[0m\n"
          ]
        },
        {
          "output_type": "stream",
          "name": "stdout",
          "text": [
            "accuracy : 93.28125, epoch = 4\n",
            "Train dataset size: 4263\n",
            "Test dataset size: 1215\n",
            "accuracy : 98.75, epoch = 0\n",
            "accuracy : 92.5, epoch = 1\n",
            "accuracy : 92.5, epoch = 2\n",
            "accuracy : 98.75, epoch = 3\n"
          ]
        },
        {
          "output_type": "stream",
          "name": "stderr",
          "text": [
            "\u001b[32m[I 2023-01-21 22:15:42,390]\u001b[0m Trial 21 finished with value: 90.0 and parameters: {'optimizer': 'SGD', 'lr': 0.08888567532943605, 'batch_size': 8}. Best is trial 3 with value: 97.5.\u001b[0m\n"
          ]
        },
        {
          "output_type": "stream",
          "name": "stdout",
          "text": [
            "accuracy : 90.0, epoch = 4\n",
            "Train dataset size: 4263\n",
            "Test dataset size: 1215\n",
            "accuracy : 95.0, epoch = 0\n",
            "accuracy : 91.25, epoch = 1\n",
            "accuracy : 95.0, epoch = 2\n",
            "accuracy : 96.25, epoch = 3\n"
          ]
        },
        {
          "output_type": "stream",
          "name": "stderr",
          "text": [
            "\u001b[32m[I 2023-01-21 22:16:04,457]\u001b[0m Trial 22 finished with value: 96.25 and parameters: {'optimizer': 'SGD', 'lr': 0.09720541440941441, 'batch_size': 8}. Best is trial 3 with value: 97.5.\u001b[0m\n"
          ]
        },
        {
          "output_type": "stream",
          "name": "stdout",
          "text": [
            "accuracy : 96.25, epoch = 4\n",
            "Train dataset size: 4263\n",
            "Test dataset size: 1215\n",
            "accuracy : 97.5, epoch = 0\n",
            "accuracy : 97.5, epoch = 1\n",
            "accuracy : 90.0, epoch = 2\n",
            "accuracy : 92.5, epoch = 3\n"
          ]
        },
        {
          "output_type": "stream",
          "name": "stderr",
          "text": [
            "\u001b[32m[I 2023-01-21 22:16:26,652]\u001b[0m Trial 23 finished with value: 97.5 and parameters: {'optimizer': 'SGD', 'lr': 0.028230531572354275, 'batch_size': 8}. Best is trial 3 with value: 97.5.\u001b[0m\n"
          ]
        },
        {
          "output_type": "stream",
          "name": "stdout",
          "text": [
            "accuracy : 97.5, epoch = 4\n",
            "Train dataset size: 4263\n",
            "Test dataset size: 1215\n",
            "accuracy : 95.0, epoch = 0\n",
            "accuracy : 92.5, epoch = 1\n",
            "accuracy : 93.75, epoch = 2\n",
            "accuracy : 92.5, epoch = 3\n"
          ]
        },
        {
          "output_type": "stream",
          "name": "stderr",
          "text": [
            "\u001b[32m[I 2023-01-21 22:16:48,790]\u001b[0m Trial 24 finished with value: 95.0 and parameters: {'optimizer': 'SGD', 'lr': 0.0037691900157762388, 'batch_size': 8}. Best is trial 3 with value: 97.5.\u001b[0m\n"
          ]
        },
        {
          "output_type": "stream",
          "name": "stdout",
          "text": [
            "accuracy : 95.0, epoch = 4\n",
            "Train dataset size: 4263\n",
            "Test dataset size: 1215\n",
            "accuracy : 97.5, epoch = 0\n",
            "accuracy : 96.25, epoch = 1\n",
            "accuracy : 87.5, epoch = 2\n",
            "accuracy : 92.5, epoch = 3\n"
          ]
        },
        {
          "output_type": "stream",
          "name": "stderr",
          "text": [
            "\u001b[32m[I 2023-01-21 22:17:10,907]\u001b[0m Trial 25 finished with value: 100.0 and parameters: {'optimizer': 'SGD', 'lr': 0.013545514914041368, 'batch_size': 8}. Best is trial 25 with value: 100.0.\u001b[0m\n"
          ]
        },
        {
          "output_type": "stream",
          "name": "stdout",
          "text": [
            "accuracy : 100.0, epoch = 4\n",
            "Train dataset size: 4263\n",
            "Test dataset size: 1215\n"
          ]
        },
        {
          "output_type": "stream",
          "name": "stderr",
          "text": [
            "\u001b[32m[I 2023-01-21 22:17:15,280]\u001b[0m Trial 26 pruned. \u001b[0m\n"
          ]
        },
        {
          "output_type": "stream",
          "name": "stdout",
          "text": [
            "accuracy : 91.25, epoch = 0\n",
            "Train dataset size: 4263\n",
            "Test dataset size: 1215\n"
          ]
        },
        {
          "output_type": "stream",
          "name": "stderr",
          "text": [
            "\u001b[32m[I 2023-01-21 22:17:19,821]\u001b[0m Trial 27 pruned. \u001b[0m\n"
          ]
        },
        {
          "output_type": "stream",
          "name": "stdout",
          "text": [
            "accuracy : 92.5, epoch = 0\n",
            "Train dataset size: 4263\n",
            "Test dataset size: 1215\n"
          ]
        },
        {
          "output_type": "stream",
          "name": "stderr",
          "text": [
            "\u001b[32m[I 2023-01-21 22:17:24,332]\u001b[0m Trial 28 pruned. \u001b[0m\n"
          ]
        },
        {
          "output_type": "stream",
          "name": "stdout",
          "text": [
            "accuracy : 88.75, epoch = 0\n",
            "Train dataset size: 4263\n",
            "Test dataset size: 1215\n",
            "accuracy : 96.25, epoch = 0\n",
            "accuracy : 85.0, epoch = 1\n",
            "accuracy : 87.5, epoch = 2\n",
            "accuracy : 91.25, epoch = 3\n"
          ]
        },
        {
          "output_type": "stream",
          "name": "stderr",
          "text": [
            "\u001b[32m[I 2023-01-21 22:17:46,864]\u001b[0m Trial 29 finished with value: 93.75 and parameters: {'optimizer': 'SGD', 'lr': 0.01293987464962936, 'batch_size': 8}. Best is trial 25 with value: 100.0.\u001b[0m\n"
          ]
        },
        {
          "output_type": "stream",
          "name": "stdout",
          "text": [
            "accuracy : 93.75, epoch = 4\n",
            "Train dataset size: 4263\n",
            "Test dataset size: 1215\n"
          ]
        },
        {
          "output_type": "stream",
          "name": "stderr",
          "text": [
            "\u001b[32m[I 2023-01-21 22:17:51,280]\u001b[0m Trial 30 pruned. \u001b[0m\n"
          ]
        },
        {
          "output_type": "stream",
          "name": "stdout",
          "text": [
            "accuracy : 86.25, epoch = 0\n",
            "Train dataset size: 4263\n",
            "Test dataset size: 1215\n"
          ]
        },
        {
          "output_type": "stream",
          "name": "stderr",
          "text": [
            "\u001b[32m[I 2023-01-21 22:17:55,669]\u001b[0m Trial 31 pruned. \u001b[0m\n"
          ]
        },
        {
          "output_type": "stream",
          "name": "stdout",
          "text": [
            "accuracy : 88.75, epoch = 0\n",
            "Train dataset size: 4263\n",
            "Test dataset size: 1215\n"
          ]
        },
        {
          "output_type": "stream",
          "name": "stderr",
          "text": [
            "\u001b[32m[I 2023-01-21 22:18:00,215]\u001b[0m Trial 32 pruned. \u001b[0m\n"
          ]
        },
        {
          "output_type": "stream",
          "name": "stdout",
          "text": [
            "accuracy : 92.5, epoch = 0\n",
            "Train dataset size: 4263\n",
            "Test dataset size: 1215\n",
            "accuracy : 93.75, epoch = 0\n",
            "accuracy : 86.25, epoch = 1\n",
            "accuracy : 88.75, epoch = 2\n",
            "accuracy : 92.5, epoch = 3\n"
          ]
        },
        {
          "output_type": "stream",
          "name": "stderr",
          "text": [
            "\u001b[32m[I 2023-01-21 22:18:22,288]\u001b[0m Trial 33 finished with value: 90.0 and parameters: {'optimizer': 'Adam', 'lr': 0.001742243225125455, 'batch_size': 8}. Best is trial 25 with value: 100.0.\u001b[0m\n"
          ]
        },
        {
          "output_type": "stream",
          "name": "stdout",
          "text": [
            "accuracy : 90.0, epoch = 4\n",
            "Train dataset size: 4263\n",
            "Test dataset size: 1215\n"
          ]
        },
        {
          "output_type": "stream",
          "name": "stderr",
          "text": [
            "\u001b[32m[I 2023-01-21 22:18:26,744]\u001b[0m Trial 34 pruned. \u001b[0m\n"
          ]
        },
        {
          "output_type": "stream",
          "name": "stdout",
          "text": [
            "accuracy : 91.25, epoch = 0\n",
            "Train dataset size: 4263\n",
            "Test dataset size: 1215\n"
          ]
        },
        {
          "output_type": "stream",
          "name": "stderr",
          "text": [
            "\u001b[32m[I 2023-01-21 22:18:58,479]\u001b[0m Trial 35 pruned. \u001b[0m\n"
          ]
        },
        {
          "output_type": "stream",
          "name": "stdout",
          "text": [
            "accuracy : 92.34375, epoch = 0\n",
            "Train dataset size: 4263\n",
            "Test dataset size: 1215\n"
          ]
        },
        {
          "output_type": "stream",
          "name": "stderr",
          "text": [
            "\u001b[32m[I 2023-01-21 22:19:03,115]\u001b[0m Trial 36 pruned. \u001b[0m\n"
          ]
        },
        {
          "output_type": "stream",
          "name": "stdout",
          "text": [
            "accuracy : 92.5, epoch = 0\n",
            "Train dataset size: 4263\n",
            "Test dataset size: 1215\n"
          ]
        },
        {
          "output_type": "stream",
          "name": "stderr",
          "text": [
            "\u001b[32m[I 2023-01-21 22:19:35,135]\u001b[0m Trial 37 pruned. \u001b[0m\n"
          ]
        },
        {
          "output_type": "stream",
          "name": "stdout",
          "text": [
            "accuracy : 90.3125, epoch = 0\n",
            "Train dataset size: 4263\n",
            "Test dataset size: 1215\n"
          ]
        },
        {
          "output_type": "stream",
          "name": "stderr",
          "text": [
            "\u001b[32m[I 2023-01-21 22:19:39,609]\u001b[0m Trial 38 pruned. \u001b[0m\n"
          ]
        },
        {
          "output_type": "stream",
          "name": "stdout",
          "text": [
            "accuracy : 86.25, epoch = 0\n",
            "Train dataset size: 4263\n",
            "Test dataset size: 1215\n",
            "accuracy : 94.0625, epoch = 0\n",
            "accuracy : 93.28125, epoch = 1\n",
            "accuracy : 92.1875, epoch = 2\n",
            "accuracy : 95.625, epoch = 3\n"
          ]
        },
        {
          "output_type": "stream",
          "name": "stderr",
          "text": [
            "\u001b[32m[I 2023-01-21 22:22:18,901]\u001b[0m Trial 39 finished with value: 93.4375 and parameters: {'optimizer': 'Adam', 'lr': 0.01445946211087126, 'batch_size': 64}. Best is trial 25 with value: 100.0.\u001b[0m\n"
          ]
        },
        {
          "output_type": "stream",
          "name": "stdout",
          "text": [
            "accuracy : 93.4375, epoch = 4\n",
            "Train dataset size: 4263\n",
            "Test dataset size: 1215\n"
          ]
        },
        {
          "output_type": "stream",
          "name": "stderr",
          "text": [
            "\u001b[32m[I 2023-01-21 22:22:23,264]\u001b[0m Trial 40 pruned. \u001b[0m\n"
          ]
        },
        {
          "output_type": "stream",
          "name": "stdout",
          "text": [
            "accuracy : 88.75, epoch = 0\n",
            "Train dataset size: 4263\n",
            "Test dataset size: 1215\n"
          ]
        },
        {
          "output_type": "stream",
          "name": "stderr",
          "text": [
            "\u001b[32m[I 2023-01-21 22:22:27,926]\u001b[0m Trial 41 pruned. \u001b[0m\n"
          ]
        },
        {
          "output_type": "stream",
          "name": "stdout",
          "text": [
            "accuracy : 85.0, epoch = 0\n",
            "Train dataset size: 4263\n",
            "Test dataset size: 1215\n"
          ]
        },
        {
          "output_type": "stream",
          "name": "stderr",
          "text": [
            "\u001b[32m[I 2023-01-21 22:22:32,363]\u001b[0m Trial 42 pruned. \u001b[0m\n"
          ]
        },
        {
          "output_type": "stream",
          "name": "stdout",
          "text": [
            "accuracy : 91.25, epoch = 0\n",
            "Train dataset size: 4263\n",
            "Test dataset size: 1215\n"
          ]
        },
        {
          "output_type": "stream",
          "name": "stderr",
          "text": [
            "\u001b[32m[I 2023-01-21 22:22:36,881]\u001b[0m Trial 43 pruned. \u001b[0m\n"
          ]
        },
        {
          "output_type": "stream",
          "name": "stdout",
          "text": [
            "accuracy : 91.25, epoch = 0\n",
            "Train dataset size: 4263\n",
            "Test dataset size: 1215\n"
          ]
        },
        {
          "output_type": "stream",
          "name": "stderr",
          "text": [
            "\u001b[32m[I 2023-01-21 22:22:41,547]\u001b[0m Trial 44 pruned. \u001b[0m\n"
          ]
        },
        {
          "output_type": "stream",
          "name": "stdout",
          "text": [
            "accuracy : 90.0, epoch = 0\n",
            "Train dataset size: 4263\n",
            "Test dataset size: 1215\n",
            "accuracy : 94.21875, epoch = 0\n",
            "accuracy : 94.53125, epoch = 1\n",
            "accuracy : 93.125, epoch = 2\n",
            "accuracy : 92.65625, epoch = 3\n"
          ]
        },
        {
          "output_type": "stream",
          "name": "stderr",
          "text": [
            "\u001b[32m[I 2023-01-21 22:25:18,044]\u001b[0m Trial 45 finished with value: 93.75 and parameters: {'optimizer': 'SGD', 'lr': 0.07039332306837291, 'batch_size': 64}. Best is trial 25 with value: 100.0.\u001b[0m\n"
          ]
        },
        {
          "output_type": "stream",
          "name": "stdout",
          "text": [
            "accuracy : 93.75, epoch = 4\n",
            "Train dataset size: 4263\n",
            "Test dataset size: 1215\n",
            "accuracy : 93.75, epoch = 0\n",
            "accuracy : 92.5, epoch = 1\n",
            "accuracy : 96.25, epoch = 2\n",
            "accuracy : 90.0, epoch = 3\n"
          ]
        },
        {
          "output_type": "stream",
          "name": "stderr",
          "text": [
            "\u001b[32m[I 2023-01-21 22:25:40,071]\u001b[0m Trial 46 finished with value: 85.0 and parameters: {'optimizer': 'Adam', 'lr': 0.018165491858149765, 'batch_size': 8}. Best is trial 25 with value: 100.0.\u001b[0m\n"
          ]
        },
        {
          "output_type": "stream",
          "name": "stdout",
          "text": [
            "accuracy : 85.0, epoch = 4\n",
            "Train dataset size: 4263\n",
            "Test dataset size: 1215\n"
          ]
        },
        {
          "output_type": "stream",
          "name": "stderr",
          "text": [
            "\u001b[32m[I 2023-01-21 22:26:11,486]\u001b[0m Trial 47 pruned. \u001b[0m\n"
          ]
        },
        {
          "output_type": "stream",
          "name": "stdout",
          "text": [
            "accuracy : 87.65625, epoch = 0\n",
            "Train dataset size: 4263\n",
            "Test dataset size: 1215\n"
          ]
        },
        {
          "output_type": "stream",
          "name": "stderr",
          "text": [
            "\u001b[32m[I 2023-01-21 22:26:15,900]\u001b[0m Trial 48 pruned. \u001b[0m\n"
          ]
        },
        {
          "output_type": "stream",
          "name": "stdout",
          "text": [
            "accuracy : 86.25, epoch = 0\n",
            "Train dataset size: 4263\n",
            "Test dataset size: 1215\n"
          ]
        },
        {
          "output_type": "stream",
          "name": "stderr",
          "text": [
            "\u001b[32m[I 2023-01-21 22:26:20,373]\u001b[0m Trial 49 pruned. \u001b[0m\n"
          ]
        },
        {
          "output_type": "stream",
          "name": "stdout",
          "text": [
            "accuracy : 91.25, epoch = 0\n",
            "Train dataset size: 4263\n",
            "Test dataset size: 1215\n"
          ]
        },
        {
          "output_type": "stream",
          "name": "stderr",
          "text": [
            "\u001b[32m[I 2023-01-21 22:26:52,399]\u001b[0m Trial 50 pruned. \u001b[0m\n"
          ]
        },
        {
          "output_type": "stream",
          "name": "stdout",
          "text": [
            "accuracy : 91.25, epoch = 0\n",
            "Train dataset size: 4263\n",
            "Test dataset size: 1215\n"
          ]
        },
        {
          "output_type": "stream",
          "name": "stderr",
          "text": [
            "\u001b[32m[I 2023-01-21 22:26:56,824]\u001b[0m Trial 51 pruned. \u001b[0m\n"
          ]
        },
        {
          "output_type": "stream",
          "name": "stdout",
          "text": [
            "accuracy : 90.0, epoch = 0\n",
            "Train dataset size: 4263\n",
            "Test dataset size: 1215\n"
          ]
        },
        {
          "output_type": "stream",
          "name": "stderr",
          "text": [
            "\u001b[32m[I 2023-01-21 22:27:01,203]\u001b[0m Trial 52 pruned. \u001b[0m\n"
          ]
        },
        {
          "output_type": "stream",
          "name": "stdout",
          "text": [
            "accuracy : 86.25, epoch = 0\n",
            "Train dataset size: 4263\n",
            "Test dataset size: 1215\n",
            "accuracy : 93.75, epoch = 0\n",
            "accuracy : 90.0, epoch = 1\n",
            "accuracy : 85.0, epoch = 2\n",
            "accuracy : 87.5, epoch = 3\n"
          ]
        },
        {
          "output_type": "stream",
          "name": "stderr",
          "text": [
            "\u001b[32m[I 2023-01-21 22:27:23,201]\u001b[0m Trial 53 finished with value: 93.75 and parameters: {'optimizer': 'SGD', 'lr': 0.0919788750167509, 'batch_size': 8}. Best is trial 25 with value: 100.0.\u001b[0m\n"
          ]
        },
        {
          "output_type": "stream",
          "name": "stdout",
          "text": [
            "accuracy : 93.75, epoch = 4\n",
            "Train dataset size: 4263\n",
            "Test dataset size: 1215\n"
          ]
        },
        {
          "output_type": "stream",
          "name": "stderr",
          "text": [
            "\u001b[32m[I 2023-01-21 22:27:27,641]\u001b[0m Trial 54 pruned. \u001b[0m\n"
          ]
        },
        {
          "output_type": "stream",
          "name": "stdout",
          "text": [
            "accuracy : 85.0, epoch = 0\n",
            "Train dataset size: 4263\n",
            "Test dataset size: 1215\n"
          ]
        },
        {
          "output_type": "stream",
          "name": "stderr",
          "text": [
            "\u001b[32m[I 2023-01-21 22:27:32,150]\u001b[0m Trial 55 pruned. \u001b[0m\n"
          ]
        },
        {
          "output_type": "stream",
          "name": "stdout",
          "text": [
            "accuracy : 82.5, epoch = 0\n",
            "Train dataset size: 4263\n",
            "Test dataset size: 1215\n"
          ]
        },
        {
          "output_type": "stream",
          "name": "stderr",
          "text": [
            "\u001b[32m[I 2023-01-21 22:27:36,514]\u001b[0m Trial 56 pruned. \u001b[0m\n"
          ]
        },
        {
          "output_type": "stream",
          "name": "stdout",
          "text": [
            "accuracy : 86.25, epoch = 0\n",
            "Train dataset size: 4263\n",
            "Test dataset size: 1215\n"
          ]
        },
        {
          "output_type": "stream",
          "name": "stderr",
          "text": [
            "\u001b[32m[I 2023-01-21 22:28:08,164]\u001b[0m Trial 57 pruned. \u001b[0m\n"
          ]
        },
        {
          "output_type": "stream",
          "name": "stdout",
          "text": [
            "accuracy : 92.65625, epoch = 0\n",
            "Train dataset size: 4263\n",
            "Test dataset size: 1215\n",
            "accuracy : 97.5, epoch = 0\n",
            "accuracy : 90.0, epoch = 1\n",
            "accuracy : 92.5, epoch = 2\n",
            "accuracy : 87.5, epoch = 3\n"
          ]
        },
        {
          "output_type": "stream",
          "name": "stderr",
          "text": [
            "\u001b[32m[I 2023-01-21 22:28:30,244]\u001b[0m Trial 58 finished with value: 87.5 and parameters: {'optimizer': 'SGD', 'lr': 0.018423449034967537, 'batch_size': 8}. Best is trial 25 with value: 100.0.\u001b[0m\n"
          ]
        },
        {
          "output_type": "stream",
          "name": "stdout",
          "text": [
            "accuracy : 87.5, epoch = 4\n",
            "Train dataset size: 4263\n",
            "Test dataset size: 1215\n",
            "accuracy : 93.75, epoch = 0\n",
            "accuracy : 83.75, epoch = 1\n",
            "accuracy : 93.75, epoch = 2\n",
            "accuracy : 96.25, epoch = 3\n"
          ]
        },
        {
          "output_type": "stream",
          "name": "stderr",
          "text": [
            "\u001b[32m[I 2023-01-21 22:28:52,174]\u001b[0m Trial 59 finished with value: 91.25 and parameters: {'optimizer': 'SGD', 'lr': 0.05004724787195135, 'batch_size': 8}. Best is trial 25 with value: 100.0.\u001b[0m\n"
          ]
        },
        {
          "output_type": "stream",
          "name": "stdout",
          "text": [
            "accuracy : 91.25, epoch = 4\n",
            "Train dataset size: 4263\n",
            "Test dataset size: 1215\n"
          ]
        },
        {
          "output_type": "stream",
          "name": "stderr",
          "text": [
            "\u001b[32m[I 2023-01-21 22:28:56,569]\u001b[0m Trial 60 pruned. \u001b[0m\n"
          ]
        },
        {
          "output_type": "stream",
          "name": "stdout",
          "text": [
            "accuracy : 90.0, epoch = 0\n",
            "Train dataset size: 4263\n",
            "Test dataset size: 1215\n",
            "accuracy : 93.75, epoch = 0\n",
            "accuracy : 88.75, epoch = 1\n",
            "accuracy : 88.75, epoch = 2\n",
            "accuracy : 92.5, epoch = 3\n"
          ]
        },
        {
          "output_type": "stream",
          "name": "stderr",
          "text": [
            "\u001b[32m[I 2023-01-21 22:29:18,241]\u001b[0m Trial 61 finished with value: 86.25 and parameters: {'optimizer': 'SGD', 'lr': 0.0035858268597716283, 'batch_size': 8}. Best is trial 25 with value: 100.0.\u001b[0m\n"
          ]
        },
        {
          "output_type": "stream",
          "name": "stdout",
          "text": [
            "accuracy : 86.25, epoch = 4\n",
            "Train dataset size: 4263\n",
            "Test dataset size: 1215\n"
          ]
        },
        {
          "output_type": "stream",
          "name": "stderr",
          "text": [
            "\u001b[32m[I 2023-01-21 22:29:22,752]\u001b[0m Trial 62 pruned. \u001b[0m\n"
          ]
        },
        {
          "output_type": "stream",
          "name": "stdout",
          "text": [
            "accuracy : 88.75, epoch = 0\n",
            "Train dataset size: 4263\n",
            "Test dataset size: 1215\n",
            "accuracy : 95.0, epoch = 0\n",
            "accuracy : 92.5, epoch = 1\n",
            "accuracy : 93.75, epoch = 2\n",
            "accuracy : 88.75, epoch = 3\n"
          ]
        },
        {
          "output_type": "stream",
          "name": "stderr",
          "text": [
            "\u001b[32m[I 2023-01-21 22:29:44,746]\u001b[0m Trial 63 finished with value: 95.0 and parameters: {'optimizer': 'SGD', 'lr': 0.007051527184993093, 'batch_size': 8}. Best is trial 25 with value: 100.0.\u001b[0m\n"
          ]
        },
        {
          "output_type": "stream",
          "name": "stdout",
          "text": [
            "accuracy : 95.0, epoch = 4\n",
            "Train dataset size: 4263\n",
            "Test dataset size: 1215\n",
            "accuracy : 97.5, epoch = 0\n",
            "accuracy : 97.5, epoch = 1\n",
            "accuracy : 92.5, epoch = 2\n",
            "accuracy : 96.25, epoch = 3\n"
          ]
        },
        {
          "output_type": "stream",
          "name": "stderr",
          "text": [
            "\u001b[32m[I 2023-01-21 22:30:06,806]\u001b[0m Trial 64 finished with value: 87.5 and parameters: {'optimizer': 'SGD', 'lr': 0.001798991339905491, 'batch_size': 8}. Best is trial 25 with value: 100.0.\u001b[0m\n"
          ]
        },
        {
          "output_type": "stream",
          "name": "stdout",
          "text": [
            "accuracy : 87.5, epoch = 4\n",
            "Train dataset size: 4263\n",
            "Test dataset size: 1215\n"
          ]
        },
        {
          "output_type": "stream",
          "name": "stderr",
          "text": [
            "\u001b[32m[I 2023-01-21 22:30:11,315]\u001b[0m Trial 65 pruned. \u001b[0m\n"
          ]
        },
        {
          "output_type": "stream",
          "name": "stdout",
          "text": [
            "accuracy : 68.75, epoch = 0\n",
            "Train dataset size: 4263\n",
            "Test dataset size: 1215\n"
          ]
        },
        {
          "output_type": "stream",
          "name": "stderr",
          "text": [
            "\u001b[32m[I 2023-01-21 22:30:42,273]\u001b[0m Trial 66 pruned. \u001b[0m\n"
          ]
        },
        {
          "output_type": "stream",
          "name": "stdout",
          "text": [
            "accuracy : 68.90625, epoch = 0\n",
            "Train dataset size: 4263\n",
            "Test dataset size: 1215\n"
          ]
        },
        {
          "output_type": "stream",
          "name": "stderr",
          "text": [
            "\u001b[32m[I 2023-01-21 22:30:46,644]\u001b[0m Trial 67 pruned. \u001b[0m\n"
          ]
        },
        {
          "output_type": "stream",
          "name": "stdout",
          "text": [
            "accuracy : 65.0, epoch = 0\n",
            "Train dataset size: 4263\n",
            "Test dataset size: 1215\n"
          ]
        },
        {
          "output_type": "stream",
          "name": "stderr",
          "text": [
            "\u001b[32m[I 2023-01-21 22:30:51,034]\u001b[0m Trial 68 pruned. \u001b[0m\n"
          ]
        },
        {
          "output_type": "stream",
          "name": "stdout",
          "text": [
            "accuracy : 71.25, epoch = 0\n",
            "Train dataset size: 4263\n",
            "Test dataset size: 1215\n"
          ]
        },
        {
          "output_type": "stream",
          "name": "stderr",
          "text": [
            "\u001b[32m[I 2023-01-21 22:31:23,170]\u001b[0m Trial 69 pruned. \u001b[0m\n"
          ]
        },
        {
          "output_type": "stream",
          "name": "stdout",
          "text": [
            "accuracy : 70.3125, epoch = 0\n",
            "Train dataset size: 4263\n",
            "Test dataset size: 1215\n"
          ]
        },
        {
          "output_type": "stream",
          "name": "stderr",
          "text": [
            "\u001b[32m[I 2023-01-21 22:31:27,555]\u001b[0m Trial 70 pruned. \u001b[0m\n"
          ]
        },
        {
          "output_type": "stream",
          "name": "stdout",
          "text": [
            "accuracy : 61.25, epoch = 0\n",
            "Train dataset size: 4263\n",
            "Test dataset size: 1215\n"
          ]
        },
        {
          "output_type": "stream",
          "name": "stderr",
          "text": [
            "\u001b[32m[I 2023-01-21 22:31:31,976]\u001b[0m Trial 71 pruned. \u001b[0m\n"
          ]
        },
        {
          "output_type": "stream",
          "name": "stdout",
          "text": [
            "accuracy : 76.25, epoch = 0\n",
            "Train dataset size: 4263\n",
            "Test dataset size: 1215\n"
          ]
        },
        {
          "output_type": "stream",
          "name": "stderr",
          "text": [
            "\u001b[32m[I 2023-01-21 22:31:36,500]\u001b[0m Trial 72 pruned. \u001b[0m\n"
          ]
        },
        {
          "output_type": "stream",
          "name": "stdout",
          "text": [
            "accuracy : 57.5, epoch = 0\n",
            "Train dataset size: 4263\n",
            "Test dataset size: 1215\n"
          ]
        },
        {
          "output_type": "stream",
          "name": "stderr",
          "text": [
            "\u001b[32m[I 2023-01-21 22:31:40,910]\u001b[0m Trial 73 pruned. \u001b[0m\n"
          ]
        },
        {
          "output_type": "stream",
          "name": "stdout",
          "text": [
            "accuracy : 72.5, epoch = 0\n",
            "Train dataset size: 4263\n",
            "Test dataset size: 1215\n"
          ]
        },
        {
          "output_type": "stream",
          "name": "stderr",
          "text": [
            "\u001b[32m[I 2023-01-21 22:31:45,372]\u001b[0m Trial 74 pruned. \u001b[0m\n"
          ]
        },
        {
          "output_type": "stream",
          "name": "stdout",
          "text": [
            "accuracy : 72.5, epoch = 0\n",
            "Train dataset size: 4263\n",
            "Test dataset size: 1215\n"
          ]
        },
        {
          "output_type": "stream",
          "name": "stderr",
          "text": [
            "\u001b[32m[I 2023-01-21 22:31:49,742]\u001b[0m Trial 75 pruned. \u001b[0m\n"
          ]
        },
        {
          "output_type": "stream",
          "name": "stdout",
          "text": [
            "accuracy : 71.25, epoch = 0\n",
            "Train dataset size: 4263\n",
            "Test dataset size: 1215\n"
          ]
        },
        {
          "output_type": "stream",
          "name": "stderr",
          "text": [
            "\u001b[32m[I 2023-01-21 22:31:54,125]\u001b[0m Trial 76 pruned. \u001b[0m\n"
          ]
        },
        {
          "output_type": "stream",
          "name": "stdout",
          "text": [
            "accuracy : 73.75, epoch = 0\n",
            "Train dataset size: 4263\n",
            "Test dataset size: 1215\n"
          ]
        },
        {
          "output_type": "stream",
          "name": "stderr",
          "text": [
            "\u001b[32m[I 2023-01-21 22:31:58,601]\u001b[0m Trial 77 pruned. \u001b[0m\n"
          ]
        },
        {
          "output_type": "stream",
          "name": "stdout",
          "text": [
            "accuracy : 72.5, epoch = 0\n",
            "Train dataset size: 4263\n",
            "Test dataset size: 1215\n"
          ]
        },
        {
          "output_type": "stream",
          "name": "stderr",
          "text": [
            "\u001b[32m[I 2023-01-21 22:32:29,603]\u001b[0m Trial 78 pruned. \u001b[0m\n"
          ]
        },
        {
          "output_type": "stream",
          "name": "stdout",
          "text": [
            "accuracy : 75.15625, epoch = 0\n",
            "Train dataset size: 4263\n",
            "Test dataset size: 1215\n"
          ]
        },
        {
          "output_type": "stream",
          "name": "stderr",
          "text": [
            "\u001b[32m[I 2023-01-21 22:32:34,049]\u001b[0m Trial 79 pruned. \u001b[0m\n"
          ]
        },
        {
          "output_type": "stream",
          "name": "stdout",
          "text": [
            "accuracy : 70.0, epoch = 0\n",
            "Train dataset size: 4263\n",
            "Test dataset size: 1215\n"
          ]
        },
        {
          "output_type": "stream",
          "name": "stderr",
          "text": [
            "\u001b[32m[I 2023-01-21 22:32:38,468]\u001b[0m Trial 80 pruned. \u001b[0m\n"
          ]
        },
        {
          "output_type": "stream",
          "name": "stdout",
          "text": [
            "accuracy : 75.0, epoch = 0\n",
            "Train dataset size: 4263\n",
            "Test dataset size: 1215\n"
          ]
        },
        {
          "output_type": "stream",
          "name": "stderr",
          "text": [
            "\u001b[32m[I 2023-01-21 22:33:09,606]\u001b[0m Trial 81 pruned. \u001b[0m\n"
          ]
        },
        {
          "output_type": "stream",
          "name": "stdout",
          "text": [
            "accuracy : 75.9375, epoch = 0\n",
            "Train dataset size: 4263\n",
            "Test dataset size: 1215\n"
          ]
        },
        {
          "output_type": "stream",
          "name": "stderr",
          "text": [
            "\u001b[32m[I 2023-01-21 22:33:40,713]\u001b[0m Trial 82 pruned. \u001b[0m\n"
          ]
        },
        {
          "output_type": "stream",
          "name": "stdout",
          "text": [
            "accuracy : 76.09375, epoch = 0\n",
            "Train dataset size: 4263\n",
            "Test dataset size: 1215\n"
          ]
        },
        {
          "output_type": "stream",
          "name": "stderr",
          "text": [
            "\u001b[32m[I 2023-01-21 22:34:12,294]\u001b[0m Trial 83 pruned. \u001b[0m\n"
          ]
        },
        {
          "output_type": "stream",
          "name": "stdout",
          "text": [
            "accuracy : 77.1875, epoch = 0\n",
            "Train dataset size: 4263\n",
            "Test dataset size: 1215\n"
          ]
        },
        {
          "output_type": "stream",
          "name": "stderr",
          "text": [
            "\u001b[32m[I 2023-01-21 22:34:43,744]\u001b[0m Trial 84 pruned. \u001b[0m\n"
          ]
        },
        {
          "output_type": "stream",
          "name": "stdout",
          "text": [
            "accuracy : 76.09375, epoch = 0\n",
            "Train dataset size: 4263\n",
            "Test dataset size: 1215\n"
          ]
        },
        {
          "output_type": "stream",
          "name": "stderr",
          "text": [
            "\u001b[32m[I 2023-01-21 22:35:15,690]\u001b[0m Trial 85 pruned. \u001b[0m\n"
          ]
        },
        {
          "output_type": "stream",
          "name": "stdout",
          "text": [
            "accuracy : 86.5625, epoch = 0\n",
            "Train dataset size: 4263\n",
            "Test dataset size: 1215\n"
          ]
        },
        {
          "output_type": "stream",
          "name": "stderr",
          "text": [
            "\u001b[32m[I 2023-01-21 22:35:20,054]\u001b[0m Trial 86 pruned. \u001b[0m\n"
          ]
        },
        {
          "output_type": "stream",
          "name": "stdout",
          "text": [
            "accuracy : 86.25, epoch = 0\n",
            "Train dataset size: 4263\n",
            "Test dataset size: 1215\n"
          ]
        },
        {
          "output_type": "stream",
          "name": "stderr",
          "text": [
            "\u001b[32m[I 2023-01-21 22:35:51,834]\u001b[0m Trial 87 pruned. \u001b[0m\n"
          ]
        },
        {
          "output_type": "stream",
          "name": "stdout",
          "text": [
            "accuracy : 86.25, epoch = 0\n",
            "Train dataset size: 4263\n",
            "Test dataset size: 1215\n",
            "accuracy : 93.75, epoch = 0\n",
            "accuracy : 91.25, epoch = 1\n",
            "accuracy : 78.75, epoch = 2\n",
            "accuracy : 90.0, epoch = 3\n"
          ]
        },
        {
          "output_type": "stream",
          "name": "stderr",
          "text": [
            "\u001b[32m[I 2023-01-21 22:36:13,788]\u001b[0m Trial 88 finished with value: 82.5 and parameters: {'optimizer': 'SGD', 'lr': 0.003085259928243758, 'batch_size': 8}. Best is trial 25 with value: 100.0.\u001b[0m\n"
          ]
        },
        {
          "output_type": "stream",
          "name": "stdout",
          "text": [
            "accuracy : 82.5, epoch = 4\n",
            "Train dataset size: 4263\n",
            "Test dataset size: 1215\n"
          ]
        },
        {
          "output_type": "stream",
          "name": "stderr",
          "text": [
            "\u001b[32m[I 2023-01-21 22:36:18,170]\u001b[0m Trial 89 pruned. \u001b[0m\n"
          ]
        },
        {
          "output_type": "stream",
          "name": "stdout",
          "text": [
            "accuracy : 82.5, epoch = 0\n",
            "Train dataset size: 4263\n",
            "Test dataset size: 1215\n"
          ]
        },
        {
          "output_type": "stream",
          "name": "stderr",
          "text": [
            "\u001b[32m[I 2023-01-21 22:36:22,706]\u001b[0m Trial 90 pruned. \u001b[0m\n"
          ]
        },
        {
          "output_type": "stream",
          "name": "stdout",
          "text": [
            "accuracy : 87.5, epoch = 0\n",
            "Train dataset size: 4263\n",
            "Test dataset size: 1215\n"
          ]
        },
        {
          "output_type": "stream",
          "name": "stderr",
          "text": [
            "\u001b[32m[I 2023-01-21 22:36:53,992]\u001b[0m Trial 91 pruned. \u001b[0m\n"
          ]
        },
        {
          "output_type": "stream",
          "name": "stdout",
          "text": [
            "accuracy : 80.15625, epoch = 0\n",
            "Train dataset size: 4263\n",
            "Test dataset size: 1215\n"
          ]
        },
        {
          "output_type": "stream",
          "name": "stderr",
          "text": [
            "\u001b[32m[I 2023-01-21 22:37:26,451]\u001b[0m Trial 92 pruned. \u001b[0m\n"
          ]
        },
        {
          "output_type": "stream",
          "name": "stdout",
          "text": [
            "accuracy : 80.78125, epoch = 0\n",
            "Train dataset size: 4263\n",
            "Test dataset size: 1215\n"
          ]
        },
        {
          "output_type": "stream",
          "name": "stderr",
          "text": [
            "\u001b[32m[I 2023-01-21 22:37:58,118]\u001b[0m Trial 93 pruned. \u001b[0m\n"
          ]
        },
        {
          "output_type": "stream",
          "name": "stdout",
          "text": [
            "accuracy : 85.46875, epoch = 0\n",
            "Train dataset size: 4263\n",
            "Test dataset size: 1215\n"
          ]
        },
        {
          "output_type": "stream",
          "name": "stderr",
          "text": [
            "\u001b[32m[I 2023-01-21 22:38:29,689]\u001b[0m Trial 94 pruned. \u001b[0m\n"
          ]
        },
        {
          "output_type": "stream",
          "name": "stdout",
          "text": [
            "accuracy : 90.3125, epoch = 0\n",
            "Train dataset size: 4263\n",
            "Test dataset size: 1215\n"
          ]
        },
        {
          "output_type": "stream",
          "name": "stderr",
          "text": [
            "\u001b[32m[I 2023-01-21 22:39:00,977]\u001b[0m Trial 95 pruned. \u001b[0m\n"
          ]
        },
        {
          "output_type": "stream",
          "name": "stdout",
          "text": [
            "accuracy : 87.8125, epoch = 0\n",
            "Train dataset size: 4263\n",
            "Test dataset size: 1215\n"
          ]
        },
        {
          "output_type": "stream",
          "name": "stderr",
          "text": [
            "\u001b[32m[I 2023-01-21 22:39:05,390]\u001b[0m Trial 96 pruned. \u001b[0m\n"
          ]
        },
        {
          "output_type": "stream",
          "name": "stdout",
          "text": [
            "accuracy : 87.5, epoch = 0\n",
            "Train dataset size: 4263\n",
            "Test dataset size: 1215\n"
          ]
        },
        {
          "output_type": "stream",
          "name": "stderr",
          "text": [
            "\u001b[32m[I 2023-01-21 22:39:36,625]\u001b[0m Trial 97 pruned. \u001b[0m\n"
          ]
        },
        {
          "output_type": "stream",
          "name": "stdout",
          "text": [
            "accuracy : 88.59375, epoch = 0\n",
            "Train dataset size: 4263\n",
            "Test dataset size: 1215\n"
          ]
        },
        {
          "output_type": "stream",
          "name": "stderr",
          "text": [
            "\u001b[32m[I 2023-01-21 22:39:41,098]\u001b[0m Trial 98 pruned. \u001b[0m\n"
          ]
        },
        {
          "output_type": "stream",
          "name": "stdout",
          "text": [
            "accuracy : 83.75, epoch = 0\n",
            "Train dataset size: 4263\n",
            "Test dataset size: 1215\n"
          ]
        },
        {
          "output_type": "stream",
          "name": "stderr",
          "text": [
            "\u001b[32m[I 2023-01-21 22:39:45,590]\u001b[0m Trial 99 pruned. \u001b[0m\n"
          ]
        },
        {
          "output_type": "stream",
          "name": "stdout",
          "text": [
            "accuracy : 91.25, epoch = 0\n",
            "Study statistics: \n",
            "  Number of finished trials:  100\n",
            "  Number of pruned trials:  66\n",
            "  Number of complete trials:  34\n",
            "Best trial:\n",
            "  Value:  100.0\n",
            "  Params: \n",
            "    optimizer: SGD\n",
            "    lr: 0.013545514914041368\n",
            "    batch_size: 8\n"
          ]
        }
      ]
    },
    {
      "cell_type": "code",
      "source": [
        "fig = optuna.visualization.plot_param_importances(study)\n",
        "fig.show()"
      ],
      "metadata": {
        "colab": {
          "base_uri": "https://localhost:8080/",
          "height": 542
        },
        "id": "UKlrAleaUUi8",
        "outputId": "fd47af37-1ae6-4304-dc67-d3f2a3bdd669"
      },
      "execution_count": null,
      "outputs": [
        {
          "output_type": "display_data",
          "data": {
            "text/html": [
              "<html>\n",
              "<head><meta charset=\"utf-8\" /></head>\n",
              "<body>\n",
              "    <div>            <script src=\"https://cdnjs.cloudflare.com/ajax/libs/mathjax/2.7.5/MathJax.js?config=TeX-AMS-MML_SVG\"></script><script type=\"text/javascript\">if (window.MathJax) {MathJax.Hub.Config({SVG: {font: \"STIX-Web\"}});}</script>                <script type=\"text/javascript\">window.PlotlyConfig = {MathJaxConfig: 'local'};</script>\n",
              "        <script src=\"https://cdn.plot.ly/plotly-2.8.3.min.js\"></script>                <div id=\"3b6ff088-4860-4ed1-a6a8-af4d3d0d1ce8\" class=\"plotly-graph-div\" style=\"height:525px; width:100%;\"></div>            <script type=\"text/javascript\">                                    window.PLOTLYENV=window.PLOTLYENV || {};                                    if (document.getElementById(\"3b6ff088-4860-4ed1-a6a8-af4d3d0d1ce8\")) {                    Plotly.newPlot(                        \"3b6ff088-4860-4ed1-a6a8-af4d3d0d1ce8\",                        [{\"cliponaxis\":false,\"hovertemplate\":[\"batch_size (CategoricalDistribution): 0.0384309886857329<extra></extra>\",\"optimizer (CategoricalDistribution): 0.14982793028212196<extra></extra>\",\"lr (FloatDistribution): 0.8117410810321452<extra></extra>\"],\"marker\":{\"color\":\"rgb(66,146,198)\"},\"orientation\":\"h\",\"text\":[\"0.04\",\"0.15\",\"0.81\"],\"textposition\":\"outside\",\"x\":[0.0384309886857329,0.14982793028212196,0.8117410810321452],\"y\":[\"batch_size\",\"optimizer\",\"lr\"],\"type\":\"bar\"}],                        {\"showlegend\":false,\"title\":{\"text\":\"Hyperparameter Importances\"},\"xaxis\":{\"title\":{\"text\":\"Importance for Objective Value\"}},\"yaxis\":{\"title\":{\"text\":\"Hyperparameter\"}},\"template\":{\"data\":{\"bar\":[{\"error_x\":{\"color\":\"#2a3f5f\"},\"error_y\":{\"color\":\"#2a3f5f\"},\"marker\":{\"line\":{\"color\":\"#E5ECF6\",\"width\":0.5},\"pattern\":{\"fillmode\":\"overlay\",\"size\":10,\"solidity\":0.2}},\"type\":\"bar\"}],\"barpolar\":[{\"marker\":{\"line\":{\"color\":\"#E5ECF6\",\"width\":0.5},\"pattern\":{\"fillmode\":\"overlay\",\"size\":10,\"solidity\":0.2}},\"type\":\"barpolar\"}],\"carpet\":[{\"aaxis\":{\"endlinecolor\":\"#2a3f5f\",\"gridcolor\":\"white\",\"linecolor\":\"white\",\"minorgridcolor\":\"white\",\"startlinecolor\":\"#2a3f5f\"},\"baxis\":{\"endlinecolor\":\"#2a3f5f\",\"gridcolor\":\"white\",\"linecolor\":\"white\",\"minorgridcolor\":\"white\",\"startlinecolor\":\"#2a3f5f\"},\"type\":\"carpet\"}],\"choropleth\":[{\"colorbar\":{\"outlinewidth\":0,\"ticks\":\"\"},\"type\":\"choropleth\"}],\"contour\":[{\"colorbar\":{\"outlinewidth\":0,\"ticks\":\"\"},\"colorscale\":[[0.0,\"#0d0887\"],[0.1111111111111111,\"#46039f\"],[0.2222222222222222,\"#7201a8\"],[0.3333333333333333,\"#9c179e\"],[0.4444444444444444,\"#bd3786\"],[0.5555555555555556,\"#d8576b\"],[0.6666666666666666,\"#ed7953\"],[0.7777777777777778,\"#fb9f3a\"],[0.8888888888888888,\"#fdca26\"],[1.0,\"#f0f921\"]],\"type\":\"contour\"}],\"contourcarpet\":[{\"colorbar\":{\"outlinewidth\":0,\"ticks\":\"\"},\"type\":\"contourcarpet\"}],\"heatmap\":[{\"colorbar\":{\"outlinewidth\":0,\"ticks\":\"\"},\"colorscale\":[[0.0,\"#0d0887\"],[0.1111111111111111,\"#46039f\"],[0.2222222222222222,\"#7201a8\"],[0.3333333333333333,\"#9c179e\"],[0.4444444444444444,\"#bd3786\"],[0.5555555555555556,\"#d8576b\"],[0.6666666666666666,\"#ed7953\"],[0.7777777777777778,\"#fb9f3a\"],[0.8888888888888888,\"#fdca26\"],[1.0,\"#f0f921\"]],\"type\":\"heatmap\"}],\"heatmapgl\":[{\"colorbar\":{\"outlinewidth\":0,\"ticks\":\"\"},\"colorscale\":[[0.0,\"#0d0887\"],[0.1111111111111111,\"#46039f\"],[0.2222222222222222,\"#7201a8\"],[0.3333333333333333,\"#9c179e\"],[0.4444444444444444,\"#bd3786\"],[0.5555555555555556,\"#d8576b\"],[0.6666666666666666,\"#ed7953\"],[0.7777777777777778,\"#fb9f3a\"],[0.8888888888888888,\"#fdca26\"],[1.0,\"#f0f921\"]],\"type\":\"heatmapgl\"}],\"histogram\":[{\"marker\":{\"pattern\":{\"fillmode\":\"overlay\",\"size\":10,\"solidity\":0.2}},\"type\":\"histogram\"}],\"histogram2d\":[{\"colorbar\":{\"outlinewidth\":0,\"ticks\":\"\"},\"colorscale\":[[0.0,\"#0d0887\"],[0.1111111111111111,\"#46039f\"],[0.2222222222222222,\"#7201a8\"],[0.3333333333333333,\"#9c179e\"],[0.4444444444444444,\"#bd3786\"],[0.5555555555555556,\"#d8576b\"],[0.6666666666666666,\"#ed7953\"],[0.7777777777777778,\"#fb9f3a\"],[0.8888888888888888,\"#fdca26\"],[1.0,\"#f0f921\"]],\"type\":\"histogram2d\"}],\"histogram2dcontour\":[{\"colorbar\":{\"outlinewidth\":0,\"ticks\":\"\"},\"colorscale\":[[0.0,\"#0d0887\"],[0.1111111111111111,\"#46039f\"],[0.2222222222222222,\"#7201a8\"],[0.3333333333333333,\"#9c179e\"],[0.4444444444444444,\"#bd3786\"],[0.5555555555555556,\"#d8576b\"],[0.6666666666666666,\"#ed7953\"],[0.7777777777777778,\"#fb9f3a\"],[0.8888888888888888,\"#fdca26\"],[1.0,\"#f0f921\"]],\"type\":\"histogram2dcontour\"}],\"mesh3d\":[{\"colorbar\":{\"outlinewidth\":0,\"ticks\":\"\"},\"type\":\"mesh3d\"}],\"parcoords\":[{\"line\":{\"colorbar\":{\"outlinewidth\":0,\"ticks\":\"\"}},\"type\":\"parcoords\"}],\"pie\":[{\"automargin\":true,\"type\":\"pie\"}],\"scatter\":[{\"marker\":{\"colorbar\":{\"outlinewidth\":0,\"ticks\":\"\"}},\"type\":\"scatter\"}],\"scatter3d\":[{\"line\":{\"colorbar\":{\"outlinewidth\":0,\"ticks\":\"\"}},\"marker\":{\"colorbar\":{\"outlinewidth\":0,\"ticks\":\"\"}},\"type\":\"scatter3d\"}],\"scattercarpet\":[{\"marker\":{\"colorbar\":{\"outlinewidth\":0,\"ticks\":\"\"}},\"type\":\"scattercarpet\"}],\"scattergeo\":[{\"marker\":{\"colorbar\":{\"outlinewidth\":0,\"ticks\":\"\"}},\"type\":\"scattergeo\"}],\"scattergl\":[{\"marker\":{\"colorbar\":{\"outlinewidth\":0,\"ticks\":\"\"}},\"type\":\"scattergl\"}],\"scattermapbox\":[{\"marker\":{\"colorbar\":{\"outlinewidth\":0,\"ticks\":\"\"}},\"type\":\"scattermapbox\"}],\"scatterpolar\":[{\"marker\":{\"colorbar\":{\"outlinewidth\":0,\"ticks\":\"\"}},\"type\":\"scatterpolar\"}],\"scatterpolargl\":[{\"marker\":{\"colorbar\":{\"outlinewidth\":0,\"ticks\":\"\"}},\"type\":\"scatterpolargl\"}],\"scatterternary\":[{\"marker\":{\"colorbar\":{\"outlinewidth\":0,\"ticks\":\"\"}},\"type\":\"scatterternary\"}],\"surface\":[{\"colorbar\":{\"outlinewidth\":0,\"ticks\":\"\"},\"colorscale\":[[0.0,\"#0d0887\"],[0.1111111111111111,\"#46039f\"],[0.2222222222222222,\"#7201a8\"],[0.3333333333333333,\"#9c179e\"],[0.4444444444444444,\"#bd3786\"],[0.5555555555555556,\"#d8576b\"],[0.6666666666666666,\"#ed7953\"],[0.7777777777777778,\"#fb9f3a\"],[0.8888888888888888,\"#fdca26\"],[1.0,\"#f0f921\"]],\"type\":\"surface\"}],\"table\":[{\"cells\":{\"fill\":{\"color\":\"#EBF0F8\"},\"line\":{\"color\":\"white\"}},\"header\":{\"fill\":{\"color\":\"#C8D4E3\"},\"line\":{\"color\":\"white\"}},\"type\":\"table\"}]},\"layout\":{\"annotationdefaults\":{\"arrowcolor\":\"#2a3f5f\",\"arrowhead\":0,\"arrowwidth\":1},\"autotypenumbers\":\"strict\",\"coloraxis\":{\"colorbar\":{\"outlinewidth\":0,\"ticks\":\"\"}},\"colorscale\":{\"diverging\":[[0,\"#8e0152\"],[0.1,\"#c51b7d\"],[0.2,\"#de77ae\"],[0.3,\"#f1b6da\"],[0.4,\"#fde0ef\"],[0.5,\"#f7f7f7\"],[0.6,\"#e6f5d0\"],[0.7,\"#b8e186\"],[0.8,\"#7fbc41\"],[0.9,\"#4d9221\"],[1,\"#276419\"]],\"sequential\":[[0.0,\"#0d0887\"],[0.1111111111111111,\"#46039f\"],[0.2222222222222222,\"#7201a8\"],[0.3333333333333333,\"#9c179e\"],[0.4444444444444444,\"#bd3786\"],[0.5555555555555556,\"#d8576b\"],[0.6666666666666666,\"#ed7953\"],[0.7777777777777778,\"#fb9f3a\"],[0.8888888888888888,\"#fdca26\"],[1.0,\"#f0f921\"]],\"sequentialminus\":[[0.0,\"#0d0887\"],[0.1111111111111111,\"#46039f\"],[0.2222222222222222,\"#7201a8\"],[0.3333333333333333,\"#9c179e\"],[0.4444444444444444,\"#bd3786\"],[0.5555555555555556,\"#d8576b\"],[0.6666666666666666,\"#ed7953\"],[0.7777777777777778,\"#fb9f3a\"],[0.8888888888888888,\"#fdca26\"],[1.0,\"#f0f921\"]]},\"colorway\":[\"#636efa\",\"#EF553B\",\"#00cc96\",\"#ab63fa\",\"#FFA15A\",\"#19d3f3\",\"#FF6692\",\"#B6E880\",\"#FF97FF\",\"#FECB52\"],\"font\":{\"color\":\"#2a3f5f\"},\"geo\":{\"bgcolor\":\"white\",\"lakecolor\":\"white\",\"landcolor\":\"#E5ECF6\",\"showlakes\":true,\"showland\":true,\"subunitcolor\":\"white\"},\"hoverlabel\":{\"align\":\"left\"},\"hovermode\":\"closest\",\"mapbox\":{\"style\":\"light\"},\"paper_bgcolor\":\"white\",\"plot_bgcolor\":\"#E5ECF6\",\"polar\":{\"angularaxis\":{\"gridcolor\":\"white\",\"linecolor\":\"white\",\"ticks\":\"\"},\"bgcolor\":\"#E5ECF6\",\"radialaxis\":{\"gridcolor\":\"white\",\"linecolor\":\"white\",\"ticks\":\"\"}},\"scene\":{\"xaxis\":{\"backgroundcolor\":\"#E5ECF6\",\"gridcolor\":\"white\",\"gridwidth\":2,\"linecolor\":\"white\",\"showbackground\":true,\"ticks\":\"\",\"zerolinecolor\":\"white\"},\"yaxis\":{\"backgroundcolor\":\"#E5ECF6\",\"gridcolor\":\"white\",\"gridwidth\":2,\"linecolor\":\"white\",\"showbackground\":true,\"ticks\":\"\",\"zerolinecolor\":\"white\"},\"zaxis\":{\"backgroundcolor\":\"#E5ECF6\",\"gridcolor\":\"white\",\"gridwidth\":2,\"linecolor\":\"white\",\"showbackground\":true,\"ticks\":\"\",\"zerolinecolor\":\"white\"}},\"shapedefaults\":{\"line\":{\"color\":\"#2a3f5f\"}},\"ternary\":{\"aaxis\":{\"gridcolor\":\"white\",\"linecolor\":\"white\",\"ticks\":\"\"},\"baxis\":{\"gridcolor\":\"white\",\"linecolor\":\"white\",\"ticks\":\"\"},\"bgcolor\":\"#E5ECF6\",\"caxis\":{\"gridcolor\":\"white\",\"linecolor\":\"white\",\"ticks\":\"\"}},\"title\":{\"x\":0.05},\"xaxis\":{\"automargin\":true,\"gridcolor\":\"white\",\"linecolor\":\"white\",\"ticks\":\"\",\"title\":{\"standoff\":15},\"zerolinecolor\":\"white\",\"zerolinewidth\":2},\"yaxis\":{\"automargin\":true,\"gridcolor\":\"white\",\"linecolor\":\"white\",\"ticks\":\"\",\"title\":{\"standoff\":15},\"zerolinecolor\":\"white\",\"zerolinewidth\":2}}}},                        {\"responsive\": true}                    ).then(function(){\n",
              "                            \n",
              "var gd = document.getElementById('3b6ff088-4860-4ed1-a6a8-af4d3d0d1ce8');\n",
              "var x = new MutationObserver(function (mutations, observer) {{\n",
              "        var display = window.getComputedStyle(gd).display;\n",
              "        if (!display || display === 'none') {{\n",
              "            console.log([gd, 'removed!']);\n",
              "            Plotly.purge(gd);\n",
              "            observer.disconnect();\n",
              "        }}\n",
              "}});\n",
              "\n",
              "// Listen for the removal of the full notebook cells\n",
              "var notebookContainer = gd.closest('#notebook-container');\n",
              "if (notebookContainer) {{\n",
              "    x.observe(notebookContainer, {childList: true});\n",
              "}}\n",
              "\n",
              "// Listen for the clearing of the current output cell\n",
              "var outputEl = gd.closest('.output');\n",
              "if (outputEl) {{\n",
              "    x.observe(outputEl, {childList: true});\n",
              "}}\n",
              "\n",
              "                        })                };                            </script>        </div>\n",
              "</body>\n",
              "</html>"
            ]
          },
          "metadata": {}
        }
      ]
    },
    {
      "cell_type": "code",
      "source": [
        "fig = optuna.visualization.plot_intermediate_values(study)\n",
        "fig.show()"
      ],
      "metadata": {
        "colab": {
          "base_uri": "https://localhost:8080/",
          "height": 542
        },
        "id": "eJiFGbwOUgwp",
        "outputId": "08f1045a-44db-456f-b2cf-4be45996aaf4"
      },
      "execution_count": null,
      "outputs": [
        {
          "output_type": "display_data",
          "data": {
            "text/html": [
              "<html>\n",
              "<head><meta charset=\"utf-8\" /></head>\n",
              "<body>\n",
              "    <div>            <script src=\"https://cdnjs.cloudflare.com/ajax/libs/mathjax/2.7.5/MathJax.js?config=TeX-AMS-MML_SVG\"></script><script type=\"text/javascript\">if (window.MathJax) {MathJax.Hub.Config({SVG: {font: \"STIX-Web\"}});}</script>                <script type=\"text/javascript\">window.PlotlyConfig = {MathJaxConfig: 'local'};</script>\n",
              "        <script src=\"https://cdn.plot.ly/plotly-2.8.3.min.js\"></script>                <div id=\"f7d96007-d65b-4143-a9e6-9d5454914a5a\" class=\"plotly-graph-div\" style=\"height:525px; width:100%;\"></div>            <script type=\"text/javascript\">                                    window.PLOTLYENV=window.PLOTLYENV || {};                                    if (document.getElementById(\"f7d96007-d65b-4143-a9e6-9d5454914a5a\")) {                    Plotly.newPlot(                        \"f7d96007-d65b-4143-a9e6-9d5454914a5a\",                        [{\"marker\":{\"maxdisplayed\":10},\"mode\":\"lines+markers\",\"name\":\"Trial0\",\"x\":[0,1,2,3,4],\"y\":[0.0,5.0,2.5,1.25,1.25],\"type\":\"scatter\"},{\"marker\":{\"maxdisplayed\":10},\"mode\":\"lines+markers\",\"name\":\"Trial1\",\"x\":[0,1,2,3,4],\"y\":[2.5,2.5,2.5,2.5,0.0],\"type\":\"scatter\"},{\"marker\":{\"maxdisplayed\":10},\"mode\":\"lines+markers\",\"name\":\"Trial2\",\"x\":[0,1,2,3,4],\"y\":[78.28125,95.15625,97.34375,96.5625,96.875],\"type\":\"scatter\"},{\"marker\":{\"maxdisplayed\":10},\"mode\":\"lines+markers\",\"name\":\"Trial3\",\"x\":[0,1,2,3,4],\"y\":[93.75,95.0,92.5,97.5,97.5],\"type\":\"scatter\"},{\"marker\":{\"maxdisplayed\":10},\"mode\":\"lines+markers\",\"name\":\"Trial4\",\"x\":[0,1,2,3,4],\"y\":[69.0625,82.96875,83.90625,84.0625,87.96875],\"type\":\"scatter\"},{\"marker\":{\"maxdisplayed\":10},\"mode\":\"lines+markers\",\"name\":\"Trial5\",\"x\":[0,1,2,3,4],\"y\":[88.75,73.75,93.75,77.5,87.5],\"type\":\"scatter\"},{\"marker\":{\"maxdisplayed\":10},\"mode\":\"lines+markers\",\"name\":\"Trial6\",\"x\":[0,1,2,3,4],\"y\":[88.90625,88.125,89.84375,87.65625,88.75],\"type\":\"scatter\"},{\"marker\":{\"maxdisplayed\":10},\"mode\":\"lines+markers\",\"name\":\"Trial7\",\"x\":[0,1,2,3,4],\"y\":[89.84375,88.59375,87.96875,89.0625,88.125],\"type\":\"scatter\"},{\"marker\":{\"maxdisplayed\":10},\"mode\":\"lines+markers\",\"name\":\"Trial8\",\"x\":[0],\"y\":[60.000003814697266],\"type\":\"scatter\"},{\"marker\":{\"maxdisplayed\":10},\"mode\":\"lines+markers\",\"name\":\"Trial9\",\"x\":[0,1,2,3,4],\"y\":[89.53125,90.15625,91.875,92.5,92.03125],\"type\":\"scatter\"},{\"marker\":{\"maxdisplayed\":10},\"mode\":\"lines+markers\",\"name\":\"Trial10\",\"x\":[0],\"y\":[86.25],\"type\":\"scatter\"},{\"marker\":{\"maxdisplayed\":10},\"mode\":\"lines+markers\",\"name\":\"Trial11\",\"x\":[0,1,2,3,4],\"y\":[91.25,93.90625,91.40625,92.8125,92.96875],\"type\":\"scatter\"},{\"marker\":{\"maxdisplayed\":10},\"mode\":\"lines+markers\",\"name\":\"Trial12\",\"x\":[0,1,2,3,4],\"y\":[90.0,93.75,88.75,91.25,88.75],\"type\":\"scatter\"},{\"marker\":{\"maxdisplayed\":10},\"mode\":\"lines+markers\",\"name\":\"Trial13\",\"x\":[0,1,2,3,4],\"y\":[93.28125,93.90625,92.96875,94.375,92.8125],\"type\":\"scatter\"},{\"marker\":{\"maxdisplayed\":10},\"mode\":\"lines+markers\",\"name\":\"Trial14\",\"x\":[0,1,2,3,4],\"y\":[93.28125,94.0625,93.125,94.84375,93.75],\"type\":\"scatter\"},{\"marker\":{\"maxdisplayed\":10},\"mode\":\"lines+markers\",\"name\":\"Trial15\",\"x\":[0,1,2,3,4],\"y\":[92.5,90.0,85.0,90.0,96.25],\"type\":\"scatter\"},{\"marker\":{\"maxdisplayed\":10},\"mode\":\"lines+markers\",\"name\":\"Trial16\",\"x\":[0,1,2,3,4],\"y\":[94.21875,94.375,93.59375,94.53125,93.75],\"type\":\"scatter\"},{\"marker\":{\"maxdisplayed\":10},\"mode\":\"lines+markers\",\"name\":\"Trial17\",\"x\":[0],\"y\":[88.75],\"type\":\"scatter\"},{\"marker\":{\"maxdisplayed\":10},\"mode\":\"lines+markers\",\"name\":\"Trial18\",\"x\":[0,1,2,3,4],\"y\":[93.59375,93.75,93.75,93.125,94.53125],\"type\":\"scatter\"},{\"marker\":{\"maxdisplayed\":10},\"mode\":\"lines+markers\",\"name\":\"Trial19\",\"x\":[0],\"y\":[83.75],\"type\":\"scatter\"},{\"marker\":{\"maxdisplayed\":10},\"mode\":\"lines+markers\",\"name\":\"Trial20\",\"x\":[0,1,2,3,4],\"y\":[93.4375,94.375,93.75,93.90625,93.28125],\"type\":\"scatter\"},{\"marker\":{\"maxdisplayed\":10},\"mode\":\"lines+markers\",\"name\":\"Trial21\",\"x\":[0,1,2,3,4],\"y\":[98.75,92.5,92.5,98.75,90.0],\"type\":\"scatter\"},{\"marker\":{\"maxdisplayed\":10},\"mode\":\"lines+markers\",\"name\":\"Trial22\",\"x\":[0,1,2,3,4],\"y\":[95.0,91.25,95.0,96.25,96.25],\"type\":\"scatter\"},{\"marker\":{\"maxdisplayed\":10},\"mode\":\"lines+markers\",\"name\":\"Trial23\",\"x\":[0,1,2,3,4],\"y\":[97.5,97.5,90.0,92.5,97.5],\"type\":\"scatter\"},{\"marker\":{\"maxdisplayed\":10},\"mode\":\"lines+markers\",\"name\":\"Trial24\",\"x\":[0,1,2,3,4],\"y\":[95.0,92.5,93.75,92.5,95.0],\"type\":\"scatter\"},{\"marker\":{\"maxdisplayed\":10},\"mode\":\"lines+markers\",\"name\":\"Trial25\",\"x\":[0,1,2,3,4],\"y\":[97.5,96.25,87.5,92.5,100.0],\"type\":\"scatter\"},{\"marker\":{\"maxdisplayed\":10},\"mode\":\"lines+markers\",\"name\":\"Trial26\",\"x\":[0],\"y\":[91.25],\"type\":\"scatter\"},{\"marker\":{\"maxdisplayed\":10},\"mode\":\"lines+markers\",\"name\":\"Trial27\",\"x\":[0],\"y\":[92.5],\"type\":\"scatter\"},{\"marker\":{\"maxdisplayed\":10},\"mode\":\"lines+markers\",\"name\":\"Trial28\",\"x\":[0],\"y\":[88.75],\"type\":\"scatter\"},{\"marker\":{\"maxdisplayed\":10},\"mode\":\"lines+markers\",\"name\":\"Trial29\",\"x\":[0,1,2,3,4],\"y\":[96.25,85.0,87.5,91.25,93.75],\"type\":\"scatter\"},{\"marker\":{\"maxdisplayed\":10},\"mode\":\"lines+markers\",\"name\":\"Trial30\",\"x\":[0],\"y\":[86.25],\"type\":\"scatter\"},{\"marker\":{\"maxdisplayed\":10},\"mode\":\"lines+markers\",\"name\":\"Trial31\",\"x\":[0],\"y\":[88.75],\"type\":\"scatter\"},{\"marker\":{\"maxdisplayed\":10},\"mode\":\"lines+markers\",\"name\":\"Trial32\",\"x\":[0],\"y\":[92.5],\"type\":\"scatter\"},{\"marker\":{\"maxdisplayed\":10},\"mode\":\"lines+markers\",\"name\":\"Trial33\",\"x\":[0,1,2,3,4],\"y\":[93.75,86.25,88.75,92.5,90.0],\"type\":\"scatter\"},{\"marker\":{\"maxdisplayed\":10},\"mode\":\"lines+markers\",\"name\":\"Trial34\",\"x\":[0],\"y\":[91.25],\"type\":\"scatter\"},{\"marker\":{\"maxdisplayed\":10},\"mode\":\"lines+markers\",\"name\":\"Trial35\",\"x\":[0],\"y\":[92.34375],\"type\":\"scatter\"},{\"marker\":{\"maxdisplayed\":10},\"mode\":\"lines+markers\",\"name\":\"Trial36\",\"x\":[0],\"y\":[92.5],\"type\":\"scatter\"},{\"marker\":{\"maxdisplayed\":10},\"mode\":\"lines+markers\",\"name\":\"Trial37\",\"x\":[0],\"y\":[90.3125],\"type\":\"scatter\"},{\"marker\":{\"maxdisplayed\":10},\"mode\":\"lines+markers\",\"name\":\"Trial38\",\"x\":[0],\"y\":[86.25],\"type\":\"scatter\"},{\"marker\":{\"maxdisplayed\":10},\"mode\":\"lines+markers\",\"name\":\"Trial39\",\"x\":[0,1,2,3,4],\"y\":[94.0625,93.28125,92.1875,95.625,93.4375],\"type\":\"scatter\"},{\"marker\":{\"maxdisplayed\":10},\"mode\":\"lines+markers\",\"name\":\"Trial40\",\"x\":[0],\"y\":[88.75],\"type\":\"scatter\"},{\"marker\":{\"maxdisplayed\":10},\"mode\":\"lines+markers\",\"name\":\"Trial41\",\"x\":[0],\"y\":[85.0],\"type\":\"scatter\"},{\"marker\":{\"maxdisplayed\":10},\"mode\":\"lines+markers\",\"name\":\"Trial42\",\"x\":[0],\"y\":[91.25],\"type\":\"scatter\"},{\"marker\":{\"maxdisplayed\":10},\"mode\":\"lines+markers\",\"name\":\"Trial43\",\"x\":[0],\"y\":[91.25],\"type\":\"scatter\"},{\"marker\":{\"maxdisplayed\":10},\"mode\":\"lines+markers\",\"name\":\"Trial44\",\"x\":[0],\"y\":[90.0],\"type\":\"scatter\"},{\"marker\":{\"maxdisplayed\":10},\"mode\":\"lines+markers\",\"name\":\"Trial45\",\"x\":[0,1,2,3,4],\"y\":[94.21875,94.53125,93.125,92.65625,93.75],\"type\":\"scatter\"},{\"marker\":{\"maxdisplayed\":10},\"mode\":\"lines+markers\",\"name\":\"Trial46\",\"x\":[0,1,2,3,4],\"y\":[93.75,92.5,96.25,90.0,85.0],\"type\":\"scatter\"},{\"marker\":{\"maxdisplayed\":10},\"mode\":\"lines+markers\",\"name\":\"Trial47\",\"x\":[0],\"y\":[87.65625],\"type\":\"scatter\"},{\"marker\":{\"maxdisplayed\":10},\"mode\":\"lines+markers\",\"name\":\"Trial48\",\"x\":[0],\"y\":[86.25],\"type\":\"scatter\"},{\"marker\":{\"maxdisplayed\":10},\"mode\":\"lines+markers\",\"name\":\"Trial49\",\"x\":[0],\"y\":[91.25],\"type\":\"scatter\"},{\"marker\":{\"maxdisplayed\":10},\"mode\":\"lines+markers\",\"name\":\"Trial50\",\"x\":[0],\"y\":[91.25],\"type\":\"scatter\"},{\"marker\":{\"maxdisplayed\":10},\"mode\":\"lines+markers\",\"name\":\"Trial51\",\"x\":[0],\"y\":[90.0],\"type\":\"scatter\"},{\"marker\":{\"maxdisplayed\":10},\"mode\":\"lines+markers\",\"name\":\"Trial52\",\"x\":[0],\"y\":[86.25],\"type\":\"scatter\"},{\"marker\":{\"maxdisplayed\":10},\"mode\":\"lines+markers\",\"name\":\"Trial53\",\"x\":[0,1,2,3,4],\"y\":[93.75,90.0,85.0,87.5,93.75],\"type\":\"scatter\"},{\"marker\":{\"maxdisplayed\":10},\"mode\":\"lines+markers\",\"name\":\"Trial54\",\"x\":[0],\"y\":[85.0],\"type\":\"scatter\"},{\"marker\":{\"maxdisplayed\":10},\"mode\":\"lines+markers\",\"name\":\"Trial55\",\"x\":[0],\"y\":[82.5],\"type\":\"scatter\"},{\"marker\":{\"maxdisplayed\":10},\"mode\":\"lines+markers\",\"name\":\"Trial56\",\"x\":[0],\"y\":[86.25],\"type\":\"scatter\"},{\"marker\":{\"maxdisplayed\":10},\"mode\":\"lines+markers\",\"name\":\"Trial57\",\"x\":[0],\"y\":[92.65625],\"type\":\"scatter\"},{\"marker\":{\"maxdisplayed\":10},\"mode\":\"lines+markers\",\"name\":\"Trial58\",\"x\":[0,1,2,3,4],\"y\":[97.5,90.0,92.5,87.5,87.5],\"type\":\"scatter\"},{\"marker\":{\"maxdisplayed\":10},\"mode\":\"lines+markers\",\"name\":\"Trial59\",\"x\":[0,1,2,3,4],\"y\":[93.75,83.75,93.75,96.25,91.25],\"type\":\"scatter\"},{\"marker\":{\"maxdisplayed\":10},\"mode\":\"lines+markers\",\"name\":\"Trial60\",\"x\":[0],\"y\":[90.0],\"type\":\"scatter\"},{\"marker\":{\"maxdisplayed\":10},\"mode\":\"lines+markers\",\"name\":\"Trial61\",\"x\":[0,1,2,3,4],\"y\":[93.75,88.75,88.75,92.5,86.25],\"type\":\"scatter\"},{\"marker\":{\"maxdisplayed\":10},\"mode\":\"lines+markers\",\"name\":\"Trial62\",\"x\":[0],\"y\":[88.75],\"type\":\"scatter\"},{\"marker\":{\"maxdisplayed\":10},\"mode\":\"lines+markers\",\"name\":\"Trial63\",\"x\":[0,1,2,3,4],\"y\":[95.0,92.5,93.75,88.75,95.0],\"type\":\"scatter\"},{\"marker\":{\"maxdisplayed\":10},\"mode\":\"lines+markers\",\"name\":\"Trial64\",\"x\":[0,1,2,3,4],\"y\":[97.5,97.5,92.5,96.25,87.5],\"type\":\"scatter\"},{\"marker\":{\"maxdisplayed\":10},\"mode\":\"lines+markers\",\"name\":\"Trial65\",\"x\":[0],\"y\":[68.75],\"type\":\"scatter\"},{\"marker\":{\"maxdisplayed\":10},\"mode\":\"lines+markers\",\"name\":\"Trial66\",\"x\":[0],\"y\":[68.90625],\"type\":\"scatter\"},{\"marker\":{\"maxdisplayed\":10},\"mode\":\"lines+markers\",\"name\":\"Trial67\",\"x\":[0],\"y\":[65.0],\"type\":\"scatter\"},{\"marker\":{\"maxdisplayed\":10},\"mode\":\"lines+markers\",\"name\":\"Trial68\",\"x\":[0],\"y\":[71.25],\"type\":\"scatter\"},{\"marker\":{\"maxdisplayed\":10},\"mode\":\"lines+markers\",\"name\":\"Trial69\",\"x\":[0],\"y\":[70.3125],\"type\":\"scatter\"},{\"marker\":{\"maxdisplayed\":10},\"mode\":\"lines+markers\",\"name\":\"Trial70\",\"x\":[0],\"y\":[61.25],\"type\":\"scatter\"},{\"marker\":{\"maxdisplayed\":10},\"mode\":\"lines+markers\",\"name\":\"Trial71\",\"x\":[0],\"y\":[76.25],\"type\":\"scatter\"},{\"marker\":{\"maxdisplayed\":10},\"mode\":\"lines+markers\",\"name\":\"Trial72\",\"x\":[0],\"y\":[57.5],\"type\":\"scatter\"},{\"marker\":{\"maxdisplayed\":10},\"mode\":\"lines+markers\",\"name\":\"Trial73\",\"x\":[0],\"y\":[72.5],\"type\":\"scatter\"},{\"marker\":{\"maxdisplayed\":10},\"mode\":\"lines+markers\",\"name\":\"Trial74\",\"x\":[0],\"y\":[72.5],\"type\":\"scatter\"},{\"marker\":{\"maxdisplayed\":10},\"mode\":\"lines+markers\",\"name\":\"Trial75\",\"x\":[0],\"y\":[71.25],\"type\":\"scatter\"},{\"marker\":{\"maxdisplayed\":10},\"mode\":\"lines+markers\",\"name\":\"Trial76\",\"x\":[0],\"y\":[73.75],\"type\":\"scatter\"},{\"marker\":{\"maxdisplayed\":10},\"mode\":\"lines+markers\",\"name\":\"Trial77\",\"x\":[0],\"y\":[72.5],\"type\":\"scatter\"},{\"marker\":{\"maxdisplayed\":10},\"mode\":\"lines+markers\",\"name\":\"Trial78\",\"x\":[0],\"y\":[75.15625],\"type\":\"scatter\"},{\"marker\":{\"maxdisplayed\":10},\"mode\":\"lines+markers\",\"name\":\"Trial79\",\"x\":[0],\"y\":[70.0],\"type\":\"scatter\"},{\"marker\":{\"maxdisplayed\":10},\"mode\":\"lines+markers\",\"name\":\"Trial80\",\"x\":[0],\"y\":[75.0],\"type\":\"scatter\"},{\"marker\":{\"maxdisplayed\":10},\"mode\":\"lines+markers\",\"name\":\"Trial81\",\"x\":[0],\"y\":[75.9375],\"type\":\"scatter\"},{\"marker\":{\"maxdisplayed\":10},\"mode\":\"lines+markers\",\"name\":\"Trial82\",\"x\":[0],\"y\":[76.09375],\"type\":\"scatter\"},{\"marker\":{\"maxdisplayed\":10},\"mode\":\"lines+markers\",\"name\":\"Trial83\",\"x\":[0],\"y\":[77.1875],\"type\":\"scatter\"},{\"marker\":{\"maxdisplayed\":10},\"mode\":\"lines+markers\",\"name\":\"Trial84\",\"x\":[0],\"y\":[76.09375],\"type\":\"scatter\"},{\"marker\":{\"maxdisplayed\":10},\"mode\":\"lines+markers\",\"name\":\"Trial85\",\"x\":[0],\"y\":[86.5625],\"type\":\"scatter\"},{\"marker\":{\"maxdisplayed\":10},\"mode\":\"lines+markers\",\"name\":\"Trial86\",\"x\":[0],\"y\":[86.25],\"type\":\"scatter\"},{\"marker\":{\"maxdisplayed\":10},\"mode\":\"lines+markers\",\"name\":\"Trial87\",\"x\":[0],\"y\":[86.25],\"type\":\"scatter\"},{\"marker\":{\"maxdisplayed\":10},\"mode\":\"lines+markers\",\"name\":\"Trial88\",\"x\":[0,1,2,3,4],\"y\":[93.75,91.25,78.75,90.0,82.5],\"type\":\"scatter\"},{\"marker\":{\"maxdisplayed\":10},\"mode\":\"lines+markers\",\"name\":\"Trial89\",\"x\":[0],\"y\":[82.5],\"type\":\"scatter\"},{\"marker\":{\"maxdisplayed\":10},\"mode\":\"lines+markers\",\"name\":\"Trial90\",\"x\":[0],\"y\":[87.5],\"type\":\"scatter\"},{\"marker\":{\"maxdisplayed\":10},\"mode\":\"lines+markers\",\"name\":\"Trial91\",\"x\":[0],\"y\":[80.15625],\"type\":\"scatter\"},{\"marker\":{\"maxdisplayed\":10},\"mode\":\"lines+markers\",\"name\":\"Trial92\",\"x\":[0],\"y\":[80.78125],\"type\":\"scatter\"},{\"marker\":{\"maxdisplayed\":10},\"mode\":\"lines+markers\",\"name\":\"Trial93\",\"x\":[0],\"y\":[85.46875],\"type\":\"scatter\"},{\"marker\":{\"maxdisplayed\":10},\"mode\":\"lines+markers\",\"name\":\"Trial94\",\"x\":[0],\"y\":[90.3125],\"type\":\"scatter\"},{\"marker\":{\"maxdisplayed\":10},\"mode\":\"lines+markers\",\"name\":\"Trial95\",\"x\":[0],\"y\":[87.8125],\"type\":\"scatter\"},{\"marker\":{\"maxdisplayed\":10},\"mode\":\"lines+markers\",\"name\":\"Trial96\",\"x\":[0],\"y\":[87.5],\"type\":\"scatter\"},{\"marker\":{\"maxdisplayed\":10},\"mode\":\"lines+markers\",\"name\":\"Trial97\",\"x\":[0],\"y\":[88.59375],\"type\":\"scatter\"},{\"marker\":{\"maxdisplayed\":10},\"mode\":\"lines+markers\",\"name\":\"Trial98\",\"x\":[0],\"y\":[83.75],\"type\":\"scatter\"},{\"marker\":{\"maxdisplayed\":10},\"mode\":\"lines+markers\",\"name\":\"Trial99\",\"x\":[0],\"y\":[91.25],\"type\":\"scatter\"}],                        {\"showlegend\":false,\"title\":{\"text\":\"Intermediate Values Plot\"},\"xaxis\":{\"title\":{\"text\":\"Step\"}},\"yaxis\":{\"title\":{\"text\":\"Intermediate Value\"}},\"template\":{\"data\":{\"bar\":[{\"error_x\":{\"color\":\"#2a3f5f\"},\"error_y\":{\"color\":\"#2a3f5f\"},\"marker\":{\"line\":{\"color\":\"#E5ECF6\",\"width\":0.5},\"pattern\":{\"fillmode\":\"overlay\",\"size\":10,\"solidity\":0.2}},\"type\":\"bar\"}],\"barpolar\":[{\"marker\":{\"line\":{\"color\":\"#E5ECF6\",\"width\":0.5},\"pattern\":{\"fillmode\":\"overlay\",\"size\":10,\"solidity\":0.2}},\"type\":\"barpolar\"}],\"carpet\":[{\"aaxis\":{\"endlinecolor\":\"#2a3f5f\",\"gridcolor\":\"white\",\"linecolor\":\"white\",\"minorgridcolor\":\"white\",\"startlinecolor\":\"#2a3f5f\"},\"baxis\":{\"endlinecolor\":\"#2a3f5f\",\"gridcolor\":\"white\",\"linecolor\":\"white\",\"minorgridcolor\":\"white\",\"startlinecolor\":\"#2a3f5f\"},\"type\":\"carpet\"}],\"choropleth\":[{\"colorbar\":{\"outlinewidth\":0,\"ticks\":\"\"},\"type\":\"choropleth\"}],\"contour\":[{\"colorbar\":{\"outlinewidth\":0,\"ticks\":\"\"},\"colorscale\":[[0.0,\"#0d0887\"],[0.1111111111111111,\"#46039f\"],[0.2222222222222222,\"#7201a8\"],[0.3333333333333333,\"#9c179e\"],[0.4444444444444444,\"#bd3786\"],[0.5555555555555556,\"#d8576b\"],[0.6666666666666666,\"#ed7953\"],[0.7777777777777778,\"#fb9f3a\"],[0.8888888888888888,\"#fdca26\"],[1.0,\"#f0f921\"]],\"type\":\"contour\"}],\"contourcarpet\":[{\"colorbar\":{\"outlinewidth\":0,\"ticks\":\"\"},\"type\":\"contourcarpet\"}],\"heatmap\":[{\"colorbar\":{\"outlinewidth\":0,\"ticks\":\"\"},\"colorscale\":[[0.0,\"#0d0887\"],[0.1111111111111111,\"#46039f\"],[0.2222222222222222,\"#7201a8\"],[0.3333333333333333,\"#9c179e\"],[0.4444444444444444,\"#bd3786\"],[0.5555555555555556,\"#d8576b\"],[0.6666666666666666,\"#ed7953\"],[0.7777777777777778,\"#fb9f3a\"],[0.8888888888888888,\"#fdca26\"],[1.0,\"#f0f921\"]],\"type\":\"heatmap\"}],\"heatmapgl\":[{\"colorbar\":{\"outlinewidth\":0,\"ticks\":\"\"},\"colorscale\":[[0.0,\"#0d0887\"],[0.1111111111111111,\"#46039f\"],[0.2222222222222222,\"#7201a8\"],[0.3333333333333333,\"#9c179e\"],[0.4444444444444444,\"#bd3786\"],[0.5555555555555556,\"#d8576b\"],[0.6666666666666666,\"#ed7953\"],[0.7777777777777778,\"#fb9f3a\"],[0.8888888888888888,\"#fdca26\"],[1.0,\"#f0f921\"]],\"type\":\"heatmapgl\"}],\"histogram\":[{\"marker\":{\"pattern\":{\"fillmode\":\"overlay\",\"size\":10,\"solidity\":0.2}},\"type\":\"histogram\"}],\"histogram2d\":[{\"colorbar\":{\"outlinewidth\":0,\"ticks\":\"\"},\"colorscale\":[[0.0,\"#0d0887\"],[0.1111111111111111,\"#46039f\"],[0.2222222222222222,\"#7201a8\"],[0.3333333333333333,\"#9c179e\"],[0.4444444444444444,\"#bd3786\"],[0.5555555555555556,\"#d8576b\"],[0.6666666666666666,\"#ed7953\"],[0.7777777777777778,\"#fb9f3a\"],[0.8888888888888888,\"#fdca26\"],[1.0,\"#f0f921\"]],\"type\":\"histogram2d\"}],\"histogram2dcontour\":[{\"colorbar\":{\"outlinewidth\":0,\"ticks\":\"\"},\"colorscale\":[[0.0,\"#0d0887\"],[0.1111111111111111,\"#46039f\"],[0.2222222222222222,\"#7201a8\"],[0.3333333333333333,\"#9c179e\"],[0.4444444444444444,\"#bd3786\"],[0.5555555555555556,\"#d8576b\"],[0.6666666666666666,\"#ed7953\"],[0.7777777777777778,\"#fb9f3a\"],[0.8888888888888888,\"#fdca26\"],[1.0,\"#f0f921\"]],\"type\":\"histogram2dcontour\"}],\"mesh3d\":[{\"colorbar\":{\"outlinewidth\":0,\"ticks\":\"\"},\"type\":\"mesh3d\"}],\"parcoords\":[{\"line\":{\"colorbar\":{\"outlinewidth\":0,\"ticks\":\"\"}},\"type\":\"parcoords\"}],\"pie\":[{\"automargin\":true,\"type\":\"pie\"}],\"scatter\":[{\"marker\":{\"colorbar\":{\"outlinewidth\":0,\"ticks\":\"\"}},\"type\":\"scatter\"}],\"scatter3d\":[{\"line\":{\"colorbar\":{\"outlinewidth\":0,\"ticks\":\"\"}},\"marker\":{\"colorbar\":{\"outlinewidth\":0,\"ticks\":\"\"}},\"type\":\"scatter3d\"}],\"scattercarpet\":[{\"marker\":{\"colorbar\":{\"outlinewidth\":0,\"ticks\":\"\"}},\"type\":\"scattercarpet\"}],\"scattergeo\":[{\"marker\":{\"colorbar\":{\"outlinewidth\":0,\"ticks\":\"\"}},\"type\":\"scattergeo\"}],\"scattergl\":[{\"marker\":{\"colorbar\":{\"outlinewidth\":0,\"ticks\":\"\"}},\"type\":\"scattergl\"}],\"scattermapbox\":[{\"marker\":{\"colorbar\":{\"outlinewidth\":0,\"ticks\":\"\"}},\"type\":\"scattermapbox\"}],\"scatterpolar\":[{\"marker\":{\"colorbar\":{\"outlinewidth\":0,\"ticks\":\"\"}},\"type\":\"scatterpolar\"}],\"scatterpolargl\":[{\"marker\":{\"colorbar\":{\"outlinewidth\":0,\"ticks\":\"\"}},\"type\":\"scatterpolargl\"}],\"scatterternary\":[{\"marker\":{\"colorbar\":{\"outlinewidth\":0,\"ticks\":\"\"}},\"type\":\"scatterternary\"}],\"surface\":[{\"colorbar\":{\"outlinewidth\":0,\"ticks\":\"\"},\"colorscale\":[[0.0,\"#0d0887\"],[0.1111111111111111,\"#46039f\"],[0.2222222222222222,\"#7201a8\"],[0.3333333333333333,\"#9c179e\"],[0.4444444444444444,\"#bd3786\"],[0.5555555555555556,\"#d8576b\"],[0.6666666666666666,\"#ed7953\"],[0.7777777777777778,\"#fb9f3a\"],[0.8888888888888888,\"#fdca26\"],[1.0,\"#f0f921\"]],\"type\":\"surface\"}],\"table\":[{\"cells\":{\"fill\":{\"color\":\"#EBF0F8\"},\"line\":{\"color\":\"white\"}},\"header\":{\"fill\":{\"color\":\"#C8D4E3\"},\"line\":{\"color\":\"white\"}},\"type\":\"table\"}]},\"layout\":{\"annotationdefaults\":{\"arrowcolor\":\"#2a3f5f\",\"arrowhead\":0,\"arrowwidth\":1},\"autotypenumbers\":\"strict\",\"coloraxis\":{\"colorbar\":{\"outlinewidth\":0,\"ticks\":\"\"}},\"colorscale\":{\"diverging\":[[0,\"#8e0152\"],[0.1,\"#c51b7d\"],[0.2,\"#de77ae\"],[0.3,\"#f1b6da\"],[0.4,\"#fde0ef\"],[0.5,\"#f7f7f7\"],[0.6,\"#e6f5d0\"],[0.7,\"#b8e186\"],[0.8,\"#7fbc41\"],[0.9,\"#4d9221\"],[1,\"#276419\"]],\"sequential\":[[0.0,\"#0d0887\"],[0.1111111111111111,\"#46039f\"],[0.2222222222222222,\"#7201a8\"],[0.3333333333333333,\"#9c179e\"],[0.4444444444444444,\"#bd3786\"],[0.5555555555555556,\"#d8576b\"],[0.6666666666666666,\"#ed7953\"],[0.7777777777777778,\"#fb9f3a\"],[0.8888888888888888,\"#fdca26\"],[1.0,\"#f0f921\"]],\"sequentialminus\":[[0.0,\"#0d0887\"],[0.1111111111111111,\"#46039f\"],[0.2222222222222222,\"#7201a8\"],[0.3333333333333333,\"#9c179e\"],[0.4444444444444444,\"#bd3786\"],[0.5555555555555556,\"#d8576b\"],[0.6666666666666666,\"#ed7953\"],[0.7777777777777778,\"#fb9f3a\"],[0.8888888888888888,\"#fdca26\"],[1.0,\"#f0f921\"]]},\"colorway\":[\"#636efa\",\"#EF553B\",\"#00cc96\",\"#ab63fa\",\"#FFA15A\",\"#19d3f3\",\"#FF6692\",\"#B6E880\",\"#FF97FF\",\"#FECB52\"],\"font\":{\"color\":\"#2a3f5f\"},\"geo\":{\"bgcolor\":\"white\",\"lakecolor\":\"white\",\"landcolor\":\"#E5ECF6\",\"showlakes\":true,\"showland\":true,\"subunitcolor\":\"white\"},\"hoverlabel\":{\"align\":\"left\"},\"hovermode\":\"closest\",\"mapbox\":{\"style\":\"light\"},\"paper_bgcolor\":\"white\",\"plot_bgcolor\":\"#E5ECF6\",\"polar\":{\"angularaxis\":{\"gridcolor\":\"white\",\"linecolor\":\"white\",\"ticks\":\"\"},\"bgcolor\":\"#E5ECF6\",\"radialaxis\":{\"gridcolor\":\"white\",\"linecolor\":\"white\",\"ticks\":\"\"}},\"scene\":{\"xaxis\":{\"backgroundcolor\":\"#E5ECF6\",\"gridcolor\":\"white\",\"gridwidth\":2,\"linecolor\":\"white\",\"showbackground\":true,\"ticks\":\"\",\"zerolinecolor\":\"white\"},\"yaxis\":{\"backgroundcolor\":\"#E5ECF6\",\"gridcolor\":\"white\",\"gridwidth\":2,\"linecolor\":\"white\",\"showbackground\":true,\"ticks\":\"\",\"zerolinecolor\":\"white\"},\"zaxis\":{\"backgroundcolor\":\"#E5ECF6\",\"gridcolor\":\"white\",\"gridwidth\":2,\"linecolor\":\"white\",\"showbackground\":true,\"ticks\":\"\",\"zerolinecolor\":\"white\"}},\"shapedefaults\":{\"line\":{\"color\":\"#2a3f5f\"}},\"ternary\":{\"aaxis\":{\"gridcolor\":\"white\",\"linecolor\":\"white\",\"ticks\":\"\"},\"baxis\":{\"gridcolor\":\"white\",\"linecolor\":\"white\",\"ticks\":\"\"},\"bgcolor\":\"#E5ECF6\",\"caxis\":{\"gridcolor\":\"white\",\"linecolor\":\"white\",\"ticks\":\"\"}},\"title\":{\"x\":0.05},\"xaxis\":{\"automargin\":true,\"gridcolor\":\"white\",\"linecolor\":\"white\",\"ticks\":\"\",\"title\":{\"standoff\":15},\"zerolinecolor\":\"white\",\"zerolinewidth\":2},\"yaxis\":{\"automargin\":true,\"gridcolor\":\"white\",\"linecolor\":\"white\",\"ticks\":\"\",\"title\":{\"standoff\":15},\"zerolinecolor\":\"white\",\"zerolinewidth\":2}}}},                        {\"responsive\": true}                    ).then(function(){\n",
              "                            \n",
              "var gd = document.getElementById('f7d96007-d65b-4143-a9e6-9d5454914a5a');\n",
              "var x = new MutationObserver(function (mutations, observer) {{\n",
              "        var display = window.getComputedStyle(gd).display;\n",
              "        if (!display || display === 'none') {{\n",
              "            console.log([gd, 'removed!']);\n",
              "            Plotly.purge(gd);\n",
              "            observer.disconnect();\n",
              "        }}\n",
              "}});\n",
              "\n",
              "// Listen for the removal of the full notebook cells\n",
              "var notebookContainer = gd.closest('#notebook-container');\n",
              "if (notebookContainer) {{\n",
              "    x.observe(notebookContainer, {childList: true});\n",
              "}}\n",
              "\n",
              "// Listen for the clearing of the current output cell\n",
              "var outputEl = gd.closest('.output');\n",
              "if (outputEl) {{\n",
              "    x.observe(outputEl, {childList: true});\n",
              "}}\n",
              "\n",
              "                        })                };                            </script>        </div>\n",
              "</body>\n",
              "</html>"
            ]
          },
          "metadata": {}
        }
      ]
    },
    {
      "cell_type": "markdown",
      "source": [
        "## Optuna on FaceNet with Augmentations"
      ],
      "metadata": {
        "id": "M2_g4vGz-jXH"
      }
    },
    {
      "cell_type": "code",
      "source": [
        "# install our pre-trained models on celebA-HQ dataset (with / without augmentation and with attributes)\n",
        "!bash download.sh models-weights"
      ],
      "metadata": {
        "colab": {
          "base_uri": "https://localhost:8080/"
        },
        "id": "tMduHM0--YZz",
        "outputId": "ee13cd19-2e0d-4748-c217-93d73ef23220"
      },
      "execution_count": null,
      "outputs": [
        {
          "output_type": "stream",
          "name": "stdout",
          "text": [
            "--2023-01-22 06:06:53--  https://docs.google.com/uc?export=download&confirm=t&id=1G5QNRswQjVNJ3gDTf0W8-vsiuFuVqDY_\n",
            "Resolving docs.google.com (docs.google.com)... 74.125.199.100, 74.125.199.139, 74.125.199.102, ...\n",
            "Connecting to docs.google.com (docs.google.com)|74.125.199.100|:443... connected.\n",
            "HTTP request sent, awaiting response... 303 See Other\n",
            "Location: https://doc-14-08-docs.googleusercontent.com/docs/securesc/ha0ro937gcuc7l7deffksulhg5h7mbp1/76hsmgpssk7avurt5f05u6qcmn19341p/1674367575000/05560778185249539437/*/1G5QNRswQjVNJ3gDTf0W8-vsiuFuVqDY_?e=download&uuid=343a0b24-c3a2-4d04-8b9f-76b185fcdd21 [following]\n",
            "Warning: wildcards not supported in HTTP.\n",
            "--2023-01-22 06:06:53--  https://doc-14-08-docs.googleusercontent.com/docs/securesc/ha0ro937gcuc7l7deffksulhg5h7mbp1/76hsmgpssk7avurt5f05u6qcmn19341p/1674367575000/05560778185249539437/*/1G5QNRswQjVNJ3gDTf0W8-vsiuFuVqDY_?e=download&uuid=343a0b24-c3a2-4d04-8b9f-76b185fcdd21\n",
            "Resolving doc-14-08-docs.googleusercontent.com (doc-14-08-docs.googleusercontent.com)... 74.125.142.132, 2607:f8b0:400e:c08::84\n",
            "Connecting to doc-14-08-docs.googleusercontent.com (doc-14-08-docs.googleusercontent.com)|74.125.142.132|:443... connected.\n",
            "HTTP request sent, awaiting response... 200 OK\n",
            "Length: 351663930 (335M) [application/x-zip-compressed]\n",
            "Saving to: ‘./models/models.zip’\n",
            "\n",
            "./models/models.zip 100%[===================>] 335.37M  81.8MB/s    in 4.1s    \n",
            "\n",
            "2023-01-22 06:06:57 (81.8 MB/s) - ‘./models/models.zip’ saved [351663930/351663930]\n",
            "\n",
            "Archive:  ./models/models.zip\n",
            "  inflating: ./models/CelebA_HQ_Facenet_with_aug_scratch.pth  \n",
            "  inflating: ./models/CelebA_HQ_Facenet_without_aug.pth  \n",
            "  inflating: ./models/CelebA_HQ_Facenet_with_aug_attribute.pth  \n",
            "  inflating: ./models/CelebA_HQ_Facenet_with_aug_fine_tune.pth  \n"
          ]
        }
      ]
    },
    {
      "cell_type": "code",
      "source": [
        "class AddGaussianNoise(object):\n",
        "    def __init__(self, mean=0., std=1.):\n",
        "        self.std = std\n",
        "        self.mean = mean\n",
        "        \n",
        "    def __call__(self, tensor):\n",
        "        return torch.clip(tensor + torch.randn(tensor.size()) * self.std + self.mean, 0, 1)\n",
        "    \n",
        "    def __repr__(self):\n",
        "        return self.__class__.__name__ + '(mean={0}, std={1})'.format(self.mean, self.std)\n",
        "\n",
        "transforms_attack2 = transforms.Compose([\n",
        "    transforms.Resize((256, 256)),\n",
        "    transforms.ToTensor(),\n",
        "    # Normalization is done in dataloader\n",
        "    transforms.GaussianBlur(kernel_size=(5, 9), sigma=(0.1, 5)),\n",
        "    AddGaussianNoise(0., 0.1)\n",
        "    ])\n",
        "\n",
        "transforms_attack3 = transforms.Compose([\n",
        "    transforms.Resize((256, 256)),\n",
        "    transforms.ToTensor(),\n",
        "    # Normalization is done in dataloader\n",
        "    transforms.ColorJitter(brightness=.1, hue=.1),\n",
        "    AddGaussianNoise(0., 0.1)\n",
        "    ])\n",
        "\n",
        "transforms_orig = transforms.Compose([\n",
        "    transforms.Resize((256, 256)),\n",
        "    transforms.ToTensor(),\n",
        "    ])"
      ],
      "metadata": {
        "id": "zckIRRzp-ipH"
      },
      "execution_count": null,
      "outputs": []
    },
    {
      "cell_type": "code",
      "source": [
        "# img_path = '/content/Defend_against_attribute_attacks_in_face_recognition_models/StarGAN_with_our_changes/'"
      ],
      "metadata": {
        "id": "sijSpTaUFw1Q"
      },
      "execution_count": null,
      "outputs": []
    },
    {
      "cell_type": "code",
      "source": [
        "for filepath in glob.glob(\"./CelebA_HQ_facial_identity_dataset/train/*/\"):\n",
        "    for img_path in glob.glob(filepath + '/*'):\n",
        "      test_img = Image.open(img_path).convert('RGB')\n",
        "      test_img_attack2 = transforms_attack2(test_img)\n",
        "      test_img_attack3 = transforms_attack3(test_img)\n",
        "      torchvision.utils.save_image(test_img_attack2, img_path.split('.jpg')[0] + '_1.jpg')\n",
        "      torchvision.utils.save_image(test_img_attack3,  img_path.split('.jpg')[0] + '_2.jpg')\n"
      ],
      "metadata": {
        "id": "p6u81Jex-7wa"
      },
      "execution_count": null,
      "outputs": []
    },
    {
      "cell_type": "code",
      "source": [
        "for filepath in glob.glob(\"./CelebA_HQ_facial_identity_dataset/test/*/\"):\n",
        "    for img_path in glob.glob(filepath + '/*'):\n",
        "      test_img = Image.open(img_path).convert('RGB')\n",
        "      test_img_attack2 = transforms_attack2(test_img)\n",
        "      test_img_attack3 = transforms_attack3(test_img)\n",
        "      torchvision.utils.save_image(test_img_attack2, img_path.split('.jpg')[0] + '_1.jpg')\n",
        "      torchvision.utils.save_image(test_img_attack3,  img_path.split('.jpg')[0] + '_2.jpg')"
      ],
      "metadata": {
        "id": "tFvyQ93G-9UE"
      },
      "execution_count": null,
      "outputs": []
    },
    {
      "cell_type": "code",
      "source": [
        "f'{DIR}/models/{model_name}'"
      ],
      "metadata": {
        "colab": {
          "base_uri": "https://localhost:8080/",
          "height": 35
        },
        "id": "CLXpQQTXHazC",
        "outputId": "d0d16db7-a828-46a5-ec30-ad045cde24e3"
      },
      "execution_count": null,
      "outputs": [
        {
          "output_type": "execute_result",
          "data": {
            "text/plain": [
              "'/content/Defend_against_attribute_attacks_in_face_recognition_models/StarGAN_with_our_changes/models/CelebA_HQ_Facenet_without_aug.pth'"
            ],
            "application/vnd.google.colaboratory.intrinsic+json": {
              "type": "string"
            }
          },
          "metadata": {},
          "execution_count": 27
        }
      ]
    },
    {
      "cell_type": "code",
      "source": [
        "model_name = 'CelebA_HQ_Facenet_without_aug.pth'\n",
        "faceNet = InceptionResnetV1(pretrained='vggface2')\n",
        "faceNet = set_parameter_requires_grad(faceNet, 307) # number of identities = 307 in celebA-HQ subset\n",
        "\n",
        "state = torch.load(f'{DIR}/models/{model_name}', map_location=device)\n",
        "faceNet.load_state_dict(state['net'])\n",
        "\n",
        "params_to_update = []\n",
        "for name,param in faceNet.named_parameters():\n",
        "    if param.requires_grad == True:\n",
        "        params_to_update.append(param)\n",
        "        print(\"\\t\",name)"
      ],
      "metadata": {
        "colab": {
          "base_uri": "https://localhost:8080/"
        },
        "id": "88ZOJA6a-DDI",
        "outputId": "ad90bb5e-90d4-4e6c-81f9-c3663e75e968"
      },
      "execution_count": null,
      "outputs": [
        {
          "output_type": "stream",
          "name": "stdout",
          "text": [
            "\t logits.weight\n",
            "\t logits.bias\n"
          ]
        }
      ]
    },
    {
      "cell_type": "code",
      "source": [
        "study = optuna.create_study(study_name=\"FaceNet_fine_tune\", direction=\"maximize\", sampler=optuna.samplers.TPESampler())\n",
        "study.optimize(objective, n_trials=100, timeout=6000000)\n",
        "\n",
        "pruned_trials = study.get_trials(deepcopy=False, states=[TrialState.PRUNED])\n",
        "complete_trials = study.get_trials(deepcopy=False, states=[TrialState.COMPLETE])\n",
        "\n",
        "print(\"Study statistics: \")\n",
        "print(\"  Number of finished trials: \", len(study.trials))\n",
        "print(\"  Number of pruned trials: \", len(pruned_trials))\n",
        "print(\"  Number of complete trials: \", len(complete_trials))\n",
        "\n",
        "print(\"Best trial:\")\n",
        "trial = study.best_trial\n",
        "\n",
        "print(\"  Value: \", trial.value)\n",
        "\n",
        "print(\"  Params: \")\n",
        "for key, value in trial.params.items():\n",
        "  print(\"    {}: {}\".format(key, value))\n"
      ],
      "metadata": {
        "colab": {
          "base_uri": "https://localhost:8080/"
        },
        "id": "lOWp1ibG_P0V",
        "outputId": "2b70dfdb-7b01-4efb-fa96-3f79573417ac"
      },
      "execution_count": null,
      "outputs": [
        {
          "output_type": "stream",
          "name": "stderr",
          "text": [
            "\u001b[32m[I 2023-01-22 06:21:04,564]\u001b[0m A new study created in memory with name: FaceNet_fine_tune\u001b[0m\n"
          ]
        },
        {
          "output_type": "stream",
          "name": "stdout",
          "text": [
            "Train dataset size: 12789\n",
            "Test dataset size: 3645\n",
            "accuracy : 83.75, epoch = 0\n",
            "accuracy : 90.0, epoch = 1\n",
            "accuracy : 76.25, epoch = 2\n",
            "accuracy : 86.25, epoch = 3\n"
          ]
        },
        {
          "output_type": "stream",
          "name": "stderr",
          "text": [
            "\u001b[32m[I 2023-01-22 06:21:22,663]\u001b[0m Trial 0 finished with value: 87.5 and parameters: {'optimizer': 'SGD', 'lr': 9.71437253200813e-05, 'batch_size': 8}. Best is trial 0 with value: 87.5.\u001b[0m\n"
          ]
        },
        {
          "output_type": "stream",
          "name": "stdout",
          "text": [
            "accuracy : 87.5, epoch = 4\n",
            "Train dataset size: 12789\n",
            "Test dataset size: 3645\n",
            "accuracy : 87.5, epoch = 0\n",
            "accuracy : 78.75, epoch = 1\n",
            "accuracy : 68.75, epoch = 2\n",
            "accuracy : 75.0, epoch = 3\n"
          ]
        },
        {
          "output_type": "stream",
          "name": "stderr",
          "text": [
            "\u001b[32m[I 2023-01-22 06:21:33,427]\u001b[0m Trial 1 finished with value: 85.0 and parameters: {'optimizer': 'SGD', 'lr': 6.29475643086052e-05, 'batch_size': 8}. Best is trial 0 with value: 87.5.\u001b[0m\n"
          ]
        },
        {
          "output_type": "stream",
          "name": "stdout",
          "text": [
            "accuracy : 85.0, epoch = 4\n",
            "Train dataset size: 12789\n",
            "Test dataset size: 3645\n",
            "accuracy : 87.5, epoch = 0\n",
            "accuracy : 85.0, epoch = 1\n",
            "accuracy : 92.5, epoch = 2\n",
            "accuracy : 83.75, epoch = 3\n"
          ]
        },
        {
          "output_type": "stream",
          "name": "stderr",
          "text": [
            "\u001b[32m[I 2023-01-22 06:21:45,065]\u001b[0m Trial 2 finished with value: 55.0 and parameters: {'optimizer': 'SGD', 'lr': 1.274538067601856e-05, 'batch_size': 8}. Best is trial 0 with value: 87.5.\u001b[0m\n"
          ]
        },
        {
          "output_type": "stream",
          "name": "stdout",
          "text": [
            "accuracy : 55.0, epoch = 4\n",
            "Train dataset size: 12789\n",
            "Test dataset size: 3645\n",
            "accuracy : 81.25, epoch = 0\n",
            "accuracy : 82.5, epoch = 1\n",
            "accuracy : 65.0, epoch = 2\n",
            "accuracy : 81.25, epoch = 3\n"
          ]
        },
        {
          "output_type": "stream",
          "name": "stderr",
          "text": [
            "\u001b[32m[I 2023-01-22 06:21:56,472]\u001b[0m Trial 3 finished with value: 85.0 and parameters: {'optimizer': 'Adam', 'lr': 0.0005010080693611911, 'batch_size': 8}. Best is trial 0 with value: 87.5.\u001b[0m\n"
          ]
        },
        {
          "output_type": "stream",
          "name": "stdout",
          "text": [
            "accuracy : 85.0, epoch = 4\n",
            "Train dataset size: 12789\n",
            "Test dataset size: 3645\n",
            "accuracy : 88.4375, epoch = 0\n",
            "accuracy : 86.875, epoch = 1\n",
            "accuracy : 87.96875, epoch = 2\n",
            "accuracy : 87.5, epoch = 3\n"
          ]
        },
        {
          "output_type": "stream",
          "name": "stderr",
          "text": [
            "\u001b[32m[I 2023-01-22 06:23:06,892]\u001b[0m Trial 4 finished with value: 89.21875 and parameters: {'optimizer': 'SGD', 'lr': 0.000615545095147844, 'batch_size': 64}. Best is trial 4 with value: 89.21875.\u001b[0m\n"
          ]
        },
        {
          "output_type": "stream",
          "name": "stdout",
          "text": [
            "accuracy : 89.21875, epoch = 4\n",
            "Train dataset size: 12789\n",
            "Test dataset size: 3645\n",
            "accuracy : 91.25, epoch = 0\n",
            "accuracy : 85.0, epoch = 1\n",
            "accuracy : 87.5, epoch = 2\n",
            "accuracy : 80.0, epoch = 3\n"
          ]
        },
        {
          "output_type": "stream",
          "name": "stderr",
          "text": [
            "\u001b[32m[I 2023-01-22 06:23:18,333]\u001b[0m Trial 5 finished with value: 87.5 and parameters: {'optimizer': 'SGD', 'lr': 0.008983661984535795, 'batch_size': 8}. Best is trial 4 with value: 89.21875.\u001b[0m\n"
          ]
        },
        {
          "output_type": "stream",
          "name": "stdout",
          "text": [
            "accuracy : 87.5, epoch = 4\n",
            "Train dataset size: 12789\n",
            "Test dataset size: 3645\n"
          ]
        },
        {
          "output_type": "stream",
          "name": "stderr",
          "text": [
            "\u001b[32m[I 2023-01-22 06:23:20,761]\u001b[0m Trial 6 pruned. \u001b[0m\n"
          ]
        },
        {
          "output_type": "stream",
          "name": "stdout",
          "text": [
            "accuracy : 81.25, epoch = 0\n",
            "Train dataset size: 12789\n",
            "Test dataset size: 3645\n"
          ]
        },
        {
          "output_type": "stream",
          "name": "stderr",
          "text": [
            "\u001b[32m[I 2023-01-22 06:23:23,271]\u001b[0m Trial 7 pruned. \u001b[0m\n"
          ]
        },
        {
          "output_type": "stream",
          "name": "stdout",
          "text": [
            "accuracy : 75.0, epoch = 0\n",
            "Train dataset size: 12789\n",
            "Test dataset size: 3645\n"
          ]
        },
        {
          "output_type": "stream",
          "name": "stderr",
          "text": [
            "\u001b[32m[I 2023-01-22 06:23:37,891]\u001b[0m Trial 8 pruned. \u001b[0m\n"
          ]
        },
        {
          "output_type": "stream",
          "name": "stdout",
          "text": [
            "accuracy : 49.375, epoch = 0\n",
            "Train dataset size: 12789\n",
            "Test dataset size: 3645\n"
          ]
        },
        {
          "output_type": "stream",
          "name": "stderr",
          "text": [
            "\u001b[32m[I 2023-01-22 06:23:51,564]\u001b[0m Trial 9 pruned. \u001b[0m\n"
          ]
        },
        {
          "output_type": "stream",
          "name": "stdout",
          "text": [
            "accuracy : 45.9375, epoch = 0\n",
            "Train dataset size: 12789\n",
            "Test dataset size: 3645\n"
          ]
        },
        {
          "output_type": "stream",
          "name": "stderr",
          "text": [
            "\u001b[32m[I 2023-01-22 06:24:04,632]\u001b[0m Trial 10 pruned. \u001b[0m\n"
          ]
        },
        {
          "output_type": "stream",
          "name": "stdout",
          "text": [
            "accuracy : 49.375, epoch = 0\n",
            "Train dataset size: 12789\n",
            "Test dataset size: 3645\n"
          ]
        },
        {
          "output_type": "stream",
          "name": "stderr",
          "text": [
            "\u001b[32m[I 2023-01-22 06:24:18,967]\u001b[0m Trial 11 pruned. \u001b[0m\n"
          ]
        },
        {
          "output_type": "stream",
          "name": "stdout",
          "text": [
            "accuracy : 47.34375, epoch = 0\n",
            "Train dataset size: 12789\n",
            "Test dataset size: 3645\n"
          ]
        },
        {
          "output_type": "stream",
          "name": "stderr",
          "text": [
            "\u001b[32m[I 2023-01-22 06:24:32,637]\u001b[0m Trial 12 pruned. \u001b[0m\n"
          ]
        },
        {
          "output_type": "stream",
          "name": "stdout",
          "text": [
            "accuracy : 47.34375, epoch = 0\n",
            "Train dataset size: 12789\n",
            "Test dataset size: 3645\n"
          ]
        },
        {
          "output_type": "stream",
          "name": "stderr",
          "text": [
            "\u001b[32m[I 2023-01-22 06:24:46,109]\u001b[0m Trial 13 pruned. \u001b[0m\n"
          ]
        },
        {
          "output_type": "stream",
          "name": "stdout",
          "text": [
            "accuracy : 51.25, epoch = 0\n",
            "Train dataset size: 12789\n",
            "Test dataset size: 3645\n"
          ]
        },
        {
          "output_type": "stream",
          "name": "stderr",
          "text": [
            "\u001b[32m[I 2023-01-22 06:24:59,782]\u001b[0m Trial 14 pruned. \u001b[0m\n"
          ]
        },
        {
          "output_type": "stream",
          "name": "stdout",
          "text": [
            "accuracy : 46.25, epoch = 0\n",
            "Train dataset size: 12789\n",
            "Test dataset size: 3645\n"
          ]
        },
        {
          "output_type": "stream",
          "name": "stderr",
          "text": [
            "\u001b[32m[I 2023-01-22 06:25:02,218]\u001b[0m Trial 15 pruned. \u001b[0m\n"
          ]
        },
        {
          "output_type": "stream",
          "name": "stdout",
          "text": [
            "accuracy : 45.0, epoch = 0\n",
            "Train dataset size: 12789\n",
            "Test dataset size: 3645\n"
          ]
        },
        {
          "output_type": "stream",
          "name": "stderr",
          "text": [
            "\u001b[32m[I 2023-01-22 06:25:04,464]\u001b[0m Trial 16 pruned. \u001b[0m\n"
          ]
        },
        {
          "output_type": "stream",
          "name": "stdout",
          "text": [
            "accuracy : 28.75, epoch = 0\n",
            "Train dataset size: 12789\n",
            "Test dataset size: 3645\n"
          ]
        },
        {
          "output_type": "stream",
          "name": "stderr",
          "text": [
            "\u001b[32m[I 2023-01-22 06:25:17,784]\u001b[0m Trial 17 pruned. \u001b[0m\n"
          ]
        },
        {
          "output_type": "stream",
          "name": "stdout",
          "text": [
            "accuracy : 50.625003814697266, epoch = 0\n",
            "Train dataset size: 12789\n",
            "Test dataset size: 3645\n"
          ]
        },
        {
          "output_type": "stream",
          "name": "stderr",
          "text": [
            "\u001b[32m[I 2023-01-22 06:25:31,338]\u001b[0m Trial 18 pruned. \u001b[0m\n"
          ]
        },
        {
          "output_type": "stream",
          "name": "stdout",
          "text": [
            "accuracy : 49.6875, epoch = 0\n",
            "Train dataset size: 12789\n",
            "Test dataset size: 3645\n"
          ]
        },
        {
          "output_type": "stream",
          "name": "stderr",
          "text": [
            "\u001b[32m[I 2023-01-22 06:25:33,762]\u001b[0m Trial 19 pruned. \u001b[0m\n"
          ]
        },
        {
          "output_type": "stream",
          "name": "stdout",
          "text": [
            "accuracy : 50.0, epoch = 0\n",
            "Train dataset size: 12789\n",
            "Test dataset size: 3645\n"
          ]
        },
        {
          "output_type": "stream",
          "name": "stderr",
          "text": [
            "\u001b[32m[I 2023-01-22 06:25:47,414]\u001b[0m Trial 20 pruned. \u001b[0m\n"
          ]
        },
        {
          "output_type": "stream",
          "name": "stdout",
          "text": [
            "accuracy : 50.937503814697266, epoch = 0\n",
            "Train dataset size: 12789\n",
            "Test dataset size: 3645\n"
          ]
        },
        {
          "output_type": "stream",
          "name": "stderr",
          "text": [
            "\u001b[32m[I 2023-01-22 06:25:49,746]\u001b[0m Trial 21 pruned. \u001b[0m\n"
          ]
        },
        {
          "output_type": "stream",
          "name": "stdout",
          "text": [
            "accuracy : 53.750003814697266, epoch = 0\n",
            "Train dataset size: 12789\n",
            "Test dataset size: 3645\n"
          ]
        },
        {
          "output_type": "stream",
          "name": "stderr",
          "text": [
            "\u001b[32m[I 2023-01-22 06:25:52,208]\u001b[0m Trial 22 pruned. \u001b[0m\n"
          ]
        },
        {
          "output_type": "stream",
          "name": "stdout",
          "text": [
            "accuracy : 55.0, epoch = 0\n",
            "Train dataset size: 12789\n",
            "Test dataset size: 3645\n"
          ]
        },
        {
          "output_type": "stream",
          "name": "stderr",
          "text": [
            "\u001b[32m[I 2023-01-22 06:25:54,603]\u001b[0m Trial 23 pruned. \u001b[0m\n"
          ]
        },
        {
          "output_type": "stream",
          "name": "stdout",
          "text": [
            "accuracy : 48.75, epoch = 0\n",
            "Train dataset size: 12789\n",
            "Test dataset size: 3645\n"
          ]
        },
        {
          "output_type": "stream",
          "name": "stderr",
          "text": [
            "\u001b[32m[I 2023-01-22 06:25:56,962]\u001b[0m Trial 24 pruned. \u001b[0m\n"
          ]
        },
        {
          "output_type": "stream",
          "name": "stdout",
          "text": [
            "accuracy : 53.750003814697266, epoch = 0\n",
            "Train dataset size: 12789\n",
            "Test dataset size: 3645\n"
          ]
        },
        {
          "output_type": "stream",
          "name": "stderr",
          "text": [
            "\u001b[32m[I 2023-01-22 06:25:59,234]\u001b[0m Trial 25 pruned. \u001b[0m\n"
          ]
        },
        {
          "output_type": "stream",
          "name": "stdout",
          "text": [
            "accuracy : 52.500003814697266, epoch = 0\n",
            "Train dataset size: 12789\n",
            "Test dataset size: 3645\n"
          ]
        },
        {
          "output_type": "stream",
          "name": "stderr",
          "text": [
            "\u001b[32m[I 2023-01-22 06:26:01,641]\u001b[0m Trial 26 pruned. \u001b[0m\n"
          ]
        },
        {
          "output_type": "stream",
          "name": "stdout",
          "text": [
            "accuracy : 46.25, epoch = 0\n",
            "Train dataset size: 12789\n",
            "Test dataset size: 3645\n"
          ]
        },
        {
          "output_type": "stream",
          "name": "stderr",
          "text": [
            "\u001b[32m[I 2023-01-22 06:26:03,924]\u001b[0m Trial 27 pruned. \u001b[0m\n"
          ]
        },
        {
          "output_type": "stream",
          "name": "stdout",
          "text": [
            "accuracy : 50.0, epoch = 0\n",
            "Train dataset size: 12789\n",
            "Test dataset size: 3645\n"
          ]
        },
        {
          "output_type": "stream",
          "name": "stderr",
          "text": [
            "\u001b[32m[I 2023-01-22 06:26:17,211]\u001b[0m Trial 28 pruned. \u001b[0m\n"
          ]
        },
        {
          "output_type": "stream",
          "name": "stdout",
          "text": [
            "accuracy : 50.156253814697266, epoch = 0\n",
            "Train dataset size: 12789\n",
            "Test dataset size: 3645\n"
          ]
        },
        {
          "output_type": "stream",
          "name": "stderr",
          "text": [
            "\u001b[32m[I 2023-01-22 06:26:19,593]\u001b[0m Trial 29 pruned. \u001b[0m\n"
          ]
        },
        {
          "output_type": "stream",
          "name": "stdout",
          "text": [
            "accuracy : 50.0, epoch = 0\n",
            "Train dataset size: 12789\n",
            "Test dataset size: 3645\n"
          ]
        },
        {
          "output_type": "stream",
          "name": "stderr",
          "text": [
            "\u001b[32m[I 2023-01-22 06:26:22,003]\u001b[0m Trial 30 pruned. \u001b[0m\n"
          ]
        },
        {
          "output_type": "stream",
          "name": "stdout",
          "text": [
            "accuracy : 36.25, epoch = 0\n",
            "Train dataset size: 12789\n",
            "Test dataset size: 3645\n"
          ]
        },
        {
          "output_type": "stream",
          "name": "stderr",
          "text": [
            "\u001b[32m[I 2023-01-22 06:26:24,683]\u001b[0m Trial 31 pruned. \u001b[0m\n"
          ]
        },
        {
          "output_type": "stream",
          "name": "stdout",
          "text": [
            "accuracy : 45.0, epoch = 0\n",
            "Train dataset size: 12789\n",
            "Test dataset size: 3645\n"
          ]
        },
        {
          "output_type": "stream",
          "name": "stderr",
          "text": [
            "\u001b[32m[I 2023-01-22 06:26:27,147]\u001b[0m Trial 32 pruned. \u001b[0m\n"
          ]
        },
        {
          "output_type": "stream",
          "name": "stdout",
          "text": [
            "accuracy : 36.25, epoch = 0\n",
            "Train dataset size: 12789\n",
            "Test dataset size: 3645\n"
          ]
        },
        {
          "output_type": "stream",
          "name": "stderr",
          "text": [
            "\u001b[32m[I 2023-01-22 06:26:29,499]\u001b[0m Trial 33 pruned. \u001b[0m\n"
          ]
        },
        {
          "output_type": "stream",
          "name": "stdout",
          "text": [
            "accuracy : 50.0, epoch = 0\n",
            "Train dataset size: 12789\n",
            "Test dataset size: 3645\n"
          ]
        },
        {
          "output_type": "stream",
          "name": "stderr",
          "text": [
            "\u001b[32m[I 2023-01-22 06:26:31,909]\u001b[0m Trial 34 pruned. \u001b[0m\n"
          ]
        },
        {
          "output_type": "stream",
          "name": "stdout",
          "text": [
            "accuracy : 46.25, epoch = 0\n",
            "Train dataset size: 12789\n",
            "Test dataset size: 3645\n"
          ]
        },
        {
          "output_type": "stream",
          "name": "stderr",
          "text": [
            "\u001b[32m[I 2023-01-22 06:26:34,266]\u001b[0m Trial 35 pruned. \u001b[0m\n"
          ]
        },
        {
          "output_type": "stream",
          "name": "stdout",
          "text": [
            "accuracy : 43.75, epoch = 0\n",
            "Train dataset size: 12789\n",
            "Test dataset size: 3645\n"
          ]
        },
        {
          "output_type": "stream",
          "name": "stderr",
          "text": [
            "\u001b[32m[I 2023-01-22 06:26:36,565]\u001b[0m Trial 36 pruned. \u001b[0m\n"
          ]
        },
        {
          "output_type": "stream",
          "name": "stdout",
          "text": [
            "accuracy : 50.0, epoch = 0\n",
            "Train dataset size: 12789\n",
            "Test dataset size: 3645\n"
          ]
        },
        {
          "output_type": "stream",
          "name": "stderr",
          "text": [
            "\u001b[32m[I 2023-01-22 06:26:38,915]\u001b[0m Trial 37 pruned. \u001b[0m\n"
          ]
        },
        {
          "output_type": "stream",
          "name": "stdout",
          "text": [
            "accuracy : 35.0, epoch = 0\n",
            "Train dataset size: 12789\n",
            "Test dataset size: 3645\n"
          ]
        },
        {
          "output_type": "stream",
          "name": "stderr",
          "text": [
            "\u001b[32m[I 2023-01-22 06:26:52,325]\u001b[0m Trial 38 pruned. \u001b[0m\n"
          ]
        },
        {
          "output_type": "stream",
          "name": "stdout",
          "text": [
            "accuracy : 52.968753814697266, epoch = 0\n",
            "Train dataset size: 12789\n",
            "Test dataset size: 3645\n"
          ]
        },
        {
          "output_type": "stream",
          "name": "stderr",
          "text": [
            "\u001b[32m[I 2023-01-22 06:26:54,765]\u001b[0m Trial 39 pruned. \u001b[0m\n"
          ]
        },
        {
          "output_type": "stream",
          "name": "stdout",
          "text": [
            "accuracy : 48.75, epoch = 0\n",
            "Train dataset size: 12789\n",
            "Test dataset size: 3645\n"
          ]
        },
        {
          "output_type": "stream",
          "name": "stderr",
          "text": [
            "\u001b[32m[I 2023-01-22 06:27:08,456]\u001b[0m Trial 40 pruned. \u001b[0m\n"
          ]
        },
        {
          "output_type": "stream",
          "name": "stdout",
          "text": [
            "accuracy : 51.406253814697266, epoch = 0\n",
            "Train dataset size: 12789\n",
            "Test dataset size: 3645\n"
          ]
        },
        {
          "output_type": "stream",
          "name": "stderr",
          "text": [
            "\u001b[32m[I 2023-01-22 06:27:10,766]\u001b[0m Trial 41 pruned. \u001b[0m\n"
          ]
        },
        {
          "output_type": "stream",
          "name": "stdout",
          "text": [
            "accuracy : 43.75, epoch = 0\n",
            "Train dataset size: 12789\n",
            "Test dataset size: 3645\n"
          ]
        },
        {
          "output_type": "stream",
          "name": "stderr",
          "text": [
            "\u001b[32m[I 2023-01-22 06:27:13,007]\u001b[0m Trial 42 pruned. \u001b[0m\n"
          ]
        },
        {
          "output_type": "stream",
          "name": "stdout",
          "text": [
            "accuracy : 41.25, epoch = 0\n",
            "Train dataset size: 12789\n",
            "Test dataset size: 3645\n"
          ]
        },
        {
          "output_type": "stream",
          "name": "stderr",
          "text": [
            "\u001b[32m[I 2023-01-22 06:27:15,376]\u001b[0m Trial 43 pruned. \u001b[0m\n"
          ]
        },
        {
          "output_type": "stream",
          "name": "stdout",
          "text": [
            "accuracy : 47.5, epoch = 0\n",
            "Train dataset size: 12789\n",
            "Test dataset size: 3645\n"
          ]
        },
        {
          "output_type": "stream",
          "name": "stderr",
          "text": [
            "\u001b[32m[I 2023-01-22 06:27:29,514]\u001b[0m Trial 44 pruned. \u001b[0m\n"
          ]
        },
        {
          "output_type": "stream",
          "name": "stdout",
          "text": [
            "accuracy : 50.0, epoch = 0\n",
            "Train dataset size: 12789\n",
            "Test dataset size: 3645\n"
          ]
        },
        {
          "output_type": "stream",
          "name": "stderr",
          "text": [
            "\u001b[32m[I 2023-01-22 06:27:32,144]\u001b[0m Trial 45 pruned. \u001b[0m\n"
          ]
        },
        {
          "output_type": "stream",
          "name": "stdout",
          "text": [
            "accuracy : 41.25, epoch = 0\n",
            "Train dataset size: 12789\n",
            "Test dataset size: 3645\n"
          ]
        },
        {
          "output_type": "stream",
          "name": "stderr",
          "text": [
            "\u001b[32m[I 2023-01-22 06:27:46,347]\u001b[0m Trial 46 pruned. \u001b[0m\n"
          ]
        },
        {
          "output_type": "stream",
          "name": "stdout",
          "text": [
            "accuracy : 54.6875, epoch = 0\n",
            "Train dataset size: 12789\n",
            "Test dataset size: 3645\n"
          ]
        },
        {
          "output_type": "stream",
          "name": "stderr",
          "text": [
            "\u001b[32m[I 2023-01-22 06:27:48,905]\u001b[0m Trial 47 pruned. \u001b[0m\n"
          ]
        },
        {
          "output_type": "stream",
          "name": "stdout",
          "text": [
            "accuracy : 42.5, epoch = 0\n",
            "Train dataset size: 12789\n",
            "Test dataset size: 3645\n"
          ]
        },
        {
          "output_type": "stream",
          "name": "stderr",
          "text": [
            "\u001b[32m[I 2023-01-22 06:28:03,203]\u001b[0m Trial 48 pruned. \u001b[0m\n"
          ]
        },
        {
          "output_type": "stream",
          "name": "stdout",
          "text": [
            "accuracy : 51.5625, epoch = 0\n",
            "Train dataset size: 12789\n",
            "Test dataset size: 3645\n"
          ]
        },
        {
          "output_type": "stream",
          "name": "stderr",
          "text": [
            "\u001b[32m[I 2023-01-22 06:28:05,565]\u001b[0m Trial 49 pruned. \u001b[0m\n"
          ]
        },
        {
          "output_type": "stream",
          "name": "stdout",
          "text": [
            "accuracy : 53.750003814697266, epoch = 0\n",
            "Train dataset size: 12789\n",
            "Test dataset size: 3645\n"
          ]
        },
        {
          "output_type": "stream",
          "name": "stderr",
          "text": [
            "\u001b[32m[I 2023-01-22 06:28:19,098]\u001b[0m Trial 50 pruned. \u001b[0m\n"
          ]
        },
        {
          "output_type": "stream",
          "name": "stdout",
          "text": [
            "accuracy : 51.25, epoch = 0\n",
            "Train dataset size: 12789\n",
            "Test dataset size: 3645\n"
          ]
        },
        {
          "output_type": "stream",
          "name": "stderr",
          "text": [
            "\u001b[32m[I 2023-01-22 06:28:21,444]\u001b[0m Trial 51 pruned. \u001b[0m\n"
          ]
        },
        {
          "output_type": "stream",
          "name": "stdout",
          "text": [
            "accuracy : 48.75, epoch = 0\n",
            "Train dataset size: 12789\n",
            "Test dataset size: 3645\n"
          ]
        },
        {
          "output_type": "stream",
          "name": "stderr",
          "text": [
            "\u001b[32m[I 2023-01-22 06:28:23,675]\u001b[0m Trial 52 pruned. \u001b[0m\n"
          ]
        },
        {
          "output_type": "stream",
          "name": "stdout",
          "text": [
            "accuracy : 52.500003814697266, epoch = 0\n",
            "Train dataset size: 12789\n",
            "Test dataset size: 3645\n"
          ]
        },
        {
          "output_type": "stream",
          "name": "stderr",
          "text": [
            "\u001b[32m[I 2023-01-22 06:28:26,187]\u001b[0m Trial 53 pruned. \u001b[0m\n"
          ]
        },
        {
          "output_type": "stream",
          "name": "stdout",
          "text": [
            "accuracy : 46.25, epoch = 0\n",
            "Train dataset size: 12789\n",
            "Test dataset size: 3645\n"
          ]
        },
        {
          "output_type": "stream",
          "name": "stderr",
          "text": [
            "\u001b[32m[I 2023-01-22 06:28:28,523]\u001b[0m Trial 54 pruned. \u001b[0m\n"
          ]
        },
        {
          "output_type": "stream",
          "name": "stdout",
          "text": [
            "accuracy : 57.5, epoch = 0\n",
            "Train dataset size: 12789\n",
            "Test dataset size: 3645\n"
          ]
        },
        {
          "output_type": "stream",
          "name": "stderr",
          "text": [
            "\u001b[32m[I 2023-01-22 06:28:30,929]\u001b[0m Trial 55 pruned. \u001b[0m\n"
          ]
        },
        {
          "output_type": "stream",
          "name": "stdout",
          "text": [
            "accuracy : 58.750003814697266, epoch = 0\n",
            "Train dataset size: 12789\n",
            "Test dataset size: 3645\n"
          ]
        },
        {
          "output_type": "stream",
          "name": "stderr",
          "text": [
            "\u001b[32m[I 2023-01-22 06:28:33,375]\u001b[0m Trial 56 pruned. \u001b[0m\n"
          ]
        },
        {
          "output_type": "stream",
          "name": "stdout",
          "text": [
            "accuracy : 46.25, epoch = 0\n",
            "Train dataset size: 12789\n",
            "Test dataset size: 3645\n"
          ]
        },
        {
          "output_type": "stream",
          "name": "stderr",
          "text": [
            "\u001b[32m[I 2023-01-22 06:28:47,692]\u001b[0m Trial 57 pruned. \u001b[0m\n"
          ]
        },
        {
          "output_type": "stream",
          "name": "stdout",
          "text": [
            "accuracy : 48.28125, epoch = 0\n",
            "Train dataset size: 12789\n",
            "Test dataset size: 3645\n"
          ]
        },
        {
          "output_type": "stream",
          "name": "stderr",
          "text": [
            "\u001b[32m[I 2023-01-22 06:28:49,978]\u001b[0m Trial 58 pruned. \u001b[0m\n"
          ]
        },
        {
          "output_type": "stream",
          "name": "stdout",
          "text": [
            "accuracy : 51.25, epoch = 0\n",
            "Train dataset size: 12789\n",
            "Test dataset size: 3645\n"
          ]
        },
        {
          "output_type": "stream",
          "name": "stderr",
          "text": [
            "\u001b[32m[I 2023-01-22 06:28:52,385]\u001b[0m Trial 59 pruned. \u001b[0m\n"
          ]
        },
        {
          "output_type": "stream",
          "name": "stdout",
          "text": [
            "accuracy : 47.5, epoch = 0\n",
            "Train dataset size: 12789\n",
            "Test dataset size: 3645\n"
          ]
        },
        {
          "output_type": "stream",
          "name": "stderr",
          "text": [
            "\u001b[32m[I 2023-01-22 06:28:54,886]\u001b[0m Trial 60 pruned. \u001b[0m\n"
          ]
        },
        {
          "output_type": "stream",
          "name": "stdout",
          "text": [
            "accuracy : 45.0, epoch = 0\n",
            "Train dataset size: 12789\n",
            "Test dataset size: 3645\n"
          ]
        },
        {
          "output_type": "stream",
          "name": "stderr",
          "text": [
            "\u001b[32m[I 2023-01-22 06:28:57,320]\u001b[0m Trial 61 pruned. \u001b[0m\n"
          ]
        },
        {
          "output_type": "stream",
          "name": "stdout",
          "text": [
            "accuracy : 43.75, epoch = 0\n",
            "Train dataset size: 12789\n",
            "Test dataset size: 3645\n"
          ]
        },
        {
          "output_type": "stream",
          "name": "stderr",
          "text": [
            "\u001b[32m[I 2023-01-22 06:29:00,075]\u001b[0m Trial 62 pruned. \u001b[0m\n"
          ]
        },
        {
          "output_type": "stream",
          "name": "stdout",
          "text": [
            "accuracy : 51.25, epoch = 0\n",
            "Train dataset size: 12789\n",
            "Test dataset size: 3645\n"
          ]
        },
        {
          "output_type": "stream",
          "name": "stderr",
          "text": [
            "\u001b[32m[I 2023-01-22 06:29:02,508]\u001b[0m Trial 63 pruned. \u001b[0m\n"
          ]
        },
        {
          "output_type": "stream",
          "name": "stdout",
          "text": [
            "accuracy : 53.750003814697266, epoch = 0\n",
            "Train dataset size: 12789\n",
            "Test dataset size: 3645\n"
          ]
        },
        {
          "output_type": "stream",
          "name": "stderr",
          "text": [
            "\u001b[32m[I 2023-01-22 06:29:04,894]\u001b[0m Trial 64 pruned. \u001b[0m\n"
          ]
        },
        {
          "output_type": "stream",
          "name": "stdout",
          "text": [
            "accuracy : 53.750003814697266, epoch = 0\n",
            "Train dataset size: 12789\n",
            "Test dataset size: 3645\n"
          ]
        },
        {
          "output_type": "stream",
          "name": "stderr",
          "text": [
            "\u001b[32m[I 2023-01-22 06:29:19,018]\u001b[0m Trial 65 pruned. \u001b[0m\n"
          ]
        },
        {
          "output_type": "stream",
          "name": "stdout",
          "text": [
            "accuracy : 51.406253814697266, epoch = 0\n",
            "Train dataset size: 12789\n",
            "Test dataset size: 3645\n"
          ]
        },
        {
          "output_type": "stream",
          "name": "stderr",
          "text": [
            "\u001b[32m[I 2023-01-22 06:29:21,448]\u001b[0m Trial 66 pruned. \u001b[0m\n"
          ]
        },
        {
          "output_type": "stream",
          "name": "stdout",
          "text": [
            "accuracy : 48.75, epoch = 0\n",
            "Train dataset size: 12789\n",
            "Test dataset size: 3645\n"
          ]
        },
        {
          "output_type": "stream",
          "name": "stderr",
          "text": [
            "\u001b[32m[I 2023-01-22 06:29:23,696]\u001b[0m Trial 67 pruned. \u001b[0m\n"
          ]
        },
        {
          "output_type": "stream",
          "name": "stdout",
          "text": [
            "accuracy : 50.0, epoch = 0\n",
            "Train dataset size: 12789\n",
            "Test dataset size: 3645\n"
          ]
        },
        {
          "output_type": "stream",
          "name": "stderr",
          "text": [
            "\u001b[32m[I 2023-01-22 06:29:26,199]\u001b[0m Trial 68 pruned. \u001b[0m\n"
          ]
        },
        {
          "output_type": "stream",
          "name": "stdout",
          "text": [
            "accuracy : 50.0, epoch = 0\n",
            "Train dataset size: 12789\n",
            "Test dataset size: 3645\n"
          ]
        },
        {
          "output_type": "stream",
          "name": "stderr",
          "text": [
            "\u001b[32m[I 2023-01-22 06:29:40,514]\u001b[0m Trial 69 pruned. \u001b[0m\n"
          ]
        },
        {
          "output_type": "stream",
          "name": "stdout",
          "text": [
            "accuracy : 59.375, epoch = 0\n",
            "Train dataset size: 12789\n",
            "Test dataset size: 3645\n"
          ]
        },
        {
          "output_type": "stream",
          "name": "stderr",
          "text": [
            "\u001b[32m[I 2023-01-22 06:29:42,854]\u001b[0m Trial 70 pruned. \u001b[0m\n"
          ]
        },
        {
          "output_type": "stream",
          "name": "stdout",
          "text": [
            "accuracy : 37.5, epoch = 0\n",
            "Train dataset size: 12789\n",
            "Test dataset size: 3645\n"
          ]
        },
        {
          "output_type": "stream",
          "name": "stderr",
          "text": [
            "\u001b[32m[I 2023-01-22 06:29:45,354]\u001b[0m Trial 71 pruned. \u001b[0m\n"
          ]
        },
        {
          "output_type": "stream",
          "name": "stdout",
          "text": [
            "accuracy : 41.25, epoch = 0\n",
            "Train dataset size: 12789\n",
            "Test dataset size: 3645\n"
          ]
        },
        {
          "output_type": "stream",
          "name": "stderr",
          "text": [
            "\u001b[32m[I 2023-01-22 06:29:47,780]\u001b[0m Trial 72 pruned. \u001b[0m\n"
          ]
        },
        {
          "output_type": "stream",
          "name": "stdout",
          "text": [
            "accuracy : 55.0, epoch = 0\n",
            "Train dataset size: 12789\n",
            "Test dataset size: 3645\n"
          ]
        },
        {
          "output_type": "stream",
          "name": "stderr",
          "text": [
            "\u001b[32m[I 2023-01-22 06:29:50,389]\u001b[0m Trial 73 pruned. \u001b[0m\n"
          ]
        },
        {
          "output_type": "stream",
          "name": "stdout",
          "text": [
            "accuracy : 52.500003814697266, epoch = 0\n",
            "Train dataset size: 12789\n",
            "Test dataset size: 3645\n"
          ]
        },
        {
          "output_type": "stream",
          "name": "stderr",
          "text": [
            "\u001b[32m[I 2023-01-22 06:29:52,811]\u001b[0m Trial 74 pruned. \u001b[0m\n"
          ]
        },
        {
          "output_type": "stream",
          "name": "stdout",
          "text": [
            "accuracy : 40.0, epoch = 0\n",
            "Train dataset size: 12789\n",
            "Test dataset size: 3645\n"
          ]
        },
        {
          "output_type": "stream",
          "name": "stderr",
          "text": [
            "\u001b[32m[I 2023-01-22 06:29:55,192]\u001b[0m Trial 75 pruned. \u001b[0m\n"
          ]
        },
        {
          "output_type": "stream",
          "name": "stdout",
          "text": [
            "accuracy : 46.25, epoch = 0\n",
            "Train dataset size: 12789\n",
            "Test dataset size: 3645\n"
          ]
        },
        {
          "output_type": "stream",
          "name": "stderr",
          "text": [
            "\u001b[32m[I 2023-01-22 06:29:57,609]\u001b[0m Trial 76 pruned. \u001b[0m\n"
          ]
        },
        {
          "output_type": "stream",
          "name": "stdout",
          "text": [
            "accuracy : 41.25, epoch = 0\n",
            "Train dataset size: 12789\n",
            "Test dataset size: 3645\n"
          ]
        },
        {
          "output_type": "stream",
          "name": "stderr",
          "text": [
            "\u001b[32m[I 2023-01-22 06:30:11,618]\u001b[0m Trial 77 pruned. \u001b[0m\n"
          ]
        },
        {
          "output_type": "stream",
          "name": "stdout",
          "text": [
            "accuracy : 55.78125, epoch = 0\n",
            "Train dataset size: 12789\n",
            "Test dataset size: 3645\n"
          ]
        },
        {
          "output_type": "stream",
          "name": "stderr",
          "text": [
            "\u001b[32m[I 2023-01-22 06:30:13,971]\u001b[0m Trial 78 pruned. \u001b[0m\n"
          ]
        },
        {
          "output_type": "stream",
          "name": "stdout",
          "text": [
            "accuracy : 45.0, epoch = 0\n",
            "Train dataset size: 12789\n",
            "Test dataset size: 3645\n"
          ]
        },
        {
          "output_type": "stream",
          "name": "stderr",
          "text": [
            "\u001b[32m[I 2023-01-22 06:30:16,284]\u001b[0m Trial 79 pruned. \u001b[0m\n"
          ]
        },
        {
          "output_type": "stream",
          "name": "stdout",
          "text": [
            "accuracy : 51.25, epoch = 0\n",
            "Train dataset size: 12789\n",
            "Test dataset size: 3645\n"
          ]
        },
        {
          "output_type": "stream",
          "name": "stderr",
          "text": [
            "\u001b[32m[I 2023-01-22 06:30:18,677]\u001b[0m Trial 80 pruned. \u001b[0m\n"
          ]
        },
        {
          "output_type": "stream",
          "name": "stdout",
          "text": [
            "accuracy : 41.25, epoch = 0\n",
            "Train dataset size: 12789\n",
            "Test dataset size: 3645\n"
          ]
        },
        {
          "output_type": "stream",
          "name": "stderr",
          "text": [
            "\u001b[32m[I 2023-01-22 06:30:33,205]\u001b[0m Trial 81 pruned. \u001b[0m\n"
          ]
        },
        {
          "output_type": "stream",
          "name": "stdout",
          "text": [
            "accuracy : 58.750003814697266, epoch = 0\n",
            "Train dataset size: 12789\n",
            "Test dataset size: 3645\n"
          ]
        },
        {
          "output_type": "stream",
          "name": "stderr",
          "text": [
            "\u001b[32m[I 2023-01-22 06:30:47,899]\u001b[0m Trial 82 pruned. \u001b[0m\n"
          ]
        },
        {
          "output_type": "stream",
          "name": "stdout",
          "text": [
            "accuracy : 57.8125, epoch = 0\n",
            "Train dataset size: 12789\n",
            "Test dataset size: 3645\n"
          ]
        },
        {
          "output_type": "stream",
          "name": "stderr",
          "text": [
            "\u001b[32m[I 2023-01-22 06:31:01,950]\u001b[0m Trial 83 pruned. \u001b[0m\n"
          ]
        },
        {
          "output_type": "stream",
          "name": "stdout",
          "text": [
            "accuracy : 56.5625, epoch = 0\n",
            "Train dataset size: 12789\n",
            "Test dataset size: 3645\n"
          ]
        },
        {
          "output_type": "stream",
          "name": "stderr",
          "text": [
            "\u001b[32m[I 2023-01-22 06:31:16,385]\u001b[0m Trial 84 pruned. \u001b[0m\n"
          ]
        },
        {
          "output_type": "stream",
          "name": "stdout",
          "text": [
            "accuracy : 57.656253814697266, epoch = 0\n",
            "Train dataset size: 12789\n",
            "Test dataset size: 3645\n"
          ]
        },
        {
          "output_type": "stream",
          "name": "stderr",
          "text": [
            "\u001b[32m[I 2023-01-22 06:31:30,149]\u001b[0m Trial 85 pruned. \u001b[0m\n"
          ]
        },
        {
          "output_type": "stream",
          "name": "stdout",
          "text": [
            "accuracy : 59.84375, epoch = 0\n",
            "Train dataset size: 12789\n",
            "Test dataset size: 3645\n"
          ]
        },
        {
          "output_type": "stream",
          "name": "stderr",
          "text": [
            "\u001b[32m[I 2023-01-22 06:31:44,212]\u001b[0m Trial 86 pruned. \u001b[0m\n"
          ]
        },
        {
          "output_type": "stream",
          "name": "stdout",
          "text": [
            "accuracy : 57.34375, epoch = 0\n",
            "Train dataset size: 12789\n",
            "Test dataset size: 3645\n"
          ]
        },
        {
          "output_type": "stream",
          "name": "stderr",
          "text": [
            "\u001b[32m[I 2023-01-22 06:31:46,747]\u001b[0m Trial 87 pruned. \u001b[0m\n"
          ]
        },
        {
          "output_type": "stream",
          "name": "stdout",
          "text": [
            "accuracy : 55.0, epoch = 0\n",
            "Train dataset size: 12789\n",
            "Test dataset size: 3645\n"
          ]
        },
        {
          "output_type": "stream",
          "name": "stderr",
          "text": [
            "\u001b[32m[I 2023-01-22 06:32:00,400]\u001b[0m Trial 88 pruned. \u001b[0m\n"
          ]
        },
        {
          "output_type": "stream",
          "name": "stdout",
          "text": [
            "accuracy : 57.03125, epoch = 0\n",
            "Train dataset size: 12789\n",
            "Test dataset size: 3645\n"
          ]
        },
        {
          "output_type": "stream",
          "name": "stderr",
          "text": [
            "\u001b[32m[I 2023-01-22 06:32:02,801]\u001b[0m Trial 89 pruned. \u001b[0m\n"
          ]
        },
        {
          "output_type": "stream",
          "name": "stdout",
          "text": [
            "accuracy : 63.75, epoch = 0\n",
            "Train dataset size: 12789\n",
            "Test dataset size: 3645\n"
          ]
        },
        {
          "output_type": "stream",
          "name": "stderr",
          "text": [
            "\u001b[32m[I 2023-01-22 06:32:05,326]\u001b[0m Trial 90 pruned. \u001b[0m\n"
          ]
        },
        {
          "output_type": "stream",
          "name": "stdout",
          "text": [
            "accuracy : 48.75, epoch = 0\n",
            "Train dataset size: 12789\n",
            "Test dataset size: 3645\n"
          ]
        },
        {
          "output_type": "stream",
          "name": "stderr",
          "text": [
            "\u001b[32m[I 2023-01-22 06:32:07,667]\u001b[0m Trial 91 pruned. \u001b[0m\n"
          ]
        },
        {
          "output_type": "stream",
          "name": "stdout",
          "text": [
            "accuracy : 46.25, epoch = 0\n",
            "Train dataset size: 12789\n",
            "Test dataset size: 3645\n"
          ]
        },
        {
          "output_type": "stream",
          "name": "stderr",
          "text": [
            "\u001b[32m[I 2023-01-22 06:32:10,037]\u001b[0m Trial 92 pruned. \u001b[0m\n"
          ]
        },
        {
          "output_type": "stream",
          "name": "stdout",
          "text": [
            "accuracy : 55.0, epoch = 0\n",
            "Train dataset size: 12789\n",
            "Test dataset size: 3645\n"
          ]
        },
        {
          "output_type": "stream",
          "name": "stderr",
          "text": [
            "\u001b[32m[I 2023-01-22 06:32:12,426]\u001b[0m Trial 93 pruned. \u001b[0m\n"
          ]
        },
        {
          "output_type": "stream",
          "name": "stdout",
          "text": [
            "accuracy : 53.750003814697266, epoch = 0\n",
            "Train dataset size: 12789\n",
            "Test dataset size: 3645\n"
          ]
        },
        {
          "output_type": "stream",
          "name": "stderr",
          "text": [
            "\u001b[32m[I 2023-01-22 06:32:14,669]\u001b[0m Trial 94 pruned. \u001b[0m\n"
          ]
        },
        {
          "output_type": "stream",
          "name": "stdout",
          "text": [
            "accuracy : 40.0, epoch = 0\n",
            "Train dataset size: 12789\n",
            "Test dataset size: 3645\n"
          ]
        },
        {
          "output_type": "stream",
          "name": "stderr",
          "text": [
            "\u001b[32m[I 2023-01-22 06:32:17,112]\u001b[0m Trial 95 pruned. \u001b[0m\n"
          ]
        },
        {
          "output_type": "stream",
          "name": "stdout",
          "text": [
            "accuracy : 45.0, epoch = 0\n",
            "Train dataset size: 12789\n",
            "Test dataset size: 3645\n"
          ]
        },
        {
          "output_type": "stream",
          "name": "stderr",
          "text": [
            "\u001b[32m[I 2023-01-22 06:32:19,449]\u001b[0m Trial 96 pruned. \u001b[0m\n"
          ]
        },
        {
          "output_type": "stream",
          "name": "stdout",
          "text": [
            "accuracy : 48.75, epoch = 0\n",
            "Train dataset size: 12789\n",
            "Test dataset size: 3645\n"
          ]
        },
        {
          "output_type": "stream",
          "name": "stderr",
          "text": [
            "\u001b[32m[I 2023-01-22 06:32:33,439]\u001b[0m Trial 97 pruned. \u001b[0m\n"
          ]
        },
        {
          "output_type": "stream",
          "name": "stdout",
          "text": [
            "accuracy : 59.531253814697266, epoch = 0\n",
            "Train dataset size: 12789\n",
            "Test dataset size: 3645\n"
          ]
        },
        {
          "output_type": "stream",
          "name": "stderr",
          "text": [
            "\u001b[32m[I 2023-01-22 06:32:35,853]\u001b[0m Trial 98 pruned. \u001b[0m\n"
          ]
        },
        {
          "output_type": "stream",
          "name": "stdout",
          "text": [
            "accuracy : 51.25, epoch = 0\n",
            "Train dataset size: 12789\n",
            "Test dataset size: 3645\n"
          ]
        },
        {
          "output_type": "stream",
          "name": "stderr",
          "text": [
            "\u001b[32m[I 2023-01-22 06:32:38,129]\u001b[0m Trial 99 pruned. \u001b[0m\n"
          ]
        },
        {
          "output_type": "stream",
          "name": "stdout",
          "text": [
            "accuracy : 47.5, epoch = 0\n",
            "Study statistics: \n",
            "  Number of finished trials:  100\n",
            "  Number of pruned trials:  94\n",
            "  Number of complete trials:  6\n",
            "Best trial:\n",
            "  Value:  89.21875\n",
            "  Params: \n",
            "    optimizer: SGD\n",
            "    lr: 0.000615545095147844\n",
            "    batch_size: 64\n"
          ]
        }
      ]
    },
    {
      "cell_type": "code",
      "source": [
        "\"\"\"\n",
        "Best trial:\n",
        "  Value:  89.21875\n",
        "  Params: \n",
        "    optimizer: SGD\n",
        "    lr: 0.000615545095147844\n",
        "    batch_size: 64\n",
        "\"\"\""
      ],
      "metadata": {
        "id": "rDeMC5ZrMoft"
      },
      "execution_count": null,
      "outputs": []
    },
    {
      "cell_type": "code",
      "source": [
        "fig = optuna.visualization.plot_param_importances(study)\n",
        "fig.show()"
      ],
      "metadata": {
        "colab": {
          "base_uri": "https://localhost:8080/",
          "height": 542
        },
        "id": "mzK9WOq2MkI4",
        "outputId": "cebe4891-6efe-41ed-e383-d0e7fd187498"
      },
      "execution_count": null,
      "outputs": [
        {
          "output_type": "display_data",
          "data": {
            "text/html": [
              "<html>\n",
              "<head><meta charset=\"utf-8\" /></head>\n",
              "<body>\n",
              "    <div>            <script src=\"https://cdnjs.cloudflare.com/ajax/libs/mathjax/2.7.5/MathJax.js?config=TeX-AMS-MML_SVG\"></script><script type=\"text/javascript\">if (window.MathJax) {MathJax.Hub.Config({SVG: {font: \"STIX-Web\"}});}</script>                <script type=\"text/javascript\">window.PlotlyConfig = {MathJaxConfig: 'local'};</script>\n",
              "        <script src=\"https://cdn.plot.ly/plotly-2.8.3.min.js\"></script>                <div id=\"23815905-b49b-4003-b928-2338b835b45b\" class=\"plotly-graph-div\" style=\"height:525px; width:100%;\"></div>            <script type=\"text/javascript\">                                    window.PLOTLYENV=window.PLOTLYENV || {};                                    if (document.getElementById(\"23815905-b49b-4003-b928-2338b835b45b\")) {                    Plotly.newPlot(                        \"23815905-b49b-4003-b928-2338b835b45b\",                        [{\"cliponaxis\":false,\"hovertemplate\":[\"optimizer (CategoricalDistribution): 0.2815898110909027<extra></extra>\",\"batch_size (CategoricalDistribution): 0.30655261318263444<extra></extra>\",\"lr (FloatDistribution): 0.411857575726463<extra></extra>\"],\"marker\":{\"color\":\"rgb(66,146,198)\"},\"orientation\":\"h\",\"text\":[\"0.28\",\"0.31\",\"0.41\"],\"textposition\":\"outside\",\"x\":[0.2815898110909027,0.30655261318263444,0.411857575726463],\"y\":[\"optimizer\",\"batch_size\",\"lr\"],\"type\":\"bar\"}],                        {\"showlegend\":false,\"title\":{\"text\":\"Hyperparameter Importances\"},\"xaxis\":{\"title\":{\"text\":\"Importance for Objective Value\"}},\"yaxis\":{\"title\":{\"text\":\"Hyperparameter\"}},\"template\":{\"data\":{\"bar\":[{\"error_x\":{\"color\":\"#2a3f5f\"},\"error_y\":{\"color\":\"#2a3f5f\"},\"marker\":{\"line\":{\"color\":\"#E5ECF6\",\"width\":0.5},\"pattern\":{\"fillmode\":\"overlay\",\"size\":10,\"solidity\":0.2}},\"type\":\"bar\"}],\"barpolar\":[{\"marker\":{\"line\":{\"color\":\"#E5ECF6\",\"width\":0.5},\"pattern\":{\"fillmode\":\"overlay\",\"size\":10,\"solidity\":0.2}},\"type\":\"barpolar\"}],\"carpet\":[{\"aaxis\":{\"endlinecolor\":\"#2a3f5f\",\"gridcolor\":\"white\",\"linecolor\":\"white\",\"minorgridcolor\":\"white\",\"startlinecolor\":\"#2a3f5f\"},\"baxis\":{\"endlinecolor\":\"#2a3f5f\",\"gridcolor\":\"white\",\"linecolor\":\"white\",\"minorgridcolor\":\"white\",\"startlinecolor\":\"#2a3f5f\"},\"type\":\"carpet\"}],\"choropleth\":[{\"colorbar\":{\"outlinewidth\":0,\"ticks\":\"\"},\"type\":\"choropleth\"}],\"contour\":[{\"colorbar\":{\"outlinewidth\":0,\"ticks\":\"\"},\"colorscale\":[[0.0,\"#0d0887\"],[0.1111111111111111,\"#46039f\"],[0.2222222222222222,\"#7201a8\"],[0.3333333333333333,\"#9c179e\"],[0.4444444444444444,\"#bd3786\"],[0.5555555555555556,\"#d8576b\"],[0.6666666666666666,\"#ed7953\"],[0.7777777777777778,\"#fb9f3a\"],[0.8888888888888888,\"#fdca26\"],[1.0,\"#f0f921\"]],\"type\":\"contour\"}],\"contourcarpet\":[{\"colorbar\":{\"outlinewidth\":0,\"ticks\":\"\"},\"type\":\"contourcarpet\"}],\"heatmap\":[{\"colorbar\":{\"outlinewidth\":0,\"ticks\":\"\"},\"colorscale\":[[0.0,\"#0d0887\"],[0.1111111111111111,\"#46039f\"],[0.2222222222222222,\"#7201a8\"],[0.3333333333333333,\"#9c179e\"],[0.4444444444444444,\"#bd3786\"],[0.5555555555555556,\"#d8576b\"],[0.6666666666666666,\"#ed7953\"],[0.7777777777777778,\"#fb9f3a\"],[0.8888888888888888,\"#fdca26\"],[1.0,\"#f0f921\"]],\"type\":\"heatmap\"}],\"heatmapgl\":[{\"colorbar\":{\"outlinewidth\":0,\"ticks\":\"\"},\"colorscale\":[[0.0,\"#0d0887\"],[0.1111111111111111,\"#46039f\"],[0.2222222222222222,\"#7201a8\"],[0.3333333333333333,\"#9c179e\"],[0.4444444444444444,\"#bd3786\"],[0.5555555555555556,\"#d8576b\"],[0.6666666666666666,\"#ed7953\"],[0.7777777777777778,\"#fb9f3a\"],[0.8888888888888888,\"#fdca26\"],[1.0,\"#f0f921\"]],\"type\":\"heatmapgl\"}],\"histogram\":[{\"marker\":{\"pattern\":{\"fillmode\":\"overlay\",\"size\":10,\"solidity\":0.2}},\"type\":\"histogram\"}],\"histogram2d\":[{\"colorbar\":{\"outlinewidth\":0,\"ticks\":\"\"},\"colorscale\":[[0.0,\"#0d0887\"],[0.1111111111111111,\"#46039f\"],[0.2222222222222222,\"#7201a8\"],[0.3333333333333333,\"#9c179e\"],[0.4444444444444444,\"#bd3786\"],[0.5555555555555556,\"#d8576b\"],[0.6666666666666666,\"#ed7953\"],[0.7777777777777778,\"#fb9f3a\"],[0.8888888888888888,\"#fdca26\"],[1.0,\"#f0f921\"]],\"type\":\"histogram2d\"}],\"histogram2dcontour\":[{\"colorbar\":{\"outlinewidth\":0,\"ticks\":\"\"},\"colorscale\":[[0.0,\"#0d0887\"],[0.1111111111111111,\"#46039f\"],[0.2222222222222222,\"#7201a8\"],[0.3333333333333333,\"#9c179e\"],[0.4444444444444444,\"#bd3786\"],[0.5555555555555556,\"#d8576b\"],[0.6666666666666666,\"#ed7953\"],[0.7777777777777778,\"#fb9f3a\"],[0.8888888888888888,\"#fdca26\"],[1.0,\"#f0f921\"]],\"type\":\"histogram2dcontour\"}],\"mesh3d\":[{\"colorbar\":{\"outlinewidth\":0,\"ticks\":\"\"},\"type\":\"mesh3d\"}],\"parcoords\":[{\"line\":{\"colorbar\":{\"outlinewidth\":0,\"ticks\":\"\"}},\"type\":\"parcoords\"}],\"pie\":[{\"automargin\":true,\"type\":\"pie\"}],\"scatter\":[{\"marker\":{\"colorbar\":{\"outlinewidth\":0,\"ticks\":\"\"}},\"type\":\"scatter\"}],\"scatter3d\":[{\"line\":{\"colorbar\":{\"outlinewidth\":0,\"ticks\":\"\"}},\"marker\":{\"colorbar\":{\"outlinewidth\":0,\"ticks\":\"\"}},\"type\":\"scatter3d\"}],\"scattercarpet\":[{\"marker\":{\"colorbar\":{\"outlinewidth\":0,\"ticks\":\"\"}},\"type\":\"scattercarpet\"}],\"scattergeo\":[{\"marker\":{\"colorbar\":{\"outlinewidth\":0,\"ticks\":\"\"}},\"type\":\"scattergeo\"}],\"scattergl\":[{\"marker\":{\"colorbar\":{\"outlinewidth\":0,\"ticks\":\"\"}},\"type\":\"scattergl\"}],\"scattermapbox\":[{\"marker\":{\"colorbar\":{\"outlinewidth\":0,\"ticks\":\"\"}},\"type\":\"scattermapbox\"}],\"scatterpolar\":[{\"marker\":{\"colorbar\":{\"outlinewidth\":0,\"ticks\":\"\"}},\"type\":\"scatterpolar\"}],\"scatterpolargl\":[{\"marker\":{\"colorbar\":{\"outlinewidth\":0,\"ticks\":\"\"}},\"type\":\"scatterpolargl\"}],\"scatterternary\":[{\"marker\":{\"colorbar\":{\"outlinewidth\":0,\"ticks\":\"\"}},\"type\":\"scatterternary\"}],\"surface\":[{\"colorbar\":{\"outlinewidth\":0,\"ticks\":\"\"},\"colorscale\":[[0.0,\"#0d0887\"],[0.1111111111111111,\"#46039f\"],[0.2222222222222222,\"#7201a8\"],[0.3333333333333333,\"#9c179e\"],[0.4444444444444444,\"#bd3786\"],[0.5555555555555556,\"#d8576b\"],[0.6666666666666666,\"#ed7953\"],[0.7777777777777778,\"#fb9f3a\"],[0.8888888888888888,\"#fdca26\"],[1.0,\"#f0f921\"]],\"type\":\"surface\"}],\"table\":[{\"cells\":{\"fill\":{\"color\":\"#EBF0F8\"},\"line\":{\"color\":\"white\"}},\"header\":{\"fill\":{\"color\":\"#C8D4E3\"},\"line\":{\"color\":\"white\"}},\"type\":\"table\"}]},\"layout\":{\"annotationdefaults\":{\"arrowcolor\":\"#2a3f5f\",\"arrowhead\":0,\"arrowwidth\":1},\"autotypenumbers\":\"strict\",\"coloraxis\":{\"colorbar\":{\"outlinewidth\":0,\"ticks\":\"\"}},\"colorscale\":{\"diverging\":[[0,\"#8e0152\"],[0.1,\"#c51b7d\"],[0.2,\"#de77ae\"],[0.3,\"#f1b6da\"],[0.4,\"#fde0ef\"],[0.5,\"#f7f7f7\"],[0.6,\"#e6f5d0\"],[0.7,\"#b8e186\"],[0.8,\"#7fbc41\"],[0.9,\"#4d9221\"],[1,\"#276419\"]],\"sequential\":[[0.0,\"#0d0887\"],[0.1111111111111111,\"#46039f\"],[0.2222222222222222,\"#7201a8\"],[0.3333333333333333,\"#9c179e\"],[0.4444444444444444,\"#bd3786\"],[0.5555555555555556,\"#d8576b\"],[0.6666666666666666,\"#ed7953\"],[0.7777777777777778,\"#fb9f3a\"],[0.8888888888888888,\"#fdca26\"],[1.0,\"#f0f921\"]],\"sequentialminus\":[[0.0,\"#0d0887\"],[0.1111111111111111,\"#46039f\"],[0.2222222222222222,\"#7201a8\"],[0.3333333333333333,\"#9c179e\"],[0.4444444444444444,\"#bd3786\"],[0.5555555555555556,\"#d8576b\"],[0.6666666666666666,\"#ed7953\"],[0.7777777777777778,\"#fb9f3a\"],[0.8888888888888888,\"#fdca26\"],[1.0,\"#f0f921\"]]},\"colorway\":[\"#636efa\",\"#EF553B\",\"#00cc96\",\"#ab63fa\",\"#FFA15A\",\"#19d3f3\",\"#FF6692\",\"#B6E880\",\"#FF97FF\",\"#FECB52\"],\"font\":{\"color\":\"#2a3f5f\"},\"geo\":{\"bgcolor\":\"white\",\"lakecolor\":\"white\",\"landcolor\":\"#E5ECF6\",\"showlakes\":true,\"showland\":true,\"subunitcolor\":\"white\"},\"hoverlabel\":{\"align\":\"left\"},\"hovermode\":\"closest\",\"mapbox\":{\"style\":\"light\"},\"paper_bgcolor\":\"white\",\"plot_bgcolor\":\"#E5ECF6\",\"polar\":{\"angularaxis\":{\"gridcolor\":\"white\",\"linecolor\":\"white\",\"ticks\":\"\"},\"bgcolor\":\"#E5ECF6\",\"radialaxis\":{\"gridcolor\":\"white\",\"linecolor\":\"white\",\"ticks\":\"\"}},\"scene\":{\"xaxis\":{\"backgroundcolor\":\"#E5ECF6\",\"gridcolor\":\"white\",\"gridwidth\":2,\"linecolor\":\"white\",\"showbackground\":true,\"ticks\":\"\",\"zerolinecolor\":\"white\"},\"yaxis\":{\"backgroundcolor\":\"#E5ECF6\",\"gridcolor\":\"white\",\"gridwidth\":2,\"linecolor\":\"white\",\"showbackground\":true,\"ticks\":\"\",\"zerolinecolor\":\"white\"},\"zaxis\":{\"backgroundcolor\":\"#E5ECF6\",\"gridcolor\":\"white\",\"gridwidth\":2,\"linecolor\":\"white\",\"showbackground\":true,\"ticks\":\"\",\"zerolinecolor\":\"white\"}},\"shapedefaults\":{\"line\":{\"color\":\"#2a3f5f\"}},\"ternary\":{\"aaxis\":{\"gridcolor\":\"white\",\"linecolor\":\"white\",\"ticks\":\"\"},\"baxis\":{\"gridcolor\":\"white\",\"linecolor\":\"white\",\"ticks\":\"\"},\"bgcolor\":\"#E5ECF6\",\"caxis\":{\"gridcolor\":\"white\",\"linecolor\":\"white\",\"ticks\":\"\"}},\"title\":{\"x\":0.05},\"xaxis\":{\"automargin\":true,\"gridcolor\":\"white\",\"linecolor\":\"white\",\"ticks\":\"\",\"title\":{\"standoff\":15},\"zerolinecolor\":\"white\",\"zerolinewidth\":2},\"yaxis\":{\"automargin\":true,\"gridcolor\":\"white\",\"linecolor\":\"white\",\"ticks\":\"\",\"title\":{\"standoff\":15},\"zerolinecolor\":\"white\",\"zerolinewidth\":2}}}},                        {\"responsive\": true}                    ).then(function(){\n",
              "                            \n",
              "var gd = document.getElementById('23815905-b49b-4003-b928-2338b835b45b');\n",
              "var x = new MutationObserver(function (mutations, observer) {{\n",
              "        var display = window.getComputedStyle(gd).display;\n",
              "        if (!display || display === 'none') {{\n",
              "            console.log([gd, 'removed!']);\n",
              "            Plotly.purge(gd);\n",
              "            observer.disconnect();\n",
              "        }}\n",
              "}});\n",
              "\n",
              "// Listen for the removal of the full notebook cells\n",
              "var notebookContainer = gd.closest('#notebook-container');\n",
              "if (notebookContainer) {{\n",
              "    x.observe(notebookContainer, {childList: true});\n",
              "}}\n",
              "\n",
              "// Listen for the clearing of the current output cell\n",
              "var outputEl = gd.closest('.output');\n",
              "if (outputEl) {{\n",
              "    x.observe(outputEl, {childList: true});\n",
              "}}\n",
              "\n",
              "                        })                };                            </script>        </div>\n",
              "</body>\n",
              "</html>"
            ]
          },
          "metadata": {}
        }
      ]
    },
    {
      "cell_type": "code",
      "source": [
        "fig = optuna.visualization.plot_intermediate_values(study)\n",
        "fig.show()"
      ],
      "metadata": {
        "id": "DGKKyTPZMwOK",
        "outputId": "509c6592-a2a4-4a91-a89e-6e3aaff385ff",
        "colab": {
          "base_uri": "https://localhost:8080/",
          "height": 542
        }
      },
      "execution_count": null,
      "outputs": [
        {
          "output_type": "display_data",
          "data": {
            "text/html": [
              "<html>\n",
              "<head><meta charset=\"utf-8\" /></head>\n",
              "<body>\n",
              "    <div>            <script src=\"https://cdnjs.cloudflare.com/ajax/libs/mathjax/2.7.5/MathJax.js?config=TeX-AMS-MML_SVG\"></script><script type=\"text/javascript\">if (window.MathJax) {MathJax.Hub.Config({SVG: {font: \"STIX-Web\"}});}</script>                <script type=\"text/javascript\">window.PlotlyConfig = {MathJaxConfig: 'local'};</script>\n",
              "        <script src=\"https://cdn.plot.ly/plotly-2.8.3.min.js\"></script>                <div id=\"422ad7b9-ff86-41c0-9b04-277538cee2d7\" class=\"plotly-graph-div\" style=\"height:525px; width:100%;\"></div>            <script type=\"text/javascript\">                                    window.PLOTLYENV=window.PLOTLYENV || {};                                    if (document.getElementById(\"422ad7b9-ff86-41c0-9b04-277538cee2d7\")) {                    Plotly.newPlot(                        \"422ad7b9-ff86-41c0-9b04-277538cee2d7\",                        [{\"marker\":{\"maxdisplayed\":10},\"mode\":\"lines+markers\",\"name\":\"Trial0\",\"x\":[0,1,2,3,4],\"y\":[83.75,90.0,76.25,86.25,87.5],\"type\":\"scatter\"},{\"marker\":{\"maxdisplayed\":10},\"mode\":\"lines+markers\",\"name\":\"Trial1\",\"x\":[0,1,2,3,4],\"y\":[87.5,78.75,68.75,75.0,85.0],\"type\":\"scatter\"},{\"marker\":{\"maxdisplayed\":10},\"mode\":\"lines+markers\",\"name\":\"Trial2\",\"x\":[0,1,2,3,4],\"y\":[87.5,85.0,92.5,83.75,55.0],\"type\":\"scatter\"},{\"marker\":{\"maxdisplayed\":10},\"mode\":\"lines+markers\",\"name\":\"Trial3\",\"x\":[0,1,2,3,4],\"y\":[81.25,82.5,65.0,81.25,85.0],\"type\":\"scatter\"},{\"marker\":{\"maxdisplayed\":10},\"mode\":\"lines+markers\",\"name\":\"Trial4\",\"x\":[0,1,2,3,4],\"y\":[88.4375,86.875,87.96875,87.5,89.21875],\"type\":\"scatter\"},{\"marker\":{\"maxdisplayed\":10},\"mode\":\"lines+markers\",\"name\":\"Trial5\",\"x\":[0,1,2,3,4],\"y\":[91.25,85.0,87.5,80.0,87.5],\"type\":\"scatter\"},{\"marker\":{\"maxdisplayed\":10},\"mode\":\"lines+markers\",\"name\":\"Trial6\",\"x\":[0],\"y\":[81.25],\"type\":\"scatter\"},{\"marker\":{\"maxdisplayed\":10},\"mode\":\"lines+markers\",\"name\":\"Trial7\",\"x\":[0],\"y\":[75.0],\"type\":\"scatter\"},{\"marker\":{\"maxdisplayed\":10},\"mode\":\"lines+markers\",\"name\":\"Trial8\",\"x\":[0],\"y\":[49.375],\"type\":\"scatter\"},{\"marker\":{\"maxdisplayed\":10},\"mode\":\"lines+markers\",\"name\":\"Trial9\",\"x\":[0],\"y\":[45.9375],\"type\":\"scatter\"},{\"marker\":{\"maxdisplayed\":10},\"mode\":\"lines+markers\",\"name\":\"Trial10\",\"x\":[0],\"y\":[49.375],\"type\":\"scatter\"},{\"marker\":{\"maxdisplayed\":10},\"mode\":\"lines+markers\",\"name\":\"Trial11\",\"x\":[0],\"y\":[47.34375],\"type\":\"scatter\"},{\"marker\":{\"maxdisplayed\":10},\"mode\":\"lines+markers\",\"name\":\"Trial12\",\"x\":[0],\"y\":[47.34375],\"type\":\"scatter\"},{\"marker\":{\"maxdisplayed\":10},\"mode\":\"lines+markers\",\"name\":\"Trial13\",\"x\":[0],\"y\":[51.25],\"type\":\"scatter\"},{\"marker\":{\"maxdisplayed\":10},\"mode\":\"lines+markers\",\"name\":\"Trial14\",\"x\":[0],\"y\":[46.25],\"type\":\"scatter\"},{\"marker\":{\"maxdisplayed\":10},\"mode\":\"lines+markers\",\"name\":\"Trial15\",\"x\":[0],\"y\":[45.0],\"type\":\"scatter\"},{\"marker\":{\"maxdisplayed\":10},\"mode\":\"lines+markers\",\"name\":\"Trial16\",\"x\":[0],\"y\":[28.75],\"type\":\"scatter\"},{\"marker\":{\"maxdisplayed\":10},\"mode\":\"lines+markers\",\"name\":\"Trial17\",\"x\":[0],\"y\":[50.625003814697266],\"type\":\"scatter\"},{\"marker\":{\"maxdisplayed\":10},\"mode\":\"lines+markers\",\"name\":\"Trial18\",\"x\":[0],\"y\":[49.6875],\"type\":\"scatter\"},{\"marker\":{\"maxdisplayed\":10},\"mode\":\"lines+markers\",\"name\":\"Trial19\",\"x\":[0],\"y\":[50.0],\"type\":\"scatter\"},{\"marker\":{\"maxdisplayed\":10},\"mode\":\"lines+markers\",\"name\":\"Trial20\",\"x\":[0],\"y\":[50.937503814697266],\"type\":\"scatter\"},{\"marker\":{\"maxdisplayed\":10},\"mode\":\"lines+markers\",\"name\":\"Trial21\",\"x\":[0],\"y\":[53.750003814697266],\"type\":\"scatter\"},{\"marker\":{\"maxdisplayed\":10},\"mode\":\"lines+markers\",\"name\":\"Trial22\",\"x\":[0],\"y\":[55.0],\"type\":\"scatter\"},{\"marker\":{\"maxdisplayed\":10},\"mode\":\"lines+markers\",\"name\":\"Trial23\",\"x\":[0],\"y\":[48.75],\"type\":\"scatter\"},{\"marker\":{\"maxdisplayed\":10},\"mode\":\"lines+markers\",\"name\":\"Trial24\",\"x\":[0],\"y\":[53.750003814697266],\"type\":\"scatter\"},{\"marker\":{\"maxdisplayed\":10},\"mode\":\"lines+markers\",\"name\":\"Trial25\",\"x\":[0],\"y\":[52.500003814697266],\"type\":\"scatter\"},{\"marker\":{\"maxdisplayed\":10},\"mode\":\"lines+markers\",\"name\":\"Trial26\",\"x\":[0],\"y\":[46.25],\"type\":\"scatter\"},{\"marker\":{\"maxdisplayed\":10},\"mode\":\"lines+markers\",\"name\":\"Trial27\",\"x\":[0],\"y\":[50.0],\"type\":\"scatter\"},{\"marker\":{\"maxdisplayed\":10},\"mode\":\"lines+markers\",\"name\":\"Trial28\",\"x\":[0],\"y\":[50.156253814697266],\"type\":\"scatter\"},{\"marker\":{\"maxdisplayed\":10},\"mode\":\"lines+markers\",\"name\":\"Trial29\",\"x\":[0],\"y\":[50.0],\"type\":\"scatter\"},{\"marker\":{\"maxdisplayed\":10},\"mode\":\"lines+markers\",\"name\":\"Trial30\",\"x\":[0],\"y\":[36.25],\"type\":\"scatter\"},{\"marker\":{\"maxdisplayed\":10},\"mode\":\"lines+markers\",\"name\":\"Trial31\",\"x\":[0],\"y\":[45.0],\"type\":\"scatter\"},{\"marker\":{\"maxdisplayed\":10},\"mode\":\"lines+markers\",\"name\":\"Trial32\",\"x\":[0],\"y\":[36.25],\"type\":\"scatter\"},{\"marker\":{\"maxdisplayed\":10},\"mode\":\"lines+markers\",\"name\":\"Trial33\",\"x\":[0],\"y\":[50.0],\"type\":\"scatter\"},{\"marker\":{\"maxdisplayed\":10},\"mode\":\"lines+markers\",\"name\":\"Trial34\",\"x\":[0],\"y\":[46.25],\"type\":\"scatter\"},{\"marker\":{\"maxdisplayed\":10},\"mode\":\"lines+markers\",\"name\":\"Trial35\",\"x\":[0],\"y\":[43.75],\"type\":\"scatter\"},{\"marker\":{\"maxdisplayed\":10},\"mode\":\"lines+markers\",\"name\":\"Trial36\",\"x\":[0],\"y\":[50.0],\"type\":\"scatter\"},{\"marker\":{\"maxdisplayed\":10},\"mode\":\"lines+markers\",\"name\":\"Trial37\",\"x\":[0],\"y\":[35.0],\"type\":\"scatter\"},{\"marker\":{\"maxdisplayed\":10},\"mode\":\"lines+markers\",\"name\":\"Trial38\",\"x\":[0],\"y\":[52.968753814697266],\"type\":\"scatter\"},{\"marker\":{\"maxdisplayed\":10},\"mode\":\"lines+markers\",\"name\":\"Trial39\",\"x\":[0],\"y\":[48.75],\"type\":\"scatter\"},{\"marker\":{\"maxdisplayed\":10},\"mode\":\"lines+markers\",\"name\":\"Trial40\",\"x\":[0],\"y\":[51.406253814697266],\"type\":\"scatter\"},{\"marker\":{\"maxdisplayed\":10},\"mode\":\"lines+markers\",\"name\":\"Trial41\",\"x\":[0],\"y\":[43.75],\"type\":\"scatter\"},{\"marker\":{\"maxdisplayed\":10},\"mode\":\"lines+markers\",\"name\":\"Trial42\",\"x\":[0],\"y\":[41.25],\"type\":\"scatter\"},{\"marker\":{\"maxdisplayed\":10},\"mode\":\"lines+markers\",\"name\":\"Trial43\",\"x\":[0],\"y\":[47.5],\"type\":\"scatter\"},{\"marker\":{\"maxdisplayed\":10},\"mode\":\"lines+markers\",\"name\":\"Trial44\",\"x\":[0],\"y\":[50.0],\"type\":\"scatter\"},{\"marker\":{\"maxdisplayed\":10},\"mode\":\"lines+markers\",\"name\":\"Trial45\",\"x\":[0],\"y\":[41.25],\"type\":\"scatter\"},{\"marker\":{\"maxdisplayed\":10},\"mode\":\"lines+markers\",\"name\":\"Trial46\",\"x\":[0],\"y\":[54.6875],\"type\":\"scatter\"},{\"marker\":{\"maxdisplayed\":10},\"mode\":\"lines+markers\",\"name\":\"Trial47\",\"x\":[0],\"y\":[42.5],\"type\":\"scatter\"},{\"marker\":{\"maxdisplayed\":10},\"mode\":\"lines+markers\",\"name\":\"Trial48\",\"x\":[0],\"y\":[51.5625],\"type\":\"scatter\"},{\"marker\":{\"maxdisplayed\":10},\"mode\":\"lines+markers\",\"name\":\"Trial49\",\"x\":[0],\"y\":[53.750003814697266],\"type\":\"scatter\"},{\"marker\":{\"maxdisplayed\":10},\"mode\":\"lines+markers\",\"name\":\"Trial50\",\"x\":[0],\"y\":[51.25],\"type\":\"scatter\"},{\"marker\":{\"maxdisplayed\":10},\"mode\":\"lines+markers\",\"name\":\"Trial51\",\"x\":[0],\"y\":[48.75],\"type\":\"scatter\"},{\"marker\":{\"maxdisplayed\":10},\"mode\":\"lines+markers\",\"name\":\"Trial52\",\"x\":[0],\"y\":[52.500003814697266],\"type\":\"scatter\"},{\"marker\":{\"maxdisplayed\":10},\"mode\":\"lines+markers\",\"name\":\"Trial53\",\"x\":[0],\"y\":[46.25],\"type\":\"scatter\"},{\"marker\":{\"maxdisplayed\":10},\"mode\":\"lines+markers\",\"name\":\"Trial54\",\"x\":[0],\"y\":[57.5],\"type\":\"scatter\"},{\"marker\":{\"maxdisplayed\":10},\"mode\":\"lines+markers\",\"name\":\"Trial55\",\"x\":[0],\"y\":[58.750003814697266],\"type\":\"scatter\"},{\"marker\":{\"maxdisplayed\":10},\"mode\":\"lines+markers\",\"name\":\"Trial56\",\"x\":[0],\"y\":[46.25],\"type\":\"scatter\"},{\"marker\":{\"maxdisplayed\":10},\"mode\":\"lines+markers\",\"name\":\"Trial57\",\"x\":[0],\"y\":[48.28125],\"type\":\"scatter\"},{\"marker\":{\"maxdisplayed\":10},\"mode\":\"lines+markers\",\"name\":\"Trial58\",\"x\":[0],\"y\":[51.25],\"type\":\"scatter\"},{\"marker\":{\"maxdisplayed\":10},\"mode\":\"lines+markers\",\"name\":\"Trial59\",\"x\":[0],\"y\":[47.5],\"type\":\"scatter\"},{\"marker\":{\"maxdisplayed\":10},\"mode\":\"lines+markers\",\"name\":\"Trial60\",\"x\":[0],\"y\":[45.0],\"type\":\"scatter\"},{\"marker\":{\"maxdisplayed\":10},\"mode\":\"lines+markers\",\"name\":\"Trial61\",\"x\":[0],\"y\":[43.75],\"type\":\"scatter\"},{\"marker\":{\"maxdisplayed\":10},\"mode\":\"lines+markers\",\"name\":\"Trial62\",\"x\":[0],\"y\":[51.25],\"type\":\"scatter\"},{\"marker\":{\"maxdisplayed\":10},\"mode\":\"lines+markers\",\"name\":\"Trial63\",\"x\":[0],\"y\":[53.750003814697266],\"type\":\"scatter\"},{\"marker\":{\"maxdisplayed\":10},\"mode\":\"lines+markers\",\"name\":\"Trial64\",\"x\":[0],\"y\":[53.750003814697266],\"type\":\"scatter\"},{\"marker\":{\"maxdisplayed\":10},\"mode\":\"lines+markers\",\"name\":\"Trial65\",\"x\":[0],\"y\":[51.406253814697266],\"type\":\"scatter\"},{\"marker\":{\"maxdisplayed\":10},\"mode\":\"lines+markers\",\"name\":\"Trial66\",\"x\":[0],\"y\":[48.75],\"type\":\"scatter\"},{\"marker\":{\"maxdisplayed\":10},\"mode\":\"lines+markers\",\"name\":\"Trial67\",\"x\":[0],\"y\":[50.0],\"type\":\"scatter\"},{\"marker\":{\"maxdisplayed\":10},\"mode\":\"lines+markers\",\"name\":\"Trial68\",\"x\":[0],\"y\":[50.0],\"type\":\"scatter\"},{\"marker\":{\"maxdisplayed\":10},\"mode\":\"lines+markers\",\"name\":\"Trial69\",\"x\":[0],\"y\":[59.375],\"type\":\"scatter\"},{\"marker\":{\"maxdisplayed\":10},\"mode\":\"lines+markers\",\"name\":\"Trial70\",\"x\":[0],\"y\":[37.5],\"type\":\"scatter\"},{\"marker\":{\"maxdisplayed\":10},\"mode\":\"lines+markers\",\"name\":\"Trial71\",\"x\":[0],\"y\":[41.25],\"type\":\"scatter\"},{\"marker\":{\"maxdisplayed\":10},\"mode\":\"lines+markers\",\"name\":\"Trial72\",\"x\":[0],\"y\":[55.0],\"type\":\"scatter\"},{\"marker\":{\"maxdisplayed\":10},\"mode\":\"lines+markers\",\"name\":\"Trial73\",\"x\":[0],\"y\":[52.500003814697266],\"type\":\"scatter\"},{\"marker\":{\"maxdisplayed\":10},\"mode\":\"lines+markers\",\"name\":\"Trial74\",\"x\":[0],\"y\":[40.0],\"type\":\"scatter\"},{\"marker\":{\"maxdisplayed\":10},\"mode\":\"lines+markers\",\"name\":\"Trial75\",\"x\":[0],\"y\":[46.25],\"type\":\"scatter\"},{\"marker\":{\"maxdisplayed\":10},\"mode\":\"lines+markers\",\"name\":\"Trial76\",\"x\":[0],\"y\":[41.25],\"type\":\"scatter\"},{\"marker\":{\"maxdisplayed\":10},\"mode\":\"lines+markers\",\"name\":\"Trial77\",\"x\":[0],\"y\":[55.78125],\"type\":\"scatter\"},{\"marker\":{\"maxdisplayed\":10},\"mode\":\"lines+markers\",\"name\":\"Trial78\",\"x\":[0],\"y\":[45.0],\"type\":\"scatter\"},{\"marker\":{\"maxdisplayed\":10},\"mode\":\"lines+markers\",\"name\":\"Trial79\",\"x\":[0],\"y\":[51.25],\"type\":\"scatter\"},{\"marker\":{\"maxdisplayed\":10},\"mode\":\"lines+markers\",\"name\":\"Trial80\",\"x\":[0],\"y\":[41.25],\"type\":\"scatter\"},{\"marker\":{\"maxdisplayed\":10},\"mode\":\"lines+markers\",\"name\":\"Trial81\",\"x\":[0],\"y\":[58.750003814697266],\"type\":\"scatter\"},{\"marker\":{\"maxdisplayed\":10},\"mode\":\"lines+markers\",\"name\":\"Trial82\",\"x\":[0],\"y\":[57.8125],\"type\":\"scatter\"},{\"marker\":{\"maxdisplayed\":10},\"mode\":\"lines+markers\",\"name\":\"Trial83\",\"x\":[0],\"y\":[56.5625],\"type\":\"scatter\"},{\"marker\":{\"maxdisplayed\":10},\"mode\":\"lines+markers\",\"name\":\"Trial84\",\"x\":[0],\"y\":[57.656253814697266],\"type\":\"scatter\"},{\"marker\":{\"maxdisplayed\":10},\"mode\":\"lines+markers\",\"name\":\"Trial85\",\"x\":[0],\"y\":[59.84375],\"type\":\"scatter\"},{\"marker\":{\"maxdisplayed\":10},\"mode\":\"lines+markers\",\"name\":\"Trial86\",\"x\":[0],\"y\":[57.34375],\"type\":\"scatter\"},{\"marker\":{\"maxdisplayed\":10},\"mode\":\"lines+markers\",\"name\":\"Trial87\",\"x\":[0],\"y\":[55.0],\"type\":\"scatter\"},{\"marker\":{\"maxdisplayed\":10},\"mode\":\"lines+markers\",\"name\":\"Trial88\",\"x\":[0],\"y\":[57.03125],\"type\":\"scatter\"},{\"marker\":{\"maxdisplayed\":10},\"mode\":\"lines+markers\",\"name\":\"Trial89\",\"x\":[0],\"y\":[63.75],\"type\":\"scatter\"},{\"marker\":{\"maxdisplayed\":10},\"mode\":\"lines+markers\",\"name\":\"Trial90\",\"x\":[0],\"y\":[48.75],\"type\":\"scatter\"},{\"marker\":{\"maxdisplayed\":10},\"mode\":\"lines+markers\",\"name\":\"Trial91\",\"x\":[0],\"y\":[46.25],\"type\":\"scatter\"},{\"marker\":{\"maxdisplayed\":10},\"mode\":\"lines+markers\",\"name\":\"Trial92\",\"x\":[0],\"y\":[55.0],\"type\":\"scatter\"},{\"marker\":{\"maxdisplayed\":10},\"mode\":\"lines+markers\",\"name\":\"Trial93\",\"x\":[0],\"y\":[53.750003814697266],\"type\":\"scatter\"},{\"marker\":{\"maxdisplayed\":10},\"mode\":\"lines+markers\",\"name\":\"Trial94\",\"x\":[0],\"y\":[40.0],\"type\":\"scatter\"},{\"marker\":{\"maxdisplayed\":10},\"mode\":\"lines+markers\",\"name\":\"Trial95\",\"x\":[0],\"y\":[45.0],\"type\":\"scatter\"},{\"marker\":{\"maxdisplayed\":10},\"mode\":\"lines+markers\",\"name\":\"Trial96\",\"x\":[0],\"y\":[48.75],\"type\":\"scatter\"},{\"marker\":{\"maxdisplayed\":10},\"mode\":\"lines+markers\",\"name\":\"Trial97\",\"x\":[0],\"y\":[59.531253814697266],\"type\":\"scatter\"},{\"marker\":{\"maxdisplayed\":10},\"mode\":\"lines+markers\",\"name\":\"Trial98\",\"x\":[0],\"y\":[51.25],\"type\":\"scatter\"},{\"marker\":{\"maxdisplayed\":10},\"mode\":\"lines+markers\",\"name\":\"Trial99\",\"x\":[0],\"y\":[47.5],\"type\":\"scatter\"}],                        {\"showlegend\":false,\"title\":{\"text\":\"Intermediate Values Plot\"},\"xaxis\":{\"title\":{\"text\":\"Step\"}},\"yaxis\":{\"title\":{\"text\":\"Intermediate Value\"}},\"template\":{\"data\":{\"bar\":[{\"error_x\":{\"color\":\"#2a3f5f\"},\"error_y\":{\"color\":\"#2a3f5f\"},\"marker\":{\"line\":{\"color\":\"#E5ECF6\",\"width\":0.5},\"pattern\":{\"fillmode\":\"overlay\",\"size\":10,\"solidity\":0.2}},\"type\":\"bar\"}],\"barpolar\":[{\"marker\":{\"line\":{\"color\":\"#E5ECF6\",\"width\":0.5},\"pattern\":{\"fillmode\":\"overlay\",\"size\":10,\"solidity\":0.2}},\"type\":\"barpolar\"}],\"carpet\":[{\"aaxis\":{\"endlinecolor\":\"#2a3f5f\",\"gridcolor\":\"white\",\"linecolor\":\"white\",\"minorgridcolor\":\"white\",\"startlinecolor\":\"#2a3f5f\"},\"baxis\":{\"endlinecolor\":\"#2a3f5f\",\"gridcolor\":\"white\",\"linecolor\":\"white\",\"minorgridcolor\":\"white\",\"startlinecolor\":\"#2a3f5f\"},\"type\":\"carpet\"}],\"choropleth\":[{\"colorbar\":{\"outlinewidth\":0,\"ticks\":\"\"},\"type\":\"choropleth\"}],\"contour\":[{\"colorbar\":{\"outlinewidth\":0,\"ticks\":\"\"},\"colorscale\":[[0.0,\"#0d0887\"],[0.1111111111111111,\"#46039f\"],[0.2222222222222222,\"#7201a8\"],[0.3333333333333333,\"#9c179e\"],[0.4444444444444444,\"#bd3786\"],[0.5555555555555556,\"#d8576b\"],[0.6666666666666666,\"#ed7953\"],[0.7777777777777778,\"#fb9f3a\"],[0.8888888888888888,\"#fdca26\"],[1.0,\"#f0f921\"]],\"type\":\"contour\"}],\"contourcarpet\":[{\"colorbar\":{\"outlinewidth\":0,\"ticks\":\"\"},\"type\":\"contourcarpet\"}],\"heatmap\":[{\"colorbar\":{\"outlinewidth\":0,\"ticks\":\"\"},\"colorscale\":[[0.0,\"#0d0887\"],[0.1111111111111111,\"#46039f\"],[0.2222222222222222,\"#7201a8\"],[0.3333333333333333,\"#9c179e\"],[0.4444444444444444,\"#bd3786\"],[0.5555555555555556,\"#d8576b\"],[0.6666666666666666,\"#ed7953\"],[0.7777777777777778,\"#fb9f3a\"],[0.8888888888888888,\"#fdca26\"],[1.0,\"#f0f921\"]],\"type\":\"heatmap\"}],\"heatmapgl\":[{\"colorbar\":{\"outlinewidth\":0,\"ticks\":\"\"},\"colorscale\":[[0.0,\"#0d0887\"],[0.1111111111111111,\"#46039f\"],[0.2222222222222222,\"#7201a8\"],[0.3333333333333333,\"#9c179e\"],[0.4444444444444444,\"#bd3786\"],[0.5555555555555556,\"#d8576b\"],[0.6666666666666666,\"#ed7953\"],[0.7777777777777778,\"#fb9f3a\"],[0.8888888888888888,\"#fdca26\"],[1.0,\"#f0f921\"]],\"type\":\"heatmapgl\"}],\"histogram\":[{\"marker\":{\"pattern\":{\"fillmode\":\"overlay\",\"size\":10,\"solidity\":0.2}},\"type\":\"histogram\"}],\"histogram2d\":[{\"colorbar\":{\"outlinewidth\":0,\"ticks\":\"\"},\"colorscale\":[[0.0,\"#0d0887\"],[0.1111111111111111,\"#46039f\"],[0.2222222222222222,\"#7201a8\"],[0.3333333333333333,\"#9c179e\"],[0.4444444444444444,\"#bd3786\"],[0.5555555555555556,\"#d8576b\"],[0.6666666666666666,\"#ed7953\"],[0.7777777777777778,\"#fb9f3a\"],[0.8888888888888888,\"#fdca26\"],[1.0,\"#f0f921\"]],\"type\":\"histogram2d\"}],\"histogram2dcontour\":[{\"colorbar\":{\"outlinewidth\":0,\"ticks\":\"\"},\"colorscale\":[[0.0,\"#0d0887\"],[0.1111111111111111,\"#46039f\"],[0.2222222222222222,\"#7201a8\"],[0.3333333333333333,\"#9c179e\"],[0.4444444444444444,\"#bd3786\"],[0.5555555555555556,\"#d8576b\"],[0.6666666666666666,\"#ed7953\"],[0.7777777777777778,\"#fb9f3a\"],[0.8888888888888888,\"#fdca26\"],[1.0,\"#f0f921\"]],\"type\":\"histogram2dcontour\"}],\"mesh3d\":[{\"colorbar\":{\"outlinewidth\":0,\"ticks\":\"\"},\"type\":\"mesh3d\"}],\"parcoords\":[{\"line\":{\"colorbar\":{\"outlinewidth\":0,\"ticks\":\"\"}},\"type\":\"parcoords\"}],\"pie\":[{\"automargin\":true,\"type\":\"pie\"}],\"scatter\":[{\"marker\":{\"colorbar\":{\"outlinewidth\":0,\"ticks\":\"\"}},\"type\":\"scatter\"}],\"scatter3d\":[{\"line\":{\"colorbar\":{\"outlinewidth\":0,\"ticks\":\"\"}},\"marker\":{\"colorbar\":{\"outlinewidth\":0,\"ticks\":\"\"}},\"type\":\"scatter3d\"}],\"scattercarpet\":[{\"marker\":{\"colorbar\":{\"outlinewidth\":0,\"ticks\":\"\"}},\"type\":\"scattercarpet\"}],\"scattergeo\":[{\"marker\":{\"colorbar\":{\"outlinewidth\":0,\"ticks\":\"\"}},\"type\":\"scattergeo\"}],\"scattergl\":[{\"marker\":{\"colorbar\":{\"outlinewidth\":0,\"ticks\":\"\"}},\"type\":\"scattergl\"}],\"scattermapbox\":[{\"marker\":{\"colorbar\":{\"outlinewidth\":0,\"ticks\":\"\"}},\"type\":\"scattermapbox\"}],\"scatterpolar\":[{\"marker\":{\"colorbar\":{\"outlinewidth\":0,\"ticks\":\"\"}},\"type\":\"scatterpolar\"}],\"scatterpolargl\":[{\"marker\":{\"colorbar\":{\"outlinewidth\":0,\"ticks\":\"\"}},\"type\":\"scatterpolargl\"}],\"scatterternary\":[{\"marker\":{\"colorbar\":{\"outlinewidth\":0,\"ticks\":\"\"}},\"type\":\"scatterternary\"}],\"surface\":[{\"colorbar\":{\"outlinewidth\":0,\"ticks\":\"\"},\"colorscale\":[[0.0,\"#0d0887\"],[0.1111111111111111,\"#46039f\"],[0.2222222222222222,\"#7201a8\"],[0.3333333333333333,\"#9c179e\"],[0.4444444444444444,\"#bd3786\"],[0.5555555555555556,\"#d8576b\"],[0.6666666666666666,\"#ed7953\"],[0.7777777777777778,\"#fb9f3a\"],[0.8888888888888888,\"#fdca26\"],[1.0,\"#f0f921\"]],\"type\":\"surface\"}],\"table\":[{\"cells\":{\"fill\":{\"color\":\"#EBF0F8\"},\"line\":{\"color\":\"white\"}},\"header\":{\"fill\":{\"color\":\"#C8D4E3\"},\"line\":{\"color\":\"white\"}},\"type\":\"table\"}]},\"layout\":{\"annotationdefaults\":{\"arrowcolor\":\"#2a3f5f\",\"arrowhead\":0,\"arrowwidth\":1},\"autotypenumbers\":\"strict\",\"coloraxis\":{\"colorbar\":{\"outlinewidth\":0,\"ticks\":\"\"}},\"colorscale\":{\"diverging\":[[0,\"#8e0152\"],[0.1,\"#c51b7d\"],[0.2,\"#de77ae\"],[0.3,\"#f1b6da\"],[0.4,\"#fde0ef\"],[0.5,\"#f7f7f7\"],[0.6,\"#e6f5d0\"],[0.7,\"#b8e186\"],[0.8,\"#7fbc41\"],[0.9,\"#4d9221\"],[1,\"#276419\"]],\"sequential\":[[0.0,\"#0d0887\"],[0.1111111111111111,\"#46039f\"],[0.2222222222222222,\"#7201a8\"],[0.3333333333333333,\"#9c179e\"],[0.4444444444444444,\"#bd3786\"],[0.5555555555555556,\"#d8576b\"],[0.6666666666666666,\"#ed7953\"],[0.7777777777777778,\"#fb9f3a\"],[0.8888888888888888,\"#fdca26\"],[1.0,\"#f0f921\"]],\"sequentialminus\":[[0.0,\"#0d0887\"],[0.1111111111111111,\"#46039f\"],[0.2222222222222222,\"#7201a8\"],[0.3333333333333333,\"#9c179e\"],[0.4444444444444444,\"#bd3786\"],[0.5555555555555556,\"#d8576b\"],[0.6666666666666666,\"#ed7953\"],[0.7777777777777778,\"#fb9f3a\"],[0.8888888888888888,\"#fdca26\"],[1.0,\"#f0f921\"]]},\"colorway\":[\"#636efa\",\"#EF553B\",\"#00cc96\",\"#ab63fa\",\"#FFA15A\",\"#19d3f3\",\"#FF6692\",\"#B6E880\",\"#FF97FF\",\"#FECB52\"],\"font\":{\"color\":\"#2a3f5f\"},\"geo\":{\"bgcolor\":\"white\",\"lakecolor\":\"white\",\"landcolor\":\"#E5ECF6\",\"showlakes\":true,\"showland\":true,\"subunitcolor\":\"white\"},\"hoverlabel\":{\"align\":\"left\"},\"hovermode\":\"closest\",\"mapbox\":{\"style\":\"light\"},\"paper_bgcolor\":\"white\",\"plot_bgcolor\":\"#E5ECF6\",\"polar\":{\"angularaxis\":{\"gridcolor\":\"white\",\"linecolor\":\"white\",\"ticks\":\"\"},\"bgcolor\":\"#E5ECF6\",\"radialaxis\":{\"gridcolor\":\"white\",\"linecolor\":\"white\",\"ticks\":\"\"}},\"scene\":{\"xaxis\":{\"backgroundcolor\":\"#E5ECF6\",\"gridcolor\":\"white\",\"gridwidth\":2,\"linecolor\":\"white\",\"showbackground\":true,\"ticks\":\"\",\"zerolinecolor\":\"white\"},\"yaxis\":{\"backgroundcolor\":\"#E5ECF6\",\"gridcolor\":\"white\",\"gridwidth\":2,\"linecolor\":\"white\",\"showbackground\":true,\"ticks\":\"\",\"zerolinecolor\":\"white\"},\"zaxis\":{\"backgroundcolor\":\"#E5ECF6\",\"gridcolor\":\"white\",\"gridwidth\":2,\"linecolor\":\"white\",\"showbackground\":true,\"ticks\":\"\",\"zerolinecolor\":\"white\"}},\"shapedefaults\":{\"line\":{\"color\":\"#2a3f5f\"}},\"ternary\":{\"aaxis\":{\"gridcolor\":\"white\",\"linecolor\":\"white\",\"ticks\":\"\"},\"baxis\":{\"gridcolor\":\"white\",\"linecolor\":\"white\",\"ticks\":\"\"},\"bgcolor\":\"#E5ECF6\",\"caxis\":{\"gridcolor\":\"white\",\"linecolor\":\"white\",\"ticks\":\"\"}},\"title\":{\"x\":0.05},\"xaxis\":{\"automargin\":true,\"gridcolor\":\"white\",\"linecolor\":\"white\",\"ticks\":\"\",\"title\":{\"standoff\":15},\"zerolinecolor\":\"white\",\"zerolinewidth\":2},\"yaxis\":{\"automargin\":true,\"gridcolor\":\"white\",\"linecolor\":\"white\",\"ticks\":\"\",\"title\":{\"standoff\":15},\"zerolinecolor\":\"white\",\"zerolinewidth\":2}}}},                        {\"responsive\": true}                    ).then(function(){\n",
              "                            \n",
              "var gd = document.getElementById('422ad7b9-ff86-41c0-9b04-277538cee2d7');\n",
              "var x = new MutationObserver(function (mutations, observer) {{\n",
              "        var display = window.getComputedStyle(gd).display;\n",
              "        if (!display || display === 'none') {{\n",
              "            console.log([gd, 'removed!']);\n",
              "            Plotly.purge(gd);\n",
              "            observer.disconnect();\n",
              "        }}\n",
              "}});\n",
              "\n",
              "// Listen for the removal of the full notebook cells\n",
              "var notebookContainer = gd.closest('#notebook-container');\n",
              "if (notebookContainer) {{\n",
              "    x.observe(notebookContainer, {childList: true});\n",
              "}}\n",
              "\n",
              "// Listen for the clearing of the current output cell\n",
              "var outputEl = gd.closest('.output');\n",
              "if (outputEl) {{\n",
              "    x.observe(outputEl, {childList: true});\n",
              "}}\n",
              "\n",
              "                        })                };                            </script>        </div>\n",
              "</body>\n",
              "</html>"
            ]
          },
          "metadata": {}
        }
      ]
    }
  ]
}